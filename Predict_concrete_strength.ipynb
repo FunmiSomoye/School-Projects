{
  "nbformat": 4,
  "nbformat_minor": 0,
  "metadata": {
    "colab": {
      "name": "Predict_concrete_strength.ipynb",
      "provenance": [],
      "collapsed_sections": [],
      "include_colab_link": true
    },
    "language_info": {
      "codemirror_mode": {
        "name": "ipython",
        "version": 3
      },
      "file_extension": ".py",
      "mimetype": "text/x-python",
      "name": "python",
      "nbconvert_exporter": "python",
      "pygments_lexer": "ipython3",
      "version": "3.7.3"
    },
    "kernelspec": {
      "display_name": "Python 3",
      "language": "python",
      "name": "python3"
    }
  },
  "cells": [
    {
      "cell_type": "markdown",
      "metadata": {
        "id": "view-in-github",
        "colab_type": "text"
      },
      "source": [
        "<a href=\"https://colab.research.google.com/github/FunmiSomoye/School-Projects/blob/master/Predict_concrete_strength.ipynb\" target=\"_parent\"><img src=\"https://colab.research.google.com/assets/colab-badge.svg\" alt=\"Open In Colab\"/></a>"
      ]
    },
    {
      "cell_type": "markdown",
      "metadata": {
        "id": "GK_BfC4Ex96k",
        "colab_type": "text"
      },
      "source": [
        "# HLT"
      ]
    },
    {
      "cell_type": "markdown",
      "metadata": {
        "id": "m7gEscqHx3DH",
        "colab_type": "text"
      },
      "source": [
        "Raphael Ozioko, Tobechukwu Asem, Oluwafunmilayo Somoye "
      ]
    },
    {
      "cell_type": "markdown",
      "metadata": {
        "id": "6SyRgaGDrT0E",
        "colab_type": "text"
      },
      "source": [
        "Concrete is the most important material in civil engineering. The concrete compressive strength is a highly nonlinear function of age and ingredients. These ingredients include cement, blast furnace slag, fly ash, \n",
        "water, superplasticizer, coarse aggregate, and fine aggregate. You will use these data to predict the compresive strength of a concrete block. The actual concrete compressive strength (MPa) for a given mixture  - our training  data was determined in a laboratory.   Data from [here](https://archive.ics.uci.edu/ml/datasets/Concrete+Compressive+Strength)\n",
        "  \n",
        "We now want to be able to predict concrete compressive strength without needing to measure it in a lab. You will need to read the data into spark, clean it by removing some missing values, and prepare it for model fitting. You will then need to fit an appropriate machine learning model, and output your predictions and saved model.  \n",
        "  \n",
        "You can find the data in the file **concrete.csv**. Once you have built your best model with these data. Please make predictions on these new data **concrete_unmeasured.csv** for which we do not know the concrete compressive strength.  "
      ]
    },
    {
      "cell_type": "code",
      "metadata": {
        "id": "K9inU5frrT0G",
        "colab_type": "code",
        "colab": {}
      },
      "source": [
        "!apt-get install openjdk-8-jdk-headless -qq > /dev/null\n",
        "!wget -q https://www-us.apache.org/dist/spark/spark-2.4.3/spark-2.4.3-bin-hadoop2.7.tgz\n",
        "!tar xf spark-2.4.3-bin-hadoop2.7.tgz\n",
        "!pip install -q findspark"
      ],
      "execution_count": null,
      "outputs": []
    },
    {
      "cell_type": "code",
      "metadata": {
        "id": "0lgFRAFLrT0J",
        "colab_type": "code",
        "colab": {}
      },
      "source": [
        "import os\n",
        "os.environ[\"JAVA_HOME\"] = \"/usr/lib/jvm/java-8-openjdk-amd64\"\n",
        "os.environ[\"SPARK_HOME\"] = \"/content/spark-2.4.3-bin-hadoop2.7\""
      ],
      "execution_count": null,
      "outputs": []
    },
    {
      "cell_type": "code",
      "metadata": {
        "id": "PWFiml02rT0M",
        "colab_type": "code",
        "colab": {
          "resources": {
            "http://localhost:8080/nbextensions/google.colab/files.js": {
              "data": "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",
              "ok": true,
              "headers": [
                [
                  "content-type",
                  "application/javascript"
                ]
              ],
              "status": 200,
              "status_text": ""
            }
          },
          "base_uri": "https://localhost:8080/",
          "height": 74
        },
        "outputId": "d76c67f9-c9c6-4c3f-e1be-1fccaa7b259e"
      },
      "source": [
        "from google.colab import files\n",
        "uploaded = files.upload() # Upload concrete.csv and concrete_unmeasured.csv "
      ],
      "execution_count": null,
      "outputs": [
        {
          "output_type": "display_data",
          "data": {
            "text/html": [
              "\n",
              "     <input type=\"file\" id=\"files-51f27893-d462-409a-93d1-315c916bac12\" name=\"files[]\" multiple disabled />\n",
              "     <output id=\"result-51f27893-d462-409a-93d1-315c916bac12\">\n",
              "      Upload widget is only available when the cell has been executed in the\n",
              "      current browser session. Please rerun this cell to enable.\n",
              "      </output>\n",
              "      <script src=\"/nbextensions/google.colab/files.js\"></script> "
            ],
            "text/plain": [
              "<IPython.core.display.HTML object>"
            ]
          },
          "metadata": {
            "tags": []
          }
        },
        {
          "output_type": "stream",
          "text": [
            "Saving concrete.csv to concrete (2).csv\n"
          ],
          "name": "stdout"
        }
      ]
    },
    {
      "cell_type": "code",
      "metadata": {
        "id": "Os6XABL-rT0O",
        "colab_type": "code",
        "colab": {}
      },
      "source": [
        ""
      ],
      "execution_count": null,
      "outputs": []
    },
    {
      "cell_type": "markdown",
      "metadata": {
        "id": "omqeNTyfrT0Q",
        "colab_type": "text"
      },
      "source": [
        "### Start spark app"
      ]
    },
    {
      "cell_type": "code",
      "metadata": {
        "id": "wC8kbdgbskT8",
        "colab_type": "code",
        "colab": {}
      },
      "source": [
        "import findspark\n",
        "findspark.init()"
      ],
      "execution_count": null,
      "outputs": []
    },
    {
      "cell_type": "code",
      "metadata": {
        "id": "DpG58_Lvsq-9",
        "colab_type": "code",
        "colab": {}
      },
      "source": [
        "from pyspark.sql import SparkSession\n",
        "\n",
        "spark = SparkSession \\\n",
        "    .builder \\\n",
        "    .appName(\"Spark_ml\") \\\n",
        "    .getOrCreate()"
      ],
      "execution_count": null,
      "outputs": []
    },
    {
      "cell_type": "markdown",
      "metadata": {
        "id": "mzLrPEbirT0R",
        "colab_type": "text"
      },
      "source": [
        "### Load and clean data"
      ]
    },
    {
      "cell_type": "code",
      "metadata": {
        "id": "hY0hij-5swDl",
        "colab_type": "code",
        "colab": {
          "base_uri": "https://localhost:8080/",
          "height": 454
        },
        "outputId": "72c3057b-38a9-4ff4-eba5-2e43fe6ab79a"
      },
      "source": [
        "data = spark.read.csv(\"concrete.csv\",header=True)\n",
        "data.show()"
      ],
      "execution_count": null,
      "outputs": [
        {
          "output_type": "stream",
          "text": [
            "+-----------+-----------------------+------------+----------+---------------------+---------------------+-------------------+--------+---------------------------------+\n",
            "|Cement_kgm3|Blast_Furnace_Slag_kgm3|Fly_Ash_kgm3|Water_kgm3|Superplasticizer_kgm3|Coarse_Aggregate_kgm3|Fine_Aggregate_kgm3|Age_days|Concrete_compressive_strength_MPa|\n",
            "+-----------+-----------------------+------------+----------+---------------------+---------------------+-------------------+--------+---------------------------------+\n",
            "|        540|                      0|           0|       162|                  2.5|                 1040|                676|      28|                      79.98611076|\n",
            "|        540|                      0|           0|       162|                  2.5|                 1055|                676|      28|                      61.88736576|\n",
            "|      332.5|                  142.5|           0|       228|                    0|                  932|                594|     270|                     40.269535256|\n",
            "|      332.5|                  142.5|           0|       228|                    0|                  932|                594|     365|                     41.052779992|\n",
            "|      198.6|                  132.4|           0|       192|                    0|                978.4|              825.5|     360|                     44.296075096|\n",
            "|        266|                    114|           0|       228|                    0|                  932|                670|      90|                     47.029847436|\n",
            "|        380|                     95|           0|       228|                    0|                  932|                594|     365|                     43.698299404|\n",
            "|        380|                     95|           0|       228|                    0|                  932|                594|      28|                     36.447769788|\n",
            "|        266|                    114|           0|       228|                    0|                  932|                670|      28|                     45.854290856|\n",
            "|        475|                      0|           0|       228|                    0|                  932|                594|      28|                      39.28978986|\n",
            "|      198.6|                  132.4|           0|       192|                    0|                978.4|              825.5|      90|                     38.074243672|\n",
            "|      198.6|                  132.4|           0|       192|                    0|                978.4|              825.5|      28|                     28.021683592|\n",
            "|      427.5|                   47.5|           0|       228|                    0|                  932|                594|     270|                      43.01296026|\n",
            "|        190|                    190|           0|       228|                    0|                  932|                670|      90|                      42.32693164|\n",
            "|        304|                     76|           0|       228|                    0|                  932|                670|      28|                     47.813781648|\n",
            "|        380|                      0|           0|       228|                    0|                  932|                670|      90|                     52.908319812|\n",
            "|      139.6|                  209.4|           0|       192|                    0|                 1047|              806.9|      90|                     39.358047984|\n",
            "|        342|                     38|           0|      null|                    0|                  932|               null|     365|                     56.141962252|\n",
            "|        380|                     95|           0|       228|                    0|                  932|                594|      90|                     40.563252032|\n",
            "|        475|                      0|           0|       228|                    0|                  932|                594|     180|                     42.620648416|\n",
            "+-----------+-----------------------+------------+----------+---------------------+---------------------+-------------------+--------+---------------------------------+\n",
            "only showing top 20 rows\n",
            "\n"
          ],
          "name": "stdout"
        }
      ]
    },
    {
      "cell_type": "code",
      "metadata": {
        "id": "7YEKLFWcs-GZ",
        "colab_type": "code",
        "colab": {
          "base_uri": "https://localhost:8080/",
          "height": 454
        },
        "outputId": "b547acaa-ad35-4d8b-8486-811fa685a63c"
      },
      "source": [
        "#drop nas\n",
        "data = data.dropna()\n",
        "data.show()"
      ],
      "execution_count": null,
      "outputs": [
        {
          "output_type": "stream",
          "text": [
            "+-----------+-----------------------+------------+----------+---------------------+---------------------+-------------------+--------+---------------------------------+\n",
            "|Cement_kgm3|Blast_Furnace_Slag_kgm3|Fly_Ash_kgm3|Water_kgm3|Superplasticizer_kgm3|Coarse_Aggregate_kgm3|Fine_Aggregate_kgm3|Age_days|Concrete_compressive_strength_MPa|\n",
            "+-----------+-----------------------+------------+----------+---------------------+---------------------+-------------------+--------+---------------------------------+\n",
            "|        540|                      0|           0|       162|                  2.5|                 1040|                676|      28|                      79.98611076|\n",
            "|        540|                      0|           0|       162|                  2.5|                 1055|                676|      28|                      61.88736576|\n",
            "|      332.5|                  142.5|           0|       228|                    0|                  932|                594|     270|                     40.269535256|\n",
            "|      332.5|                  142.5|           0|       228|                    0|                  932|                594|     365|                     41.052779992|\n",
            "|      198.6|                  132.4|           0|       192|                    0|                978.4|              825.5|     360|                     44.296075096|\n",
            "|        266|                    114|           0|       228|                    0|                  932|                670|      90|                     47.029847436|\n",
            "|        380|                     95|           0|       228|                    0|                  932|                594|     365|                     43.698299404|\n",
            "|        380|                     95|           0|       228|                    0|                  932|                594|      28|                     36.447769788|\n",
            "|        266|                    114|           0|       228|                    0|                  932|                670|      28|                     45.854290856|\n",
            "|        475|                      0|           0|       228|                    0|                  932|                594|      28|                      39.28978986|\n",
            "|      198.6|                  132.4|           0|       192|                    0|                978.4|              825.5|      90|                     38.074243672|\n",
            "|      198.6|                  132.4|           0|       192|                    0|                978.4|              825.5|      28|                     28.021683592|\n",
            "|      427.5|                   47.5|           0|       228|                    0|                  932|                594|     270|                      43.01296026|\n",
            "|        190|                    190|           0|       228|                    0|                  932|                670|      90|                      42.32693164|\n",
            "|        304|                     76|           0|       228|                    0|                  932|                670|      28|                     47.813781648|\n",
            "|        380|                      0|           0|       228|                    0|                  932|                670|      90|                     52.908319812|\n",
            "|      139.6|                  209.4|           0|       192|                    0|                 1047|              806.9|      90|                     39.358047984|\n",
            "|        380|                     95|           0|       228|                    0|                  932|                594|      90|                     40.563252032|\n",
            "|        475|                      0|           0|       228|                    0|                  932|                594|     180|                     42.620648416|\n",
            "|      427.5|                   47.5|           0|       228|                    0|                  932|                594|     180|                     41.836714204|\n",
            "+-----------+-----------------------+------------+----------+---------------------+---------------------+-------------------+--------+---------------------------------+\n",
            "only showing top 20 rows\n",
            "\n"
          ],
          "name": "stdout"
        }
      ]
    },
    {
      "cell_type": "code",
      "metadata": {
        "id": "4qgWJntxs-QN",
        "colab_type": "code",
        "colab": {
          "base_uri": "https://localhost:8080/",
          "height": 202
        },
        "outputId": "642ab7cc-b633-4dd0-ebad-a37b8b30f5aa"
      },
      "source": [
        "data.printSchema()"
      ],
      "execution_count": null,
      "outputs": [
        {
          "output_type": "stream",
          "text": [
            "root\n",
            " |-- Cement_kgm3: string (nullable = true)\n",
            " |-- Blast_Furnace_Slag_kgm3: string (nullable = true)\n",
            " |-- Fly_Ash_kgm3: string (nullable = true)\n",
            " |-- Water_kgm3: string (nullable = true)\n",
            " |-- Superplasticizer_kgm3: string (nullable = true)\n",
            " |-- Coarse_Aggregate_kgm3: string (nullable = true)\n",
            " |-- Fine_Aggregate_kgm3: string (nullable = true)\n",
            " |-- Age_days: string (nullable = true)\n",
            " |-- Concrete_compressive_strength_MPa: string (nullable = true)\n",
            "\n"
          ],
          "name": "stdout"
        }
      ]
    },
    {
      "cell_type": "markdown",
      "metadata": {
        "id": "MIH68etMrT0R",
        "colab_type": "text"
      },
      "source": [
        "### Prepare data for model"
      ]
    },
    {
      "cell_type": "code",
      "metadata": {
        "id": "tkPYA_citfX6",
        "colab_type": "code",
        "colab": {}
      },
      "source": [
        "# covert to numeric types\n",
        "#import double type from spark sql\n",
        "from pyspark.sql.types import DoubleType, IntegerType\n",
        "\n",
        "#convert all columns\n",
        "for col_name in data.columns:\n",
        "    data = data.withColumn(col_name, data[col_name].cast(DoubleType()))\n",
        "\n",
        "\n",
        "    \n",
        "# Split the data into training and test sets (30% held out for testing)\n",
        "(trainingData, testData) = data.randomSplit([0.7, 0.3])"
      ],
      "execution_count": null,
      "outputs": []
    },
    {
      "cell_type": "code",
      "metadata": {
        "id": "Y_s-QUaUtfhq",
        "colab_type": "code",
        "colab": {
          "base_uri": "https://localhost:8080/",
          "height": 202
        },
        "outputId": "f023d773-c740-4d0f-8df3-c2249427572a"
      },
      "source": [
        "data.printSchema()"
      ],
      "execution_count": null,
      "outputs": [
        {
          "output_type": "stream",
          "text": [
            "root\n",
            " |-- Cement_kgm3: double (nullable = true)\n",
            " |-- Blast_Furnace_Slag_kgm3: double (nullable = true)\n",
            " |-- Fly_Ash_kgm3: double (nullable = true)\n",
            " |-- Water_kgm3: double (nullable = true)\n",
            " |-- Superplasticizer_kgm3: double (nullable = true)\n",
            " |-- Coarse_Aggregate_kgm3: double (nullable = true)\n",
            " |-- Fine_Aggregate_kgm3: double (nullable = true)\n",
            " |-- Age_days: double (nullable = true)\n",
            " |-- Concrete_compressive_strength_MPa: double (nullable = true)\n",
            "\n"
          ],
          "name": "stdout"
        }
      ]
    },
    {
      "cell_type": "markdown",
      "metadata": {
        "id": "6LNAvBcqrT0S",
        "colab_type": "text"
      },
      "source": [
        "### Fit pipeline and transform data"
      ]
    },
    {
      "cell_type": "code",
      "metadata": {
        "id": "j43y6fDEtxTF",
        "colab_type": "code",
        "colab": {}
      },
      "source": [
        "from pyspark.ml import Pipeline\n",
        "from pyspark.ml.feature import VectorAssembler\n",
        "from pyspark.ml.regression import DecisionTreeRegressor\n",
        "from pyspark.ml.evaluation import RegressionEvaluator"
      ],
      "execution_count": null,
      "outputs": []
    },
    {
      "cell_type": "code",
      "metadata": {
        "id": "AxCuwACntxX2",
        "colab_type": "code",
        "colab": {}
      },
      "source": [
        "# assemble variables to one feature column\n",
        "assembler = VectorAssembler(\n",
        "    inputCols = ['Cement_kgm3',\"Blast_Furnace_Slag_kgm3\",\"Fly_Ash_kgm3\",\"Water_kgm3\",\"Superplasticizer_kgm3\",\"Coarse_Aggregate_kgm3\",\"Fine_Aggregate_kgm3\", \"Age_days\"],\n",
        "    outputCol = \"features\")\n",
        "\n",
        "#define the estimator - decision tree\n",
        "dt = DecisionTreeRegressor(labelCol=\"Concrete_compressive_strength_MPa\", featuresCol=\"features\")\n",
        "\n",
        "# Chain tree in a Pipeline\n",
        "pipeline = Pipeline(stages=[assembler, dt])"
      ],
      "execution_count": null,
      "outputs": []
    },
    {
      "cell_type": "code",
      "metadata": {
        "id": "CZTr_BTgwCwK",
        "colab_type": "code",
        "colab": {}
      },
      "source": [
        ""
      ],
      "execution_count": null,
      "outputs": []
    },
    {
      "cell_type": "markdown",
      "metadata": {
        "id": "ajZph66WrT0T",
        "colab_type": "text"
      },
      "source": [
        "### Predict new data"
      ]
    },
    {
      "cell_type": "code",
      "metadata": {
        "id": "JR4fc4jYypdJ",
        "colab_type": "code",
        "colab": {}
      },
      "source": [
        "#fit the pipeline\n",
        "PipelineModel = pipeline.fit(trainingData)\n",
        "\n",
        "# transform using the pipeline\n",
        "predictions = PipelineModel.transform(testData)\n",
        "\n",
        "# evaluate model fit\n",
        "predictions.select(\"prediction\", \"Concrete_compressive_strength_MPa\")\n",
        "evaluator = RegressionEvaluator(\n",
        "    labelCol=\"Concrete_compressive_strength_MPa\", predictionCol=\"prediction\", metricName=\"rmse\")\n",
        "rmse = evaluator.evaluate(predictions)"
      ],
      "execution_count": null,
      "outputs": []
    },
    {
      "cell_type": "code",
      "metadata": {
        "id": "R9n0Di5IypoI",
        "colab_type": "code",
        "colab": {
          "base_uri": "https://localhost:8080/",
          "height": 474
        },
        "outputId": "b4f9a83e-f24b-44f2-e4d8-b37d40cef8a9"
      },
      "source": [
        "predictions.show()"
      ],
      "execution_count": null,
      "outputs": [
        {
          "output_type": "stream",
          "text": [
            "+-----------+-----------------------+------------+----------+---------------------+---------------------+-------------------+--------+---------------------------------+--------------------+------------------+\n",
            "|Cement_kgm3|Blast_Furnace_Slag_kgm3|Fly_Ash_kgm3|Water_kgm3|Superplasticizer_kgm3|Coarse_Aggregate_kgm3|Fine_Aggregate_kgm3|Age_days|Concrete_compressive_strength_MPa|            features|        prediction|\n",
            "+-----------+-----------------------+------------+----------+---------------------+---------------------+-------------------+--------+---------------------------------+--------------------+------------------+\n",
            "|      102.0|                  153.0|         0.0|     192.0|                  0.0|                887.0|              942.0|    90.0|                     25.460969728|[102.0,153.0,0.0,...| 37.11197384076924|\n",
            "|      122.6|                  183.9|         0.0|     203.5|                  0.0|                958.2|              800.1|     7.0|                     10.354550568|[122.6,183.9,0.0,...|  10.4731225316444|\n",
            "|      132.0|                  207.0|       161.0|     179.0|                  5.0|                867.0|              736.0|    28.0|                       33.3016908|[132.0,207.0,161....| 30.04112516302439|\n",
            "|      133.0|                  210.0|         0.0|     196.0|                  3.0|                949.0|              795.0|    28.0|                         31.02642|[133.0,210.0,0.0,...| 30.04112516302439|\n",
            "|      133.1|                  210.2|         0.0|     195.7|                  3.1|                949.4|              795.3|    28.0|                     28.937997196|[133.1,210.2,0.0,...| 30.04112516302439|\n",
            "|      135.0|                    0.0|       166.0|     180.0|                 10.0|                961.0|              805.0|    28.0|                      13.29309728|[135.0,0.0,166.0,...|14.002376562888887|\n",
            "|      135.7|                  203.5|         0.0|     185.7|                  0.0|               1076.2|              759.3|    28.0|                      18.19871902|[135.7,203.5,0.0,...| 30.04112516302439|\n",
            "|      139.6|                  209.4|         0.0|     192.0|                  0.0|               1047.0|              806.9|    90.0|                     39.358047984|[139.6,209.4,0.0,...| 44.37806364202432|\n",
            "|      139.7|                  163.9|       127.7|     236.7|                  5.8|                868.6|              655.6|    28.0|                      35.22532884|[139.7,163.9,127....| 30.04112516302439|\n",
            "|      141.3|                  212.0|         0.0|     203.5|                  0.0|                971.8|              748.5|     3.0|                      4.827710952|[141.3,212.0,0.0,...|  10.4731225316444|\n",
            "|      141.3|                  212.0|         0.0|     203.5|                  0.0|                971.8|              748.5|    28.0|                      29.89223198|[141.3,212.0,0.0,...| 30.04112516302439|\n",
            "|      144.0|                    0.0|       175.0|     158.0|                 18.0|                943.0|              844.0|    28.0|                      15.41668336|[144.0,0.0,175.0,...|14.002376562888887|\n",
            "|      144.0|                  136.0|       106.0|     178.0|                  7.0|                941.0|              774.0|    28.0|                      26.14492992|[144.0,136.0,106....| 30.04112516302439|\n",
            "|      144.0|                  170.0|       133.0|     192.0|                  8.0|                814.0|              805.0|    28.0|                      29.86810032|[144.0,170.0,133....| 30.04112516302439|\n",
            "|      145.0|                  116.0|       119.0|     184.0|                  5.7|                833.0|              880.0|    28.0|                      29.15794004|[145.0,116.0,119....| 30.04112516302439|\n",
            "|      146.0|                  173.0|         0.0|     182.0|                  3.0|                986.0|              817.0|    28.0|                      23.73865868|[146.0,173.0,0.0,...| 30.04112516302439|\n",
            "|      148.0|                    0.0|       182.0|     181.0|                 15.0|                839.0|              884.0|    28.0|                      15.52010476|[148.0,0.0,182.0,...|14.002376562888887|\n",
            "|      148.1|                    0.0|       182.1|     181.4|                 15.0|                838.9|              884.3|    28.0|                     15.526310044|[148.1,0.0,182.1,...|14.002376562888887|\n",
            "|      148.5|                  139.4|       108.6|     192.7|                  6.1|                892.4|              780.0|    28.0|                     23.696600644|[148.5,139.4,108....| 30.04112516302439|\n",
            "|      149.0|                  236.0|         0.0|     176.0|                 13.0|                847.0|              893.0|    28.0|                       32.9569528|[149.0,236.0,0.0,...| 30.04112516302439|\n",
            "+-----------+-----------------------+------------+----------+---------------------+---------------------+-------------------+--------+---------------------------------+--------------------+------------------+\n",
            "only showing top 20 rows\n",
            "\n"
          ],
          "name": "stdout"
        }
      ]
    },
    {
      "cell_type": "code",
      "metadata": {
        "id": "ByU9I1iWzbu3",
        "colab_type": "code",
        "colab": {
          "base_uri": "https://localhost:8080/",
          "height": 34
        },
        "outputId": "b214f4c2-e5e9-46dc-f0b8-85dbd419fe4e"
      },
      "source": [
        "## Root mean square error\n",
        "print(rmse)"
      ],
      "execution_count": null,
      "outputs": [
        {
          "output_type": "stream",
          "text": [
            "7.708931497437183\n"
          ],
          "name": "stdout"
        }
      ]
    },
    {
      "cell_type": "markdown",
      "metadata": {
        "id": "5DRi4zoZxqGW",
        "colab_type": "text"
      },
      "source": [
        ""
      ]
    },
    {
      "cell_type": "code",
      "metadata": {
        "id": "RVEi8Em0zb3s",
        "colab_type": "code",
        "colab": {
          "resources": {
            "http://localhost:8080/nbextensions/google.colab/files.js": {
              "data": "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",
              "ok": true,
              "headers": [
                [
                  "content-type",
                  "application/javascript"
                ]
              ],
              "status": 200,
              "status_text": ""
            }
          },
          "base_uri": "https://localhost:8080/",
          "height": 74
        },
        "outputId": "9b7a46f1-4bcf-4588-96eb-3f3872f8d13e"
      },
      "source": [
        "from google.colab import files\n",
        "uploaded = files.upload() # Upload concrete.csv and concrete_unmeasured.csv "
      ],
      "execution_count": null,
      "outputs": [
        {
          "output_type": "display_data",
          "data": {
            "text/html": [
              "\n",
              "     <input type=\"file\" id=\"files-e3476fb8-afe9-457f-b79c-bb1eff1664ee\" name=\"files[]\" multiple disabled />\n",
              "     <output id=\"result-e3476fb8-afe9-457f-b79c-bb1eff1664ee\">\n",
              "      Upload widget is only available when the cell has been executed in the\n",
              "      current browser session. Please rerun this cell to enable.\n",
              "      </output>\n",
              "      <script src=\"/nbextensions/google.colab/files.js\"></script> "
            ],
            "text/plain": [
              "<IPython.core.display.HTML object>"
            ]
          },
          "metadata": {
            "tags": []
          }
        },
        {
          "output_type": "stream",
          "text": [
            "Saving concrete_unmeasured.csv to concrete_unmeasured.csv\n"
          ],
          "name": "stdout"
        }
      ]
    },
    {
      "cell_type": "markdown",
      "metadata": {
        "id": "JeKVnksa0T6w",
        "colab_type": "text"
      },
      "source": [
        "Load Data2"
      ]
    },
    {
      "cell_type": "code",
      "metadata": {
        "id": "DE6iIP0Jzb_r",
        "colab_type": "code",
        "colab": {
          "base_uri": "https://localhost:8080/",
          "height": 437
        },
        "outputId": "7a2b6698-1977-4f84-d787-682d750a65ab"
      },
      "source": [
        "data2 = spark.read.csv(\"concrete_unmeasured.csv\",header=True)\n",
        "data2.show()"
      ],
      "execution_count": null,
      "outputs": [
        {
          "output_type": "stream",
          "text": [
            "+-----------+-----------------------+------------+----------+---------------------+---------------------+-------------------+--------+\n",
            "|Cement_kgm3|Blast_Furnace_Slag_kgm3|Fly_Ash_kgm3|Water_kgm3|Superplasticizer_kgm3|Coarse_Aggregate_kgm3|Fine_Aggregate_kgm3|Age_days|\n",
            "+-----------+-----------------------+------------+----------+---------------------+---------------------+-------------------+--------+\n",
            "|        425|                  106.3|           0|     153.5|                 16.5|                852.1|              887.1|      28|\n",
            "|        425|                  106.3|           0|     151.4|                 18.6|                  936|              803.7|      28|\n",
            "|        375|                   93.8|           0|     126.6|                 23.4|                852.1|              992.6|      28|\n",
            "|        475|                  118.8|           0|     181.1|                  8.9|                852.1|              781.5|      28|\n",
            "|        469|                  117.2|           0|     137.8|                 32.2|                852.1|              840.5|      28|\n",
            "|        425|                  106.3|           0|     153.5|                 16.5|                852.1|              887.1|      28|\n",
            "|      388.6|                   97.1|           0|     157.9|                 12.1|                852.1|              925.7|      28|\n",
            "|      531.3|                      0|           0|     141.8|                 28.2|                852.1|              893.7|      28|\n",
            "|        425|                  106.3|           0|     153.5|                 16.5|                852.1|              887.1|      28|\n",
            "|      318.8|                  212.5|           0|     155.7|                 14.3|                852.1|              880.4|      28|\n",
            "|      401.8|                   94.7|           0|     147.4|                 11.4|                946.8|              852.1|      28|\n",
            "|      362.6|                    189|           0|     164.9|                 11.6|                944.7|              755.8|      28|\n",
            "|      323.7|                  282.8|           0|     183.8|                 10.3|                942.7|              659.9|      28|\n",
            "|      379.5|                  151.2|           0|     153.9|                 15.9|               1134.3|                605|      28|\n",
            "|      362.6|                    189|           0|     164.9|                 11.6|                944.7|              755.8|      28|\n",
            "|      286.3|                  200.9|           0|     144.7|                 11.2|               1004.6|              803.7|      28|\n",
            "|      362.6|                    189|           0|     164.9|                 11.6|                944.7|              755.8|      28|\n",
            "|        439|                    177|           0|       186|                 11.1|                884.9|              707.9|      28|\n",
            "|      389.9|                    189|           0|     145.9|                   22|                944.7|              755.8|      28|\n",
            "|      362.6|                    189|           0|     164.9|                 11.6|                944.7|              755.8|      28|\n",
            "+-----------+-----------------------+------------+----------+---------------------+---------------------+-------------------+--------+\n",
            "\n"
          ],
          "name": "stdout"
        }
      ]
    },
    {
      "cell_type": "code",
      "metadata": {
        "id": "7lUoAL_PzcDb",
        "colab_type": "code",
        "colab": {}
      },
      "source": [
        "#convert all columns\n",
        "for col_name in data2.columns:\n",
        "    data2 = data2.withColumn(col_name, data2[col_name].cast(DoubleType()))\n",
        "\n"
      ],
      "execution_count": null,
      "outputs": []
    },
    {
      "cell_type": "code",
      "metadata": {
        "id": "-FPi9vrJ0maz",
        "colab_type": "code",
        "colab": {
          "base_uri": "https://localhost:8080/",
          "height": 185
        },
        "outputId": "594ba76c-be70-4b81-ba54-dd2257679ae3"
      },
      "source": [
        "data2.printSchema()"
      ],
      "execution_count": null,
      "outputs": [
        {
          "output_type": "stream",
          "text": [
            "root\n",
            " |-- Cement_kgm3: double (nullable = true)\n",
            " |-- Blast_Furnace_Slag_kgm3: double (nullable = true)\n",
            " |-- Fly_Ash_kgm3: double (nullable = true)\n",
            " |-- Water_kgm3: double (nullable = true)\n",
            " |-- Superplasticizer_kgm3: double (nullable = true)\n",
            " |-- Coarse_Aggregate_kgm3: double (nullable = true)\n",
            " |-- Fine_Aggregate_kgm3: double (nullable = true)\n",
            " |-- Age_days: double (nullable = true)\n",
            "\n"
          ],
          "name": "stdout"
        }
      ]
    },
    {
      "cell_type": "code",
      "metadata": {
        "id": "M9E1PeGR0meT",
        "colab_type": "code",
        "colab": {
          "base_uri": "https://localhost:8080/",
          "height": 437
        },
        "outputId": "4a77cf9c-d49f-413b-c284-a699f895383e"
      },
      "source": [
        "\n",
        "predictions2 = PipelineModel.transform(data2)\n",
        "predictions2.show()"
      ],
      "execution_count": null,
      "outputs": [
        {
          "output_type": "stream",
          "text": [
            "+-----------+-----------------------+------------+----------+---------------------+---------------------+-------------------+--------+--------------------+------------------+\n",
            "|Cement_kgm3|Blast_Furnace_Slag_kgm3|Fly_Ash_kgm3|Water_kgm3|Superplasticizer_kgm3|Coarse_Aggregate_kgm3|Fine_Aggregate_kgm3|Age_days|            features|        prediction|\n",
            "+-----------+-----------------------+------------+----------+---------------------+---------------------+-------------------+--------+--------------------+------------------+\n",
            "|      425.0|                  106.3|         0.0|     153.5|                 16.5|                852.1|              887.1|    28.0|[425.0,106.3,0.0,...|     53.1032002034|\n",
            "|      425.0|                  106.3|         0.0|     151.4|                 18.6|                936.0|              803.7|    28.0|[425.0,106.3,0.0,...|     53.1032002034|\n",
            "|      375.0|                   93.8|         0.0|     126.6|                 23.4|                852.1|              992.6|    28.0|[375.0,93.8,0.0,1...|     53.1032002034|\n",
            "|      475.0|                  118.8|         0.0|     181.1|                  8.9|                852.1|              781.5|    28.0|[475.0,118.8,0.0,...|50.996575233000016|\n",
            "|      469.0|                  117.2|         0.0|     137.8|                 32.2|                852.1|              840.5|    28.0|[469.0,117.2,0.0,...|     53.1032002034|\n",
            "|      425.0|                  106.3|         0.0|     153.5|                 16.5|                852.1|              887.1|    28.0|[425.0,106.3,0.0,...|     53.1032002034|\n",
            "|      388.6|                   97.1|         0.0|     157.9|                 12.1|                852.1|              925.7|    28.0|[388.6,97.1,0.0,1...|     53.1032002034|\n",
            "|      531.3|                    0.0|         0.0|     141.8|                 28.2|                852.1|              893.7|    28.0|[531.3,0.0,0.0,14...|     53.1032002034|\n",
            "|      425.0|                  106.3|         0.0|     153.5|                 16.5|                852.1|              887.1|    28.0|[425.0,106.3,0.0,...|     53.1032002034|\n",
            "|      318.8|                  212.5|         0.0|     155.7|                 14.3|                852.1|              880.4|    28.0|[318.8,212.5,0.0,...|     53.1032002034|\n",
            "|      401.8|                   94.7|         0.0|     147.4|                 11.4|                946.8|              852.1|    28.0|[401.8,94.7,0.0,1...|     53.1032002034|\n",
            "|      362.6|                  189.0|         0.0|     164.9|                 11.6|                944.7|              755.8|    28.0|[362.6,189.0,0.0,...|     53.1032002034|\n",
            "|      323.7|                  282.8|         0.0|     183.8|                 10.3|                942.7|              659.9|    28.0|[323.7,282.8,0.0,...|50.996575233000016|\n",
            "|      379.5|                  151.2|         0.0|     153.9|                 15.9|               1134.3|              605.0|    28.0|[379.5,151.2,0.0,...| 66.53385943666667|\n",
            "|      362.6|                  189.0|         0.0|     164.9|                 11.6|                944.7|              755.8|    28.0|[362.6,189.0,0.0,...|     53.1032002034|\n",
            "|      286.3|                  200.9|         0.0|     144.7|                 11.2|               1004.6|              803.7|    28.0|[286.3,200.9,0.0,...| 39.46859885923405|\n",
            "|      362.6|                  189.0|         0.0|     164.9|                 11.6|                944.7|              755.8|    28.0|[362.6,189.0,0.0,...|     53.1032002034|\n",
            "|      439.0|                  177.0|         0.0|     186.0|                 11.1|                884.9|              707.9|    28.0|[439.0,177.0,0.0,...|50.996575233000016|\n",
            "|      389.9|                  189.0|         0.0|     145.9|                 22.0|                944.7|              755.8|    28.0|[389.9,189.0,0.0,...|     53.1032002034|\n",
            "|      362.6|                  189.0|         0.0|     164.9|                 11.6|                944.7|              755.8|    28.0|[362.6,189.0,0.0,...|     53.1032002034|\n",
            "+-----------+-----------------------+------------+----------+---------------------+---------------------+-------------------+--------+--------------------+------------------+\n",
            "\n"
          ],
          "name": "stdout"
        }
      ]
    },
    {
      "cell_type": "markdown",
      "metadata": {
        "id": "WCfe2pUIrT0T",
        "colab_type": "text"
      },
      "source": [
        "### END"
      ]
    },
    {
      "cell_type": "code",
      "metadata": {
        "id": "fp1FUQcG1m3z",
        "colab_type": "code",
        "colab": {}
      },
      "source": [
        "spark.stop()"
      ],
      "execution_count": null,
      "outputs": []
    },
    {
      "cell_type": "code",
      "metadata": {
        "id": "stKVRe8F52Dq",
        "colab_type": "code",
        "colab": {}
      },
      "source": [
        "\n"
      ],
      "execution_count": null,
      "outputs": []
    }
  ]
}