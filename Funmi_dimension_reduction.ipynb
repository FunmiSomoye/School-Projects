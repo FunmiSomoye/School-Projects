{
  "nbformat": 4,
  "nbformat_minor": 0,
  "metadata": {
    "kernelspec": {
      "display_name": "Python 3",
      "language": "python",
      "name": "python3"
    },
    "language_info": {
      "codemirror_mode": {
        "name": "ipython",
        "version": 3
      },
      "file_extension": ".py",
      "mimetype": "text/x-python",
      "name": "python",
      "nbconvert_exporter": "python",
      "pygments_lexer": "ipython3",
      "version": "3.7.1"
    },
    "colab": {
      "name": "Funmi_dimension-reduction.ipynb",
      "provenance": [],
      "include_colab_link": true
    }
  },
  "cells": [
    {
      "cell_type": "markdown",
      "metadata": {
        "id": "view-in-github",
        "colab_type": "text"
      },
      "source": [
        "<a href=\"https://colab.research.google.com/github/FunmiSomoye/School-Projects/blob/master/Funmi_dimension_reduction.ipynb\" target=\"_parent\"><img src=\"https://colab.research.google.com/assets/colab-badge.svg\" alt=\"Open In Colab\"/></a>"
      ]
    },
    {
      "cell_type": "markdown",
      "metadata": {
        "id": "2YjyGwva4h8Z",
        "colab_type": "text"
      },
      "source": [
        "# Formative Assessment"
      ]
    },
    {
      "cell_type": "markdown",
      "metadata": {
        "id": "HEKsncOV4h8a",
        "colab_type": "text"
      },
      "source": [
        "### Funmi Somoye"
      ]
    },
    {
      "cell_type": "markdown",
      "metadata": {
        "id": "rACgWfNi4h8c",
        "colab_type": "text"
      },
      "source": [
        "### The goal"
      ]
    },
    {
      "cell_type": "markdown",
      "metadata": {
        "id": "N3plNjTn4h8c",
        "colab_type": "text"
      },
      "source": [
        "The goal of the assignment is to predict active power of a wind turbine using several input features. The data comes from a wind farm in France, [La Haute Borne Data (2013-2016)](https://opendata-renewables.engie.com/explore/dataset/la-haute-borne-data-2013-2016/table/?dataChart=eyJxdWVyaWVzIjpbeyJjb25maWciOnsiZGF0YXNldCI6ImxhLWhhdXRlLWJvcm5lLWRhdGEtMjAxMy0yMDE2Iiwib3B0aW9ucyI6e319LCJjaGFydHMiOlt7InR5cGUiOiJsaW5lIiwiZnVuYyI6IkFWRyIsInlBeGlzIjoiYmFfYXZnIiwic2NpZW50aWZpY0Rpc3BsYXkiOnRydWUsImNvbG9yIjoiIzY2YzJhNSJ9XSwieEF4aXMiOiJkYXRlX3RpbWUiLCJtYXhwb2ludHMiOiIiLCJ0aW1lc2NhbGUiOiJ5ZWFyIiwic29ydCI6IiJ9XX0%3D). A total of 139 features are included in the dataset, with several measures of the same feature. For instance, the active power feature is split into the following measurements: `P_min, P_max, P_avg, P_std`. \n",
        "\n",
        "The overall tasks are the following:\n",
        "\n",
        "1. Use a random forest regressor to predict power output. \n",
        "2. Perform dimension reduction using PCA.\n",
        "2. Perform cross validation to determine how well the model generalises. \n",
        "3. Determine the importance of the features.\n",
        "4. Determine the performance of the models as well.\n",
        "\n",
        "The notebook will guide you as to how to go about fulfilling these overall tasks by doing other smaller subtasks.\n",
        "\n",
        "Note that the dataset is very large, with 139 columns, so using a bit of domain knowledge we identified the following features that could be using in predicting wind turbine power output. Add to the feature subset as you build the model.\n",
        "\n"
      ]
    },
    {
      "cell_type": "markdown",
      "metadata": {
        "id": "XqnMTKOJ4h8d",
        "colab_type": "text"
      },
      "source": [
        "### Load the data"
      ]
    },
    {
      "cell_type": "markdown",
      "metadata": {
        "id": "p1rM1tRI4h8e",
        "colab_type": "text"
      },
      "source": [
        "Import the necessary libraries and load the data. Once loaded, investigate the data. There are two files: `data_description.csv` lists the variables or features of the dataset. The file `wind-data.csv` contains the data (`wind-data-truncated.csv` if downloaded from the LMS, due to file size limits)."
      ]
    },
    {
      "cell_type": "code",
      "metadata": {
        "id": "xjtfNXw04h8f",
        "colab_type": "code",
        "colab": {}
      },
      "source": [
        "import numpy as np\n",
        "import matplotlib.pyplot as plt\n",
        "import pandas as pd\n",
        "import seaborn as sns"
      ],
      "execution_count": null,
      "outputs": []
    },
    {
      "cell_type": "code",
      "metadata": {
        "id": "lLnIcCs24h8j",
        "colab_type": "code",
        "colab": {}
      },
      "source": [
        "%matplotlib inline \n",
        "# display graphs in Jupyter notebook"
      ],
      "execution_count": null,
      "outputs": []
    },
    {
      "cell_type": "markdown",
      "metadata": {
        "id": "f0H_7Xir4h8n",
        "colab_type": "text"
      },
      "source": [
        "Load both the `data_description.csv` and `wind-data.csv` files."
      ]
    },
    {
      "cell_type": "code",
      "metadata": {
        "id": "RVztO6pP4h8n",
        "colab_type": "code",
        "colab": {},
        "outputId": "2f25fbbf-939f-4b39-a294-3bc7b8a12594"
      },
      "source": [
        "#load description file\n",
        "data_d = pd.read_csv('data_description.csv', sep=';')\n",
        "data_d"
      ],
      "execution_count": null,
      "outputs": [
        {
          "output_type": "execute_result",
          "data": {
            "text/html": [
              "<div>\n",
              "<style scoped>\n",
              "    .dataframe tbody tr th:only-of-type {\n",
              "        vertical-align: middle;\n",
              "    }\n",
              "\n",
              "    .dataframe tbody tr th {\n",
              "        vertical-align: top;\n",
              "    }\n",
              "\n",
              "    .dataframe thead th {\n",
              "        text-align: right;\n",
              "    }\n",
              "</style>\n",
              "<table border=\"1\" class=\"dataframe\">\n",
              "  <thead>\n",
              "    <tr style=\"text-align: right;\">\n",
              "      <th></th>\n",
              "      <th>Variable_name</th>\n",
              "      <th>Variable_long_name</th>\n",
              "      <th>Unit_long_name</th>\n",
              "      <th>Comment</th>\n",
              "    </tr>\n",
              "  </thead>\n",
              "  <tbody>\n",
              "    <tr>\n",
              "      <th>0</th>\n",
              "      <td>Va2</td>\n",
              "      <td>Vane_position_2</td>\n",
              "      <td>deg</td>\n",
              "      <td>Second wind vane on the nacelle</td>\n",
              "    </tr>\n",
              "    <tr>\n",
              "      <th>1</th>\n",
              "      <td>Ws2</td>\n",
              "      <td>Wind_speed_2</td>\n",
              "      <td>m/s</td>\n",
              "      <td>Second anemometer on the nacelle</td>\n",
              "    </tr>\n",
              "    <tr>\n",
              "      <th>2</th>\n",
              "      <td>Ws</td>\n",
              "      <td>Wind_speed</td>\n",
              "      <td>m/s</td>\n",
              "      <td>Average wind speed</td>\n",
              "    </tr>\n",
              "    <tr>\n",
              "      <th>3</th>\n",
              "      <td>Wa_c</td>\n",
              "      <td>Absolute_wind_direction_corrected</td>\n",
              "      <td>deg</td>\n",
              "      <td>NaN</td>\n",
              "    </tr>\n",
              "    <tr>\n",
              "      <th>4</th>\n",
              "      <td>Na_c</td>\n",
              "      <td>Nacelle_angle_corrected</td>\n",
              "      <td>deg</td>\n",
              "      <td>NaN</td>\n",
              "    </tr>\n",
              "    <tr>\n",
              "      <th>5</th>\n",
              "      <td>Ot</td>\n",
              "      <td>Outdoor_temperature</td>\n",
              "      <td>deg_C</td>\n",
              "      <td>NaN</td>\n",
              "    </tr>\n",
              "    <tr>\n",
              "      <th>6</th>\n",
              "      <td>Yt</td>\n",
              "      <td>Nacelle_temperature</td>\n",
              "      <td>deg_C</td>\n",
              "      <td>NaN</td>\n",
              "    </tr>\n",
              "    <tr>\n",
              "      <th>7</th>\n",
              "      <td>Nf</td>\n",
              "      <td>Grid_frequency</td>\n",
              "      <td>Hz</td>\n",
              "      <td>NaN</td>\n",
              "    </tr>\n",
              "    <tr>\n",
              "      <th>8</th>\n",
              "      <td>Nu</td>\n",
              "      <td>Grid_voltage</td>\n",
              "      <td>V</td>\n",
              "      <td>NaN</td>\n",
              "    </tr>\n",
              "    <tr>\n",
              "      <th>9</th>\n",
              "      <td>Rm</td>\n",
              "      <td>Torque</td>\n",
              "      <td>Nm</td>\n",
              "      <td>NaN</td>\n",
              "    </tr>\n",
              "    <tr>\n",
              "      <th>10</th>\n",
              "      <td>Dst</td>\n",
              "      <td>Generator_stator_temperature</td>\n",
              "      <td>deg_C</td>\n",
              "      <td>NaN</td>\n",
              "    </tr>\n",
              "    <tr>\n",
              "      <th>11</th>\n",
              "      <td>Git</td>\n",
              "      <td>Gearbox_inlet_temperature</td>\n",
              "      <td>deg_C</td>\n",
              "      <td>NaN</td>\n",
              "    </tr>\n",
              "    <tr>\n",
              "      <th>12</th>\n",
              "      <td>Q</td>\n",
              "      <td>Reactive_power</td>\n",
              "      <td>kVAr</td>\n",
              "      <td>NaN</td>\n",
              "    </tr>\n",
              "    <tr>\n",
              "      <th>13</th>\n",
              "      <td>Gb2t</td>\n",
              "      <td>Gearbox_bearing_2_temperature</td>\n",
              "      <td>deg_C</td>\n",
              "      <td>NaN</td>\n",
              "    </tr>\n",
              "    <tr>\n",
              "      <th>14</th>\n",
              "      <td>Gost</td>\n",
              "      <td>Gearbox_oil_sump_temperature</td>\n",
              "      <td>deg_C</td>\n",
              "      <td>NaN</td>\n",
              "    </tr>\n",
              "    <tr>\n",
              "      <th>15</th>\n",
              "      <td>DCs</td>\n",
              "      <td>Generator_converter_speed</td>\n",
              "      <td>rpm</td>\n",
              "      <td>NaN</td>\n",
              "    </tr>\n",
              "    <tr>\n",
              "      <th>16</th>\n",
              "      <td>Wa</td>\n",
              "      <td>Absolute_wind_direction</td>\n",
              "      <td>deg</td>\n",
              "      <td>NaN</td>\n",
              "    </tr>\n",
              "    <tr>\n",
              "      <th>17</th>\n",
              "      <td>Ds</td>\n",
              "      <td>Generator_speed</td>\n",
              "      <td>rpm</td>\n",
              "      <td>NaN</td>\n",
              "    </tr>\n",
              "    <tr>\n",
              "      <th>18</th>\n",
              "      <td>Cm</td>\n",
              "      <td>Converter_torque</td>\n",
              "      <td>Nm</td>\n",
              "      <td>NaN</td>\n",
              "    </tr>\n",
              "    <tr>\n",
              "      <th>19</th>\n",
              "      <td>Va</td>\n",
              "      <td>Vane_position</td>\n",
              "      <td>deg</td>\n",
              "      <td>NaN</td>\n",
              "    </tr>\n",
              "    <tr>\n",
              "      <th>20</th>\n",
              "      <td>Ya</td>\n",
              "      <td>Nacelle_angle</td>\n",
              "      <td>deg</td>\n",
              "      <td>NaN</td>\n",
              "    </tr>\n",
              "    <tr>\n",
              "      <th>21</th>\n",
              "      <td>Rs</td>\n",
              "      <td>Rotor_speed</td>\n",
              "      <td>rpm</td>\n",
              "      <td>NaN</td>\n",
              "    </tr>\n",
              "    <tr>\n",
              "      <th>22</th>\n",
              "      <td>S</td>\n",
              "      <td>Apparent_power</td>\n",
              "      <td>kVA</td>\n",
              "      <td>Should be the square root of the sum of P squa...</td>\n",
              "    </tr>\n",
              "    <tr>\n",
              "      <th>23</th>\n",
              "      <td>Cosphi</td>\n",
              "      <td>Power_factor</td>\n",
              "      <td>NaN</td>\n",
              "      <td>Should equal P/S</td>\n",
              "    </tr>\n",
              "    <tr>\n",
              "      <th>24</th>\n",
              "      <td>Rt</td>\n",
              "      <td>Hub_temperature</td>\n",
              "      <td>deg_C</td>\n",
              "      <td>NaN</td>\n",
              "    </tr>\n",
              "    <tr>\n",
              "      <th>25</th>\n",
              "      <td>Ba</td>\n",
              "      <td>Pitch_angle</td>\n",
              "      <td>deg</td>\n",
              "      <td>NaN</td>\n",
              "    </tr>\n",
              "    <tr>\n",
              "      <th>26</th>\n",
              "      <td>P</td>\n",
              "      <td>Active_power</td>\n",
              "      <td>kW</td>\n",
              "      <td>NaN</td>\n",
              "    </tr>\n",
              "    <tr>\n",
              "      <th>27</th>\n",
              "      <td>Va1</td>\n",
              "      <td>Vane_position_1</td>\n",
              "      <td>deg</td>\n",
              "      <td>First wind vane on the nacelle</td>\n",
              "    </tr>\n",
              "    <tr>\n",
              "      <th>28</th>\n",
              "      <td>Ws1</td>\n",
              "      <td>Wind_speed_1</td>\n",
              "      <td>m/s</td>\n",
              "      <td>First anemometer on the nacelle</td>\n",
              "    </tr>\n",
              "    <tr>\n",
              "      <th>29</th>\n",
              "      <td>Db2t</td>\n",
              "      <td>Generator_bearing_2_temperature</td>\n",
              "      <td>deg_C</td>\n",
              "      <td>NaN</td>\n",
              "    </tr>\n",
              "    <tr>\n",
              "      <th>30</th>\n",
              "      <td>Db1t</td>\n",
              "      <td>Generator_bearing_1_temperature</td>\n",
              "      <td>deg_C</td>\n",
              "      <td>NaN</td>\n",
              "    </tr>\n",
              "    <tr>\n",
              "      <th>31</th>\n",
              "      <td>Gb1t</td>\n",
              "      <td>Gearbox_bearing_1_temperature</td>\n",
              "      <td>deg_C</td>\n",
              "      <td>NaN</td>\n",
              "    </tr>\n",
              "    <tr>\n",
              "      <th>32</th>\n",
              "      <td>Rbt</td>\n",
              "      <td>Rotor_bearing_temperature</td>\n",
              "      <td>deg_C</td>\n",
              "      <td>NaN</td>\n",
              "    </tr>\n",
              "    <tr>\n",
              "      <th>33</th>\n",
              "      <td>Pas</td>\n",
              "      <td>Pitch_angle_setpoint</td>\n",
              "      <td>NaN</td>\n",
              "      <td>NaN</td>\n",
              "    </tr>\n",
              "  </tbody>\n",
              "</table>\n",
              "</div>"
            ],
            "text/plain": [
              "   Variable_name                 Variable_long_name Unit_long_name  \\\n",
              "0            Va2                    Vane_position_2            deg   \n",
              "1            Ws2                       Wind_speed_2            m/s   \n",
              "2             Ws                         Wind_speed            m/s   \n",
              "3           Wa_c  Absolute_wind_direction_corrected            deg   \n",
              "4           Na_c            Nacelle_angle_corrected            deg   \n",
              "5             Ot                Outdoor_temperature          deg_C   \n",
              "6             Yt                Nacelle_temperature          deg_C   \n",
              "7             Nf                     Grid_frequency             Hz   \n",
              "8             Nu                       Grid_voltage              V   \n",
              "9             Rm                             Torque             Nm   \n",
              "10           Dst       Generator_stator_temperature          deg_C   \n",
              "11           Git          Gearbox_inlet_temperature          deg_C   \n",
              "12             Q                     Reactive_power           kVAr   \n",
              "13          Gb2t      Gearbox_bearing_2_temperature          deg_C   \n",
              "14          Gost       Gearbox_oil_sump_temperature          deg_C   \n",
              "15           DCs          Generator_converter_speed            rpm   \n",
              "16            Wa            Absolute_wind_direction            deg   \n",
              "17            Ds                    Generator_speed            rpm   \n",
              "18            Cm                   Converter_torque             Nm   \n",
              "19            Va                      Vane_position            deg   \n",
              "20            Ya                      Nacelle_angle            deg   \n",
              "21            Rs                        Rotor_speed            rpm   \n",
              "22             S                     Apparent_power            kVA   \n",
              "23        Cosphi                       Power_factor            NaN   \n",
              "24            Rt                    Hub_temperature          deg_C   \n",
              "25            Ba                        Pitch_angle            deg   \n",
              "26             P                       Active_power             kW   \n",
              "27           Va1                    Vane_position_1            deg   \n",
              "28           Ws1                       Wind_speed_1            m/s   \n",
              "29          Db2t    Generator_bearing_2_temperature          deg_C   \n",
              "30          Db1t    Generator_bearing_1_temperature          deg_C   \n",
              "31          Gb1t      Gearbox_bearing_1_temperature          deg_C   \n",
              "32           Rbt          Rotor_bearing_temperature          deg_C   \n",
              "33           Pas               Pitch_angle_setpoint            NaN   \n",
              "\n",
              "                                              Comment  \n",
              "0                     Second wind vane on the nacelle  \n",
              "1                    Second anemometer on the nacelle  \n",
              "2                                  Average wind speed  \n",
              "3                                                 NaN  \n",
              "4                                                 NaN  \n",
              "5                                                 NaN  \n",
              "6                                                 NaN  \n",
              "7                                                 NaN  \n",
              "8                                                 NaN  \n",
              "9                                                 NaN  \n",
              "10                                                NaN  \n",
              "11                                                NaN  \n",
              "12                                                NaN  \n",
              "13                                                NaN  \n",
              "14                                                NaN  \n",
              "15                                                NaN  \n",
              "16                                                NaN  \n",
              "17                                                NaN  \n",
              "18                                                NaN  \n",
              "19                                                NaN  \n",
              "20                                                NaN  \n",
              "21                                                NaN  \n",
              "22  Should be the square root of the sum of P squa...  \n",
              "23                                   Should equal P/S  \n",
              "24                                                NaN  \n",
              "25                                                NaN  \n",
              "26                                                NaN  \n",
              "27                     First wind vane on the nacelle  \n",
              "28                    First anemometer on the nacelle  \n",
              "29                                                NaN  \n",
              "30                                                NaN  \n",
              "31                                                NaN  \n",
              "32                                                NaN  \n",
              "33                                                NaN  "
            ]
          },
          "metadata": {
            "tags": []
          },
          "execution_count": 3
        }
      ]
    },
    {
      "cell_type": "code",
      "metadata": {
        "id": "fdFcERme4h8s",
        "colab_type": "code",
        "colab": {},
        "outputId": "1b65cdba-3f4d-44bf-d963-cbfe56bd3ea4"
      },
      "source": [
        "#load data\n",
        "data = pd.read_csv('wind-data-truncated.csv', parse_dates=['Date_time']) \n",
        "data.head(5)"
      ],
      "execution_count": null,
      "outputs": [
        {
          "output_type": "execute_result",
          "data": {
            "text/html": [
              "<div>\n",
              "<style scoped>\n",
              "    .dataframe tbody tr th:only-of-type {\n",
              "        vertical-align: middle;\n",
              "    }\n",
              "\n",
              "    .dataframe tbody tr th {\n",
              "        vertical-align: top;\n",
              "    }\n",
              "\n",
              "    .dataframe thead th {\n",
              "        text-align: right;\n",
              "    }\n",
              "</style>\n",
              "<table border=\"1\" class=\"dataframe\">\n",
              "  <thead>\n",
              "    <tr style=\"text-align: right;\">\n",
              "      <th></th>\n",
              "      <th>Unnamed: 0</th>\n",
              "      <th>Wind_turbine_name</th>\n",
              "      <th>Date_time</th>\n",
              "      <th>Ba_avg</th>\n",
              "      <th>Ba_min</th>\n",
              "      <th>Ba_max</th>\n",
              "      <th>Ba_std</th>\n",
              "      <th>Rt_avg</th>\n",
              "      <th>Rt_min</th>\n",
              "      <th>Rt_max</th>\n",
              "      <th>...</th>\n",
              "      <th>Pas_max</th>\n",
              "      <th>Pas_std</th>\n",
              "      <th>Wa_c_avg</th>\n",
              "      <th>Wa_c_min</th>\n",
              "      <th>Wa_c_max</th>\n",
              "      <th>Wa_c_std</th>\n",
              "      <th>Na_c_avg</th>\n",
              "      <th>Na_c_min</th>\n",
              "      <th>Na_c_max</th>\n",
              "      <th>Na_c_std</th>\n",
              "    </tr>\n",
              "  </thead>\n",
              "  <tbody>\n",
              "    <tr>\n",
              "      <th>0</th>\n",
              "      <td>804808</td>\n",
              "      <td>R80711</td>\n",
              "      <td>2013-04-06 14:20:00</td>\n",
              "      <td>-0.940000</td>\n",
              "      <td>-0.950000</td>\n",
              "      <td>-0.940000</td>\n",
              "      <td>0.0</td>\n",
              "      <td>10.59</td>\n",
              "      <td>10.000000</td>\n",
              "      <td>11.0</td>\n",
              "      <td>...</td>\n",
              "      <td>NaN</td>\n",
              "      <td>NaN</td>\n",
              "      <td>358.870000</td>\n",
              "      <td>NaN</td>\n",
              "      <td>NaN</td>\n",
              "      <td>NaN</td>\n",
              "      <td>351.670010</td>\n",
              "      <td>NaN</td>\n",
              "      <td>NaN</td>\n",
              "      <td>NaN</td>\n",
              "    </tr>\n",
              "    <tr>\n",
              "      <th>1</th>\n",
              "      <td>732424</td>\n",
              "      <td>R80711</td>\n",
              "      <td>2015-12-22 14:30:00</td>\n",
              "      <td>-0.990000</td>\n",
              "      <td>-0.990000</td>\n",
              "      <td>-0.990000</td>\n",
              "      <td>0.0</td>\n",
              "      <td>17.00</td>\n",
              "      <td>17.000000</td>\n",
              "      <td>17.0</td>\n",
              "      <td>...</td>\n",
              "      <td>NaN</td>\n",
              "      <td>NaN</td>\n",
              "      <td>NaN</td>\n",
              "      <td>NaN</td>\n",
              "      <td>NaN</td>\n",
              "      <td>NaN</td>\n",
              "      <td>NaN</td>\n",
              "      <td>NaN</td>\n",
              "      <td>NaN</td>\n",
              "      <td>NaN</td>\n",
              "    </tr>\n",
              "    <tr>\n",
              "      <th>2</th>\n",
              "      <td>312987</td>\n",
              "      <td>R80711</td>\n",
              "      <td>2016-03-20 20:40:00</td>\n",
              "      <td>-0.990000</td>\n",
              "      <td>-0.990000</td>\n",
              "      <td>-0.990000</td>\n",
              "      <td>0.0</td>\n",
              "      <td>12.88</td>\n",
              "      <td>12.000000</td>\n",
              "      <td>13.0</td>\n",
              "      <td>...</td>\n",
              "      <td>NaN</td>\n",
              "      <td>NaN</td>\n",
              "      <td>44.849998</td>\n",
              "      <td>NaN</td>\n",
              "      <td>NaN</td>\n",
              "      <td>NaN</td>\n",
              "      <td>44.849998</td>\n",
              "      <td>NaN</td>\n",
              "      <td>NaN</td>\n",
              "      <td>NaN</td>\n",
              "    </tr>\n",
              "    <tr>\n",
              "      <th>3</th>\n",
              "      <td>68152</td>\n",
              "      <td>R80711</td>\n",
              "      <td>2016-01-09 01:00:00</td>\n",
              "      <td>45.000000</td>\n",
              "      <td>45.000000</td>\n",
              "      <td>45.000000</td>\n",
              "      <td>0.0</td>\n",
              "      <td>12.95</td>\n",
              "      <td>12.000000</td>\n",
              "      <td>13.0</td>\n",
              "      <td>...</td>\n",
              "      <td>NaN</td>\n",
              "      <td>NaN</td>\n",
              "      <td>243.020000</td>\n",
              "      <td>NaN</td>\n",
              "      <td>NaN</td>\n",
              "      <td>NaN</td>\n",
              "      <td>243.020000</td>\n",
              "      <td>NaN</td>\n",
              "      <td>NaN</td>\n",
              "      <td>NaN</td>\n",
              "    </tr>\n",
              "    <tr>\n",
              "      <th>4</th>\n",
              "      <td>231878</td>\n",
              "      <td>R80721</td>\n",
              "      <td>2014-12-14 13:20:00</td>\n",
              "      <td>44.990002</td>\n",
              "      <td>44.990002</td>\n",
              "      <td>44.990002</td>\n",
              "      <td>0.0</td>\n",
              "      <td>16.99</td>\n",
              "      <td>16.110001</td>\n",
              "      <td>17.0</td>\n",
              "      <td>...</td>\n",
              "      <td>NaN</td>\n",
              "      <td>NaN</td>\n",
              "      <td>195.060000</td>\n",
              "      <td>NaN</td>\n",
              "      <td>NaN</td>\n",
              "      <td>NaN</td>\n",
              "      <td>308.239990</td>\n",
              "      <td>NaN</td>\n",
              "      <td>NaN</td>\n",
              "      <td>NaN</td>\n",
              "    </tr>\n",
              "  </tbody>\n",
              "</table>\n",
              "<p>5 rows × 139 columns</p>\n",
              "</div>"
            ],
            "text/plain": [
              "   Unnamed: 0 Wind_turbine_name           Date_time     Ba_avg     Ba_min  \\\n",
              "0      804808            R80711 2013-04-06 14:20:00  -0.940000  -0.950000   \n",
              "1      732424            R80711 2015-12-22 14:30:00  -0.990000  -0.990000   \n",
              "2      312987            R80711 2016-03-20 20:40:00  -0.990000  -0.990000   \n",
              "3       68152            R80711 2016-01-09 01:00:00  45.000000  45.000000   \n",
              "4      231878            R80721 2014-12-14 13:20:00  44.990002  44.990002   \n",
              "\n",
              "      Ba_max  Ba_std  Rt_avg     Rt_min  Rt_max    ...     Pas_max  Pas_std  \\\n",
              "0  -0.940000     0.0   10.59  10.000000    11.0    ...         NaN      NaN   \n",
              "1  -0.990000     0.0   17.00  17.000000    17.0    ...         NaN      NaN   \n",
              "2  -0.990000     0.0   12.88  12.000000    13.0    ...         NaN      NaN   \n",
              "3  45.000000     0.0   12.95  12.000000    13.0    ...         NaN      NaN   \n",
              "4  44.990002     0.0   16.99  16.110001    17.0    ...         NaN      NaN   \n",
              "\n",
              "     Wa_c_avg  Wa_c_min  Wa_c_max  Wa_c_std    Na_c_avg  Na_c_min  Na_c_max  \\\n",
              "0  358.870000       NaN       NaN       NaN  351.670010       NaN       NaN   \n",
              "1         NaN       NaN       NaN       NaN         NaN       NaN       NaN   \n",
              "2   44.849998       NaN       NaN       NaN   44.849998       NaN       NaN   \n",
              "3  243.020000       NaN       NaN       NaN  243.020000       NaN       NaN   \n",
              "4  195.060000       NaN       NaN       NaN  308.239990       NaN       NaN   \n",
              "\n",
              "   Na_c_std  \n",
              "0       NaN  \n",
              "1       NaN  \n",
              "2       NaN  \n",
              "3       NaN  \n",
              "4       NaN  \n",
              "\n",
              "[5 rows x 139 columns]"
            ]
          },
          "metadata": {
            "tags": []
          },
          "execution_count": 4
        }
      ]
    },
    {
      "cell_type": "markdown",
      "metadata": {
        "id": "uI7LqSpT4h8v",
        "colab_type": "text"
      },
      "source": [
        "__Helpful hint__: Load the data into a dataframe. Use the `parse_dates=['Date_time']` argument in the `read_csv` function in order to display dates in later plots."
      ]
    },
    {
      "cell_type": "code",
      "metadata": {
        "id": "R7jxqg-y4h8v",
        "colab_type": "code",
        "colab": {}
      },
      "source": [
        ""
      ],
      "execution_count": null,
      "outputs": []
    },
    {
      "cell_type": "markdown",
      "metadata": {
        "id": "komZC10U4h8y",
        "colab_type": "text"
      },
      "source": [
        "### Explore the data"
      ]
    },
    {
      "cell_type": "markdown",
      "metadata": {
        "id": "81aUX1_x4h8z",
        "colab_type": "text"
      },
      "source": [
        "Once you've loaded the data into a pandas dataframe, explore the data. You may start by generating summary statistics, identifying any missing values, and filling in missing values. Generate visualizations of the features as a way to start understanding the distribution of the data."
      ]
    },
    {
      "cell_type": "code",
      "metadata": {
        "id": "kuUvsD_D4h80",
        "colab_type": "code",
        "colab": {},
        "outputId": "298212c7-893e-4e65-cafe-14396d44ba6e"
      },
      "source": [
        "#see size of the dataset\n",
        "data.shape "
      ],
      "execution_count": null,
      "outputs": [
        {
          "output_type": "execute_result",
          "data": {
            "text/plain": [
              "(25000, 139)"
            ]
          },
          "metadata": {
            "tags": []
          },
          "execution_count": 5
        }
      ]
    },
    {
      "cell_type": "markdown",
      "metadata": {
        "id": "US-2CGGH4h85",
        "colab_type": "text"
      },
      "source": [
        "Data has 25000 rows and 139 columns"
      ]
    },
    {
      "cell_type": "code",
      "metadata": {
        "id": "LbsMvnhi4h85",
        "colab_type": "code",
        "colab": {},
        "outputId": "432ba9e4-0b86-418f-c30e-86f694684f0c"
      },
      "source": [
        "data.info() #view information about data"
      ],
      "execution_count": null,
      "outputs": [
        {
          "output_type": "stream",
          "text": [
            "<class 'pandas.core.frame.DataFrame'>\n",
            "RangeIndex: 25000 entries, 0 to 24999\n",
            "Columns: 139 entries, Unnamed: 0 to Na_c_std\n",
            "dtypes: datetime64[ns](1), float64(136), int64(1), object(1)\n",
            "memory usage: 26.5+ MB\n"
          ],
          "name": "stdout"
        }
      ]
    },
    {
      "cell_type": "markdown",
      "metadata": {
        "id": "VhdCCSo14h88",
        "colab_type": "text"
      },
      "source": [
        "Data has 136 columns with 'float' values, 1 column with '64bits integer' values, 1 column with 'object' values and 1 'datetime' column"
      ]
    },
    {
      "cell_type": "code",
      "metadata": {
        "id": "mHOZrUcr4h89",
        "colab_type": "code",
        "colab": {},
        "outputId": "3fbc681a-ed0b-48bc-f42c-918bd3e48647"
      },
      "source": [
        "#conduct summary statistics on data\n",
        "data.describe()"
      ],
      "execution_count": null,
      "outputs": [
        {
          "output_type": "execute_result",
          "data": {
            "text/html": [
              "<div>\n",
              "<style scoped>\n",
              "    .dataframe tbody tr th:only-of-type {\n",
              "        vertical-align: middle;\n",
              "    }\n",
              "\n",
              "    .dataframe tbody tr th {\n",
              "        vertical-align: top;\n",
              "    }\n",
              "\n",
              "    .dataframe thead th {\n",
              "        text-align: right;\n",
              "    }\n",
              "</style>\n",
              "<table border=\"1\" class=\"dataframe\">\n",
              "  <thead>\n",
              "    <tr style=\"text-align: right;\">\n",
              "      <th></th>\n",
              "      <th>Unnamed: 0</th>\n",
              "      <th>Ba_avg</th>\n",
              "      <th>Ba_min</th>\n",
              "      <th>Ba_max</th>\n",
              "      <th>Ba_std</th>\n",
              "      <th>Rt_avg</th>\n",
              "      <th>Rt_min</th>\n",
              "      <th>Rt_max</th>\n",
              "      <th>Rt_std</th>\n",
              "      <th>DCs_avg</th>\n",
              "      <th>...</th>\n",
              "      <th>Pas_max</th>\n",
              "      <th>Pas_std</th>\n",
              "      <th>Wa_c_avg</th>\n",
              "      <th>Wa_c_min</th>\n",
              "      <th>Wa_c_max</th>\n",
              "      <th>Wa_c_std</th>\n",
              "      <th>Na_c_avg</th>\n",
              "      <th>Na_c_min</th>\n",
              "      <th>Na_c_max</th>\n",
              "      <th>Na_c_std</th>\n",
              "    </tr>\n",
              "  </thead>\n",
              "  <tbody>\n",
              "    <tr>\n",
              "      <th>count</th>\n",
              "      <td>25000.000000</td>\n",
              "      <td>24863.000000</td>\n",
              "      <td>24863.000000</td>\n",
              "      <td>24863.000000</td>\n",
              "      <td>24863.000000</td>\n",
              "      <td>24863.000000</td>\n",
              "      <td>24863.000000</td>\n",
              "      <td>24863.000000</td>\n",
              "      <td>24863.000000</td>\n",
              "      <td>24863.000000</td>\n",
              "      <td>...</td>\n",
              "      <td>0.0</td>\n",
              "      <td>0.0</td>\n",
              "      <td>24023.000000</td>\n",
              "      <td>0.0</td>\n",
              "      <td>0.0</td>\n",
              "      <td>0.0</td>\n",
              "      <td>24023.000000</td>\n",
              "      <td>0.0</td>\n",
              "      <td>0.0</td>\n",
              "      <td>0.0</td>\n",
              "    </tr>\n",
              "    <tr>\n",
              "      <th>mean</th>\n",
              "      <td>420690.593400</td>\n",
              "      <td>13.908417</td>\n",
              "      <td>12.809536</td>\n",
              "      <td>15.365060</td>\n",
              "      <td>0.860982</td>\n",
              "      <td>19.315983</td>\n",
              "      <td>19.122009</td>\n",
              "      <td>19.535519</td>\n",
              "      <td>0.105912</td>\n",
              "      <td>1055.278639</td>\n",
              "      <td>...</td>\n",
              "      <td>NaN</td>\n",
              "      <td>NaN</td>\n",
              "      <td>178.370313</td>\n",
              "      <td>NaN</td>\n",
              "      <td>NaN</td>\n",
              "      <td>NaN</td>\n",
              "      <td>179.284643</td>\n",
              "      <td>NaN</td>\n",
              "      <td>NaN</td>\n",
              "      <td>NaN</td>\n",
              "    </tr>\n",
              "    <tr>\n",
              "      <th>std</th>\n",
              "      <td>242467.126033</td>\n",
              "      <td>28.292036</td>\n",
              "      <td>28.123074</td>\n",
              "      <td>28.840993</td>\n",
              "      <td>3.873753</td>\n",
              "      <td>6.183012</td>\n",
              "      <td>6.194615</td>\n",
              "      <td>6.186675</td>\n",
              "      <td>0.157304</td>\n",
              "      <td>626.559284</td>\n",
              "      <td>...</td>\n",
              "      <td>NaN</td>\n",
              "      <td>NaN</td>\n",
              "      <td>95.777425</td>\n",
              "      <td>NaN</td>\n",
              "      <td>NaN</td>\n",
              "      <td>NaN</td>\n",
              "      <td>95.969775</td>\n",
              "      <td>NaN</td>\n",
              "      <td>NaN</td>\n",
              "      <td>NaN</td>\n",
              "    </tr>\n",
              "    <tr>\n",
              "      <th>min</th>\n",
              "      <td>29.000000</td>\n",
              "      <td>-1.050000</td>\n",
              "      <td>-23.040001</td>\n",
              "      <td>-1.050000</td>\n",
              "      <td>0.000000</td>\n",
              "      <td>5.000000</td>\n",
              "      <td>4.940000</td>\n",
              "      <td>5.000000</td>\n",
              "      <td>0.000000</td>\n",
              "      <td>-574.880000</td>\n",
              "      <td>...</td>\n",
              "      <td>NaN</td>\n",
              "      <td>NaN</td>\n",
              "      <td>0.000000</td>\n",
              "      <td>NaN</td>\n",
              "      <td>NaN</td>\n",
              "      <td>NaN</td>\n",
              "      <td>0.080000</td>\n",
              "      <td>NaN</td>\n",
              "      <td>NaN</td>\n",
              "      <td>NaN</td>\n",
              "    </tr>\n",
              "    <tr>\n",
              "      <th>25%</th>\n",
              "      <td>211555.500000</td>\n",
              "      <td>-0.990000</td>\n",
              "      <td>-1.000000</td>\n",
              "      <td>-0.990000</td>\n",
              "      <td>0.000000</td>\n",
              "      <td>14.080000</td>\n",
              "      <td>14.000000</td>\n",
              "      <td>15.000000</td>\n",
              "      <td>0.000000</td>\n",
              "      <td>963.825015</td>\n",
              "      <td>...</td>\n",
              "      <td>NaN</td>\n",
              "      <td>NaN</td>\n",
              "      <td>86.075001</td>\n",
              "      <td>NaN</td>\n",
              "      <td>NaN</td>\n",
              "      <td>NaN</td>\n",
              "      <td>86.779999</td>\n",
              "      <td>NaN</td>\n",
              "      <td>NaN</td>\n",
              "      <td>NaN</td>\n",
              "    </tr>\n",
              "    <tr>\n",
              "      <th>50%</th>\n",
              "      <td>421692.500000</td>\n",
              "      <td>-0.970000</td>\n",
              "      <td>-0.990000</td>\n",
              "      <td>-0.500000</td>\n",
              "      <td>0.000000</td>\n",
              "      <td>19.000000</td>\n",
              "      <td>19.000000</td>\n",
              "      <td>19.000000</td>\n",
              "      <td>0.000000</td>\n",
              "      <td>1180.170000</td>\n",
              "      <td>...</td>\n",
              "      <td>NaN</td>\n",
              "      <td>NaN</td>\n",
              "      <td>195.190000</td>\n",
              "      <td>NaN</td>\n",
              "      <td>NaN</td>\n",
              "      <td>NaN</td>\n",
              "      <td>196.710010</td>\n",
              "      <td>NaN</td>\n",
              "      <td>NaN</td>\n",
              "      <td>NaN</td>\n",
              "    </tr>\n",
              "    <tr>\n",
              "      <th>75%</th>\n",
              "      <td>629736.500000</td>\n",
              "      <td>7.125000</td>\n",
              "      <td>-0.500000</td>\n",
              "      <td>44.980000</td>\n",
              "      <td>0.130000</td>\n",
              "      <td>24.000000</td>\n",
              "      <td>24.000000</td>\n",
              "      <td>24.000000</td>\n",
              "      <td>0.210000</td>\n",
              "      <td>1565.585000</td>\n",
              "      <td>...</td>\n",
              "      <td>NaN</td>\n",
              "      <td>NaN</td>\n",
              "      <td>248.300000</td>\n",
              "      <td>NaN</td>\n",
              "      <td>NaN</td>\n",
              "      <td>NaN</td>\n",
              "      <td>250.050000</td>\n",
              "      <td>NaN</td>\n",
              "      <td>NaN</td>\n",
              "      <td>NaN</td>\n",
              "    </tr>\n",
              "    <tr>\n",
              "      <th>max</th>\n",
              "      <td>840316.000000</td>\n",
              "      <td>117.130000</td>\n",
              "      <td>117.130000</td>\n",
              "      <td>161.770000</td>\n",
              "      <td>45.220001</td>\n",
              "      <td>39.000000</td>\n",
              "      <td>39.000000</td>\n",
              "      <td>39.000000</td>\n",
              "      <td>0.940000</td>\n",
              "      <td>1805.770000</td>\n",
              "      <td>...</td>\n",
              "      <td>NaN</td>\n",
              "      <td>NaN</td>\n",
              "      <td>359.950010</td>\n",
              "      <td>NaN</td>\n",
              "      <td>NaN</td>\n",
              "      <td>NaN</td>\n",
              "      <td>359.950010</td>\n",
              "      <td>NaN</td>\n",
              "      <td>NaN</td>\n",
              "      <td>NaN</td>\n",
              "    </tr>\n",
              "  </tbody>\n",
              "</table>\n",
              "<p>8 rows × 137 columns</p>\n",
              "</div>"
            ],
            "text/plain": [
              "          Unnamed: 0        Ba_avg        Ba_min        Ba_max        Ba_std  \\\n",
              "count   25000.000000  24863.000000  24863.000000  24863.000000  24863.000000   \n",
              "mean   420690.593400     13.908417     12.809536     15.365060      0.860982   \n",
              "std    242467.126033     28.292036     28.123074     28.840993      3.873753   \n",
              "min        29.000000     -1.050000    -23.040001     -1.050000      0.000000   \n",
              "25%    211555.500000     -0.990000     -1.000000     -0.990000      0.000000   \n",
              "50%    421692.500000     -0.970000     -0.990000     -0.500000      0.000000   \n",
              "75%    629736.500000      7.125000     -0.500000     44.980000      0.130000   \n",
              "max    840316.000000    117.130000    117.130000    161.770000     45.220001   \n",
              "\n",
              "             Rt_avg        Rt_min        Rt_max        Rt_std       DCs_avg  \\\n",
              "count  24863.000000  24863.000000  24863.000000  24863.000000  24863.000000   \n",
              "mean      19.315983     19.122009     19.535519      0.105912   1055.278639   \n",
              "std        6.183012      6.194615      6.186675      0.157304    626.559284   \n",
              "min        5.000000      4.940000      5.000000      0.000000   -574.880000   \n",
              "25%       14.080000     14.000000     15.000000      0.000000    963.825015   \n",
              "50%       19.000000     19.000000     19.000000      0.000000   1180.170000   \n",
              "75%       24.000000     24.000000     24.000000      0.210000   1565.585000   \n",
              "max       39.000000     39.000000     39.000000      0.940000   1805.770000   \n",
              "\n",
              "         ...     Pas_max  Pas_std      Wa_c_avg  Wa_c_min  Wa_c_max  Wa_c_std  \\\n",
              "count    ...         0.0      0.0  24023.000000       0.0       0.0       0.0   \n",
              "mean     ...         NaN      NaN    178.370313       NaN       NaN       NaN   \n",
              "std      ...         NaN      NaN     95.777425       NaN       NaN       NaN   \n",
              "min      ...         NaN      NaN      0.000000       NaN       NaN       NaN   \n",
              "25%      ...         NaN      NaN     86.075001       NaN       NaN       NaN   \n",
              "50%      ...         NaN      NaN    195.190000       NaN       NaN       NaN   \n",
              "75%      ...         NaN      NaN    248.300000       NaN       NaN       NaN   \n",
              "max      ...         NaN      NaN    359.950010       NaN       NaN       NaN   \n",
              "\n",
              "           Na_c_avg  Na_c_min  Na_c_max  Na_c_std  \n",
              "count  24023.000000       0.0       0.0       0.0  \n",
              "mean     179.284643       NaN       NaN       NaN  \n",
              "std       95.969775       NaN       NaN       NaN  \n",
              "min        0.080000       NaN       NaN       NaN  \n",
              "25%       86.779999       NaN       NaN       NaN  \n",
              "50%      196.710010       NaN       NaN       NaN  \n",
              "75%      250.050000       NaN       NaN       NaN  \n",
              "max      359.950010       NaN       NaN       NaN  \n",
              "\n",
              "[8 rows x 137 columns]"
            ]
          },
          "metadata": {
            "tags": []
          },
          "execution_count": 7
        }
      ]
    },
    {
      "cell_type": "markdown",
      "metadata": {
        "id": "E3W4wFv74h8_",
        "colab_type": "text"
      },
      "source": [
        "There are generally large differences between min and max values for each feature. Thus, data is skewed\n",
        "Max values are generally bigger than 75%, even showing extreme outliers for some features."
      ]
    },
    {
      "cell_type": "code",
      "metadata": {
        "id": "wJEKnj-44h8_",
        "colab_type": "code",
        "colab": {},
        "outputId": "008edf5f-ad11-499d-9d22-ed0f320fd406"
      },
      "source": [
        "print(data.columns) #see features in dataset"
      ],
      "execution_count": null,
      "outputs": [
        {
          "output_type": "stream",
          "text": [
            "Index(['Unnamed: 0', 'Wind_turbine_name', 'Date_time', 'Ba_avg', 'Ba_min',\n",
            "       'Ba_max', 'Ba_std', 'Rt_avg', 'Rt_min', 'Rt_max',\n",
            "       ...\n",
            "       'Pas_max', 'Pas_std', 'Wa_c_avg', 'Wa_c_min', 'Wa_c_max', 'Wa_c_std',\n",
            "       'Na_c_avg', 'Na_c_min', 'Na_c_max', 'Na_c_std'],\n",
            "      dtype='object', length=139)\n"
          ],
          "name": "stdout"
        }
      ]
    },
    {
      "cell_type": "markdown",
      "metadata": {
        "id": "C7FUb6ws4h9C",
        "colab_type": "text"
      },
      "source": [
        "It seems every feature mentioned in the description would have 4 variations: avg, min, max, and std"
      ]
    },
    {
      "cell_type": "markdown",
      "metadata": {
        "id": "PFbd2cAp4h9C",
        "colab_type": "text"
      },
      "source": [
        "##### Generate Visualizations"
      ]
    },
    {
      "cell_type": "markdown",
      "metadata": {
        "id": "jNm6pStb4h9D",
        "colab_type": "text"
      },
      "source": [
        "Because we are investigating power output, the active power feature is given by the following features in  the dataset: `P_avg, P_min, P_max, P_std`. Decide on which active power feature to use (hint: perhaps the average or maximum would be a good place to start). Begin by using the function `groupby` to determine how many turbines there are in the dataset. The dataset is huge, so in order to visualize trends in power output, a simpler way would be to look at monthly trends in the data."
      ]
    },
    {
      "cell_type": "code",
      "metadata": {
        "id": "pAQgmm4f4h9D",
        "colab_type": "code",
        "colab": {},
        "outputId": "a6c7ebc7-28e9-4d1f-e6f9-9d3feb60d19a"
      },
      "source": [
        "#see the number of turbines in dataset\n",
        "#one way to display the result is by getting the mean of all columns\n",
        "data.iloc[:, 1:].groupby('Wind_turbine_name').mean() #take mean on all numeric columns"
      ],
      "execution_count": null,
      "outputs": [
        {
          "output_type": "execute_result",
          "data": {
            "text/html": [
              "<div>\n",
              "<style scoped>\n",
              "    .dataframe tbody tr th:only-of-type {\n",
              "        vertical-align: middle;\n",
              "    }\n",
              "\n",
              "    .dataframe tbody tr th {\n",
              "        vertical-align: top;\n",
              "    }\n",
              "\n",
              "    .dataframe thead th {\n",
              "        text-align: right;\n",
              "    }\n",
              "</style>\n",
              "<table border=\"1\" class=\"dataframe\">\n",
              "  <thead>\n",
              "    <tr style=\"text-align: right;\">\n",
              "      <th></th>\n",
              "      <th>Ba_avg</th>\n",
              "      <th>Ba_min</th>\n",
              "      <th>Ba_max</th>\n",
              "      <th>Ba_std</th>\n",
              "      <th>Rt_avg</th>\n",
              "      <th>Rt_min</th>\n",
              "      <th>Rt_max</th>\n",
              "      <th>Rt_std</th>\n",
              "      <th>DCs_avg</th>\n",
              "      <th>DCs_min</th>\n",
              "      <th>...</th>\n",
              "      <th>Pas_max</th>\n",
              "      <th>Pas_std</th>\n",
              "      <th>Wa_c_avg</th>\n",
              "      <th>Wa_c_min</th>\n",
              "      <th>Wa_c_max</th>\n",
              "      <th>Wa_c_std</th>\n",
              "      <th>Na_c_avg</th>\n",
              "      <th>Na_c_min</th>\n",
              "      <th>Na_c_max</th>\n",
              "      <th>Na_c_std</th>\n",
              "    </tr>\n",
              "    <tr>\n",
              "      <th>Wind_turbine_name</th>\n",
              "      <th></th>\n",
              "      <th></th>\n",
              "      <th></th>\n",
              "      <th></th>\n",
              "      <th></th>\n",
              "      <th></th>\n",
              "      <th></th>\n",
              "      <th></th>\n",
              "      <th></th>\n",
              "      <th></th>\n",
              "      <th></th>\n",
              "      <th></th>\n",
              "      <th></th>\n",
              "      <th></th>\n",
              "      <th></th>\n",
              "      <th></th>\n",
              "      <th></th>\n",
              "      <th></th>\n",
              "      <th></th>\n",
              "      <th></th>\n",
              "      <th></th>\n",
              "    </tr>\n",
              "  </thead>\n",
              "  <tbody>\n",
              "    <tr>\n",
              "      <th>R80711</th>\n",
              "      <td>9.597272</td>\n",
              "      <td>8.486888</td>\n",
              "      <td>11.113723</td>\n",
              "      <td>0.878351</td>\n",
              "      <td>18.168351</td>\n",
              "      <td>18.001641</td>\n",
              "      <td>18.337944</td>\n",
              "      <td>0.084791</td>\n",
              "      <td>1161.693829</td>\n",
              "      <td>1047.606723</td>\n",
              "      <td>...</td>\n",
              "      <td>NaN</td>\n",
              "      <td>NaN</td>\n",
              "      <td>178.161997</td>\n",
              "      <td>NaN</td>\n",
              "      <td>NaN</td>\n",
              "      <td>NaN</td>\n",
              "      <td>178.556704</td>\n",
              "      <td>NaN</td>\n",
              "      <td>NaN</td>\n",
              "      <td>NaN</td>\n",
              "    </tr>\n",
              "    <tr>\n",
              "      <th>R80721</th>\n",
              "      <td>10.676144</td>\n",
              "      <td>9.449325</td>\n",
              "      <td>12.232524</td>\n",
              "      <td>0.963779</td>\n",
              "      <td>20.589091</td>\n",
              "      <td>20.380148</td>\n",
              "      <td>20.779581</td>\n",
              "      <td>0.099989</td>\n",
              "      <td>1075.919004</td>\n",
              "      <td>951.657201</td>\n",
              "      <td>...</td>\n",
              "      <td>NaN</td>\n",
              "      <td>NaN</td>\n",
              "      <td>177.334753</td>\n",
              "      <td>NaN</td>\n",
              "      <td>NaN</td>\n",
              "      <td>NaN</td>\n",
              "      <td>178.062631</td>\n",
              "      <td>NaN</td>\n",
              "      <td>NaN</td>\n",
              "      <td>NaN</td>\n",
              "    </tr>\n",
              "    <tr>\n",
              "      <th>R80736</th>\n",
              "      <td>10.713859</td>\n",
              "      <td>9.542455</td>\n",
              "      <td>12.176744</td>\n",
              "      <td>0.886450</td>\n",
              "      <td>19.363753</td>\n",
              "      <td>19.093775</td>\n",
              "      <td>19.742353</td>\n",
              "      <td>0.168733</td>\n",
              "      <td>1085.364718</td>\n",
              "      <td>970.459983</td>\n",
              "      <td>...</td>\n",
              "      <td>NaN</td>\n",
              "      <td>NaN</td>\n",
              "      <td>179.261964</td>\n",
              "      <td>NaN</td>\n",
              "      <td>NaN</td>\n",
              "      <td>NaN</td>\n",
              "      <td>180.526088</td>\n",
              "      <td>NaN</td>\n",
              "      <td>NaN</td>\n",
              "      <td>NaN</td>\n",
              "    </tr>\n",
              "    <tr>\n",
              "      <th>R80790</th>\n",
              "      <td>24.601396</td>\n",
              "      <td>23.713617</td>\n",
              "      <td>25.893020</td>\n",
              "      <td>0.715984</td>\n",
              "      <td>19.143273</td>\n",
              "      <td>19.012850</td>\n",
              "      <td>19.282821</td>\n",
              "      <td>0.070186</td>\n",
              "      <td>898.831886</td>\n",
              "      <td>804.564189</td>\n",
              "      <td>...</td>\n",
              "      <td>NaN</td>\n",
              "      <td>NaN</td>\n",
              "      <td>178.712917</td>\n",
              "      <td>NaN</td>\n",
              "      <td>NaN</td>\n",
              "      <td>NaN</td>\n",
              "      <td>179.978495</td>\n",
              "      <td>NaN</td>\n",
              "      <td>NaN</td>\n",
              "      <td>NaN</td>\n",
              "    </tr>\n",
              "  </tbody>\n",
              "</table>\n",
              "<p>4 rows × 136 columns</p>\n",
              "</div>"
            ],
            "text/plain": [
              "                      Ba_avg     Ba_min     Ba_max    Ba_std     Rt_avg  \\\n",
              "Wind_turbine_name                                                         \n",
              "R80711              9.597272   8.486888  11.113723  0.878351  18.168351   \n",
              "R80721             10.676144   9.449325  12.232524  0.963779  20.589091   \n",
              "R80736             10.713859   9.542455  12.176744  0.886450  19.363753   \n",
              "R80790             24.601396  23.713617  25.893020  0.715984  19.143273   \n",
              "\n",
              "                      Rt_min     Rt_max    Rt_std      DCs_avg      DCs_min  \\\n",
              "Wind_turbine_name                                                             \n",
              "R80711             18.001641  18.337944  0.084791  1161.693829  1047.606723   \n",
              "R80721             20.380148  20.779581  0.099989  1075.919004   951.657201   \n",
              "R80736             19.093775  19.742353  0.168733  1085.364718   970.459983   \n",
              "R80790             19.012850  19.282821  0.070186   898.831886   804.564189   \n",
              "\n",
              "                     ...     Pas_max  Pas_std    Wa_c_avg  Wa_c_min  Wa_c_max  \\\n",
              "Wind_turbine_name    ...                                                        \n",
              "R80711               ...         NaN      NaN  178.161997       NaN       NaN   \n",
              "R80721               ...         NaN      NaN  177.334753       NaN       NaN   \n",
              "R80736               ...         NaN      NaN  179.261964       NaN       NaN   \n",
              "R80790               ...         NaN      NaN  178.712917       NaN       NaN   \n",
              "\n",
              "                   Wa_c_std    Na_c_avg  Na_c_min  Na_c_max  Na_c_std  \n",
              "Wind_turbine_name                                                      \n",
              "R80711                  NaN  178.556704       NaN       NaN       NaN  \n",
              "R80721                  NaN  178.062631       NaN       NaN       NaN  \n",
              "R80736                  NaN  180.526088       NaN       NaN       NaN  \n",
              "R80790                  NaN  179.978495       NaN       NaN       NaN  \n",
              "\n",
              "[4 rows x 136 columns]"
            ]
          },
          "metadata": {
            "tags": []
          },
          "execution_count": 10
        }
      ]
    },
    {
      "cell_type": "markdown",
      "metadata": {
        "id": "0UrqOOXw4h9G",
        "colab_type": "text"
      },
      "source": [
        "There are 4 turbines in the data"
      ]
    },
    {
      "cell_type": "markdown",
      "metadata": {
        "id": "S9Yfoo8D4h9H",
        "colab_type": "text"
      },
      "source": [
        "There is a wind turbine with `Wind_turbine_name` R80711. Use this column and determine the trend for the month of January."
      ]
    },
    {
      "cell_type": "code",
      "metadata": {
        "id": "R3JnNPMD4h9H",
        "colab_type": "code",
        "colab": {}
      },
      "source": [
        "df_r80711 = data.loc[data['Wind_turbine_name'] == 'R80711'] #create new variable with data for desired turbine"
      ],
      "execution_count": null,
      "outputs": []
    },
    {
      "cell_type": "code",
      "metadata": {
        "id": "nOP6pk9r4h9K",
        "colab_type": "code",
        "colab": {},
        "outputId": "d9d01c90-19f1-43b1-9990-639dd58cfecd"
      },
      "source": [
        "df_r80711 #view new data"
      ],
      "execution_count": null,
      "outputs": [
        {
          "output_type": "execute_result",
          "data": {
            "text/html": [
              "<div>\n",
              "<style scoped>\n",
              "    .dataframe tbody tr th:only-of-type {\n",
              "        vertical-align: middle;\n",
              "    }\n",
              "\n",
              "    .dataframe tbody tr th {\n",
              "        vertical-align: top;\n",
              "    }\n",
              "\n",
              "    .dataframe thead th {\n",
              "        text-align: right;\n",
              "    }\n",
              "</style>\n",
              "<table border=\"1\" class=\"dataframe\">\n",
              "  <thead>\n",
              "    <tr style=\"text-align: right;\">\n",
              "      <th></th>\n",
              "      <th>Unnamed: 0</th>\n",
              "      <th>Wind_turbine_name</th>\n",
              "      <th>Date_time</th>\n",
              "      <th>Ba_avg</th>\n",
              "      <th>Ba_min</th>\n",
              "      <th>Ba_max</th>\n",
              "      <th>Ba_std</th>\n",
              "      <th>Rt_avg</th>\n",
              "      <th>Rt_min</th>\n",
              "      <th>Rt_max</th>\n",
              "      <th>...</th>\n",
              "      <th>Pas_max</th>\n",
              "      <th>Pas_std</th>\n",
              "      <th>Wa_c_avg</th>\n",
              "      <th>Wa_c_min</th>\n",
              "      <th>Wa_c_max</th>\n",
              "      <th>Wa_c_std</th>\n",
              "      <th>Na_c_avg</th>\n",
              "      <th>Na_c_min</th>\n",
              "      <th>Na_c_max</th>\n",
              "      <th>Na_c_std</th>\n",
              "    </tr>\n",
              "  </thead>\n",
              "  <tbody>\n",
              "    <tr>\n",
              "      <th>0</th>\n",
              "      <td>804808</td>\n",
              "      <td>R80711</td>\n",
              "      <td>2013-04-06 14:20:00</td>\n",
              "      <td>-0.940000</td>\n",
              "      <td>-0.950000</td>\n",
              "      <td>-0.940000</td>\n",
              "      <td>0.00</td>\n",
              "      <td>10.590000</td>\n",
              "      <td>10.000000</td>\n",
              "      <td>11.000000</td>\n",
              "      <td>...</td>\n",
              "      <td>NaN</td>\n",
              "      <td>NaN</td>\n",
              "      <td>358.870000</td>\n",
              "      <td>NaN</td>\n",
              "      <td>NaN</td>\n",
              "      <td>NaN</td>\n",
              "      <td>351.670010</td>\n",
              "      <td>NaN</td>\n",
              "      <td>NaN</td>\n",
              "      <td>NaN</td>\n",
              "    </tr>\n",
              "    <tr>\n",
              "      <th>1</th>\n",
              "      <td>732424</td>\n",
              "      <td>R80711</td>\n",
              "      <td>2015-12-22 14:30:00</td>\n",
              "      <td>-0.990000</td>\n",
              "      <td>-0.990000</td>\n",
              "      <td>-0.990000</td>\n",
              "      <td>0.00</td>\n",
              "      <td>17.000000</td>\n",
              "      <td>17.000000</td>\n",
              "      <td>17.000000</td>\n",
              "      <td>...</td>\n",
              "      <td>NaN</td>\n",
              "      <td>NaN</td>\n",
              "      <td>NaN</td>\n",
              "      <td>NaN</td>\n",
              "      <td>NaN</td>\n",
              "      <td>NaN</td>\n",
              "      <td>NaN</td>\n",
              "      <td>NaN</td>\n",
              "      <td>NaN</td>\n",
              "      <td>NaN</td>\n",
              "    </tr>\n",
              "    <tr>\n",
              "      <th>2</th>\n",
              "      <td>312987</td>\n",
              "      <td>R80711</td>\n",
              "      <td>2016-03-20 20:40:00</td>\n",
              "      <td>-0.990000</td>\n",
              "      <td>-0.990000</td>\n",
              "      <td>-0.990000</td>\n",
              "      <td>0.00</td>\n",
              "      <td>12.880000</td>\n",
              "      <td>12.000000</td>\n",
              "      <td>13.000000</td>\n",
              "      <td>...</td>\n",
              "      <td>NaN</td>\n",
              "      <td>NaN</td>\n",
              "      <td>44.849998</td>\n",
              "      <td>NaN</td>\n",
              "      <td>NaN</td>\n",
              "      <td>NaN</td>\n",
              "      <td>44.849998</td>\n",
              "      <td>NaN</td>\n",
              "      <td>NaN</td>\n",
              "      <td>NaN</td>\n",
              "    </tr>\n",
              "    <tr>\n",
              "      <th>3</th>\n",
              "      <td>68152</td>\n",
              "      <td>R80711</td>\n",
              "      <td>2016-01-09 01:00:00</td>\n",
              "      <td>45.000000</td>\n",
              "      <td>45.000000</td>\n",
              "      <td>45.000000</td>\n",
              "      <td>0.00</td>\n",
              "      <td>12.950000</td>\n",
              "      <td>12.000000</td>\n",
              "      <td>13.000000</td>\n",
              "      <td>...</td>\n",
              "      <td>NaN</td>\n",
              "      <td>NaN</td>\n",
              "      <td>243.020000</td>\n",
              "      <td>NaN</td>\n",
              "      <td>NaN</td>\n",
              "      <td>NaN</td>\n",
              "      <td>243.020000</td>\n",
              "      <td>NaN</td>\n",
              "      <td>NaN</td>\n",
              "      <td>NaN</td>\n",
              "    </tr>\n",
              "    <tr>\n",
              "      <th>5</th>\n",
              "      <td>358331</td>\n",
              "      <td>R80711</td>\n",
              "      <td>2013-11-13 14:30:00</td>\n",
              "      <td>-0.940000</td>\n",
              "      <td>-0.950000</td>\n",
              "      <td>-0.940000</td>\n",
              "      <td>0.00</td>\n",
              "      <td>13.000000</td>\n",
              "      <td>12.760000</td>\n",
              "      <td>13.000000</td>\n",
              "      <td>...</td>\n",
              "      <td>NaN</td>\n",
              "      <td>NaN</td>\n",
              "      <td>24.370001</td>\n",
              "      <td>NaN</td>\n",
              "      <td>NaN</td>\n",
              "      <td>NaN</td>\n",
              "      <td>36.509998</td>\n",
              "      <td>NaN</td>\n",
              "      <td>NaN</td>\n",
              "      <td>NaN</td>\n",
              "    </tr>\n",
              "    <tr>\n",
              "      <th>6</th>\n",
              "      <td>103717</td>\n",
              "      <td>R80711</td>\n",
              "      <td>2014-11-03 21:20:00</td>\n",
              "      <td>-0.650000</td>\n",
              "      <td>-0.990000</td>\n",
              "      <td>3.740000</td>\n",
              "      <td>0.78</td>\n",
              "      <td>20.000000</td>\n",
              "      <td>20.000000</td>\n",
              "      <td>20.000000</td>\n",
              "      <td>...</td>\n",
              "      <td>NaN</td>\n",
              "      <td>NaN</td>\n",
              "      <td>215.820010</td>\n",
              "      <td>NaN</td>\n",
              "      <td>NaN</td>\n",
              "      <td>NaN</td>\n",
              "      <td>219.960010</td>\n",
              "      <td>NaN</td>\n",
              "      <td>NaN</td>\n",
              "      <td>NaN</td>\n",
              "    </tr>\n",
              "    <tr>\n",
              "      <th>16</th>\n",
              "      <td>193847</td>\n",
              "      <td>R80711</td>\n",
              "      <td>2013-09-29 11:40:00</td>\n",
              "      <td>-0.460000</td>\n",
              "      <td>-1.010000</td>\n",
              "      <td>0.500000</td>\n",
              "      <td>0.49</td>\n",
              "      <td>22.000000</td>\n",
              "      <td>22.000000</td>\n",
              "      <td>22.000000</td>\n",
              "      <td>...</td>\n",
              "      <td>NaN</td>\n",
              "      <td>NaN</td>\n",
              "      <td>36.919998</td>\n",
              "      <td>NaN</td>\n",
              "      <td>NaN</td>\n",
              "      <td>NaN</td>\n",
              "      <td>36.669998</td>\n",
              "      <td>NaN</td>\n",
              "      <td>NaN</td>\n",
              "      <td>NaN</td>\n",
              "    </tr>\n",
              "    <tr>\n",
              "      <th>22</th>\n",
              "      <td>514081</td>\n",
              "      <td>R80711</td>\n",
              "      <td>2016-06-25 02:20:00</td>\n",
              "      <td>-0.990000</td>\n",
              "      <td>-0.990000</td>\n",
              "      <td>-0.990000</td>\n",
              "      <td>0.00</td>\n",
              "      <td>27.000000</td>\n",
              "      <td>27.000000</td>\n",
              "      <td>27.240000</td>\n",
              "      <td>...</td>\n",
              "      <td>NaN</td>\n",
              "      <td>NaN</td>\n",
              "      <td>301.840000</td>\n",
              "      <td>NaN</td>\n",
              "      <td>NaN</td>\n",
              "      <td>NaN</td>\n",
              "      <td>301.840000</td>\n",
              "      <td>NaN</td>\n",
              "      <td>NaN</td>\n",
              "      <td>NaN</td>\n",
              "    </tr>\n",
              "    <tr>\n",
              "      <th>37</th>\n",
              "      <td>197753</td>\n",
              "      <td>R80711</td>\n",
              "      <td>2013-12-01 03:00:00</td>\n",
              "      <td>-0.990000</td>\n",
              "      <td>-1.000000</td>\n",
              "      <td>-0.990000</td>\n",
              "      <td>0.00</td>\n",
              "      <td>11.060000</td>\n",
              "      <td>11.000000</td>\n",
              "      <td>12.000000</td>\n",
              "      <td>...</td>\n",
              "      <td>NaN</td>\n",
              "      <td>NaN</td>\n",
              "      <td>22.480000</td>\n",
              "      <td>NaN</td>\n",
              "      <td>NaN</td>\n",
              "      <td>NaN</td>\n",
              "      <td>30.080000</td>\n",
              "      <td>NaN</td>\n",
              "      <td>NaN</td>\n",
              "      <td>NaN</td>\n",
              "    </tr>\n",
              "    <tr>\n",
              "      <th>41</th>\n",
              "      <td>182417</td>\n",
              "      <td>R80711</td>\n",
              "      <td>2014-04-29 01:30:00</td>\n",
              "      <td>-0.990000</td>\n",
              "      <td>-0.990000</td>\n",
              "      <td>-0.990000</td>\n",
              "      <td>0.00</td>\n",
              "      <td>18.000000</td>\n",
              "      <td>18.000000</td>\n",
              "      <td>18.000000</td>\n",
              "      <td>...</td>\n",
              "      <td>NaN</td>\n",
              "      <td>NaN</td>\n",
              "      <td>262.620000</td>\n",
              "      <td>NaN</td>\n",
              "      <td>NaN</td>\n",
              "      <td>NaN</td>\n",
              "      <td>250.870000</td>\n",
              "      <td>NaN</td>\n",
              "      <td>NaN</td>\n",
              "      <td>NaN</td>\n",
              "    </tr>\n",
              "    <tr>\n",
              "      <th>46</th>\n",
              "      <td>512838</td>\n",
              "      <td>R80711</td>\n",
              "      <td>2016-07-10 03:10:00</td>\n",
              "      <td>-0.990000</td>\n",
              "      <td>-0.990000</td>\n",
              "      <td>-0.990000</td>\n",
              "      <td>0.00</td>\n",
              "      <td>30.000000</td>\n",
              "      <td>30.000000</td>\n",
              "      <td>30.000000</td>\n",
              "      <td>...</td>\n",
              "      <td>NaN</td>\n",
              "      <td>NaN</td>\n",
              "      <td>169.770000</td>\n",
              "      <td>NaN</td>\n",
              "      <td>NaN</td>\n",
              "      <td>NaN</td>\n",
              "      <td>169.770000</td>\n",
              "      <td>NaN</td>\n",
              "      <td>NaN</td>\n",
              "      <td>NaN</td>\n",
              "    </tr>\n",
              "    <tr>\n",
              "      <th>52</th>\n",
              "      <td>559909</td>\n",
              "      <td>R80711</td>\n",
              "      <td>2013-07-19 10:00:00</td>\n",
              "      <td>-1.000000</td>\n",
              "      <td>-1.040000</td>\n",
              "      <td>-0.980000</td>\n",
              "      <td>0.01</td>\n",
              "      <td>28.000000</td>\n",
              "      <td>27.940001</td>\n",
              "      <td>28.000000</td>\n",
              "      <td>...</td>\n",
              "      <td>NaN</td>\n",
              "      <td>NaN</td>\n",
              "      <td>59.090000</td>\n",
              "      <td>NaN</td>\n",
              "      <td>NaN</td>\n",
              "      <td>NaN</td>\n",
              "      <td>41.549999</td>\n",
              "      <td>NaN</td>\n",
              "      <td>NaN</td>\n",
              "      <td>NaN</td>\n",
              "    </tr>\n",
              "    <tr>\n",
              "      <th>53</th>\n",
              "      <td>312973</td>\n",
              "      <td>R80711</td>\n",
              "      <td>2016-02-07 01:30:00</td>\n",
              "      <td>5.640000</td>\n",
              "      <td>-0.990000</td>\n",
              "      <td>16.090000</td>\n",
              "      <td>5.15</td>\n",
              "      <td>20.000000</td>\n",
              "      <td>20.000000</td>\n",
              "      <td>20.000000</td>\n",
              "      <td>...</td>\n",
              "      <td>NaN</td>\n",
              "      <td>NaN</td>\n",
              "      <td>193.840000</td>\n",
              "      <td>NaN</td>\n",
              "      <td>NaN</td>\n",
              "      <td>NaN</td>\n",
              "      <td>193.840000</td>\n",
              "      <td>NaN</td>\n",
              "      <td>NaN</td>\n",
              "      <td>NaN</td>\n",
              "    </tr>\n",
              "    <tr>\n",
              "      <th>55</th>\n",
              "      <td>510452</td>\n",
              "      <td>R80711</td>\n",
              "      <td>2016-04-24 15:50:00</td>\n",
              "      <td>-0.990000</td>\n",
              "      <td>-0.990000</td>\n",
              "      <td>-0.990000</td>\n",
              "      <td>0.00</td>\n",
              "      <td>12.000000</td>\n",
              "      <td>12.000000</td>\n",
              "      <td>12.000000</td>\n",
              "      <td>...</td>\n",
              "      <td>NaN</td>\n",
              "      <td>NaN</td>\n",
              "      <td>285.780000</td>\n",
              "      <td>NaN</td>\n",
              "      <td>NaN</td>\n",
              "      <td>NaN</td>\n",
              "      <td>285.780000</td>\n",
              "      <td>NaN</td>\n",
              "      <td>NaN</td>\n",
              "      <td>NaN</td>\n",
              "    </tr>\n",
              "    <tr>\n",
              "      <th>60</th>\n",
              "      <td>207243</td>\n",
              "      <td>R80711</td>\n",
              "      <td>2013-11-01 05:30:00</td>\n",
              "      <td>-0.970000</td>\n",
              "      <td>-0.980000</td>\n",
              "      <td>-0.970000</td>\n",
              "      <td>0.00</td>\n",
              "      <td>16.000000</td>\n",
              "      <td>16.000000</td>\n",
              "      <td>16.000000</td>\n",
              "      <td>...</td>\n",
              "      <td>NaN</td>\n",
              "      <td>NaN</td>\n",
              "      <td>200.520000</td>\n",
              "      <td>NaN</td>\n",
              "      <td>NaN</td>\n",
              "      <td>NaN</td>\n",
              "      <td>195.060000</td>\n",
              "      <td>NaN</td>\n",
              "      <td>NaN</td>\n",
              "      <td>NaN</td>\n",
              "    </tr>\n",
              "    <tr>\n",
              "      <th>63</th>\n",
              "      <td>153093</td>\n",
              "      <td>R80711</td>\n",
              "      <td>2014-12-25 16:30:00</td>\n",
              "      <td>-0.990000</td>\n",
              "      <td>-0.990000</td>\n",
              "      <td>-0.990000</td>\n",
              "      <td>0.00</td>\n",
              "      <td>12.000000</td>\n",
              "      <td>12.000000</td>\n",
              "      <td>12.000000</td>\n",
              "      <td>...</td>\n",
              "      <td>NaN</td>\n",
              "      <td>NaN</td>\n",
              "      <td>259.500000</td>\n",
              "      <td>NaN</td>\n",
              "      <td>NaN</td>\n",
              "      <td>NaN</td>\n",
              "      <td>261.420010</td>\n",
              "      <td>NaN</td>\n",
              "      <td>NaN</td>\n",
              "      <td>NaN</td>\n",
              "    </tr>\n",
              "    <tr>\n",
              "      <th>69</th>\n",
              "      <td>575508</td>\n",
              "      <td>R80711</td>\n",
              "      <td>2013-04-06 20:10:00</td>\n",
              "      <td>-0.960000</td>\n",
              "      <td>-0.960000</td>\n",
              "      <td>-0.950000</td>\n",
              "      <td>0.00</td>\n",
              "      <td>11.000000</td>\n",
              "      <td>11.000000</td>\n",
              "      <td>11.000000</td>\n",
              "      <td>...</td>\n",
              "      <td>NaN</td>\n",
              "      <td>NaN</td>\n",
              "      <td>10.820000</td>\n",
              "      <td>NaN</td>\n",
              "      <td>NaN</td>\n",
              "      <td>NaN</td>\n",
              "      <td>4.840000</td>\n",
              "      <td>NaN</td>\n",
              "      <td>NaN</td>\n",
              "      <td>NaN</td>\n",
              "    </tr>\n",
              "    <tr>\n",
              "      <th>73</th>\n",
              "      <td>30904</td>\n",
              "      <td>R80711</td>\n",
              "      <td>2015-10-24 19:10:00</td>\n",
              "      <td>-0.990000</td>\n",
              "      <td>-0.990000</td>\n",
              "      <td>-0.990000</td>\n",
              "      <td>0.00</td>\n",
              "      <td>21.000000</td>\n",
              "      <td>21.000000</td>\n",
              "      <td>21.000000</td>\n",
              "      <td>...</td>\n",
              "      <td>NaN</td>\n",
              "      <td>NaN</td>\n",
              "      <td>226.810000</td>\n",
              "      <td>NaN</td>\n",
              "      <td>NaN</td>\n",
              "      <td>NaN</td>\n",
              "      <td>226.810000</td>\n",
              "      <td>NaN</td>\n",
              "      <td>NaN</td>\n",
              "      <td>NaN</td>\n",
              "    </tr>\n",
              "    <tr>\n",
              "      <th>75</th>\n",
              "      <td>32107</td>\n",
              "      <td>R80711</td>\n",
              "      <td>2015-12-12 15:30:00</td>\n",
              "      <td>-0.990000</td>\n",
              "      <td>-0.990000</td>\n",
              "      <td>-0.990000</td>\n",
              "      <td>0.00</td>\n",
              "      <td>14.000000</td>\n",
              "      <td>14.000000</td>\n",
              "      <td>14.000000</td>\n",
              "      <td>...</td>\n",
              "      <td>NaN</td>\n",
              "      <td>NaN</td>\n",
              "      <td>NaN</td>\n",
              "      <td>NaN</td>\n",
              "      <td>NaN</td>\n",
              "      <td>NaN</td>\n",
              "      <td>NaN</td>\n",
              "      <td>NaN</td>\n",
              "      <td>NaN</td>\n",
              "      <td>NaN</td>\n",
              "    </tr>\n",
              "    <tr>\n",
              "      <th>78</th>\n",
              "      <td>87267</td>\n",
              "      <td>R80711</td>\n",
              "      <td>2015-09-04 02:10:00</td>\n",
              "      <td>-0.960000</td>\n",
              "      <td>-0.990000</td>\n",
              "      <td>-0.500000</td>\n",
              "      <td>0.12</td>\n",
              "      <td>22.000000</td>\n",
              "      <td>22.000000</td>\n",
              "      <td>22.000000</td>\n",
              "      <td>...</td>\n",
              "      <td>NaN</td>\n",
              "      <td>NaN</td>\n",
              "      <td>277.790010</td>\n",
              "      <td>NaN</td>\n",
              "      <td>NaN</td>\n",
              "      <td>NaN</td>\n",
              "      <td>277.790010</td>\n",
              "      <td>NaN</td>\n",
              "      <td>NaN</td>\n",
              "      <td>NaN</td>\n",
              "    </tr>\n",
              "    <tr>\n",
              "      <th>87</th>\n",
              "      <td>118418</td>\n",
              "      <td>R80711</td>\n",
              "      <td>2014-12-08 12:00:00</td>\n",
              "      <td>-0.670000</td>\n",
              "      <td>-0.990000</td>\n",
              "      <td>0.500000</td>\n",
              "      <td>0.54</td>\n",
              "      <td>12.000000</td>\n",
              "      <td>12.000000</td>\n",
              "      <td>12.000000</td>\n",
              "      <td>...</td>\n",
              "      <td>NaN</td>\n",
              "      <td>NaN</td>\n",
              "      <td>219.810000</td>\n",
              "      <td>NaN</td>\n",
              "      <td>NaN</td>\n",
              "      <td>NaN</td>\n",
              "      <td>221.060000</td>\n",
              "      <td>NaN</td>\n",
              "      <td>NaN</td>\n",
              "      <td>NaN</td>\n",
              "    </tr>\n",
              "    <tr>\n",
              "      <th>92</th>\n",
              "      <td>310236</td>\n",
              "      <td>R80711</td>\n",
              "      <td>2016-09-13 06:20:00</td>\n",
              "      <td>-0.990000</td>\n",
              "      <td>-0.990000</td>\n",
              "      <td>-0.990000</td>\n",
              "      <td>0.00</td>\n",
              "      <td>29.010000</td>\n",
              "      <td>29.000000</td>\n",
              "      <td>29.660000</td>\n",
              "      <td>...</td>\n",
              "      <td>NaN</td>\n",
              "      <td>NaN</td>\n",
              "      <td>177.340000</td>\n",
              "      <td>NaN</td>\n",
              "      <td>NaN</td>\n",
              "      <td>NaN</td>\n",
              "      <td>177.340000</td>\n",
              "      <td>NaN</td>\n",
              "      <td>NaN</td>\n",
              "      <td>NaN</td>\n",
              "    </tr>\n",
              "    <tr>\n",
              "      <th>102</th>\n",
              "      <td>328900</td>\n",
              "      <td>R80711</td>\n",
              "      <td>2013-01-05 02:40:00</td>\n",
              "      <td>-1.000000</td>\n",
              "      <td>-1.000000</td>\n",
              "      <td>-1.000000</td>\n",
              "      <td>0.00</td>\n",
              "      <td>14.000000</td>\n",
              "      <td>14.000000</td>\n",
              "      <td>14.000000</td>\n",
              "      <td>...</td>\n",
              "      <td>NaN</td>\n",
              "      <td>NaN</td>\n",
              "      <td>272.340000</td>\n",
              "      <td>NaN</td>\n",
              "      <td>NaN</td>\n",
              "      <td>NaN</td>\n",
              "      <td>267.530000</td>\n",
              "      <td>NaN</td>\n",
              "      <td>NaN</td>\n",
              "      <td>NaN</td>\n",
              "    </tr>\n",
              "    <tr>\n",
              "      <th>107</th>\n",
              "      <td>528433</td>\n",
              "      <td>R80711</td>\n",
              "      <td>2016-08-03 23:10:00</td>\n",
              "      <td>-0.990000</td>\n",
              "      <td>-0.990000</td>\n",
              "      <td>-0.990000</td>\n",
              "      <td>0.00</td>\n",
              "      <td>28.000000</td>\n",
              "      <td>28.000000</td>\n",
              "      <td>28.000000</td>\n",
              "      <td>...</td>\n",
              "      <td>NaN</td>\n",
              "      <td>NaN</td>\n",
              "      <td>235.710010</td>\n",
              "      <td>NaN</td>\n",
              "      <td>NaN</td>\n",
              "      <td>NaN</td>\n",
              "      <td>235.710010</td>\n",
              "      <td>NaN</td>\n",
              "      <td>NaN</td>\n",
              "      <td>NaN</td>\n",
              "    </tr>\n",
              "    <tr>\n",
              "      <th>112</th>\n",
              "      <td>811129</td>\n",
              "      <td>R80711</td>\n",
              "      <td>2013-01-02 13:30:00</td>\n",
              "      <td>42.830002</td>\n",
              "      <td>3.030000</td>\n",
              "      <td>44.990002</td>\n",
              "      <td>7.61</td>\n",
              "      <td>11.690000</td>\n",
              "      <td>11.000000</td>\n",
              "      <td>12.000000</td>\n",
              "      <td>...</td>\n",
              "      <td>NaN</td>\n",
              "      <td>NaN</td>\n",
              "      <td>236.470000</td>\n",
              "      <td>NaN</td>\n",
              "      <td>NaN</td>\n",
              "      <td>NaN</td>\n",
              "      <td>226.920000</td>\n",
              "      <td>NaN</td>\n",
              "      <td>NaN</td>\n",
              "      <td>NaN</td>\n",
              "    </tr>\n",
              "    <tr>\n",
              "      <th>113</th>\n",
              "      <td>701568</td>\n",
              "      <td>R80711</td>\n",
              "      <td>2015-07-08 04:10:00</td>\n",
              "      <td>-0.990000</td>\n",
              "      <td>-0.990000</td>\n",
              "      <td>-0.990000</td>\n",
              "      <td>0.00</td>\n",
              "      <td>25.000000</td>\n",
              "      <td>25.000000</td>\n",
              "      <td>25.000000</td>\n",
              "      <td>...</td>\n",
              "      <td>NaN</td>\n",
              "      <td>NaN</td>\n",
              "      <td>255.700000</td>\n",
              "      <td>NaN</td>\n",
              "      <td>NaN</td>\n",
              "      <td>NaN</td>\n",
              "      <td>255.700000</td>\n",
              "      <td>NaN</td>\n",
              "      <td>NaN</td>\n",
              "      <td>NaN</td>\n",
              "    </tr>\n",
              "    <tr>\n",
              "      <th>121</th>\n",
              "      <td>529902</td>\n",
              "      <td>R80711</td>\n",
              "      <td>2016-09-09 15:50:00</td>\n",
              "      <td>45.000000</td>\n",
              "      <td>45.000000</td>\n",
              "      <td>45.000000</td>\n",
              "      <td>0.00</td>\n",
              "      <td>28.000000</td>\n",
              "      <td>28.000000</td>\n",
              "      <td>28.000000</td>\n",
              "      <td>...</td>\n",
              "      <td>NaN</td>\n",
              "      <td>NaN</td>\n",
              "      <td>25.090000</td>\n",
              "      <td>NaN</td>\n",
              "      <td>NaN</td>\n",
              "      <td>NaN</td>\n",
              "      <td>25.090000</td>\n",
              "      <td>NaN</td>\n",
              "      <td>NaN</td>\n",
              "      <td>NaN</td>\n",
              "    </tr>\n",
              "    <tr>\n",
              "      <th>131</th>\n",
              "      <td>47922</td>\n",
              "      <td>R80711</td>\n",
              "      <td>2016-11-28 01:40:00</td>\n",
              "      <td>-0.990000</td>\n",
              "      <td>-0.990000</td>\n",
              "      <td>-0.990000</td>\n",
              "      <td>0.00</td>\n",
              "      <td>13.000000</td>\n",
              "      <td>13.000000</td>\n",
              "      <td>13.120000</td>\n",
              "      <td>...</td>\n",
              "      <td>NaN</td>\n",
              "      <td>NaN</td>\n",
              "      <td>45.919998</td>\n",
              "      <td>NaN</td>\n",
              "      <td>NaN</td>\n",
              "      <td>NaN</td>\n",
              "      <td>45.919998</td>\n",
              "      <td>NaN</td>\n",
              "      <td>NaN</td>\n",
              "      <td>NaN</td>\n",
              "    </tr>\n",
              "    <tr>\n",
              "      <th>135</th>\n",
              "      <td>2051</td>\n",
              "      <td>R80711</td>\n",
              "      <td>2014-03-07 04:30:00</td>\n",
              "      <td>-0.680000</td>\n",
              "      <td>-0.990000</td>\n",
              "      <td>-0.490000</td>\n",
              "      <td>0.24</td>\n",
              "      <td>14.000000</td>\n",
              "      <td>14.000000</td>\n",
              "      <td>14.000000</td>\n",
              "      <td>...</td>\n",
              "      <td>NaN</td>\n",
              "      <td>NaN</td>\n",
              "      <td>98.419998</td>\n",
              "      <td>NaN</td>\n",
              "      <td>NaN</td>\n",
              "      <td>NaN</td>\n",
              "      <td>100.330000</td>\n",
              "      <td>NaN</td>\n",
              "      <td>NaN</td>\n",
              "      <td>NaN</td>\n",
              "    </tr>\n",
              "    <tr>\n",
              "      <th>139</th>\n",
              "      <td>67842</td>\n",
              "      <td>R80711</td>\n",
              "      <td>2016-01-01 22:20:00</td>\n",
              "      <td>-0.990000</td>\n",
              "      <td>-0.990000</td>\n",
              "      <td>-0.990000</td>\n",
              "      <td>0.00</td>\n",
              "      <td>13.020000</td>\n",
              "      <td>13.000000</td>\n",
              "      <td>14.000000</td>\n",
              "      <td>...</td>\n",
              "      <td>NaN</td>\n",
              "      <td>NaN</td>\n",
              "      <td>126.720000</td>\n",
              "      <td>NaN</td>\n",
              "      <td>NaN</td>\n",
              "      <td>NaN</td>\n",
              "      <td>126.720000</td>\n",
              "      <td>NaN</td>\n",
              "      <td>NaN</td>\n",
              "      <td>NaN</td>\n",
              "    </tr>\n",
              "    <tr>\n",
              "      <th>...</th>\n",
              "      <td>...</td>\n",
              "      <td>...</td>\n",
              "      <td>...</td>\n",
              "      <td>...</td>\n",
              "      <td>...</td>\n",
              "      <td>...</td>\n",
              "      <td>...</td>\n",
              "      <td>...</td>\n",
              "      <td>...</td>\n",
              "      <td>...</td>\n",
              "      <td>...</td>\n",
              "      <td>...</td>\n",
              "      <td>...</td>\n",
              "      <td>...</td>\n",
              "      <td>...</td>\n",
              "      <td>...</td>\n",
              "      <td>...</td>\n",
              "      <td>...</td>\n",
              "      <td>...</td>\n",
              "      <td>...</td>\n",
              "      <td>...</td>\n",
              "    </tr>\n",
              "    <tr>\n",
              "      <th>24865</th>\n",
              "      <td>34868</td>\n",
              "      <td>R80711</td>\n",
              "      <td>2016-01-14 16:50:00</td>\n",
              "      <td>NaN</td>\n",
              "      <td>NaN</td>\n",
              "      <td>NaN</td>\n",
              "      <td>NaN</td>\n",
              "      <td>NaN</td>\n",
              "      <td>NaN</td>\n",
              "      <td>NaN</td>\n",
              "      <td>...</td>\n",
              "      <td>NaN</td>\n",
              "      <td>NaN</td>\n",
              "      <td>NaN</td>\n",
              "      <td>NaN</td>\n",
              "      <td>NaN</td>\n",
              "      <td>NaN</td>\n",
              "      <td>NaN</td>\n",
              "      <td>NaN</td>\n",
              "      <td>NaN</td>\n",
              "      <td>NaN</td>\n",
              "    </tr>\n",
              "    <tr>\n",
              "      <th>24873</th>\n",
              "      <td>308277</td>\n",
              "      <td>R80711</td>\n",
              "      <td>2013-04-01 12:30:00</td>\n",
              "      <td>-0.820000</td>\n",
              "      <td>-1.000000</td>\n",
              "      <td>0.100000</td>\n",
              "      <td>0.35</td>\n",
              "      <td>10.000000</td>\n",
              "      <td>10.000000</td>\n",
              "      <td>10.000000</td>\n",
              "      <td>...</td>\n",
              "      <td>NaN</td>\n",
              "      <td>NaN</td>\n",
              "      <td>44.689999</td>\n",
              "      <td>NaN</td>\n",
              "      <td>NaN</td>\n",
              "      <td>NaN</td>\n",
              "      <td>53.889999</td>\n",
              "      <td>NaN</td>\n",
              "      <td>NaN</td>\n",
              "      <td>NaN</td>\n",
              "    </tr>\n",
              "    <tr>\n",
              "      <th>24875</th>\n",
              "      <td>62666</td>\n",
              "      <td>R80711</td>\n",
              "      <td>2016-09-19 22:00:00</td>\n",
              "      <td>-0.990000</td>\n",
              "      <td>-0.990000</td>\n",
              "      <td>-0.990000</td>\n",
              "      <td>0.00</td>\n",
              "      <td>22.000000</td>\n",
              "      <td>22.000000</td>\n",
              "      <td>22.000000</td>\n",
              "      <td>...</td>\n",
              "      <td>NaN</td>\n",
              "      <td>NaN</td>\n",
              "      <td>23.350000</td>\n",
              "      <td>NaN</td>\n",
              "      <td>NaN</td>\n",
              "      <td>NaN</td>\n",
              "      <td>23.350000</td>\n",
              "      <td>NaN</td>\n",
              "      <td>NaN</td>\n",
              "      <td>NaN</td>\n",
              "    </tr>\n",
              "    <tr>\n",
              "      <th>24877</th>\n",
              "      <td>696421</td>\n",
              "      <td>R80711</td>\n",
              "      <td>2013-09-21 17:20:00</td>\n",
              "      <td>0.090000</td>\n",
              "      <td>0.000000</td>\n",
              "      <td>0.500000</td>\n",
              "      <td>0.17</td>\n",
              "      <td>22.400000</td>\n",
              "      <td>22.000000</td>\n",
              "      <td>23.000000</td>\n",
              "      <td>...</td>\n",
              "      <td>NaN</td>\n",
              "      <td>NaN</td>\n",
              "      <td>317.340000</td>\n",
              "      <td>NaN</td>\n",
              "      <td>NaN</td>\n",
              "      <td>NaN</td>\n",
              "      <td>311.060000</td>\n",
              "      <td>NaN</td>\n",
              "      <td>NaN</td>\n",
              "      <td>NaN</td>\n",
              "    </tr>\n",
              "    <tr>\n",
              "      <th>24881</th>\n",
              "      <td>201522</td>\n",
              "      <td>R80711</td>\n",
              "      <td>2013-10-08 13:50:00</td>\n",
              "      <td>45.020000</td>\n",
              "      <td>45.009998</td>\n",
              "      <td>45.020000</td>\n",
              "      <td>0.00</td>\n",
              "      <td>20.000000</td>\n",
              "      <td>20.000000</td>\n",
              "      <td>20.000000</td>\n",
              "      <td>...</td>\n",
              "      <td>NaN</td>\n",
              "      <td>NaN</td>\n",
              "      <td>21.520000</td>\n",
              "      <td>NaN</td>\n",
              "      <td>NaN</td>\n",
              "      <td>NaN</td>\n",
              "      <td>7.040000</td>\n",
              "      <td>NaN</td>\n",
              "      <td>NaN</td>\n",
              "      <td>NaN</td>\n",
              "    </tr>\n",
              "    <tr>\n",
              "      <th>24884</th>\n",
              "      <td>171354</td>\n",
              "      <td>R80711</td>\n",
              "      <td>2014-02-27 15:10:00</td>\n",
              "      <td>-0.990000</td>\n",
              "      <td>-0.990000</td>\n",
              "      <td>-0.730000</td>\n",
              "      <td>0.01</td>\n",
              "      <td>12.000000</td>\n",
              "      <td>12.000000</td>\n",
              "      <td>12.000000</td>\n",
              "      <td>...</td>\n",
              "      <td>NaN</td>\n",
              "      <td>NaN</td>\n",
              "      <td>178.990010</td>\n",
              "      <td>NaN</td>\n",
              "      <td>NaN</td>\n",
              "      <td>NaN</td>\n",
              "      <td>178.250000</td>\n",
              "      <td>NaN</td>\n",
              "      <td>NaN</td>\n",
              "      <td>NaN</td>\n",
              "    </tr>\n",
              "    <tr>\n",
              "      <th>24892</th>\n",
              "      <td>521506</td>\n",
              "      <td>R80711</td>\n",
              "      <td>2016-04-16 17:10:00</td>\n",
              "      <td>45.000000</td>\n",
              "      <td>45.000000</td>\n",
              "      <td>45.000000</td>\n",
              "      <td>0.00</td>\n",
              "      <td>17.000000</td>\n",
              "      <td>17.000000</td>\n",
              "      <td>17.000000</td>\n",
              "      <td>...</td>\n",
              "      <td>NaN</td>\n",
              "      <td>NaN</td>\n",
              "      <td>311.840000</td>\n",
              "      <td>NaN</td>\n",
              "      <td>NaN</td>\n",
              "      <td>NaN</td>\n",
              "      <td>311.840000</td>\n",
              "      <td>NaN</td>\n",
              "      <td>NaN</td>\n",
              "      <td>NaN</td>\n",
              "    </tr>\n",
              "    <tr>\n",
              "      <th>24900</th>\n",
              "      <td>3274</td>\n",
              "      <td>R80711</td>\n",
              "      <td>2014-04-12 06:50:00</td>\n",
              "      <td>45.000000</td>\n",
              "      <td>45.000000</td>\n",
              "      <td>45.000000</td>\n",
              "      <td>0.00</td>\n",
              "      <td>18.000000</td>\n",
              "      <td>18.000000</td>\n",
              "      <td>18.000000</td>\n",
              "      <td>...</td>\n",
              "      <td>NaN</td>\n",
              "      <td>NaN</td>\n",
              "      <td>284.500000</td>\n",
              "      <td>NaN</td>\n",
              "      <td>NaN</td>\n",
              "      <td>NaN</td>\n",
              "      <td>293.810000</td>\n",
              "      <td>NaN</td>\n",
              "      <td>NaN</td>\n",
              "      <td>NaN</td>\n",
              "    </tr>\n",
              "    <tr>\n",
              "      <th>24901</th>\n",
              "      <td>4753</td>\n",
              "      <td>R80711</td>\n",
              "      <td>2014-03-24 06:10:00</td>\n",
              "      <td>-0.980000</td>\n",
              "      <td>-0.990000</td>\n",
              "      <td>-0.490000</td>\n",
              "      <td>0.07</td>\n",
              "      <td>11.000000</td>\n",
              "      <td>11.000000</td>\n",
              "      <td>11.000000</td>\n",
              "      <td>...</td>\n",
              "      <td>NaN</td>\n",
              "      <td>NaN</td>\n",
              "      <td>273.630000</td>\n",
              "      <td>NaN</td>\n",
              "      <td>NaN</td>\n",
              "      <td>NaN</td>\n",
              "      <td>269.350010</td>\n",
              "      <td>NaN</td>\n",
              "      <td>NaN</td>\n",
              "      <td>NaN</td>\n",
              "    </tr>\n",
              "    <tr>\n",
              "      <th>24902</th>\n",
              "      <td>69213</td>\n",
              "      <td>R80711</td>\n",
              "      <td>2014-10-16 12:30:00</td>\n",
              "      <td>-0.990000</td>\n",
              "      <td>-0.990000</td>\n",
              "      <td>-0.990000</td>\n",
              "      <td>0.00</td>\n",
              "      <td>20.000000</td>\n",
              "      <td>20.000000</td>\n",
              "      <td>20.480000</td>\n",
              "      <td>...</td>\n",
              "      <td>NaN</td>\n",
              "      <td>NaN</td>\n",
              "      <td>208.399990</td>\n",
              "      <td>NaN</td>\n",
              "      <td>NaN</td>\n",
              "      <td>NaN</td>\n",
              "      <td>213.380000</td>\n",
              "      <td>NaN</td>\n",
              "      <td>NaN</td>\n",
              "      <td>NaN</td>\n",
              "    </tr>\n",
              "    <tr>\n",
              "      <th>24907</th>\n",
              "      <td>183086</td>\n",
              "      <td>R80711</td>\n",
              "      <td>2014-01-28 19:30:00</td>\n",
              "      <td>-0.990000</td>\n",
              "      <td>-0.990000</td>\n",
              "      <td>-0.990000</td>\n",
              "      <td>0.00</td>\n",
              "      <td>10.420000</td>\n",
              "      <td>10.000000</td>\n",
              "      <td>11.000000</td>\n",
              "      <td>...</td>\n",
              "      <td>NaN</td>\n",
              "      <td>NaN</td>\n",
              "      <td>107.900000</td>\n",
              "      <td>NaN</td>\n",
              "      <td>NaN</td>\n",
              "      <td>NaN</td>\n",
              "      <td>121.180000</td>\n",
              "      <td>NaN</td>\n",
              "      <td>NaN</td>\n",
              "      <td>NaN</td>\n",
              "    </tr>\n",
              "    <tr>\n",
              "      <th>24922</th>\n",
              "      <td>18011</td>\n",
              "      <td>R80711</td>\n",
              "      <td>2015-11-10 00:40:00</td>\n",
              "      <td>-0.990000</td>\n",
              "      <td>-0.990000</td>\n",
              "      <td>-0.990000</td>\n",
              "      <td>0.00</td>\n",
              "      <td>19.750000</td>\n",
              "      <td>19.000000</td>\n",
              "      <td>20.000000</td>\n",
              "      <td>...</td>\n",
              "      <td>NaN</td>\n",
              "      <td>NaN</td>\n",
              "      <td>225.840000</td>\n",
              "      <td>NaN</td>\n",
              "      <td>NaN</td>\n",
              "      <td>NaN</td>\n",
              "      <td>225.840000</td>\n",
              "      <td>NaN</td>\n",
              "      <td>NaN</td>\n",
              "      <td>NaN</td>\n",
              "    </tr>\n",
              "    <tr>\n",
              "      <th>24926</th>\n",
              "      <td>45341</td>\n",
              "      <td>R80711</td>\n",
              "      <td>2015-01-11 01:30:00</td>\n",
              "      <td>-0.990000</td>\n",
              "      <td>-0.990000</td>\n",
              "      <td>-0.990000</td>\n",
              "      <td>0.00</td>\n",
              "      <td>14.980000</td>\n",
              "      <td>14.000000</td>\n",
              "      <td>15.000000</td>\n",
              "      <td>...</td>\n",
              "      <td>NaN</td>\n",
              "      <td>NaN</td>\n",
              "      <td>257.640010</td>\n",
              "      <td>NaN</td>\n",
              "      <td>NaN</td>\n",
              "      <td>NaN</td>\n",
              "      <td>257.640010</td>\n",
              "      <td>NaN</td>\n",
              "      <td>NaN</td>\n",
              "      <td>NaN</td>\n",
              "    </tr>\n",
              "    <tr>\n",
              "      <th>24930</th>\n",
              "      <td>379055</td>\n",
              "      <td>R80711</td>\n",
              "      <td>2014-12-16 04:30:00</td>\n",
              "      <td>-0.950000</td>\n",
              "      <td>-0.990000</td>\n",
              "      <td>0.000000</td>\n",
              "      <td>0.17</td>\n",
              "      <td>12.970000</td>\n",
              "      <td>12.000000</td>\n",
              "      <td>13.000000</td>\n",
              "      <td>...</td>\n",
              "      <td>NaN</td>\n",
              "      <td>NaN</td>\n",
              "      <td>246.090000</td>\n",
              "      <td>NaN</td>\n",
              "      <td>NaN</td>\n",
              "      <td>NaN</td>\n",
              "      <td>239.720000</td>\n",
              "      <td>NaN</td>\n",
              "      <td>NaN</td>\n",
              "      <td>NaN</td>\n",
              "    </tr>\n",
              "    <tr>\n",
              "      <th>24939</th>\n",
              "      <td>176348</td>\n",
              "      <td>R80711</td>\n",
              "      <td>2014-02-25 00:40:00</td>\n",
              "      <td>-0.990000</td>\n",
              "      <td>-0.990000</td>\n",
              "      <td>-0.990000</td>\n",
              "      <td>0.00</td>\n",
              "      <td>16.000000</td>\n",
              "      <td>15.540000</td>\n",
              "      <td>16.000000</td>\n",
              "      <td>...</td>\n",
              "      <td>NaN</td>\n",
              "      <td>NaN</td>\n",
              "      <td>169.550000</td>\n",
              "      <td>NaN</td>\n",
              "      <td>NaN</td>\n",
              "      <td>NaN</td>\n",
              "      <td>163.990010</td>\n",
              "      <td>NaN</td>\n",
              "      <td>NaN</td>\n",
              "      <td>NaN</td>\n",
              "    </tr>\n",
              "    <tr>\n",
              "      <th>24940</th>\n",
              "      <td>206408</td>\n",
              "      <td>R80711</td>\n",
              "      <td>2013-03-08 12:00:00</td>\n",
              "      <td>-0.940000</td>\n",
              "      <td>-1.000000</td>\n",
              "      <td>0.000000</td>\n",
              "      <td>0.21</td>\n",
              "      <td>16.389999</td>\n",
              "      <td>16.000000</td>\n",
              "      <td>17.000000</td>\n",
              "      <td>...</td>\n",
              "      <td>NaN</td>\n",
              "      <td>NaN</td>\n",
              "      <td>165.270000</td>\n",
              "      <td>NaN</td>\n",
              "      <td>NaN</td>\n",
              "      <td>NaN</td>\n",
              "      <td>173.140000</td>\n",
              "      <td>NaN</td>\n",
              "      <td>NaN</td>\n",
              "      <td>NaN</td>\n",
              "    </tr>\n",
              "    <tr>\n",
              "      <th>24941</th>\n",
              "      <td>823188</td>\n",
              "      <td>R80711</td>\n",
              "      <td>2013-01-22 07:00:00</td>\n",
              "      <td>-0.950000</td>\n",
              "      <td>-1.000000</td>\n",
              "      <td>0.000000</td>\n",
              "      <td>0.20</td>\n",
              "      <td>8.300000</td>\n",
              "      <td>8.000000</td>\n",
              "      <td>9.000000</td>\n",
              "      <td>...</td>\n",
              "      <td>NaN</td>\n",
              "      <td>NaN</td>\n",
              "      <td>242.660000</td>\n",
              "      <td>NaN</td>\n",
              "      <td>NaN</td>\n",
              "      <td>NaN</td>\n",
              "      <td>246.679990</td>\n",
              "      <td>NaN</td>\n",
              "      <td>NaN</td>\n",
              "      <td>NaN</td>\n",
              "    </tr>\n",
              "    <tr>\n",
              "      <th>24943</th>\n",
              "      <td>209778</td>\n",
              "      <td>R80711</td>\n",
              "      <td>2013-04-07 23:30:00</td>\n",
              "      <td>-0.980000</td>\n",
              "      <td>-0.980000</td>\n",
              "      <td>-0.980000</td>\n",
              "      <td>0.00</td>\n",
              "      <td>12.000000</td>\n",
              "      <td>12.000000</td>\n",
              "      <td>12.000000</td>\n",
              "      <td>...</td>\n",
              "      <td>NaN</td>\n",
              "      <td>NaN</td>\n",
              "      <td>92.820000</td>\n",
              "      <td>NaN</td>\n",
              "      <td>NaN</td>\n",
              "      <td>NaN</td>\n",
              "      <td>86.059998</td>\n",
              "      <td>NaN</td>\n",
              "      <td>NaN</td>\n",
              "      <td>NaN</td>\n",
              "    </tr>\n",
              "    <tr>\n",
              "      <th>24945</th>\n",
              "      <td>803306</td>\n",
              "      <td>R80711</td>\n",
              "      <td>2013-02-10 10:10:00</td>\n",
              "      <td>-1.000000</td>\n",
              "      <td>-1.000000</td>\n",
              "      <td>-1.000000</td>\n",
              "      <td>0.00</td>\n",
              "      <td>6.990000</td>\n",
              "      <td>6.340000</td>\n",
              "      <td>7.000000</td>\n",
              "      <td>...</td>\n",
              "      <td>NaN</td>\n",
              "      <td>NaN</td>\n",
              "      <td>120.100000</td>\n",
              "      <td>NaN</td>\n",
              "      <td>NaN</td>\n",
              "      <td>NaN</td>\n",
              "      <td>120.460000</td>\n",
              "      <td>NaN</td>\n",
              "      <td>NaN</td>\n",
              "      <td>NaN</td>\n",
              "    </tr>\n",
              "    <tr>\n",
              "      <th>24946</th>\n",
              "      <td>92444</td>\n",
              "      <td>R80711</td>\n",
              "      <td>2016-09-28 11:10:00</td>\n",
              "      <td>-0.990000</td>\n",
              "      <td>-0.990000</td>\n",
              "      <td>-0.990000</td>\n",
              "      <td>0.00</td>\n",
              "      <td>25.000000</td>\n",
              "      <td>25.000000</td>\n",
              "      <td>25.000000</td>\n",
              "      <td>...</td>\n",
              "      <td>NaN</td>\n",
              "      <td>NaN</td>\n",
              "      <td>238.080000</td>\n",
              "      <td>NaN</td>\n",
              "      <td>NaN</td>\n",
              "      <td>NaN</td>\n",
              "      <td>238.080000</td>\n",
              "      <td>NaN</td>\n",
              "      <td>NaN</td>\n",
              "      <td>NaN</td>\n",
              "    </tr>\n",
              "    <tr>\n",
              "      <th>24948</th>\n",
              "      <td>330957</td>\n",
              "      <td>R80711</td>\n",
              "      <td>2015-04-29 22:50:00</td>\n",
              "      <td>-0.990000</td>\n",
              "      <td>-0.990000</td>\n",
              "      <td>-0.990000</td>\n",
              "      <td>0.00</td>\n",
              "      <td>18.000000</td>\n",
              "      <td>18.000000</td>\n",
              "      <td>18.000000</td>\n",
              "      <td>...</td>\n",
              "      <td>NaN</td>\n",
              "      <td>NaN</td>\n",
              "      <td>232.550000</td>\n",
              "      <td>NaN</td>\n",
              "      <td>NaN</td>\n",
              "      <td>NaN</td>\n",
              "      <td>232.550000</td>\n",
              "      <td>NaN</td>\n",
              "      <td>NaN</td>\n",
              "      <td>NaN</td>\n",
              "    </tr>\n",
              "    <tr>\n",
              "      <th>24956</th>\n",
              "      <td>459462</td>\n",
              "      <td>R80711</td>\n",
              "      <td>2016-03-07 11:20:00</td>\n",
              "      <td>45.000000</td>\n",
              "      <td>45.000000</td>\n",
              "      <td>45.000000</td>\n",
              "      <td>0.00</td>\n",
              "      <td>9.000000</td>\n",
              "      <td>9.000000</td>\n",
              "      <td>9.000000</td>\n",
              "      <td>...</td>\n",
              "      <td>NaN</td>\n",
              "      <td>NaN</td>\n",
              "      <td>250.980000</td>\n",
              "      <td>NaN</td>\n",
              "      <td>NaN</td>\n",
              "      <td>NaN</td>\n",
              "      <td>250.980000</td>\n",
              "      <td>NaN</td>\n",
              "      <td>NaN</td>\n",
              "      <td>NaN</td>\n",
              "    </tr>\n",
              "    <tr>\n",
              "      <th>24958</th>\n",
              "      <td>205164</td>\n",
              "      <td>R80711</td>\n",
              "      <td>2013-08-08 08:40:00</td>\n",
              "      <td>45.009998</td>\n",
              "      <td>44.990002</td>\n",
              "      <td>45.029999</td>\n",
              "      <td>0.01</td>\n",
              "      <td>23.010000</td>\n",
              "      <td>23.000000</td>\n",
              "      <td>23.530001</td>\n",
              "      <td>...</td>\n",
              "      <td>NaN</td>\n",
              "      <td>NaN</td>\n",
              "      <td>336.649990</td>\n",
              "      <td>NaN</td>\n",
              "      <td>NaN</td>\n",
              "      <td>NaN</td>\n",
              "      <td>347.280000</td>\n",
              "      <td>NaN</td>\n",
              "      <td>NaN</td>\n",
              "      <td>NaN</td>\n",
              "    </tr>\n",
              "    <tr>\n",
              "      <th>24967</th>\n",
              "      <td>529967</td>\n",
              "      <td>R80711</td>\n",
              "      <td>2016-11-01 14:50:00</td>\n",
              "      <td>45.000000</td>\n",
              "      <td>45.000000</td>\n",
              "      <td>45.000000</td>\n",
              "      <td>0.00</td>\n",
              "      <td>17.000000</td>\n",
              "      <td>17.000000</td>\n",
              "      <td>17.000000</td>\n",
              "      <td>...</td>\n",
              "      <td>NaN</td>\n",
              "      <td>NaN</td>\n",
              "      <td>177.840000</td>\n",
              "      <td>NaN</td>\n",
              "      <td>NaN</td>\n",
              "      <td>NaN</td>\n",
              "      <td>177.840000</td>\n",
              "      <td>NaN</td>\n",
              "      <td>NaN</td>\n",
              "      <td>NaN</td>\n",
              "    </tr>\n",
              "    <tr>\n",
              "      <th>24979</th>\n",
              "      <td>302710</td>\n",
              "      <td>R80711</td>\n",
              "      <td>2015-05-15 07:10:00</td>\n",
              "      <td>-0.990000</td>\n",
              "      <td>-0.990000</td>\n",
              "      <td>-0.990000</td>\n",
              "      <td>0.00</td>\n",
              "      <td>16.000000</td>\n",
              "      <td>16.000000</td>\n",
              "      <td>16.000000</td>\n",
              "      <td>...</td>\n",
              "      <td>NaN</td>\n",
              "      <td>NaN</td>\n",
              "      <td>301.709990</td>\n",
              "      <td>NaN</td>\n",
              "      <td>NaN</td>\n",
              "      <td>NaN</td>\n",
              "      <td>301.709990</td>\n",
              "      <td>NaN</td>\n",
              "      <td>NaN</td>\n",
              "      <td>NaN</td>\n",
              "    </tr>\n",
              "    <tr>\n",
              "      <th>24988</th>\n",
              "      <td>66064</td>\n",
              "      <td>R80711</td>\n",
              "      <td>2016-01-16 20:20:00</td>\n",
              "      <td>-0.990000</td>\n",
              "      <td>-0.990000</td>\n",
              "      <td>-0.990000</td>\n",
              "      <td>0.00</td>\n",
              "      <td>9.000000</td>\n",
              "      <td>9.000000</td>\n",
              "      <td>9.000000</td>\n",
              "      <td>...</td>\n",
              "      <td>NaN</td>\n",
              "      <td>NaN</td>\n",
              "      <td>286.209990</td>\n",
              "      <td>NaN</td>\n",
              "      <td>NaN</td>\n",
              "      <td>NaN</td>\n",
              "      <td>286.209990</td>\n",
              "      <td>NaN</td>\n",
              "      <td>NaN</td>\n",
              "      <td>NaN</td>\n",
              "    </tr>\n",
              "    <tr>\n",
              "      <th>24991</th>\n",
              "      <td>199539</td>\n",
              "      <td>R80711</td>\n",
              "      <td>2013-10-30 08:00:00</td>\n",
              "      <td>45.009998</td>\n",
              "      <td>45.000000</td>\n",
              "      <td>45.020000</td>\n",
              "      <td>0.00</td>\n",
              "      <td>14.210000</td>\n",
              "      <td>14.000000</td>\n",
              "      <td>15.000000</td>\n",
              "      <td>...</td>\n",
              "      <td>NaN</td>\n",
              "      <td>NaN</td>\n",
              "      <td>197.870000</td>\n",
              "      <td>NaN</td>\n",
              "      <td>NaN</td>\n",
              "      <td>NaN</td>\n",
              "      <td>234.410000</td>\n",
              "      <td>NaN</td>\n",
              "      <td>NaN</td>\n",
              "      <td>NaN</td>\n",
              "    </tr>\n",
              "    <tr>\n",
              "      <th>24993</th>\n",
              "      <td>157270</td>\n",
              "      <td>R80711</td>\n",
              "      <td>2014-12-30 07:30:00</td>\n",
              "      <td>90.000000</td>\n",
              "      <td>90.000000</td>\n",
              "      <td>90.000000</td>\n",
              "      <td>0.00</td>\n",
              "      <td>7.190000</td>\n",
              "      <td>7.000000</td>\n",
              "      <td>8.000000</td>\n",
              "      <td>...</td>\n",
              "      <td>NaN</td>\n",
              "      <td>NaN</td>\n",
              "      <td>293.500000</td>\n",
              "      <td>NaN</td>\n",
              "      <td>NaN</td>\n",
              "      <td>NaN</td>\n",
              "      <td>303.380000</td>\n",
              "      <td>NaN</td>\n",
              "      <td>NaN</td>\n",
              "      <td>NaN</td>\n",
              "    </tr>\n",
              "    <tr>\n",
              "      <th>24995</th>\n",
              "      <td>343924</td>\n",
              "      <td>R80711</td>\n",
              "      <td>2014-11-13 19:50:00</td>\n",
              "      <td>-0.990000</td>\n",
              "      <td>-0.990000</td>\n",
              "      <td>-0.990000</td>\n",
              "      <td>0.00</td>\n",
              "      <td>16.000000</td>\n",
              "      <td>16.000000</td>\n",
              "      <td>16.000000</td>\n",
              "      <td>...</td>\n",
              "      <td>NaN</td>\n",
              "      <td>NaN</td>\n",
              "      <td>112.330000</td>\n",
              "      <td>NaN</td>\n",
              "      <td>NaN</td>\n",
              "      <td>NaN</td>\n",
              "      <td>94.220001</td>\n",
              "      <td>NaN</td>\n",
              "      <td>NaN</td>\n",
              "      <td>NaN</td>\n",
              "    </tr>\n",
              "    <tr>\n",
              "      <th>24997</th>\n",
              "      <td>545539</td>\n",
              "      <td>R80711</td>\n",
              "      <td>2016-06-20 20:30:00</td>\n",
              "      <td>-0.990000</td>\n",
              "      <td>-0.990000</td>\n",
              "      <td>-0.990000</td>\n",
              "      <td>0.00</td>\n",
              "      <td>22.000000</td>\n",
              "      <td>22.000000</td>\n",
              "      <td>22.240000</td>\n",
              "      <td>...</td>\n",
              "      <td>NaN</td>\n",
              "      <td>NaN</td>\n",
              "      <td>234.160000</td>\n",
              "      <td>NaN</td>\n",
              "      <td>NaN</td>\n",
              "      <td>NaN</td>\n",
              "      <td>234.160000</td>\n",
              "      <td>NaN</td>\n",
              "      <td>NaN</td>\n",
              "      <td>NaN</td>\n",
              "    </tr>\n",
              "  </tbody>\n",
              "</table>\n",
              "<p>6226 rows × 139 columns</p>\n",
              "</div>"
            ],
            "text/plain": [
              "       Unnamed: 0 Wind_turbine_name           Date_time     Ba_avg     Ba_min  \\\n",
              "0          804808            R80711 2013-04-06 14:20:00  -0.940000  -0.950000   \n",
              "1          732424            R80711 2015-12-22 14:30:00  -0.990000  -0.990000   \n",
              "2          312987            R80711 2016-03-20 20:40:00  -0.990000  -0.990000   \n",
              "3           68152            R80711 2016-01-09 01:00:00  45.000000  45.000000   \n",
              "5          358331            R80711 2013-11-13 14:30:00  -0.940000  -0.950000   \n",
              "6          103717            R80711 2014-11-03 21:20:00  -0.650000  -0.990000   \n",
              "16         193847            R80711 2013-09-29 11:40:00  -0.460000  -1.010000   \n",
              "22         514081            R80711 2016-06-25 02:20:00  -0.990000  -0.990000   \n",
              "37         197753            R80711 2013-12-01 03:00:00  -0.990000  -1.000000   \n",
              "41         182417            R80711 2014-04-29 01:30:00  -0.990000  -0.990000   \n",
              "46         512838            R80711 2016-07-10 03:10:00  -0.990000  -0.990000   \n",
              "52         559909            R80711 2013-07-19 10:00:00  -1.000000  -1.040000   \n",
              "53         312973            R80711 2016-02-07 01:30:00   5.640000  -0.990000   \n",
              "55         510452            R80711 2016-04-24 15:50:00  -0.990000  -0.990000   \n",
              "60         207243            R80711 2013-11-01 05:30:00  -0.970000  -0.980000   \n",
              "63         153093            R80711 2014-12-25 16:30:00  -0.990000  -0.990000   \n",
              "69         575508            R80711 2013-04-06 20:10:00  -0.960000  -0.960000   \n",
              "73          30904            R80711 2015-10-24 19:10:00  -0.990000  -0.990000   \n",
              "75          32107            R80711 2015-12-12 15:30:00  -0.990000  -0.990000   \n",
              "78          87267            R80711 2015-09-04 02:10:00  -0.960000  -0.990000   \n",
              "87         118418            R80711 2014-12-08 12:00:00  -0.670000  -0.990000   \n",
              "92         310236            R80711 2016-09-13 06:20:00  -0.990000  -0.990000   \n",
              "102        328900            R80711 2013-01-05 02:40:00  -1.000000  -1.000000   \n",
              "107        528433            R80711 2016-08-03 23:10:00  -0.990000  -0.990000   \n",
              "112        811129            R80711 2013-01-02 13:30:00  42.830002   3.030000   \n",
              "113        701568            R80711 2015-07-08 04:10:00  -0.990000  -0.990000   \n",
              "121        529902            R80711 2016-09-09 15:50:00  45.000000  45.000000   \n",
              "131         47922            R80711 2016-11-28 01:40:00  -0.990000  -0.990000   \n",
              "135          2051            R80711 2014-03-07 04:30:00  -0.680000  -0.990000   \n",
              "139         67842            R80711 2016-01-01 22:20:00  -0.990000  -0.990000   \n",
              "...           ...               ...                 ...        ...        ...   \n",
              "24865       34868            R80711 2016-01-14 16:50:00        NaN        NaN   \n",
              "24873      308277            R80711 2013-04-01 12:30:00  -0.820000  -1.000000   \n",
              "24875       62666            R80711 2016-09-19 22:00:00  -0.990000  -0.990000   \n",
              "24877      696421            R80711 2013-09-21 17:20:00   0.090000   0.000000   \n",
              "24881      201522            R80711 2013-10-08 13:50:00  45.020000  45.009998   \n",
              "24884      171354            R80711 2014-02-27 15:10:00  -0.990000  -0.990000   \n",
              "24892      521506            R80711 2016-04-16 17:10:00  45.000000  45.000000   \n",
              "24900        3274            R80711 2014-04-12 06:50:00  45.000000  45.000000   \n",
              "24901        4753            R80711 2014-03-24 06:10:00  -0.980000  -0.990000   \n",
              "24902       69213            R80711 2014-10-16 12:30:00  -0.990000  -0.990000   \n",
              "24907      183086            R80711 2014-01-28 19:30:00  -0.990000  -0.990000   \n",
              "24922       18011            R80711 2015-11-10 00:40:00  -0.990000  -0.990000   \n",
              "24926       45341            R80711 2015-01-11 01:30:00  -0.990000  -0.990000   \n",
              "24930      379055            R80711 2014-12-16 04:30:00  -0.950000  -0.990000   \n",
              "24939      176348            R80711 2014-02-25 00:40:00  -0.990000  -0.990000   \n",
              "24940      206408            R80711 2013-03-08 12:00:00  -0.940000  -1.000000   \n",
              "24941      823188            R80711 2013-01-22 07:00:00  -0.950000  -1.000000   \n",
              "24943      209778            R80711 2013-04-07 23:30:00  -0.980000  -0.980000   \n",
              "24945      803306            R80711 2013-02-10 10:10:00  -1.000000  -1.000000   \n",
              "24946       92444            R80711 2016-09-28 11:10:00  -0.990000  -0.990000   \n",
              "24948      330957            R80711 2015-04-29 22:50:00  -0.990000  -0.990000   \n",
              "24956      459462            R80711 2016-03-07 11:20:00  45.000000  45.000000   \n",
              "24958      205164            R80711 2013-08-08 08:40:00  45.009998  44.990002   \n",
              "24967      529967            R80711 2016-11-01 14:50:00  45.000000  45.000000   \n",
              "24979      302710            R80711 2015-05-15 07:10:00  -0.990000  -0.990000   \n",
              "24988       66064            R80711 2016-01-16 20:20:00  -0.990000  -0.990000   \n",
              "24991      199539            R80711 2013-10-30 08:00:00  45.009998  45.000000   \n",
              "24993      157270            R80711 2014-12-30 07:30:00  90.000000  90.000000   \n",
              "24995      343924            R80711 2014-11-13 19:50:00  -0.990000  -0.990000   \n",
              "24997      545539            R80711 2016-06-20 20:30:00  -0.990000  -0.990000   \n",
              "\n",
              "          Ba_max  Ba_std     Rt_avg     Rt_min     Rt_max    ...     Pas_max  \\\n",
              "0      -0.940000    0.00  10.590000  10.000000  11.000000    ...         NaN   \n",
              "1      -0.990000    0.00  17.000000  17.000000  17.000000    ...         NaN   \n",
              "2      -0.990000    0.00  12.880000  12.000000  13.000000    ...         NaN   \n",
              "3      45.000000    0.00  12.950000  12.000000  13.000000    ...         NaN   \n",
              "5      -0.940000    0.00  13.000000  12.760000  13.000000    ...         NaN   \n",
              "6       3.740000    0.78  20.000000  20.000000  20.000000    ...         NaN   \n",
              "16      0.500000    0.49  22.000000  22.000000  22.000000    ...         NaN   \n",
              "22     -0.990000    0.00  27.000000  27.000000  27.240000    ...         NaN   \n",
              "37     -0.990000    0.00  11.060000  11.000000  12.000000    ...         NaN   \n",
              "41     -0.990000    0.00  18.000000  18.000000  18.000000    ...         NaN   \n",
              "46     -0.990000    0.00  30.000000  30.000000  30.000000    ...         NaN   \n",
              "52     -0.980000    0.01  28.000000  27.940001  28.000000    ...         NaN   \n",
              "53     16.090000    5.15  20.000000  20.000000  20.000000    ...         NaN   \n",
              "55     -0.990000    0.00  12.000000  12.000000  12.000000    ...         NaN   \n",
              "60     -0.970000    0.00  16.000000  16.000000  16.000000    ...         NaN   \n",
              "63     -0.990000    0.00  12.000000  12.000000  12.000000    ...         NaN   \n",
              "69     -0.950000    0.00  11.000000  11.000000  11.000000    ...         NaN   \n",
              "73     -0.990000    0.00  21.000000  21.000000  21.000000    ...         NaN   \n",
              "75     -0.990000    0.00  14.000000  14.000000  14.000000    ...         NaN   \n",
              "78     -0.500000    0.12  22.000000  22.000000  22.000000    ...         NaN   \n",
              "87      0.500000    0.54  12.000000  12.000000  12.000000    ...         NaN   \n",
              "92     -0.990000    0.00  29.010000  29.000000  29.660000    ...         NaN   \n",
              "102    -1.000000    0.00  14.000000  14.000000  14.000000    ...         NaN   \n",
              "107    -0.990000    0.00  28.000000  28.000000  28.000000    ...         NaN   \n",
              "112    44.990002    7.61  11.690000  11.000000  12.000000    ...         NaN   \n",
              "113    -0.990000    0.00  25.000000  25.000000  25.000000    ...         NaN   \n",
              "121    45.000000    0.00  28.000000  28.000000  28.000000    ...         NaN   \n",
              "131    -0.990000    0.00  13.000000  13.000000  13.120000    ...         NaN   \n",
              "135    -0.490000    0.24  14.000000  14.000000  14.000000    ...         NaN   \n",
              "139    -0.990000    0.00  13.020000  13.000000  14.000000    ...         NaN   \n",
              "...          ...     ...        ...        ...        ...    ...         ...   \n",
              "24865        NaN     NaN        NaN        NaN        NaN    ...         NaN   \n",
              "24873   0.100000    0.35  10.000000  10.000000  10.000000    ...         NaN   \n",
              "24875  -0.990000    0.00  22.000000  22.000000  22.000000    ...         NaN   \n",
              "24877   0.500000    0.17  22.400000  22.000000  23.000000    ...         NaN   \n",
              "24881  45.020000    0.00  20.000000  20.000000  20.000000    ...         NaN   \n",
              "24884  -0.730000    0.01  12.000000  12.000000  12.000000    ...         NaN   \n",
              "24892  45.000000    0.00  17.000000  17.000000  17.000000    ...         NaN   \n",
              "24900  45.000000    0.00  18.000000  18.000000  18.000000    ...         NaN   \n",
              "24901  -0.490000    0.07  11.000000  11.000000  11.000000    ...         NaN   \n",
              "24902  -0.990000    0.00  20.000000  20.000000  20.480000    ...         NaN   \n",
              "24907  -0.990000    0.00  10.420000  10.000000  11.000000    ...         NaN   \n",
              "24922  -0.990000    0.00  19.750000  19.000000  20.000000    ...         NaN   \n",
              "24926  -0.990000    0.00  14.980000  14.000000  15.000000    ...         NaN   \n",
              "24930   0.000000    0.17  12.970000  12.000000  13.000000    ...         NaN   \n",
              "24939  -0.990000    0.00  16.000000  15.540000  16.000000    ...         NaN   \n",
              "24940   0.000000    0.21  16.389999  16.000000  17.000000    ...         NaN   \n",
              "24941   0.000000    0.20   8.300000   8.000000   9.000000    ...         NaN   \n",
              "24943  -0.980000    0.00  12.000000  12.000000  12.000000    ...         NaN   \n",
              "24945  -1.000000    0.00   6.990000   6.340000   7.000000    ...         NaN   \n",
              "24946  -0.990000    0.00  25.000000  25.000000  25.000000    ...         NaN   \n",
              "24948  -0.990000    0.00  18.000000  18.000000  18.000000    ...         NaN   \n",
              "24956  45.000000    0.00   9.000000   9.000000   9.000000    ...         NaN   \n",
              "24958  45.029999    0.01  23.010000  23.000000  23.530001    ...         NaN   \n",
              "24967  45.000000    0.00  17.000000  17.000000  17.000000    ...         NaN   \n",
              "24979  -0.990000    0.00  16.000000  16.000000  16.000000    ...         NaN   \n",
              "24988  -0.990000    0.00   9.000000   9.000000   9.000000    ...         NaN   \n",
              "24991  45.020000    0.00  14.210000  14.000000  15.000000    ...         NaN   \n",
              "24993  90.000000    0.00   7.190000   7.000000   8.000000    ...         NaN   \n",
              "24995  -0.990000    0.00  16.000000  16.000000  16.000000    ...         NaN   \n",
              "24997  -0.990000    0.00  22.000000  22.000000  22.240000    ...         NaN   \n",
              "\n",
              "       Pas_std    Wa_c_avg  Wa_c_min  Wa_c_max  Wa_c_std    Na_c_avg  \\\n",
              "0          NaN  358.870000       NaN       NaN       NaN  351.670010   \n",
              "1          NaN         NaN       NaN       NaN       NaN         NaN   \n",
              "2          NaN   44.849998       NaN       NaN       NaN   44.849998   \n",
              "3          NaN  243.020000       NaN       NaN       NaN  243.020000   \n",
              "5          NaN   24.370001       NaN       NaN       NaN   36.509998   \n",
              "6          NaN  215.820010       NaN       NaN       NaN  219.960010   \n",
              "16         NaN   36.919998       NaN       NaN       NaN   36.669998   \n",
              "22         NaN  301.840000       NaN       NaN       NaN  301.840000   \n",
              "37         NaN   22.480000       NaN       NaN       NaN   30.080000   \n",
              "41         NaN  262.620000       NaN       NaN       NaN  250.870000   \n",
              "46         NaN  169.770000       NaN       NaN       NaN  169.770000   \n",
              "52         NaN   59.090000       NaN       NaN       NaN   41.549999   \n",
              "53         NaN  193.840000       NaN       NaN       NaN  193.840000   \n",
              "55         NaN  285.780000       NaN       NaN       NaN  285.780000   \n",
              "60         NaN  200.520000       NaN       NaN       NaN  195.060000   \n",
              "63         NaN  259.500000       NaN       NaN       NaN  261.420010   \n",
              "69         NaN   10.820000       NaN       NaN       NaN    4.840000   \n",
              "73         NaN  226.810000       NaN       NaN       NaN  226.810000   \n",
              "75         NaN         NaN       NaN       NaN       NaN         NaN   \n",
              "78         NaN  277.790010       NaN       NaN       NaN  277.790010   \n",
              "87         NaN  219.810000       NaN       NaN       NaN  221.060000   \n",
              "92         NaN  177.340000       NaN       NaN       NaN  177.340000   \n",
              "102        NaN  272.340000       NaN       NaN       NaN  267.530000   \n",
              "107        NaN  235.710010       NaN       NaN       NaN  235.710010   \n",
              "112        NaN  236.470000       NaN       NaN       NaN  226.920000   \n",
              "113        NaN  255.700000       NaN       NaN       NaN  255.700000   \n",
              "121        NaN   25.090000       NaN       NaN       NaN   25.090000   \n",
              "131        NaN   45.919998       NaN       NaN       NaN   45.919998   \n",
              "135        NaN   98.419998       NaN       NaN       NaN  100.330000   \n",
              "139        NaN  126.720000       NaN       NaN       NaN  126.720000   \n",
              "...        ...         ...       ...       ...       ...         ...   \n",
              "24865      NaN         NaN       NaN       NaN       NaN         NaN   \n",
              "24873      NaN   44.689999       NaN       NaN       NaN   53.889999   \n",
              "24875      NaN   23.350000       NaN       NaN       NaN   23.350000   \n",
              "24877      NaN  317.340000       NaN       NaN       NaN  311.060000   \n",
              "24881      NaN   21.520000       NaN       NaN       NaN    7.040000   \n",
              "24884      NaN  178.990010       NaN       NaN       NaN  178.250000   \n",
              "24892      NaN  311.840000       NaN       NaN       NaN  311.840000   \n",
              "24900      NaN  284.500000       NaN       NaN       NaN  293.810000   \n",
              "24901      NaN  273.630000       NaN       NaN       NaN  269.350010   \n",
              "24902      NaN  208.399990       NaN       NaN       NaN  213.380000   \n",
              "24907      NaN  107.900000       NaN       NaN       NaN  121.180000   \n",
              "24922      NaN  225.840000       NaN       NaN       NaN  225.840000   \n",
              "24926      NaN  257.640010       NaN       NaN       NaN  257.640010   \n",
              "24930      NaN  246.090000       NaN       NaN       NaN  239.720000   \n",
              "24939      NaN  169.550000       NaN       NaN       NaN  163.990010   \n",
              "24940      NaN  165.270000       NaN       NaN       NaN  173.140000   \n",
              "24941      NaN  242.660000       NaN       NaN       NaN  246.679990   \n",
              "24943      NaN   92.820000       NaN       NaN       NaN   86.059998   \n",
              "24945      NaN  120.100000       NaN       NaN       NaN  120.460000   \n",
              "24946      NaN  238.080000       NaN       NaN       NaN  238.080000   \n",
              "24948      NaN  232.550000       NaN       NaN       NaN  232.550000   \n",
              "24956      NaN  250.980000       NaN       NaN       NaN  250.980000   \n",
              "24958      NaN  336.649990       NaN       NaN       NaN  347.280000   \n",
              "24967      NaN  177.840000       NaN       NaN       NaN  177.840000   \n",
              "24979      NaN  301.709990       NaN       NaN       NaN  301.709990   \n",
              "24988      NaN  286.209990       NaN       NaN       NaN  286.209990   \n",
              "24991      NaN  197.870000       NaN       NaN       NaN  234.410000   \n",
              "24993      NaN  293.500000       NaN       NaN       NaN  303.380000   \n",
              "24995      NaN  112.330000       NaN       NaN       NaN   94.220001   \n",
              "24997      NaN  234.160000       NaN       NaN       NaN  234.160000   \n",
              "\n",
              "       Na_c_min  Na_c_max  Na_c_std  \n",
              "0           NaN       NaN       NaN  \n",
              "1           NaN       NaN       NaN  \n",
              "2           NaN       NaN       NaN  \n",
              "3           NaN       NaN       NaN  \n",
              "5           NaN       NaN       NaN  \n",
              "6           NaN       NaN       NaN  \n",
              "16          NaN       NaN       NaN  \n",
              "22          NaN       NaN       NaN  \n",
              "37          NaN       NaN       NaN  \n",
              "41          NaN       NaN       NaN  \n",
              "46          NaN       NaN       NaN  \n",
              "52          NaN       NaN       NaN  \n",
              "53          NaN       NaN       NaN  \n",
              "55          NaN       NaN       NaN  \n",
              "60          NaN       NaN       NaN  \n",
              "63          NaN       NaN       NaN  \n",
              "69          NaN       NaN       NaN  \n",
              "73          NaN       NaN       NaN  \n",
              "75          NaN       NaN       NaN  \n",
              "78          NaN       NaN       NaN  \n",
              "87          NaN       NaN       NaN  \n",
              "92          NaN       NaN       NaN  \n",
              "102         NaN       NaN       NaN  \n",
              "107         NaN       NaN       NaN  \n",
              "112         NaN       NaN       NaN  \n",
              "113         NaN       NaN       NaN  \n",
              "121         NaN       NaN       NaN  \n",
              "131         NaN       NaN       NaN  \n",
              "135         NaN       NaN       NaN  \n",
              "139         NaN       NaN       NaN  \n",
              "...         ...       ...       ...  \n",
              "24865       NaN       NaN       NaN  \n",
              "24873       NaN       NaN       NaN  \n",
              "24875       NaN       NaN       NaN  \n",
              "24877       NaN       NaN       NaN  \n",
              "24881       NaN       NaN       NaN  \n",
              "24884       NaN       NaN       NaN  \n",
              "24892       NaN       NaN       NaN  \n",
              "24900       NaN       NaN       NaN  \n",
              "24901       NaN       NaN       NaN  \n",
              "24902       NaN       NaN       NaN  \n",
              "24907       NaN       NaN       NaN  \n",
              "24922       NaN       NaN       NaN  \n",
              "24926       NaN       NaN       NaN  \n",
              "24930       NaN       NaN       NaN  \n",
              "24939       NaN       NaN       NaN  \n",
              "24940       NaN       NaN       NaN  \n",
              "24941       NaN       NaN       NaN  \n",
              "24943       NaN       NaN       NaN  \n",
              "24945       NaN       NaN       NaN  \n",
              "24946       NaN       NaN       NaN  \n",
              "24948       NaN       NaN       NaN  \n",
              "24956       NaN       NaN       NaN  \n",
              "24958       NaN       NaN       NaN  \n",
              "24967       NaN       NaN       NaN  \n",
              "24979       NaN       NaN       NaN  \n",
              "24988       NaN       NaN       NaN  \n",
              "24991       NaN       NaN       NaN  \n",
              "24993       NaN       NaN       NaN  \n",
              "24995       NaN       NaN       NaN  \n",
              "24997       NaN       NaN       NaN  \n",
              "\n",
              "[6226 rows x 139 columns]"
            ]
          },
          "metadata": {
            "tags": []
          },
          "execution_count": 12
        }
      ]
    },
    {
      "cell_type": "code",
      "metadata": {
        "id": "r2OY-J3u4h9M",
        "colab_type": "code",
        "colab": {}
      },
      "source": [
        "#For better analysis, convert to time series - use datetime as index\n",
        "df_r80711.index = df_r80711['Date_time'] #set datetime column as index"
      ],
      "execution_count": null,
      "outputs": []
    },
    {
      "cell_type": "code",
      "metadata": {
        "id": "d5TsSWqQ4h9P",
        "colab_type": "code",
        "colab": {},
        "outputId": "8b528c43-2d16-4be3-a137-54de0adc9412"
      },
      "source": [
        "#using P_max\n",
        "#Get all months of January into variables\n",
        "jan_13 = df_r80711['2013-01-01':'2013-01-31']\n",
        "jan_14 = df_r80711['2014-01-01':'2014-01-31']\n",
        "jan_15 = df_r80711['2015-01-01':'2015-01-31']\n",
        "jan_16 = df_r80711['2016-01-01':'2016-01-31']\n",
        "\n",
        "## resampling over week and computing means\n",
        "fig, ax=plt.subplots(4,1, figsize=(15,30)) \n",
        "plt.subplots_adjust(left=None, bottom=None, right=None, top=None, wspace=None, hspace=0.5)#add space between subplots\n",
        "\n",
        "#Don't use average because of presence of outliers and missing values. It would not be a good approximate representation.\n",
        "#Use p_max instead\n",
        "jan_13.P_max.plot(color='yellow', ax=ax[0], legend=True)\n",
        "jan_14.P_max.plot(color='red', ax=ax[1], legend=True)\n",
        "jan_15.P_max.plot(color='blue', ax=ax[2], legend=True)\n",
        "jan_16.P_max.plot(color='green', ax=ax[3], legend=True)\n",
        "\n",
        "#Set plot titles for each graph\n",
        "ax[0].set_title('Maximum Active Power(per week) in January 2013', size = 15)\n",
        "ax[1].set_title('Maximum Active Power(per week) in January 2014', size = 15)\n",
        "ax[2].set_title('Maximum Active Power(per week) in January 2015', size = 15)\n",
        "ax[3].set_title('Maximum Active Power(per week) in January 2016', size = 15)\n",
        "\n",
        "#set plot x-axis labels \n",
        "ax[0].set_xlabel('January 2013(weekly)')\n",
        "ax[1].set_xlabel('January 2014(weekly)')\n",
        "ax[2].set_xlabel('January 2015(weekly)') \n",
        "ax[3].set_xlabel('January 2016(weekly)')"
      ],
      "execution_count": null,
      "outputs": [
        {
          "output_type": "execute_result",
          "data": {
            "text/plain": [
              "Text(0.5, 0, 'January 2016(weekly)')"
            ]
          },
          "metadata": {
            "tags": []
          },
          "execution_count": 14
        },
        {
          "output_type": "display_data",
          "data": {
            "image/png": "[encoded data removed]",
            "text/plain": [
              "<Figure size 1080x2160 with 4 Axes>"
            ]
          },
          "metadata": {
            "tags": [],
            "needs_background": "light"
          }
        }
      ]
    },
    {
      "cell_type": "markdown",
      "metadata": {
        "id": "2tR5TACk4h9S",
        "colab_type": "text"
      },
      "source": [
        "It is definitely a continuous data.\n",
        "The plot shows that power output in January generally increased over the years. There is also a generally low output around the third week of January"
      ]
    },
    {
      "cell_type": "markdown",
      "metadata": {
        "id": "lQfm7obA4h9T",
        "colab_type": "text"
      },
      "source": [
        "Before working on the data, I would like to focus activities on features with higher chances of having impact on the power output. I have decide to work with the Maximum power output, thus, I would be selecting the maximum of whatever feature I choose to work with."
      ]
    },
    {
      "cell_type": "markdown",
      "metadata": {
        "id": "BTe_QYOo4h9T",
        "colab_type": "text"
      },
      "source": [
        "#####  Feature Selection"
      ]
    },
    {
      "cell_type": "markdown",
      "metadata": {
        "id": "6qBFph9J4h9U",
        "colab_type": "text"
      },
      "source": [
        "Power output is determined by many features. But since we have a dataset with 138 columns, we need to select the main features that are most likely to influence the turbine power output."
      ]
    },
    {
      "cell_type": "markdown",
      "metadata": {
        "id": "5ShR55jd4h9U",
        "colab_type": "text"
      },
      "source": [
        "Using information from research on Predicting Wind Turbine power, I'll consider:\n",
        "NB: Nacelles are not the best measures for windspeed    \n",
        "\n",
        "    Va2_max - vine position 2 (deg),\n",
        "    Ws1_max - wind speed 1 (m/s) First anemometer on the nacelle\n",
        "    Ws2_max - wind speed 2 (m/s) Second anemometer on the nacelle\n",
        "    Ws_max - wind speed, #because there are two anemometers on the turbine\n",
        "    Ot - Outdoor_temperature - deg_C \n",
        "    Rm - Torque - (Nm) #Although not sure what this torque is for, force of the wind is an important factor\n",
        "    Rs - Rotor_speed - rpm #The bigger the rotor, the more power it can produce. Rotor is a factor to predict power output. "
      ]
    },
    {
      "cell_type": "code",
      "metadata": {
        "id": "pGbcof0F4h9V",
        "colab_type": "code",
        "colab": {}
      },
      "source": [
        "data_2 = data[['Date_time', 'Wind_turbine_name', 'P_max', 'Ws1_max', 'Ws2_max', 'Ws_max', 'Ot_max', 'Rm_max', 'Rs_max']]"
      ],
      "execution_count": null,
      "outputs": []
    },
    {
      "cell_type": "code",
      "metadata": {
        "id": "-bRRDwO-4h9X",
        "colab_type": "code",
        "colab": {},
        "outputId": "3c87e1c4-bdd1-46d0-d407-ff60df054b5e"
      },
      "source": [
        "data_2.head()"
      ],
      "execution_count": null,
      "outputs": [
        {
          "output_type": "execute_result",
          "data": {
            "text/html": [
              "<div>\n",
              "<style scoped>\n",
              "    .dataframe tbody tr th:only-of-type {\n",
              "        vertical-align: middle;\n",
              "    }\n",
              "\n",
              "    .dataframe tbody tr th {\n",
              "        vertical-align: top;\n",
              "    }\n",
              "\n",
              "    .dataframe thead th {\n",
              "        text-align: right;\n",
              "    }\n",
              "</style>\n",
              "<table border=\"1\" class=\"dataframe\">\n",
              "  <thead>\n",
              "    <tr style=\"text-align: right;\">\n",
              "      <th></th>\n",
              "      <th>Date_time</th>\n",
              "      <th>Wind_turbine_name</th>\n",
              "      <th>P_max</th>\n",
              "      <th>Ws1_max</th>\n",
              "      <th>Ws2_max</th>\n",
              "      <th>Ws_max</th>\n",
              "      <th>Ot_max</th>\n",
              "      <th>Rm_max</th>\n",
              "      <th>Rs_max</th>\n",
              "    </tr>\n",
              "  </thead>\n",
              "  <tbody>\n",
              "    <tr>\n",
              "      <th>0</th>\n",
              "      <td>2013-04-06 14:20:00</td>\n",
              "      <td>R80711</td>\n",
              "      <td>679.60999</td>\n",
              "      <td>9.17</td>\n",
              "      <td>9.21</td>\n",
              "      <td>9.16</td>\n",
              "      <td>3.5</td>\n",
              "      <td>3734.0701</td>\n",
              "      <td>16.620001</td>\n",
              "    </tr>\n",
              "    <tr>\n",
              "      <th>1</th>\n",
              "      <td>2015-12-22 14:30:00</td>\n",
              "      <td>R80711</td>\n",
              "      <td>727.02002</td>\n",
              "      <td>9.05</td>\n",
              "      <td>9.44</td>\n",
              "      <td>9.12</td>\n",
              "      <td>11.8</td>\n",
              "      <td>3908.2400</td>\n",
              "      <td>17.030001</td>\n",
              "    </tr>\n",
              "    <tr>\n",
              "      <th>2</th>\n",
              "      <td>2016-03-20 20:40:00</td>\n",
              "      <td>R80711</td>\n",
              "      <td>387.01001</td>\n",
              "      <td>7.80</td>\n",
              "      <td>7.58</td>\n",
              "      <td>7.60</td>\n",
              "      <td>4.1</td>\n",
              "      <td>2537.3301</td>\n",
              "      <td>13.900000</td>\n",
              "    </tr>\n",
              "    <tr>\n",
              "      <th>3</th>\n",
              "      <td>2016-01-09 01:00:00</td>\n",
              "      <td>R80711</td>\n",
              "      <td>0.00000</td>\n",
              "      <td>2.39</td>\n",
              "      <td>2.98</td>\n",
              "      <td>2.69</td>\n",
              "      <td>5.0</td>\n",
              "      <td>0.0000</td>\n",
              "      <td>0.370000</td>\n",
              "    </tr>\n",
              "    <tr>\n",
              "      <th>4</th>\n",
              "      <td>2014-12-14 13:20:00</td>\n",
              "      <td>R80721</td>\n",
              "      <td>-1.02000</td>\n",
              "      <td>0.00</td>\n",
              "      <td>0.00</td>\n",
              "      <td>0.00</td>\n",
              "      <td>6.8</td>\n",
              "      <td>0.0000</td>\n",
              "      <td>0.000000</td>\n",
              "    </tr>\n",
              "  </tbody>\n",
              "</table>\n",
              "</div>"
            ],
            "text/plain": [
              "            Date_time Wind_turbine_name      P_max  Ws1_max  Ws2_max  Ws_max  \\\n",
              "0 2013-04-06 14:20:00            R80711  679.60999     9.17     9.21    9.16   \n",
              "1 2015-12-22 14:30:00            R80711  727.02002     9.05     9.44    9.12   \n",
              "2 2016-03-20 20:40:00            R80711  387.01001     7.80     7.58    7.60   \n",
              "3 2016-01-09 01:00:00            R80711    0.00000     2.39     2.98    2.69   \n",
              "4 2014-12-14 13:20:00            R80721   -1.02000     0.00     0.00    0.00   \n",
              "\n",
              "   Ot_max     Rm_max     Rs_max  \n",
              "0     3.5  3734.0701  16.620001  \n",
              "1    11.8  3908.2400  17.030001  \n",
              "2     4.1  2537.3301  13.900000  \n",
              "3     5.0     0.0000   0.370000  \n",
              "4     6.8     0.0000   0.000000  "
            ]
          },
          "metadata": {
            "tags": []
          },
          "execution_count": 16
        }
      ]
    },
    {
      "cell_type": "code",
      "metadata": {
        "id": "ZhFXNySt4h9a",
        "colab_type": "code",
        "colab": {}
      },
      "source": [
        ""
      ],
      "execution_count": null,
      "outputs": []
    },
    {
      "cell_type": "markdown",
      "metadata": {
        "id": "O1R5Kitq4h9c",
        "colab_type": "text"
      },
      "source": [
        "### Find missing values"
      ]
    },
    {
      "cell_type": "markdown",
      "metadata": {
        "id": "gnYlTX9V4h9d",
        "colab_type": "text"
      },
      "source": [
        "A dataset with missing values will not be usable for fitting and testing a model. Fill in missing values in a way suitable for the model."
      ]
    },
    {
      "cell_type": "code",
      "metadata": {
        "id": "G6gVTshR4h9d",
        "colab_type": "code",
        "colab": {},
        "outputId": "4b7d982a-d3a5-4ebe-e092-88576e5ca1ec"
      },
      "source": [
        "#see amount of missing values per column\n",
        "data_2.isnull().sum(axis=0) "
      ],
      "execution_count": null,
      "outputs": [
        {
          "output_type": "execute_result",
          "data": {
            "text/plain": [
              "Date_time              0\n",
              "Wind_turbine_name      0\n",
              "P_max                137\n",
              "Ws1_max              137\n",
              "Ws2_max              137\n",
              "Ws_max               137\n",
              "Ot_max               137\n",
              "Rm_max               137\n",
              "Rs_max               137\n",
              "dtype: int64"
            ]
          },
          "metadata": {
            "tags": []
          },
          "execution_count": 17
        }
      ]
    },
    {
      "cell_type": "code",
      "metadata": {
        "id": "0XZA22jP4h9f",
        "colab_type": "code",
        "colab": {},
        "outputId": "0699c343-5e54-4e6e-c7e6-2e0b1a9993e9"
      },
      "source": [
        "#check for outliers to determine method for filling Missing values of remaining columns\n",
        "\n",
        "data2_num = data_2.iloc[:, 2:] #save numerical columns in new variable\n",
        "\n",
        "#solve for IQR\n",
        "Q1 = data2_num.quantile(0.25)\n",
        "Q3 = data2_num.quantile(0.75)\n",
        "IQR = Q3 - Q1\n",
        "\n",
        "lower_bound = Q1 - (1.5 * IQR)\n",
        "upper_bound = Q3 + (1.5 * IQR)\n",
        "\n",
        "\n",
        "#Store new variables into dataframes.\n",
        "#Create new Dataframes and define columns\n",
        "l = pd.DataFrame(data=lower_bound, columns=['low_bound'])\n",
        "u = pd.DataFrame(data=upper_bound, columns=['upp_bound'])\n",
        "\n",
        "m = data2_num.min()#minimum of column values\n",
        "minimum = pd.DataFrame(data=m, columns=['min'])\n",
        "\n",
        "n = data2_num.max()#maximum of column values\n",
        "maximum = pd.DataFrame(data=n, columns=['max'])\n",
        "\n",
        "\n",
        "#merge new dataframes into one\n",
        "#give random variable names leading to final one\n",
        "k=l.join(minimum, how='outer')\n",
        "d=k.join(u, how='outer')\n",
        "outliers=d.join(maximum, how='outer')\n",
        "\n",
        "#now check if there are outliers\n",
        "def check(outliers):\n",
        "    if outliers['min'] < outliers['low_bound'] or outliers['max'] > outliers['upp_bound']:\n",
        "        print ('True')\n",
        "    else:\n",
        "        print ('False')\n",
        "outliers['check'] = outliers.apply(check, axis=1)\n"
      ],
      "execution_count": null,
      "outputs": [
        {
          "output_type": "stream",
          "text": [
            "True\n",
            "True\n",
            "True\n",
            "True\n",
            "True\n",
            "True\n",
            "False\n"
          ],
          "name": "stdout"
        }
      ]
    },
    {
      "cell_type": "markdown",
      "metadata": {
        "id": "MdOrExY84h9i",
        "colab_type": "text"
      },
      "source": [
        "From the above, the last variable which is Rs_max doesn't have an outlier. Thus, use mean to fill missing values"
      ]
    },
    {
      "cell_type": "code",
      "metadata": {
        "id": "5ldzfXa24h9i",
        "colab_type": "code",
        "colab": {}
      },
      "source": [
        "#create new copy of data\n",
        "df = data_2.copy()"
      ],
      "execution_count": null,
      "outputs": []
    },
    {
      "cell_type": "code",
      "metadata": {
        "id": "Fduz12XK4h9l",
        "colab_type": "code",
        "colab": {}
      },
      "source": [
        "#fill missing rows by using the mean of Rs_max by Wind Turbine name groupings\n",
        "df['Rs_max'] = df.groupby('Wind_turbine_name').Rs_max.transform(\n",
        "    lambda x: x.fillna(x.mean())) "
      ],
      "execution_count": null,
      "outputs": []
    },
    {
      "cell_type": "code",
      "metadata": {
        "id": "u1UVaWoJ4h9o",
        "colab_type": "code",
        "colab": {},
        "outputId": "01933a24-6324-4e44-de17-7358d4ce4732"
      },
      "source": [
        "#confirm if all missing values have been dealt with\n",
        "df[['Rs_max']].isnull().any()"
      ],
      "execution_count": null,
      "outputs": [
        {
          "output_type": "execute_result",
          "data": {
            "text/plain": [
              "Rs_max    False\n",
              "dtype: bool"
            ]
          },
          "metadata": {
            "tags": []
          },
          "execution_count": 33
        }
      ]
    },
    {
      "cell_type": "markdown",
      "metadata": {
        "id": "V27jCR-04h9r",
        "colab_type": "text"
      },
      "source": [
        "No missing values"
      ]
    },
    {
      "cell_type": "markdown",
      "metadata": {
        "id": "qh5D4DOj4h9r",
        "colab_type": "text"
      },
      "source": [
        "For the other measured features of the data, there are outliers. Thus, use Median to fill missing values"
      ]
    },
    {
      "cell_type": "markdown",
      "metadata": {
        "id": "0PfY-G7o4h9s",
        "colab_type": "text"
      },
      "source": [
        "To get better estimates, fill in missing values using the median of each turbine measurement, per column.\n",
        "\n",
        "I wouldn't bother attempting using any algorithm, especially with the correlation method, since there is hardly any useful data column without missing values. the safest method to use is the groupby median."
      ]
    },
    {
      "cell_type": "code",
      "metadata": {
        "id": "esGv8rHc4h9s",
        "colab_type": "code",
        "colab": {}
      },
      "source": [
        "#fill in missing values using groupby and transform\n",
        "df = df.groupby('Wind_turbine_name').transform(lambda x: x.fillna(x.median()))"
      ],
      "execution_count": null,
      "outputs": []
    },
    {
      "cell_type": "code",
      "metadata": {
        "id": "JSmnZfTz4h9v",
        "colab_type": "code",
        "colab": {},
        "outputId": "c627db11-6f94-40a5-c51a-c386920c1d0d"
      },
      "source": [
        "#confirm missing values have been dealt with\n",
        "sum(df.isnull().any()) #confirm that all null values are filled"
      ],
      "execution_count": null,
      "outputs": [
        {
          "output_type": "execute_result",
          "data": {
            "text/plain": [
              "0"
            ]
          },
          "metadata": {
            "tags": []
          },
          "execution_count": 35
        }
      ]
    },
    {
      "cell_type": "markdown",
      "metadata": {
        "id": "0fJguBbR4h9x",
        "colab_type": "text"
      },
      "source": [
        "Confirmed. There are no longer any missing values"
      ]
    },
    {
      "cell_type": "markdown",
      "metadata": {
        "id": "FsdDH3Zq4h9y",
        "colab_type": "text"
      },
      "source": [
        "### Split dataset into predictor and target matrices"
      ]
    },
    {
      "cell_type": "code",
      "metadata": {
        "id": "i7GNp_Xd4h9y",
        "colab_type": "code",
        "colab": {},
        "outputId": "a1f38ab9-3ffd-4ac3-d5a6-33a003434b56"
      },
      "source": [
        "df.head(3)"
      ],
      "execution_count": null,
      "outputs": [
        {
          "output_type": "execute_result",
          "data": {
            "text/html": [
              "<div>\n",
              "<style scoped>\n",
              "    .dataframe tbody tr th:only-of-type {\n",
              "        vertical-align: middle;\n",
              "    }\n",
              "\n",
              "    .dataframe tbody tr th {\n",
              "        vertical-align: top;\n",
              "    }\n",
              "\n",
              "    .dataframe thead th {\n",
              "        text-align: right;\n",
              "    }\n",
              "</style>\n",
              "<table border=\"1\" class=\"dataframe\">\n",
              "  <thead>\n",
              "    <tr style=\"text-align: right;\">\n",
              "      <th></th>\n",
              "      <th>P_max</th>\n",
              "      <th>Ws1_max</th>\n",
              "      <th>Ws2_max</th>\n",
              "      <th>Ws_max</th>\n",
              "      <th>Ot_max</th>\n",
              "      <th>Rm_max</th>\n",
              "      <th>Rs_max</th>\n",
              "    </tr>\n",
              "  </thead>\n",
              "  <tbody>\n",
              "    <tr>\n",
              "      <th>0</th>\n",
              "      <td>679.60999</td>\n",
              "      <td>9.17</td>\n",
              "      <td>9.21</td>\n",
              "      <td>9.16</td>\n",
              "      <td>3.5</td>\n",
              "      <td>3734.0701</td>\n",
              "      <td>16.620001</td>\n",
              "    </tr>\n",
              "    <tr>\n",
              "      <th>1</th>\n",
              "      <td>727.02002</td>\n",
              "      <td>9.05</td>\n",
              "      <td>9.44</td>\n",
              "      <td>9.12</td>\n",
              "      <td>11.8</td>\n",
              "      <td>3908.2400</td>\n",
              "      <td>17.030001</td>\n",
              "    </tr>\n",
              "    <tr>\n",
              "      <th>2</th>\n",
              "      <td>387.01001</td>\n",
              "      <td>7.80</td>\n",
              "      <td>7.58</td>\n",
              "      <td>7.60</td>\n",
              "      <td>4.1</td>\n",
              "      <td>2537.3301</td>\n",
              "      <td>13.900000</td>\n",
              "    </tr>\n",
              "  </tbody>\n",
              "</table>\n",
              "</div>"
            ],
            "text/plain": [
              "       P_max  Ws1_max  Ws2_max  Ws_max  Ot_max     Rm_max     Rs_max\n",
              "0  679.60999     9.17     9.21    9.16     3.5  3734.0701  16.620001\n",
              "1  727.02002     9.05     9.44    9.12    11.8  3908.2400  17.030001\n",
              "2  387.01001     7.80     7.58    7.60     4.1  2537.3301  13.900000"
            ]
          },
          "metadata": {
            "tags": []
          },
          "execution_count": 36
        }
      ]
    },
    {
      "cell_type": "code",
      "metadata": {
        "id": "HjfgxxTg4h91",
        "colab_type": "code",
        "colab": {}
      },
      "source": [
        "X_data = df.drop(['P_max'], axis=1)#Drop max power \n",
        "#X_data = X_data.reset_index()\n",
        "\n",
        "X = X_data.values #and save other features values into a matrix\n",
        "y = df['P_max'].values #maximum power is our target variable"
      ],
      "execution_count": null,
      "outputs": []
    },
    {
      "cell_type": "markdown",
      "metadata": {
        "id": "fbpGE-X-4h93",
        "colab_type": "text"
      },
      "source": [
        "##### confirm that no missing value issues with X"
      ]
    },
    {
      "cell_type": "code",
      "metadata": {
        "id": "raA-L0H84h93",
        "colab_type": "code",
        "colab": {},
        "outputId": "9f1f1b47-eb0a-4c39-f9c1-05c1f9d5f49c"
      },
      "source": [
        "np.isnan(X).any() #check array for missing values"
      ],
      "execution_count": null,
      "outputs": [
        {
          "output_type": "execute_result",
          "data": {
            "text/plain": [
              "False"
            ]
          },
          "metadata": {
            "tags": []
          },
          "execution_count": 38
        }
      ]
    },
    {
      "cell_type": "code",
      "metadata": {
        "id": "oZ9tB2F74h97",
        "colab_type": "code",
        "colab": {}
      },
      "source": [
        "#np.isfinite(X).all()"
      ],
      "execution_count": null,
      "outputs": []
    },
    {
      "cell_type": "markdown",
      "metadata": {
        "id": "qyJWuEsL4h99",
        "colab_type": "text"
      },
      "source": [
        "### Dimension Reduction with PCA"
      ]
    },
    {
      "cell_type": "markdown",
      "metadata": {
        "id": "zWMcA6KB4h99",
        "colab_type": "text"
      },
      "source": [
        "The dataset we have it quite huge. We need to select features to use for our analysis of the active power. To discover the principal features, we can principal component analysis. First split the data into predictor and target variables. PCA allows you to reduce the number of your predictors, and to decorrelate them especially for features that have a direct relationship like apparent power, reactive power and active power."
      ]
    },
    {
      "cell_type": "code",
      "metadata": {
        "id": "KQNvEbdt4h9-",
        "colab_type": "code",
        "colab": {}
      },
      "source": [
        "#import modules and functions to be used from here on\n",
        "from sklearn.decomposition import PCA\n",
        "from sklearn.pipeline import Pipeline\n",
        "from sklearn.model_selection import train_test_split, cross_val_score\n",
        "from sklearn import metrics\n",
        "from sklearn.ensemble import RandomForestRegressor as RFR"
      ],
      "execution_count": null,
      "outputs": []
    },
    {
      "cell_type": "markdown",
      "metadata": {
        "id": "jWB6IKQA4h-C",
        "colab_type": "text"
      },
      "source": [
        "##### Initialize and fit"
      ]
    },
    {
      "cell_type": "code",
      "metadata": {
        "id": "OWGFWYSr4h-C",
        "colab_type": "code",
        "colab": {}
      },
      "source": [
        "#make copies of data\n",
        "\n",
        "#create new copies of matrices\n",
        "X_1 = np.copy(X)\n",
        "y_1 = np.copy(y)"
      ],
      "execution_count": null,
      "outputs": []
    },
    {
      "cell_type": "markdown",
      "metadata": {
        "id": "cE-T2tdt4h-G",
        "colab_type": "text"
      },
      "source": [
        "Would please split data into training set and test set here for PCA because it is unethical to use information from test set to classify training data."
      ]
    },
    {
      "cell_type": "code",
      "metadata": {
        "id": "_Kipy4jF4h-G",
        "colab_type": "code",
        "colab": {}
      },
      "source": [
        "X_train, X_test, y_train, y_test = train_test_split(X_1, y_1, test_size=0.2, random_state=0)  "
      ],
      "execution_count": null,
      "outputs": []
    },
    {
      "cell_type": "markdown",
      "metadata": {
        "id": "CmgBNCBO4h-J",
        "colab_type": "text"
      },
      "source": [
        "There is no need to scale data since feature selection hass been done already"
      ]
    },
    {
      "cell_type": "code",
      "metadata": {
        "id": "A6EC1SRo4h-L",
        "colab_type": "code",
        "colab": {},
        "outputId": "69498a7b-d08f-453e-a9ef-5bf553584258"
      },
      "source": [
        "#see number of features and save into a variable for later use\n",
        "number_features = len(X_data.columns)\n",
        "number_features"
      ],
      "execution_count": null,
      "outputs": [
        {
          "output_type": "execute_result",
          "data": {
            "text/plain": [
              "6"
            ]
          },
          "metadata": {
            "tags": []
          },
          "execution_count": 78
        }
      ]
    },
    {
      "cell_type": "code",
      "metadata": {
        "id": "dxUprGV44h-N",
        "colab_type": "code",
        "colab": {}
      },
      "source": [
        "#Perform PCA\n",
        "pca = PCA(n_components=number_features) \n",
        "#pca = PCA(); this is same as above\n",
        "X_train = pca.fit_transform(X_train)  \n",
        "X_test = pca.transform(X_test)  "
      ],
      "execution_count": null,
      "outputs": []
    },
    {
      "cell_type": "code",
      "metadata": {
        "id": "u7Zt8aD04h-P",
        "colab_type": "code",
        "colab": {},
        "outputId": "776c8ebd-0c38-4e36-d9a5-675d48c12f97"
      },
      "source": [
        "#see dimension reduction\n",
        "print(\"original shape:   \", X_train.shape)\n",
        "print(\"transformed shape:\", X_test.shape)"
      ],
      "execution_count": null,
      "outputs": [
        {
          "output_type": "stream",
          "text": [
            "original shape:    (20000, 6)\n",
            "transformed shape: (5000, 6)\n"
          ],
          "name": "stdout"
        }
      ]
    },
    {
      "cell_type": "markdown",
      "metadata": {
        "id": "6VMgcgyb4h-V",
        "colab_type": "text"
      },
      "source": [
        "###### The dimensions are still 6 because we set n_components to 6"
      ]
    },
    {
      "cell_type": "code",
      "metadata": {
        "id": "h8TZ_svr4h-W",
        "colab_type": "code",
        "colab": {},
        "outputId": "0c594a11-07b7-4aa9-8f15-4b9b32cba01f"
      },
      "source": [
        "#Evaluate components\n",
        "pca.components_"
      ],
      "execution_count": null,
      "outputs": [
        {
          "output_type": "execute_result",
          "data": {
            "text/plain": [
              "array([[ 9.98585180e-04,  9.73325642e-04,  9.79652486e-04,\n",
              "        -4.73622199e-04,  9.99997339e-01,  1.48129992e-03],\n",
              "       [-2.69725125e-02, -9.32119822e-03, -1.65335811e-02,\n",
              "        -9.99372528e-01, -4.02000746e-04, -1.29084340e-02],\n",
              "       [-1.91077007e-01, -1.83845140e-01, -1.81559154e-01,\n",
              "         2.21027582e-02,  1.96042790e-03, -9.46696594e-01],\n",
              "       [ 5.55928105e-01,  5.48477364e-01,  5.34709216e-01,\n",
              "        -2.48084603e-02, -1.14781811e-03, -3.21847481e-01],\n",
              "       [-7.00366397e-01,  7.13669915e-01, -1.32927514e-03,\n",
              "         1.22253402e-02,  6.93603612e-06,  3.30701414e-03],\n",
              "       [ 4.03970192e-01,  3.94918937e-01, -8.25134076e-01,\n",
              "        -9.35337150e-04,  2.01235448e-05, -3.51960563e-06]])"
            ]
          },
          "metadata": {
            "tags": []
          },
          "execution_count": 84
        }
      ]
    },
    {
      "cell_type": "markdown",
      "metadata": {
        "id": "dWPOIOY34h-Z",
        "colab_type": "text"
      },
      "source": [
        "The fit learns some quantities from the data, most importantly the \"components\" and \"explained variance\":"
      ]
    },
    {
      "cell_type": "code",
      "metadata": {
        "id": "GK3diEwR4h-a",
        "colab_type": "code",
        "colab": {}
      },
      "source": [
        ""
      ],
      "execution_count": null,
      "outputs": []
    },
    {
      "cell_type": "markdown",
      "metadata": {
        "id": "PvS3f_Iu4h-j",
        "colab_type": "text"
      },
      "source": [
        "### Plot the variance"
      ]
    },
    {
      "cell_type": "code",
      "metadata": {
        "id": "InXw5dnO4h-k",
        "colab_type": "code",
        "colab": {},
        "outputId": "7f5618b2-eecd-419f-aea1-1624e385b2e7"
      },
      "source": [
        "#Explained variance: The amount of variance explained by each of the selected components.\n",
        "pca.explained_variance_"
      ],
      "execution_count": null,
      "outputs": [
        {
          "output_type": "execute_result",
          "data": {
            "text/plain": [
              "array([9.79261654e+06, 5.99908119e+01, 1.73693417e+01, 6.72713395e+00,\n",
              "       2.02533169e-01, 8.81570823e-02])"
            ]
          },
          "metadata": {
            "tags": []
          },
          "execution_count": 83
        }
      ]
    },
    {
      "cell_type": "code",
      "metadata": {
        "id": "h_2VN1eN4h-m",
        "colab_type": "code",
        "colab": {},
        "outputId": "a2660165-98ee-446a-ae66-ed3c0019040b"
      },
      "source": [
        "#explained variance ratio: Percentage of variance explained by each of the selected components.\n",
        "variance = pca.explained_variance_ratio_  \n",
        "variance"
      ],
      "execution_count": null,
      "outputs": [
        {
          "output_type": "execute_result",
          "data": {
            "text/plain": [
              "array([9.99991384e-01, 6.12607414e-06, 1.77370287e-06, 6.86953886e-07,\n",
              "       2.06820539e-08, 9.00232561e-09])"
            ]
          },
          "metadata": {
            "tags": []
          },
          "execution_count": 82
        }
      ]
    },
    {
      "cell_type": "code",
      "metadata": {
        "id": "r3DDbcDv4h-r",
        "colab_type": "code",
        "colab": {},
        "outputId": "57623866-8862-4624-c2e9-a0d19c1f829e"
      },
      "source": [
        "\"\"\"\n",
        "To estimate how many components are needed to describe the data. \n",
        "This can be determined by looking at the cumulative explained variance ratio \n",
        "as a function of the number of components\n",
        "\"\"\"\n",
        "\n",
        "#compute cummulative sum of variance\n",
        "\n",
        "#native code:\n",
        "#plt.plot(np.cumsum(pca.explained_variance_ratio_))\n",
        "\n",
        "variance2 = np.cumsum(np.round(pca.explained_variance_ratio_, decimals=3)*100)\n",
        "variance2"
      ],
      "execution_count": null,
      "outputs": [
        {
          "output_type": "execute_result",
          "data": {
            "text/plain": [
              "array([100., 100., 100., 100., 100., 100.])"
            ]
          },
          "metadata": {
            "tags": []
          },
          "execution_count": 81
        }
      ]
    },
    {
      "cell_type": "code",
      "metadata": {
        "id": "FCkXtL2n4h-u",
        "colab_type": "code",
        "colab": {},
        "outputId": "9b0e5f8e-8d54-478a-cad7-6b630343b7ce"
      },
      "source": [
        "#Plot the variance\n",
        "\n",
        "fig = plt.figure(figsize=(10, 6))\n",
        "plt.ylabel('% Cumulative Variance')\n",
        "plt.xlabel('No. of Principal Components')\n",
        "plt.title('PCA Analysis')\n",
        "\n",
        "plt.grid(True)#show grid\n",
        "plt.plot(variance2)"
      ],
      "execution_count": null,
      "outputs": [
        {
          "output_type": "execute_result",
          "data": {
            "text/plain": [
              "[<matplotlib.lines.Line2D at 0xa696398da0>]"
            ]
          },
          "metadata": {
            "tags": []
          },
          "execution_count": 80
        },
        {
          "output_type": "display_data",
          "data": {
            "image/png": "[encoded data removed]",
            "text/plain": [
              "<Figure size 720x432 with 1 Axes>"
            ]
          },
          "metadata": {
            "tags": [],
            "needs_background": "light"
          }
        }
      ]
    },
    {
      "cell_type": "markdown",
      "metadata": {
        "id": "BJwPA_d-4h-w",
        "colab_type": "text"
      },
      "source": [
        "This curve quantifies how much of the total, 6-dimensional variance is contained within the first N components. \n",
        "\n",
        "We see that the first 2 components contain approximately 91% of the variance, while we need around 4 components to describe close to 100% of the variance.\n",
        "\n",
        "We see that our two-dimensional projection loses a lot of information (as measured by the explained variance) and that we'd need at least 2 components to retain 90% of the variance. "
      ]
    },
    {
      "cell_type": "markdown",
      "metadata": {
        "id": "lTYnNHey4h-x",
        "colab_type": "text"
      },
      "source": [
        "### Random Forest with PCA"
      ]
    },
    {
      "cell_type": "markdown",
      "metadata": {
        "id": "tlLhXn4M4h-y",
        "colab_type": "text"
      },
      "source": [
        "Construct a PCA and Random Forest Regressor pipeline. A pipeline is a term for the processing of data until it reaches a form that is usable for the machine learning algorithm. Now there is an actual pipeline module you'll need to use, that streamlines the process of dimension reduction and application of the machine learning algorithm, in this case the random forest regression model. For now, use the first two principal components to construct the pipeline."
      ]
    },
    {
      "cell_type": "code",
      "metadata": {
        "id": "bvSwpPBX4h-z",
        "colab_type": "code",
        "colab": {}
      },
      "source": [
        "pca2 = PCA(n_components=2)#as directed in the notebook, use 2.\n",
        "X_train2 = pca2.fit_transform(X_train)\n",
        "X_test2 = pca2.transform(X_test) \n",
        "\n",
        "rfr = RFR(n_estimators=100)#RFR() is RandomForestRegressor from import above\n",
        "#put n_estimators as 100 since software warns that future default would be 100\n",
        "pipeline = Pipeline(steps=[('pca', pca2), ('randomforest', rfr)])"
      ],
      "execution_count": null,
      "outputs": []
    },
    {
      "cell_type": "code",
      "metadata": {
        "id": "8yXY_PIH4h-1",
        "colab_type": "code",
        "colab": {},
        "outputId": "9fd93ce4-9a8e-448b-98bb-982224836976"
      },
      "source": [
        "X_train2"
      ],
      "execution_count": null,
      "outputs": [
        {
          "output_type": "execute_result",
          "data": {
            "text/plain": [
              "array([[-2.87562553e+03,  3.73849836e+00],\n",
              "       [-2.74755519e+03, -2.53568548e+00],\n",
              "       [ 6.51795225e+02,  8.35825661e+00],\n",
              "       ...,\n",
              "       [ 2.39283048e+03, -2.19319271e+00],\n",
              "       [-2.87562847e+03, -4.05927360e+00],\n",
              "       [ 2.57094102e+03, -2.89423535e+00]])"
            ]
          },
          "metadata": {
            "tags": []
          },
          "execution_count": 86
        }
      ]
    },
    {
      "cell_type": "code",
      "metadata": {
        "id": "fB0bSBDw4h-3",
        "colab_type": "code",
        "colab": {},
        "outputId": "6c36e034-1496-4fec-e610-65c747829ed0"
      },
      "source": [
        "print ('Training data: ', X_train2.shape, y_train.shape)\n",
        "print ('Test data: ', X_test2.shape, y_test.shape)"
      ],
      "execution_count": null,
      "outputs": [
        {
          "output_type": "stream",
          "text": [
            "Training data:  (20000, 2) (20000,)\n",
            "Test data:  (5000, 2) (5000,)\n"
          ],
          "name": "stdout"
        }
      ]
    },
    {
      "cell_type": "markdown",
      "metadata": {
        "id": "rlBGxBI34h-8",
        "colab_type": "text"
      },
      "source": [
        "The above results show that the dimension has reduced from 6 to 2"
      ]
    },
    {
      "cell_type": "markdown",
      "metadata": {
        "id": "wmUq-B3V4h-9",
        "colab_type": "text"
      },
      "source": [
        "##### Cross-validation"
      ]
    },
    {
      "cell_type": "code",
      "metadata": {
        "id": "woF0aQln4h--",
        "colab_type": "code",
        "colab": {},
        "outputId": "b5a4356f-14f9-4260-df97-11f98b9b39f7"
      },
      "source": [
        "\"\"\"\n",
        "Instead of 'just' fitting the pipeline on the training data, \n",
        "I'll do cross-validation too so that I'll know if it's\n",
        "overfitting.\n",
        "This returns an array of values, each having the score for an individual run.\n",
        "cv=10 means that we're doing 10-fold cross validation\n",
        "\"\"\"\n",
        "scores = cross_val_score(pipeline,X_train2,y_train,cv=10,\n",
        "    scoring='neg_mean_squared_error')\n",
        "scores"
      ],
      "execution_count": null,
      "outputs": [
        {
          "output_type": "execute_result",
          "data": {
            "text/plain": [
              "array([-45.16494618, -41.14468122, -40.04975807, -39.1613809 ,\n",
              "       -46.95380805, -47.34081189, -47.21569078, -40.72617854,\n",
              "       -42.58156316, -49.36157744])"
            ]
          },
          "metadata": {
            "tags": []
          },
          "execution_count": 95
        }
      ]
    },
    {
      "cell_type": "code",
      "metadata": {
        "id": "4zpiBS044h_B",
        "colab_type": "code",
        "colab": {},
        "outputId": "4ef6afcd-d9f7-4342-f8c5-a5d22293d15a"
      },
      "source": [
        "print (scores.mean(), scores.std())"
      ],
      "execution_count": null,
      "outputs": [
        {
          "output_type": "stream",
          "text": [
            "-43.9700396237429 3.4672852596006276\n"
          ],
          "name": "stdout"
        }
      ]
    },
    {
      "cell_type": "code",
      "metadata": {
        "id": "DAnWKl3f4h_E",
        "colab_type": "code",
        "colab": {}
      },
      "source": [
        ""
      ],
      "execution_count": null,
      "outputs": []
    },
    {
      "cell_type": "code",
      "metadata": {
        "id": "E7icQP-k4h_H",
        "colab_type": "code",
        "colab": {}
      },
      "source": [
        "model = pipeline.fit(X_train2, y_train)"
      ],
      "execution_count": null,
      "outputs": []
    },
    {
      "cell_type": "code",
      "metadata": {
        "id": "6cPYl0Wo4h_P",
        "colab_type": "code",
        "colab": {},
        "outputId": "701d7345-b7f9-4cb5-f1e6-a2c9dc0dd063"
      },
      "source": [
        "pipeline.score(X_train2, y_train)"
      ],
      "execution_count": null,
      "outputs": [
        {
          "output_type": "execute_result",
          "data": {
            "text/plain": [
              "0.9999839120321651"
            ]
          },
          "metadata": {
            "tags": []
          },
          "execution_count": 90
        }
      ]
    },
    {
      "cell_type": "code",
      "metadata": {
        "id": "1APLy8Un4h_R",
        "colab_type": "code",
        "colab": {}
      },
      "source": [
        "y_pred = pipeline.predict(X_test2)"
      ],
      "execution_count": null,
      "outputs": []
    },
    {
      "cell_type": "code",
      "metadata": {
        "id": "Aqi0gX4B4h_V",
        "colab_type": "code",
        "colab": {},
        "outputId": "624145f7-ea26-4b5a-cd47-714487eb19cd"
      },
      "source": [
        "# Score\n",
        "pipeline.score(X_test2, y_test)"
      ],
      "execution_count": null,
      "outputs": [
        {
          "output_type": "execute_result",
          "data": {
            "text/plain": [
              "0.9998549239606345"
            ]
          },
          "metadata": {
            "tags": []
          },
          "execution_count": 92
        }
      ]
    },
    {
      "cell_type": "markdown",
      "metadata": {
        "id": "p-xbXgEV4h_f",
        "colab_type": "text"
      },
      "source": [
        "The scores between test and training data differs by an extremely small margin"
      ]
    },
    {
      "cell_type": "code",
      "metadata": {
        "id": "SRHZRWTj4h_g",
        "colab_type": "code",
        "colab": {}
      },
      "source": [
        ""
      ],
      "execution_count": null,
      "outputs": []
    },
    {
      "cell_type": "markdown",
      "metadata": {
        "id": "0cKWgn3E4h_k",
        "colab_type": "text"
      },
      "source": [
        "### Plot the principal components"
      ]
    },
    {
      "cell_type": "markdown",
      "metadata": {
        "id": "sn9jLdaI4h_k",
        "colab_type": "text"
      },
      "source": [
        "Select the first two components and display them. As rule of thumb, the first two components are selected as they are easier to display in a 2-dimensions."
      ]
    },
    {
      "cell_type": "code",
      "metadata": {
        "id": "MCfsS6lT4h_k",
        "colab_type": "code",
        "colab": {},
        "outputId": "0065d713-d3bc-4783-b327-ca7034d83005"
      },
      "source": [
        "y_train"
      ],
      "execution_count": null,
      "outputs": [
        {
          "output_type": "execute_result",
          "data": {
            "text/plain": [
              "array([-1.2800000e+00,  1.2990000e+01,  6.2764001e+02, ...,\n",
              "        9.8988000e+02, -2.0999999e-01,  1.0286100e+03])"
            ]
          },
          "metadata": {
            "tags": []
          },
          "execution_count": 100
        }
      ]
    },
    {
      "cell_type": "code",
      "metadata": {
        "id": "PXsxCjBG4h_n",
        "colab_type": "code",
        "colab": {},
        "outputId": "e2d02604-c62a-4970-bad8-26df251170be"
      },
      "source": [
        "plt.figure()\n",
        "colors = ['turquoise', 'navy', 'darkorange']\n",
        "lw = 2\n",
        "\n",
        "for color, i, target_name in zip(colors, [0, 1], [0, 1]):\n",
        "    plt.scatter(X_train2[y_train==i, 0], X_train2[y_train==i, 1], color=color, alpha=.8, lw=lw,\n",
        "                label=target_name)\n",
        "plt.legend(loc='best', shadow=False, scatterpoints=1)\n",
        "plt.title('PCA')\n",
        "\n",
        "plt.show()"
      ],
      "execution_count": null,
      "outputs": [
        {
          "output_type": "display_data",
          "data": {
            "image/png": "[encoded data removed]",
            "text/plain": [
              "<Figure size 432x288 with 1 Axes>"
            ]
          },
          "metadata": {
            "tags": [],
            "needs_background": "light"
          }
        }
      ]
    },
    {
      "cell_type": "markdown",
      "metadata": {
        "id": "icZpzPz34h_2",
        "colab_type": "text"
      },
      "source": [
        "### Split dataset in training and test sets"
      ]
    },
    {
      "cell_type": "markdown",
      "metadata": {
        "id": "JiaaEB4H4h_4",
        "colab_type": "text"
      },
      "source": [
        "Split the data into training and test sets and use the pipeline to fit and test the model."
      ]
    },
    {
      "cell_type": "markdown",
      "metadata": {
        "id": "7iR3QAXX4h_4",
        "colab_type": "text"
      },
      "source": [
        "This has been done above already"
      ]
    },
    {
      "cell_type": "code",
      "metadata": {
        "id": "Thr0O1aH4h_5",
        "colab_type": "code",
        "colab": {}
      },
      "source": [
        ""
      ],
      "execution_count": null,
      "outputs": []
    },
    {
      "cell_type": "markdown",
      "metadata": {
        "id": "fdMkLc7p4h_9",
        "colab_type": "text"
      },
      "source": [
        "### Evaluate the results"
      ]
    },
    {
      "cell_type": "markdown",
      "metadata": {
        "id": "rF0ILaPn4h_9",
        "colab_type": "text"
      },
      "source": [
        "Using the `sklearn.metrics` moduel determine the accuracy score, i.e., the coefficient of determination $R^2$ of the prediction."
      ]
    },
    {
      "cell_type": "code",
      "metadata": {
        "id": "j3DOfagD4h__",
        "colab_type": "code",
        "colab": {},
        "outputId": "fae7519e-35be-4506-ca89-b807d6984e1a"
      },
      "source": [
        "print('Mean Absolute Error:', metrics.mean_absolute_error(y_test, y_pred))\n",
        "print('Mean Squared Error:', metrics.mean_squared_error(y_test, y_pred))\n",
        "print('Root Mean Squared Error:', np.sqrt(metrics.mean_squared_error(y_test, y_pred)))"
      ],
      "execution_count": null,
      "outputs": [
        {
          "output_type": "stream",
          "text": [
            "Mean Absolute Error: 3.4981341310289857\n",
            "Mean Squared Error: 54.45085745832785\n",
            "Root Mean Squared Error: 7.3790824265844766\n"
          ],
          "name": "stdout"
        }
      ]
    },
    {
      "cell_type": "code",
      "metadata": {
        "id": "PcqW0Zun4iAC",
        "colab_type": "code",
        "colab": {}
      },
      "source": [
        "from sklearn.metrics import r2_score"
      ],
      "execution_count": null,
      "outputs": []
    },
    {
      "cell_type": "code",
      "metadata": {
        "id": "J9elAXVy4iAG",
        "colab_type": "code",
        "colab": {},
        "outputId": "810f339d-9b02-4be9-f603-7974c7888410"
      },
      "source": [
        "r2_score(y_test, y_pred)"
      ],
      "execution_count": null,
      "outputs": [
        {
          "output_type": "execute_result",
          "data": {
            "text/plain": [
              "0.9998549239606345"
            ]
          },
          "metadata": {
            "tags": []
          },
          "execution_count": 94
        }
      ]
    },
    {
      "cell_type": "code",
      "metadata": {
        "id": "owGajvRn4iAJ",
        "colab_type": "code",
        "colab": {},
        "outputId": "0423e247-f96f-4259-c9c8-e8aa2854c902"
      },
      "source": [
        "mean_squared_error(y_test, y_pred)"
      ],
      "execution_count": null,
      "outputs": [
        {
          "output_type": "execute_result",
          "data": {
            "text/plain": [
              "54.45085745832785"
            ]
          },
          "metadata": {
            "tags": []
          },
          "execution_count": 102
        }
      ]
    },
    {
      "cell_type": "markdown",
      "metadata": {
        "id": "PmQM7epf4iAO",
        "colab_type": "text"
      },
      "source": [
        "An r2 score of 0.99 is generally a good score"
      ]
    },
    {
      "cell_type": "markdown",
      "metadata": {
        "id": "DbM5GCl_4iAO",
        "colab_type": "text"
      },
      "source": [
        "### References"
      ]
    },
    {
      "cell_type": "markdown",
      "metadata": {
        "id": "o0Oya6qK4iAQ",
        "colab_type": "text"
      },
      "source": [
        "Referred to for determination of input features to predict power output: [Forecasting Wind Power](https://lucdemortier.github.io/articles/17/WindPower).\n",
        "\n",
        "[Selecting good features – Part IV: stability selection, RFE and everything side by side](http://blog.datadive.net/selecting-good-features-part-iv-stability-selection-rfe-and-everything-side-by-side/)"
      ]
    },
    {
      "cell_type": "code",
      "metadata": {
        "id": "3EsKO1PQ4iAR",
        "colab_type": "code",
        "colab": {}
      },
      "source": [
        ""
      ],
      "execution_count": null,
      "outputs": []
    }
  ]
}