{
  "nbformat": 4,
  "nbformat_minor": 0,
  "metadata": {
    "kernelspec": {
      "display_name": "Python 3",
      "language": "python",
      "name": "python3"
    },
    "language_info": {
      "codemirror_mode": {
        "name": "ipython",
        "version": 3
      },
      "file_extension": ".py",
      "mimetype": "text/x-python",
      "name": "python",
      "nbconvert_exporter": "python",
      "pygments_lexer": "ipython3",
      "version": "3.7.1"
    },
    "colab": {
      "name": "Hypothesis and ANOVAs.ipynb",
      "provenance": [],
      "include_colab_link": true
    }
  },
  "cells": [
    {
      "cell_type": "markdown",
      "metadata": {
        "id": "view-in-github",
        "colab_type": "text"
      },
      "source": [
        "<a href=\"https://colab.research.google.com/github/FunmiSomoye/School-Projects/blob/master/Hypothesis_and_ANOVAs.ipynb\" target=\"_parent\"><img src=\"https://colab.research.google.com/assets/colab-badge.svg\" alt=\"Open In Colab\"/></a>"
      ]
    },
    {
      "cell_type": "markdown",
      "metadata": {
        "id": "YnoS0QFitcQB",
        "colab_type": "text"
      },
      "source": [
        "# Assessment\n",
        "\n",
        "### Funmi Somoye"
      ]
    },
    {
      "cell_type": "markdown",
      "metadata": {
        "id": "sTJtgjgotcQD",
        "colab_type": "text"
      },
      "source": [
        "## About the data\n",
        "\n",
        "Researchers conducted a random trial on the treatment of fibromyalgia. Fibromyalgia is a condition where the body suffers from chronic, localized pain and as a result affects a sufferer's psyche among many other symptoms. There is no cure for fibromyalgia except to manage the pain. We obtained a dataset that has 50 observations and 11 variables. The variables are sex, BMI, duration of treatement, age, treatment, coexists i.e. other health issues, FIQ_baseline, FIQ_12W, and FIQ_24W scores. \n",
        "\n",
        "Treatment is measured using the severity of the symptoms immediately before the treatment was started (FIQ-baseline) and after 12 weeks of treatment (FIQ-12W) and 24 weeks of treatment (FIQ-24W). Let us look to see if the tai chi treatment relieves pain after 12 weeks. That is, we want to determine if there is a difference in pain severity given the tai chi treatment. "
      ]
    },
    {
      "cell_type": "markdown",
      "metadata": {
        "id": "ptOKPAMatcQE",
        "colab_type": "text"
      },
      "source": [
        "### Question 1\n",
        "\n",
        "Using the taiChiData.csv dataset, study the effect of treatment after 24 weeks. \n"
      ]
    },
    {
      "cell_type": "code",
      "metadata": {
        "id": "o0fuPngitcQE",
        "colab_type": "code",
        "colab": {}
      },
      "source": [
        "import matplotlib.pyplot as plt\n",
        "from numpy import arange\n",
        "import scipy.stats as scs\n",
        "import pandas as pd\n",
        "import seaborn as sns\n",
        "import random as rnd\n",
        "import numpy as np\n",
        "from matplotlib.legend import Legend"
      ],
      "execution_count": null,
      "outputs": []
    },
    {
      "cell_type": "code",
      "metadata": {
        "id": "3mFQPwuTtcQJ",
        "colab_type": "code",
        "colab": {}
      },
      "source": [
        "%matplotlib inline"
      ],
      "execution_count": null,
      "outputs": []
    },
    {
      "cell_type": "code",
      "metadata": {
        "id": "l2RQUOIPtcQM",
        "colab_type": "code",
        "colab": {}
      },
      "source": [
        "data = pd.read_csv('taiChiData.csv', sep=',')"
      ],
      "execution_count": null,
      "outputs": []
    },
    {
      "cell_type": "code",
      "metadata": {
        "id": "xag5NTyZtcQQ",
        "colab_type": "code",
        "colab": {},
        "outputId": "a71a52b2-2462-416b-94cb-9580b8359957"
      },
      "source": [
        "data.head()"
      ],
      "execution_count": null,
      "outputs": [
        {
          "output_type": "execute_result",
          "data": {
            "text/html": [
              "<div>\n",
              "<style scoped>\n",
              "    .dataframe tbody tr th:only-of-type {\n",
              "        vertical-align: middle;\n",
              "    }\n",
              "\n",
              "    .dataframe tbody tr th {\n",
              "        vertical-align: top;\n",
              "    }\n",
              "\n",
              "    .dataframe thead th {\n",
              "        text-align: right;\n",
              "    }\n",
              "</style>\n",
              "<table border=\"1\" class=\"dataframe\">\n",
              "  <thead>\n",
              "    <tr style=\"text-align: right;\">\n",
              "      <th></th>\n",
              "      <th>Unnamed: 0</th>\n",
              "      <th>Id</th>\n",
              "      <th>sex</th>\n",
              "      <th>BMI</th>\n",
              "      <th>duration</th>\n",
              "      <th>age</th>\n",
              "      <th>treatment</th>\n",
              "      <th>coexists</th>\n",
              "      <th>FIQ_baseline</th>\n",
              "      <th>FIQ_12W</th>\n",
              "      <th>FIQ_24W</th>\n",
              "    </tr>\n",
              "  </thead>\n",
              "  <tbody>\n",
              "    <tr>\n",
              "      <th>0</th>\n",
              "      <td>1</td>\n",
              "      <td>22</td>\n",
              "      <td>1</td>\n",
              "      <td>45.9</td>\n",
              "      <td>13.3</td>\n",
              "      <td>56.25</td>\n",
              "      <td>control</td>\n",
              "      <td>none</td>\n",
              "      <td>57.0</td>\n",
              "      <td>52.0</td>\n",
              "      <td>50.0</td>\n",
              "    </tr>\n",
              "    <tr>\n",
              "      <th>1</th>\n",
              "      <td>2</td>\n",
              "      <td>11</td>\n",
              "      <td>1</td>\n",
              "      <td>28.7</td>\n",
              "      <td>9.2</td>\n",
              "      <td>47.21</td>\n",
              "      <td>control</td>\n",
              "      <td>hypertension</td>\n",
              "      <td>85.0</td>\n",
              "      <td>88.0</td>\n",
              "      <td>85.0</td>\n",
              "    </tr>\n",
              "    <tr>\n",
              "      <th>2</th>\n",
              "      <td>3</td>\n",
              "      <td>36</td>\n",
              "      <td>1</td>\n",
              "      <td>35.5</td>\n",
              "      <td>6.7</td>\n",
              "      <td>59.56</td>\n",
              "      <td>tai chi</td>\n",
              "      <td>hypertension</td>\n",
              "      <td>83.0</td>\n",
              "      <td>68.0</td>\n",
              "      <td>68.0</td>\n",
              "    </tr>\n",
              "    <tr>\n",
              "      <th>3</th>\n",
              "      <td>4</td>\n",
              "      <td>1</td>\n",
              "      <td>1</td>\n",
              "      <td>29.8</td>\n",
              "      <td>17.1</td>\n",
              "      <td>43.44</td>\n",
              "      <td>control</td>\n",
              "      <td>diabetes</td>\n",
              "      <td>74.0</td>\n",
              "      <td>60.0</td>\n",
              "      <td>62.0</td>\n",
              "    </tr>\n",
              "    <tr>\n",
              "      <th>4</th>\n",
              "      <td>5</td>\n",
              "      <td>9</td>\n",
              "      <td>1</td>\n",
              "      <td>34.0</td>\n",
              "      <td>12.2</td>\n",
              "      <td>49.99</td>\n",
              "      <td>control</td>\n",
              "      <td>heart disease</td>\n",
              "      <td>68.0</td>\n",
              "      <td>55.0</td>\n",
              "      <td>56.0</td>\n",
              "    </tr>\n",
              "  </tbody>\n",
              "</table>\n",
              "</div>"
            ],
            "text/plain": [
              "   Unnamed: 0  Id  sex   BMI  duration    age treatment       coexists  \\\n",
              "0           1  22    1  45.9      13.3  56.25   control           none   \n",
              "1           2  11    1  28.7       9.2  47.21   control   hypertension   \n",
              "2           3  36    1  35.5       6.7  59.56   tai chi   hypertension   \n",
              "3           4   1    1  29.8      17.1  43.44   control       diabetes   \n",
              "4           5   9    1  34.0      12.2  49.99   control  heart disease   \n",
              "\n",
              "   FIQ_baseline  FIQ_12W  FIQ_24W  \n",
              "0          57.0     52.0     50.0  \n",
              "1          85.0     88.0     85.0  \n",
              "2          83.0     68.0     68.0  \n",
              "3          74.0     60.0     62.0  \n",
              "4          68.0     55.0     56.0  "
            ]
          },
          "metadata": {
            "tags": []
          },
          "execution_count": 4
        }
      ]
    },
    {
      "cell_type": "code",
      "metadata": {
        "id": "k3zJhGqTtcQX",
        "colab_type": "code",
        "colab": {},
        "outputId": "b0d1ca45-9076-4574-e59c-85a82823d3e8"
      },
      "source": [
        "#see column and row size of dataset\n",
        "data.shape"
      ],
      "execution_count": null,
      "outputs": [
        {
          "output_type": "execute_result",
          "data": {
            "text/plain": [
              "(50, 11)"
            ]
          },
          "metadata": {
            "tags": []
          },
          "execution_count": 4
        }
      ]
    },
    {
      "cell_type": "markdown",
      "metadata": {
        "id": "OvhZS699tcQa",
        "colab_type": "text"
      },
      "source": [
        "#### Question 1.1\n",
        "Plot a box-and-whisker plot to see the mean difference between 24 weeks and the baseline. Formulate a hypothesis about treatment after 24 weeks. Interpret the results obtained.\n"
      ]
    },
    {
      "cell_type": "markdown",
      "metadata": {
        "collapsed": true,
        "id": "MMwC1Jo3tcQb",
        "colab_type": "text"
      },
      "source": [
        "# your answer"
      ]
    },
    {
      "cell_type": "code",
      "metadata": {
        "id": "u0QJbJpXtcQc",
        "colab_type": "code",
        "colab": {},
        "outputId": "88ec4bb3-9603-4af6-b1dd-ce5a1a3f961e"
      },
      "source": [
        "data.isnull().any() #Check for any missing value"
      ],
      "execution_count": null,
      "outputs": [
        {
          "output_type": "execute_result",
          "data": {
            "text/plain": [
              "Unnamed: 0      False\n",
              "Id              False\n",
              "sex             False\n",
              "BMI             False\n",
              "duration        False\n",
              "age             False\n",
              "treatment       False\n",
              "coexists         True\n",
              "FIQ_baseline     True\n",
              "FIQ_12W          True\n",
              "FIQ_24W          True\n",
              "dtype: bool"
            ]
          },
          "metadata": {
            "tags": []
          },
          "execution_count": 5
        }
      ]
    },
    {
      "cell_type": "code",
      "metadata": {
        "id": "NV5C1phjtcQi",
        "colab_type": "code",
        "colab": {},
        "outputId": "d0cf6c34-1281-4089-cfcf-bae540bd32bd"
      },
      "source": [
        "data.isnull().sum(axis=0) #Sum missing values in columns"
      ],
      "execution_count": null,
      "outputs": [
        {
          "output_type": "execute_result",
          "data": {
            "text/plain": [
              "Unnamed: 0      0\n",
              "Id              0\n",
              "sex             0\n",
              "BMI             0\n",
              "duration        0\n",
              "age             0\n",
              "treatment       0\n",
              "coexists        3\n",
              "FIQ_baseline    4\n",
              "FIQ_12W         3\n",
              "FIQ_24W         1\n",
              "dtype: int64"
            ]
          },
          "metadata": {
            "tags": []
          },
          "execution_count": 6
        }
      ]
    },
    {
      "cell_type": "code",
      "metadata": {
        "id": "0CbJCYevtcQo",
        "colab_type": "code",
        "colab": {}
      },
      "source": [
        "#Since it is a clinical trial dataset, drop all the missing values in the dataset\n",
        "data.dropna(inplace=True)"
      ],
      "execution_count": null,
      "outputs": []
    },
    {
      "cell_type": "code",
      "metadata": {
        "id": "zTE9vc9GtcQr",
        "colab_type": "code",
        "colab": {},
        "outputId": "01f2069d-391e-4e51-a166-605106b57104"
      },
      "source": [
        "#confirm that missing values have been removed\n",
        "data.isnull().sum(axis=0) "
      ],
      "execution_count": null,
      "outputs": [
        {
          "output_type": "execute_result",
          "data": {
            "text/plain": [
              "Unnamed: 0      0\n",
              "Id              0\n",
              "sex             0\n",
              "BMI             0\n",
              "duration        0\n",
              "age             0\n",
              "treatment       0\n",
              "coexists        0\n",
              "FIQ_baseline    0\n",
              "FIQ_12W         0\n",
              "FIQ_24W         0\n",
              "dtype: int64"
            ]
          },
          "metadata": {
            "tags": []
          },
          "execution_count": 8
        }
      ]
    },
    {
      "cell_type": "code",
      "metadata": {
        "id": "c19fphtytcQu",
        "colab_type": "code",
        "colab": {},
        "outputId": "bbca90c8-9c58-4085-ddcd-46d89064fb5f"
      },
      "source": [
        "#see size of new dataset\n",
        "data.shape"
      ],
      "execution_count": null,
      "outputs": [
        {
          "output_type": "execute_result",
          "data": {
            "text/plain": [
              "(39, 11)"
            ]
          },
          "metadata": {
            "tags": []
          },
          "execution_count": 7
        }
      ]
    },
    {
      "cell_type": "code",
      "metadata": {
        "id": "4Hp5dBVotcQy",
        "colab_type": "code",
        "colab": {},
        "outputId": "ea647a1d-3bc3-476f-8528-ff03ba59eedc"
      },
      "source": [
        "#see summary statistics of the data\n",
        "data.describe()"
      ],
      "execution_count": null,
      "outputs": [
        {
          "output_type": "execute_result",
          "data": {
            "text/html": [
              "<div>\n",
              "<style scoped>\n",
              "    .dataframe tbody tr th:only-of-type {\n",
              "        vertical-align: middle;\n",
              "    }\n",
              "\n",
              "    .dataframe tbody tr th {\n",
              "        vertical-align: top;\n",
              "    }\n",
              "\n",
              "    .dataframe thead th {\n",
              "        text-align: right;\n",
              "    }\n",
              "</style>\n",
              "<table border=\"1\" class=\"dataframe\">\n",
              "  <thead>\n",
              "    <tr style=\"text-align: right;\">\n",
              "      <th></th>\n",
              "      <th>Unnamed: 0</th>\n",
              "      <th>Id</th>\n",
              "      <th>sex</th>\n",
              "      <th>BMI</th>\n",
              "      <th>duration</th>\n",
              "      <th>age</th>\n",
              "      <th>FIQ_baseline</th>\n",
              "      <th>FIQ_12W</th>\n",
              "      <th>FIQ_24W</th>\n",
              "    </tr>\n",
              "  </thead>\n",
              "  <tbody>\n",
              "    <tr>\n",
              "      <th>count</th>\n",
              "      <td>39.000000</td>\n",
              "      <td>39.000000</td>\n",
              "      <td>39.000000</td>\n",
              "      <td>39.000000</td>\n",
              "      <td>39.000000</td>\n",
              "      <td>39.000000</td>\n",
              "      <td>39.000000</td>\n",
              "      <td>39.000000</td>\n",
              "      <td>39.000000</td>\n",
              "    </tr>\n",
              "    <tr>\n",
              "      <th>mean</th>\n",
              "      <td>24.641026</td>\n",
              "      <td>25.615385</td>\n",
              "      <td>0.769231</td>\n",
              "      <td>33.871795</td>\n",
              "      <td>12.841026</td>\n",
              "      <td>49.797692</td>\n",
              "      <td>66.128205</td>\n",
              "      <td>59.256410</td>\n",
              "      <td>59.487179</td>\n",
              "    </tr>\n",
              "    <tr>\n",
              "      <th>std</th>\n",
              "      <td>14.243165</td>\n",
              "      <td>14.805076</td>\n",
              "      <td>0.426833</td>\n",
              "      <td>6.299204</td>\n",
              "      <td>4.284778</td>\n",
              "      <td>7.630660</td>\n",
              "      <td>11.927808</td>\n",
              "      <td>12.552454</td>\n",
              "      <td>12.744187</td>\n",
              "    </tr>\n",
              "    <tr>\n",
              "      <th>min</th>\n",
              "      <td>1.000000</td>\n",
              "      <td>1.000000</td>\n",
              "      <td>0.000000</td>\n",
              "      <td>20.300000</td>\n",
              "      <td>-1.800000</td>\n",
              "      <td>34.660000</td>\n",
              "      <td>42.000000</td>\n",
              "      <td>32.000000</td>\n",
              "      <td>38.000000</td>\n",
              "    </tr>\n",
              "    <tr>\n",
              "      <th>25%</th>\n",
              "      <td>14.000000</td>\n",
              "      <td>13.000000</td>\n",
              "      <td>1.000000</td>\n",
              "      <td>30.200000</td>\n",
              "      <td>10.850000</td>\n",
              "      <td>44.295000</td>\n",
              "      <td>58.500000</td>\n",
              "      <td>51.000000</td>\n",
              "      <td>49.500000</td>\n",
              "    </tr>\n",
              "    <tr>\n",
              "      <th>50%</th>\n",
              "      <td>24.000000</td>\n",
              "      <td>25.000000</td>\n",
              "      <td>1.000000</td>\n",
              "      <td>34.000000</td>\n",
              "      <td>13.300000</td>\n",
              "      <td>49.990000</td>\n",
              "      <td>66.000000</td>\n",
              "      <td>59.000000</td>\n",
              "      <td>58.000000</td>\n",
              "    </tr>\n",
              "    <tr>\n",
              "      <th>75%</th>\n",
              "      <td>35.500000</td>\n",
              "      <td>38.000000</td>\n",
              "      <td>1.000000</td>\n",
              "      <td>38.150000</td>\n",
              "      <td>16.300000</td>\n",
              "      <td>56.020000</td>\n",
              "      <td>78.000000</td>\n",
              "      <td>68.500000</td>\n",
              "      <td>69.500000</td>\n",
              "    </tr>\n",
              "    <tr>\n",
              "      <th>max</th>\n",
              "      <td>50.000000</td>\n",
              "      <td>50.000000</td>\n",
              "      <td>1.000000</td>\n",
              "      <td>45.900000</td>\n",
              "      <td>19.800000</td>\n",
              "      <td>62.730000</td>\n",
              "      <td>85.000000</td>\n",
              "      <td>88.000000</td>\n",
              "      <td>85.000000</td>\n",
              "    </tr>\n",
              "  </tbody>\n",
              "</table>\n",
              "</div>"
            ],
            "text/plain": [
              "       Unnamed: 0         Id        sex        BMI   duration        age  \\\n",
              "count   39.000000  39.000000  39.000000  39.000000  39.000000  39.000000   \n",
              "mean    24.641026  25.615385   0.769231  33.871795  12.841026  49.797692   \n",
              "std     14.243165  14.805076   0.426833   6.299204   4.284778   7.630660   \n",
              "min      1.000000   1.000000   0.000000  20.300000  -1.800000  34.660000   \n",
              "25%     14.000000  13.000000   1.000000  30.200000  10.850000  44.295000   \n",
              "50%     24.000000  25.000000   1.000000  34.000000  13.300000  49.990000   \n",
              "75%     35.500000  38.000000   1.000000  38.150000  16.300000  56.020000   \n",
              "max     50.000000  50.000000   1.000000  45.900000  19.800000  62.730000   \n",
              "\n",
              "       FIQ_baseline    FIQ_12W    FIQ_24W  \n",
              "count     39.000000  39.000000  39.000000  \n",
              "mean      66.128205  59.256410  59.487179  \n",
              "std       11.927808  12.552454  12.744187  \n",
              "min       42.000000  32.000000  38.000000  \n",
              "25%       58.500000  51.000000  49.500000  \n",
              "50%       66.000000  59.000000  58.000000  \n",
              "75%       78.000000  68.500000  69.500000  \n",
              "max       85.000000  88.000000  85.000000  "
            ]
          },
          "metadata": {
            "tags": []
          },
          "execution_count": 9
        }
      ]
    },
    {
      "cell_type": "markdown",
      "metadata": {
        "id": "lrIzglkBtcQ2",
        "colab_type": "text"
      },
      "source": [
        "General Distribution"
      ]
    },
    {
      "cell_type": "code",
      "metadata": {
        "id": "rJmEwHc-tcQ2",
        "colab_type": "code",
        "colab": {},
        "outputId": "8e1bce36-9f99-41dc-f519-9125d7e1e9c8"
      },
      "source": [
        "#box plot of taichi treatment at the beginning and after 24 weeks\n",
        "fig = plt.figure(figsize=(10, 6))\n",
        "sns.boxplot(data=data[['FIQ_baseline','FIQ_24W']] , orient='v', showfliers=True) \n",
        "plt.title('General Pain Severity Distribution Before Treatment vs After 24Weeks Treatment', size = 15)"
      ],
      "execution_count": null,
      "outputs": [
        {
          "output_type": "execute_result",
          "data": {
            "text/plain": [
              "Text(0.5, 1.0, 'General Pain Severity Distribution Before Treatment vs After 24Weeks Treatment')"
            ]
          },
          "metadata": {
            "tags": []
          },
          "execution_count": 129
        },
        {
          "output_type": "display_data",
          "data": {
            "image/png": "[encoded data removed]",
            "text/plain": [
              "<Figure size 720x432 with 1 Axes>"
            ]
          },
          "metadata": {
            "tags": [],
            "needs_background": "light"
          }
        }
      ]
    },
    {
      "cell_type": "markdown",
      "metadata": {
        "id": "5OSkT3h8tcQ6",
        "colab_type": "text"
      },
      "source": [
        "There are no outliers for the performance after 24weeks of treatment. This data can be trusted for integrity.\n",
        "\n",
        "The median for the 24weeks distribution is less than that of Before treatment.\n",
        "Although the boxplots overlap (showing similarity of data) even up to the whiskers at the top, majority of the data points after 24 weeks of Control treatment are at a general minimum value than for Before treatment.\n",
        "The lower whiskers for the data after 24Weeks treatment, is lower than for before treatment. \n",
        "This is also shown by the medians. The distribution of Pain severity data after 24weeks of treatment median is lower than for Before treatment. \n",
        "\n",
        "So although from the top, it does look like some patients experienced no reduction, the box, the median, as well as the lower whiskers, shows a general decrease in pain severity after 24 weeks of treatment."
      ]
    },
    {
      "cell_type": "code",
      "metadata": {
        "id": "7njqGBh7tcQ6",
        "colab_type": "code",
        "colab": {},
        "outputId": "20b63464-46ac-427f-a827-9379554bf16c"
      },
      "source": [
        "#compute mean difference of both data\n",
        "print(abs(data['FIQ_baseline'].mean() - data['FIQ_24W'].mean()))"
      ],
      "execution_count": null,
      "outputs": [
        {
          "output_type": "stream",
          "text": [
            "6.641025641025635\n"
          ],
          "name": "stdout"
        }
      ]
    },
    {
      "cell_type": "markdown",
      "metadata": {
        "id": "r-XVhud7tcQ9",
        "colab_type": "text"
      },
      "source": [
        "On average, there is a difference in the pain severity before and after treatment of any type, of 6.641. \n",
        "This confirms the observation from the boxplots comparison that there is generally a decrease in pain severity after 24weeks of treatment."
      ]
    },
    {
      "cell_type": "markdown",
      "metadata": {
        "id": "i3w4SnqEtcQ9",
        "colab_type": "text"
      },
      "source": [
        "#### Analyse data by treatment. \n",
        "##### Thus, split data by treatment."
      ]
    },
    {
      "cell_type": "code",
      "metadata": {
        "id": "cL9MfXO6tcQ-",
        "colab_type": "code",
        "colab": {}
      },
      "source": [
        "control = data[data.treatment== 'control'] #control treatment data\n",
        "taiChi = data[data.treatment == 'tai chi'] #taichi treatment data"
      ],
      "execution_count": null,
      "outputs": []
    },
    {
      "cell_type": "code",
      "metadata": {
        "id": "qckDX5wGtcRB",
        "colab_type": "code",
        "colab": {},
        "outputId": "dbb10a1d-5487-48a5-b3f1-8e1358c3ae87"
      },
      "source": [
        "taiChi.shape"
      ],
      "execution_count": null,
      "outputs": [
        {
          "output_type": "execute_result",
          "data": {
            "text/plain": [
              "(13, 11)"
            ]
          },
          "metadata": {
            "tags": []
          },
          "execution_count": 79
        }
      ]
    },
    {
      "cell_type": "code",
      "metadata": {
        "id": "sAiyPJJktcRE",
        "colab_type": "code",
        "colab": {},
        "outputId": "561e59ad-e7ec-4800-d71a-585f9629ae0e"
      },
      "source": [
        "taiChi.head()"
      ],
      "execution_count": null,
      "outputs": [
        {
          "output_type": "execute_result",
          "data": {
            "text/html": [
              "<div>\n",
              "<style scoped>\n",
              "    .dataframe tbody tr th:only-of-type {\n",
              "        vertical-align: middle;\n",
              "    }\n",
              "\n",
              "    .dataframe tbody tr th {\n",
              "        vertical-align: top;\n",
              "    }\n",
              "\n",
              "    .dataframe thead th {\n",
              "        text-align: right;\n",
              "    }\n",
              "</style>\n",
              "<table border=\"1\" class=\"dataframe\">\n",
              "  <thead>\n",
              "    <tr style=\"text-align: right;\">\n",
              "      <th></th>\n",
              "      <th>Unnamed: 0</th>\n",
              "      <th>Id</th>\n",
              "      <th>sex</th>\n",
              "      <th>BMI</th>\n",
              "      <th>duration</th>\n",
              "      <th>age</th>\n",
              "      <th>treatment</th>\n",
              "      <th>coexists</th>\n",
              "      <th>FIQ_baseline</th>\n",
              "      <th>FIQ_12W</th>\n",
              "      <th>FIQ_24W</th>\n",
              "    </tr>\n",
              "  </thead>\n",
              "  <tbody>\n",
              "    <tr>\n",
              "      <th>2</th>\n",
              "      <td>3</td>\n",
              "      <td>36</td>\n",
              "      <td>1</td>\n",
              "      <td>35.5</td>\n",
              "      <td>6.7</td>\n",
              "      <td>59.56</td>\n",
              "      <td>tai chi</td>\n",
              "      <td>hypertension</td>\n",
              "      <td>83.0</td>\n",
              "      <td>68.0</td>\n",
              "      <td>68.0</td>\n",
              "    </tr>\n",
              "    <tr>\n",
              "      <th>8</th>\n",
              "      <td>9</td>\n",
              "      <td>32</td>\n",
              "      <td>1</td>\n",
              "      <td>38.8</td>\n",
              "      <td>14.5</td>\n",
              "      <td>36.95</td>\n",
              "      <td>tai chi</td>\n",
              "      <td>none</td>\n",
              "      <td>61.0</td>\n",
              "      <td>48.0</td>\n",
              "      <td>49.0</td>\n",
              "    </tr>\n",
              "    <tr>\n",
              "      <th>14</th>\n",
              "      <td>15</td>\n",
              "      <td>34</td>\n",
              "      <td>0</td>\n",
              "      <td>20.8</td>\n",
              "      <td>3.3</td>\n",
              "      <td>43.69</td>\n",
              "      <td>tai chi</td>\n",
              "      <td>none</td>\n",
              "      <td>68.0</td>\n",
              "      <td>65.0</td>\n",
              "      <td>58.0</td>\n",
              "    </tr>\n",
              "    <tr>\n",
              "      <th>24</th>\n",
              "      <td>25</td>\n",
              "      <td>24</td>\n",
              "      <td>1</td>\n",
              "      <td>37.3</td>\n",
              "      <td>14.6</td>\n",
              "      <td>48.87</td>\n",
              "      <td>tai chi</td>\n",
              "      <td>diabetes</td>\n",
              "      <td>85.0</td>\n",
              "      <td>69.0</td>\n",
              "      <td>74.0</td>\n",
              "    </tr>\n",
              "    <tr>\n",
              "      <th>25</th>\n",
              "      <td>26</td>\n",
              "      <td>14</td>\n",
              "      <td>0</td>\n",
              "      <td>22.5</td>\n",
              "      <td>16.6</td>\n",
              "      <td>56.16</td>\n",
              "      <td>tai chi</td>\n",
              "      <td>hypertension</td>\n",
              "      <td>67.0</td>\n",
              "      <td>65.0</td>\n",
              "      <td>57.0</td>\n",
              "    </tr>\n",
              "  </tbody>\n",
              "</table>\n",
              "</div>"
            ],
            "text/plain": [
              "    Unnamed: 0  Id  sex   BMI  duration    age treatment      coexists  \\\n",
              "2            3  36    1  35.5       6.7  59.56   tai chi  hypertension   \n",
              "8            9  32    1  38.8      14.5  36.95   tai chi          none   \n",
              "14          15  34    0  20.8       3.3  43.69   tai chi          none   \n",
              "24          25  24    1  37.3      14.6  48.87   tai chi      diabetes   \n",
              "25          26  14    0  22.5      16.6  56.16   tai chi  hypertension   \n",
              "\n",
              "    FIQ_baseline  FIQ_12W  FIQ_24W  \n",
              "2           83.0     68.0     68.0  \n",
              "8           61.0     48.0     49.0  \n",
              "14          68.0     65.0     58.0  \n",
              "24          85.0     69.0     74.0  \n",
              "25          67.0     65.0     57.0  "
            ]
          },
          "metadata": {
            "tags": []
          },
          "execution_count": 80
        }
      ]
    },
    {
      "cell_type": "code",
      "metadata": {
        "id": "LK4I4iLGtcRG",
        "colab_type": "code",
        "colab": {},
        "outputId": "a19d0805-c11e-471d-9cb1-57b95fc7ae85"
      },
      "source": [
        "control.shape"
      ],
      "execution_count": null,
      "outputs": [
        {
          "output_type": "execute_result",
          "data": {
            "text/plain": [
              "(26, 11)"
            ]
          },
          "metadata": {
            "tags": []
          },
          "execution_count": 81
        }
      ]
    },
    {
      "cell_type": "code",
      "metadata": {
        "id": "3x4edB63tcRJ",
        "colab_type": "code",
        "colab": {},
        "outputId": "0897b9f8-dd96-4cf7-e198-c99633545b81"
      },
      "source": [
        "control.head()"
      ],
      "execution_count": null,
      "outputs": [
        {
          "output_type": "execute_result",
          "data": {
            "text/html": [
              "<div>\n",
              "<style scoped>\n",
              "    .dataframe tbody tr th:only-of-type {\n",
              "        vertical-align: middle;\n",
              "    }\n",
              "\n",
              "    .dataframe tbody tr th {\n",
              "        vertical-align: top;\n",
              "    }\n",
              "\n",
              "    .dataframe thead th {\n",
              "        text-align: right;\n",
              "    }\n",
              "</style>\n",
              "<table border=\"1\" class=\"dataframe\">\n",
              "  <thead>\n",
              "    <tr style=\"text-align: right;\">\n",
              "      <th></th>\n",
              "      <th>Unnamed: 0</th>\n",
              "      <th>Id</th>\n",
              "      <th>sex</th>\n",
              "      <th>BMI</th>\n",
              "      <th>duration</th>\n",
              "      <th>age</th>\n",
              "      <th>treatment</th>\n",
              "      <th>coexists</th>\n",
              "      <th>FIQ_baseline</th>\n",
              "      <th>FIQ_12W</th>\n",
              "      <th>FIQ_24W</th>\n",
              "    </tr>\n",
              "  </thead>\n",
              "  <tbody>\n",
              "    <tr>\n",
              "      <th>0</th>\n",
              "      <td>1</td>\n",
              "      <td>22</td>\n",
              "      <td>1</td>\n",
              "      <td>45.9</td>\n",
              "      <td>13.3</td>\n",
              "      <td>56.25</td>\n",
              "      <td>control</td>\n",
              "      <td>none</td>\n",
              "      <td>57.0</td>\n",
              "      <td>52.0</td>\n",
              "      <td>50.0</td>\n",
              "    </tr>\n",
              "    <tr>\n",
              "      <th>1</th>\n",
              "      <td>2</td>\n",
              "      <td>11</td>\n",
              "      <td>1</td>\n",
              "      <td>28.7</td>\n",
              "      <td>9.2</td>\n",
              "      <td>47.21</td>\n",
              "      <td>control</td>\n",
              "      <td>hypertension</td>\n",
              "      <td>85.0</td>\n",
              "      <td>88.0</td>\n",
              "      <td>85.0</td>\n",
              "    </tr>\n",
              "    <tr>\n",
              "      <th>3</th>\n",
              "      <td>4</td>\n",
              "      <td>1</td>\n",
              "      <td>1</td>\n",
              "      <td>29.8</td>\n",
              "      <td>17.1</td>\n",
              "      <td>43.44</td>\n",
              "      <td>control</td>\n",
              "      <td>diabetes</td>\n",
              "      <td>74.0</td>\n",
              "      <td>60.0</td>\n",
              "      <td>62.0</td>\n",
              "    </tr>\n",
              "    <tr>\n",
              "      <th>4</th>\n",
              "      <td>5</td>\n",
              "      <td>9</td>\n",
              "      <td>1</td>\n",
              "      <td>34.0</td>\n",
              "      <td>12.2</td>\n",
              "      <td>49.99</td>\n",
              "      <td>control</td>\n",
              "      <td>heart disease</td>\n",
              "      <td>68.0</td>\n",
              "      <td>55.0</td>\n",
              "      <td>56.0</td>\n",
              "    </tr>\n",
              "    <tr>\n",
              "      <th>7</th>\n",
              "      <td>8</td>\n",
              "      <td>19</td>\n",
              "      <td>1</td>\n",
              "      <td>28.1</td>\n",
              "      <td>11.7</td>\n",
              "      <td>51.72</td>\n",
              "      <td>control</td>\n",
              "      <td>none</td>\n",
              "      <td>60.0</td>\n",
              "      <td>54.0</td>\n",
              "      <td>54.0</td>\n",
              "    </tr>\n",
              "  </tbody>\n",
              "</table>\n",
              "</div>"
            ],
            "text/plain": [
              "   Unnamed: 0  Id  sex   BMI  duration    age treatment       coexists  \\\n",
              "0           1  22    1  45.9      13.3  56.25   control           none   \n",
              "1           2  11    1  28.7       9.2  47.21   control   hypertension   \n",
              "3           4   1    1  29.8      17.1  43.44   control       diabetes   \n",
              "4           5   9    1  34.0      12.2  49.99   control  heart disease   \n",
              "7           8  19    1  28.1      11.7  51.72   control           none   \n",
              "\n",
              "   FIQ_baseline  FIQ_12W  FIQ_24W  \n",
              "0          57.0     52.0     50.0  \n",
              "1          85.0     88.0     85.0  \n",
              "3          74.0     60.0     62.0  \n",
              "4          68.0     55.0     56.0  \n",
              "7          60.0     54.0     54.0  "
            ]
          },
          "metadata": {
            "tags": []
          },
          "execution_count": 82
        }
      ]
    },
    {
      "cell_type": "markdown",
      "metadata": {
        "id": "QN3Ey3uNtcRL",
        "colab_type": "text"
      },
      "source": [
        "Start analysis with TaiChi treatment"
      ]
    },
    {
      "cell_type": "markdown",
      "metadata": {
        "id": "PIeI9sYYtcRM",
        "colab_type": "text"
      },
      "source": [
        "### TaiChi"
      ]
    },
    {
      "cell_type": "markdown",
      "metadata": {
        "id": "MdiOyJi-tcRM",
        "colab_type": "text"
      },
      "source": [
        "See the mean difference between 24 weeks and the baseline"
      ]
    },
    {
      "cell_type": "code",
      "metadata": {
        "id": "zVX99GoptcRM",
        "colab_type": "code",
        "colab": {},
        "outputId": "3569b83e-bb6e-4fe7-ccf5-4a5195fd6ea5"
      },
      "source": [
        "#box plot of taichi treatment at the beginning and after 24 weeks\n",
        "fig = plt.figure(figsize=(10, 6))\n",
        "sns.boxplot(data=taiChi[['FIQ_baseline','FIQ_24W']] , orient='v', showfliers=True) \n",
        "plt.title('Pain Severity Distribution Before Treatment and  after 24 Weeks TaiChi Treatment', size = 15)"
      ],
      "execution_count": null,
      "outputs": [
        {
          "output_type": "execute_result",
          "data": {
            "text/plain": [
              "Text(0.5, 1.0, 'Pain Severity Distribution Before Treatment and  after 24 Weeks TaiChi Treatment')"
            ]
          },
          "metadata": {
            "tags": []
          },
          "execution_count": 130
        },
        {
          "output_type": "display_data",
          "data": {
            "image/png": "[encoded data removed]",
            "text/plain": [
              "<Figure size 720x432 with 1 Axes>"
            ]
          },
          "metadata": {
            "tags": [],
            "needs_background": "light"
          }
        }
      ]
    },
    {
      "cell_type": "markdown",
      "metadata": {
        "id": "22AfmhOwtcRV",
        "colab_type": "text"
      },
      "source": [
        "The median of the distribution for after 24weeks of TaiChi treatment is much less than that of Before treatment.\n",
        "Although the boxplots overlap (showing similarity of data), the entire range of the Pain Severity data after 24weeks of treatment is not up to the maximum value of the distribution Before treatment.\n",
        "Also, the distribution of the 24weeks data falls below the whiskers from the data plot Before treatment, thus having much lower minimum values than Before treatment.\n",
        "\n",
        "Thus,\n",
        "The box plots show the decrease in pain severity after 24 weeks of TaiChi treatment."
      ]
    },
    {
      "cell_type": "code",
      "metadata": {
        "scrolled": true,
        "id": "Ka2grdAKtcRV",
        "colab_type": "code",
        "colab": {},
        "outputId": "3744e0e3-300a-4fb0-dbd4-23f0eae33e25"
      },
      "source": [
        "#compute mean difference of both data\n",
        "print(abs(taiChi['FIQ_baseline'].mean() - taiChi['FIQ_24W'].mean()))"
      ],
      "execution_count": null,
      "outputs": [
        {
          "output_type": "stream",
          "text": [
            "11.15384615384616\n"
          ],
          "name": "stdout"
        }
      ]
    },
    {
      "cell_type": "markdown",
      "metadata": {
        "id": "Mvy0wRQvtcRY",
        "colab_type": "text"
      },
      "source": [
        "On average, there is a difference in the pain severity before and after treatment, of 11.153. This confirms the observation from the boxplots comparison that there is generally a good decrease in pain severity after 24weeks of TaiChi treatment."
      ]
    },
    {
      "cell_type": "markdown",
      "metadata": {
        "id": "7wNBZUYptcRc",
        "colab_type": "text"
      },
      "source": [
        "### Control"
      ]
    },
    {
      "cell_type": "markdown",
      "metadata": {
        "id": "p9xVmEABtcRc",
        "colab_type": "text"
      },
      "source": [
        "See the mean difference between 24 weeks and the baseline"
      ]
    },
    {
      "cell_type": "code",
      "metadata": {
        "id": "7bPKzfPAtcRd",
        "colab_type": "code",
        "colab": {},
        "outputId": "e44b2c4c-300f-4069-a025-9932d4efcfec"
      },
      "source": [
        "#box plot of taichi treatment at the beginning and after 24 weeks\n",
        "fig = plt.figure(figsize=(10, 6))\n",
        "sns.boxplot(data=control[['FIQ_baseline','FIQ_24W']] , orient='v', showfliers=True) \n",
        "plt.title('Pain Severity Distribution Before Treatment and after 24 Weeksvs Control Treatment', size = 15)"
      ],
      "execution_count": null,
      "outputs": [
        {
          "output_type": "execute_result",
          "data": {
            "text/plain": [
              "Text(0.5, 1.0, 'Pain Severity Distribution Before Treatment and after 24 Weeksvs Control Treatment')"
            ]
          },
          "metadata": {
            "tags": []
          },
          "execution_count": 131
        },
        {
          "output_type": "display_data",
          "data": {
            "image/png": "[encoded data removed]",
            "text/plain": [
              "<Figure size 720x432 with 1 Axes>"
            ]
          },
          "metadata": {
            "tags": [],
            "needs_background": "light"
          }
        }
      ]
    },
    {
      "cell_type": "markdown",
      "metadata": {
        "id": "8ELw8zfitcRg",
        "colab_type": "text"
      },
      "source": [
        "The median for the 24weeks distribution is less than that of Before treatment.\n",
        "Although the boxplots overlap (showing similarity of data) even up to the whiskers, majority of the data points after 24 weeks of Control treatment are at a minimum value than for BEfore treatment.\n",
        "This is also shown by the medians. The distribution of Pain severity data after 24weeks of Control treatment median is lower than for Before treatment. \n",
        "\n",
        "Thus,\n",
        "The box plots show a decrease in pain severity after 24 weeks of controlled treatment."
      ]
    },
    {
      "cell_type": "code",
      "metadata": {
        "id": "jyjpiugttcRg",
        "colab_type": "code",
        "colab": {},
        "outputId": "7e6722c8-c47c-4668-dd56-e403c7411d18"
      },
      "source": [
        "#compute mean difference of both data\n",
        "print(abs(control['FIQ_baseline'].mean() - control['FIQ_24W'].mean()))"
      ],
      "execution_count": null,
      "outputs": [
        {
          "output_type": "stream",
          "text": [
            "4.38461538461538\n"
          ],
          "name": "stdout"
        }
      ]
    },
    {
      "cell_type": "markdown",
      "metadata": {
        "id": "sY66239ktcRk",
        "colab_type": "text"
      },
      "source": [
        "On average, there is a difference in the pain severity before and after treatment, of 4.384. This confirms the observation from the boxplots comparison that there is generally a decrease in pain severity after 24weeks of controlled treatment."
      ]
    },
    {
      "cell_type": "markdown",
      "metadata": {
        "id": "9gbBuCWItcRl",
        "colab_type": "text"
      },
      "source": [
        ""
      ]
    },
    {
      "cell_type": "markdown",
      "metadata": {
        "id": "7q8MQ3kdtcRl",
        "colab_type": "text"
      },
      "source": [
        "### Conduct Hypothesis testing about treatment after 24 weeks"
      ]
    },
    {
      "cell_type": "markdown",
      "metadata": {
        "id": "n4uei3kBtcRl",
        "colab_type": "text"
      },
      "source": [
        "####  First Hypothesis\n",
        "\n",
        "$H_0: \\mu = \\overline{x}$, i.e., TaiChi and Control treatment averagely has the same effects after 24 weeks of treatment\n",
        "\n",
        "$H_1: \\mu \\neq \\overline{x}$, i.e., The effectiveness of TaiChi and Control treatment is different, after 24 weeks of treatment"
      ]
    },
    {
      "cell_type": "code",
      "metadata": {
        "id": "WphC4OqntcRm",
        "colab_type": "code",
        "colab": {},
        "outputId": "c1a28880-0aed-4b33-d034-5a11158f56fa"
      },
      "source": [
        "#Compare distribution of Baseline,and TaiChi data after 24weeks\n",
        "fig = plt.figure(figsize=(15, 5))#set figure size\n",
        "\n",
        "#use distplot to view distributions\n",
        "sns.distplot(taiChi['FIQ_baseline'] ,  bins=20, color='skyblue', label='Baseline') #baseline data\n",
        "sns.distplot(taiChi['FIQ_24W'] ,  bins=20, color='blue',  label='TaiChi') #control data\n",
        "\n",
        "plt.legend()#show legend\n",
        "\n",
        "plt.title('Pain Severity Before Treatment vs Treatment after 24 Weeks; Baseline and TaiChi', size = 20) "
      ],
      "execution_count": null,
      "outputs": [
        {
          "output_type": "execute_result",
          "data": {
            "text/plain": [
              "Text(0.5, 1.0, 'Pain Severity Before Treatment vs Treatment after 24 Weeks; Baseline and TaiChi')"
            ]
          },
          "metadata": {
            "tags": []
          },
          "execution_count": 22
        },
        {
          "output_type": "display_data",
          "data": {
            "image/png": "[encoded data removed]",
            "text/plain": [
              "<Figure size 1080x360 with 1 Axes>"
            ]
          },
          "metadata": {
            "tags": [],
            "needs_background": "light"
          }
        }
      ]
    },
    {
      "cell_type": "markdown",
      "metadata": {
        "id": "r1_3T1BftcRo",
        "colab_type": "text"
      },
      "source": [
        "The graphs above show the distribution of pain severity in patients using TaiChi treatment. \n",
        "It is clear that the general minimum and maximum pain severity was reduced after 24 weeks of TaiChi treatment."
      ]
    },
    {
      "cell_type": "code",
      "metadata": {
        "id": "Poya7d6KtcRp",
        "colab_type": "code",
        "colab": {},
        "outputId": "12179223-e3d9-4800-fb5a-bf043dddfdc5"
      },
      "source": [
        "#Compare distribution of Baseline, and Control data after 24weeks\n",
        "fig = plt.figure(figsize=(15, 5))#set figure size\n",
        "\n",
        "#use distplot to view distributions\n",
        "sns.distplot(control['FIQ_baseline'],  bins=20, color='skyblue', label='Baseline') #baseline data\n",
        "sns.distplot(control['FIQ_24W'],  bins=20, color='blue',  label='Control') #control data\n",
        "\n",
        "plt.legend()#show legend\n",
        "\n",
        "plt.title('Pain Severity Before Treatment vs Treatment after 24 Weeks; Baseline and Control', size = 20) "
      ],
      "execution_count": null,
      "outputs": [
        {
          "output_type": "execute_result",
          "data": {
            "text/plain": [
              "Text(0.5, 1.0, 'Pain Severity Before Treatment vs Treatment after 24 Weeks; Baseline and Control')"
            ]
          },
          "metadata": {
            "tags": []
          },
          "execution_count": 23
        },
        {
          "output_type": "display_data",
          "data": {
            "image/png": "[encoded data removed]",
            "text/plain": [
              "<Figure size 1080x360 with 1 Axes>"
            ]
          },
          "metadata": {
            "tags": [],
            "needs_background": "light"
          }
        }
      ]
    },
    {
      "cell_type": "markdown",
      "metadata": {
        "id": "PNuZn9wxtcRr",
        "colab_type": "text"
      },
      "source": [
        "The graphs above show the distribution of pain severity in patients using controlled treatment. \n",
        "The distributions have siimilar range.\n",
        "The distributions overlap at the max and mins, both having the highest peaks between 55 to 65.\n",
        "Nevertheless, it is clear that there is a general reduction in severity after 24 weeks of treatment as the frequencies of the highest values are greatly decreased."
      ]
    },
    {
      "cell_type": "markdown",
      "metadata": {
        "id": "ZVoh52XCtcRs",
        "colab_type": "text"
      },
      "source": [
        "Since the data are for two separate unrelated groups, use Independent t-test"
      ]
    },
    {
      "cell_type": "code",
      "metadata": {
        "id": "9vTt85kmtcRs",
        "colab_type": "code",
        "colab": {},
        "outputId": "5c358d60-1b7b-4123-b362-770173d497c1"
      },
      "source": [
        "scs.ttest_ind (taiChi['FIQ_24W'], control['FIQ_24W'])"
      ],
      "execution_count": null,
      "outputs": [
        {
          "output_type": "execute_result",
          "data": {
            "text/plain": [
              "Ttest_indResult(statistic=-1.5854805789331443, pvalue=0.12136799319372792)"
            ]
          },
          "metadata": {
            "tags": []
          },
          "execution_count": 17
        }
      ]
    },
    {
      "cell_type": "markdown",
      "metadata": {
        "id": "lXoaxRPatcRw",
        "colab_type": "text"
      },
      "source": [
        "A p value of approximately 0.12 which is higher than the significance level of 0.05. thus, the null hypothesis is accepted. This means that the average pain score after 24 weeks with TaiChi treatment is similar to the average pain score using control treatment. \n"
      ]
    },
    {
      "cell_type": "markdown",
      "metadata": {
        "id": "fTz5n0GBtcRx",
        "colab_type": "text"
      },
      "source": [
        "####  Second Hypothesis\n",
        "\n",
        "$H_0: \\mu = \\overline{x}$, i.e., other existing sickness has no consequence on effectiveness of TaiChi\n",
        "\n",
        "$H_1: \\mu \\neq \\overline{x}$, i.e., other existing sickness has a consequence on effectiveness of TaiChi"
      ]
    },
    {
      "cell_type": "code",
      "metadata": {
        "id": "Hir2lpiDtcRy",
        "colab_type": "code",
        "colab": {},
        "outputId": "126b075b-960f-410a-966b-e264f16d43c5"
      },
      "source": [
        "#TaiChi data\n",
        "\n",
        "fig = plt.figure(figsize=(15, 6)) # figure for subplots\n",
        "\n",
        "ax1 = plt.subplot(1,2,1)  # 1 by 2 grid, first grid\n",
        "ax2 = plt.subplot(1,2,2) # 1 by 2 grid, second grid\n",
        "\n",
        "#Plot TaiChi baseline data\n",
        "sns.barplot(x='coexists',y='FIQ_baseline', hue='coexists', data=taiChi, ax=ax1)\n",
        "ax1.set_xlabel('Before TaiChi Treatment', size = 15)\n",
        "\n",
        "#Plot TaiChi 24W data\n",
        "sns.barplot(x='coexists',y='FIQ_24W', hue='coexists', data=taiChi, ax=ax2)\n",
        "ax2.set_xlabel('After 24Weeks of TaiChi Treatment', size = 15)\n",
        "\n",
        "ax1.set_ylim([0, 90])\n",
        "ax2.set_ylim([0, 90])\n",
        "\n",
        "#Set title for two plots\n",
        "plt.suptitle('Distribution of Pain Severity of Patients', size = 20, y=1.0)"
      ],
      "execution_count": null,
      "outputs": [
        {
          "output_type": "execute_result",
          "data": {
            "text/plain": [
              "Text(0.5, 1.0, 'Distribution of Pain Severity of Patients')"
            ]
          },
          "metadata": {
            "tags": []
          },
          "execution_count": 74
        },
        {
          "output_type": "display_data",
          "data": {
            "image/png": "[encoded data removed]",
            "text/plain": [
              "<Figure size 1080x432 with 2 Axes>"
            ]
          },
          "metadata": {
            "tags": [],
            "needs_background": "light"
          }
        }
      ]
    },
    {
      "cell_type": "code",
      "metadata": {
        "id": "kttjVKqatcR1",
        "colab_type": "code",
        "colab": {}
      },
      "source": [
        "#group taichi data based on other exisiting sickness\n",
        "hp = taiChi[taiChi['coexists']=='hypertension']\n",
        "db = taiChi[taiChi['coexists']=='diabetes']\n",
        "none = taiChi[taiChi['coexists']=='none']"
      ],
      "execution_count": null,
      "outputs": []
    },
    {
      "cell_type": "markdown",
      "metadata": {
        "id": "a0cByY_otcR3",
        "colab_type": "text"
      },
      "source": [
        "Since data are for more than two independent groups within a related data, use One-Way Anova"
      ]
    },
    {
      "cell_type": "code",
      "metadata": {
        "id": "iL2pfeWftcR4",
        "colab_type": "code",
        "colab": {},
        "outputId": "ceacfc76-316d-44e5-e4a7-58663c3bc2c5"
      },
      "source": [
        "scs.f_oneway(hp['FIQ_24W'], db['FIQ_24W'], none['FIQ_24W'])"
      ],
      "execution_count": null,
      "outputs": [
        {
          "output_type": "execute_result",
          "data": {
            "text/plain": [
              "F_onewayResult(statistic=0.33117932148626816, pvalue=0.7256606398386861)"
            ]
          },
          "metadata": {
            "tags": []
          },
          "execution_count": 21
        }
      ]
    },
    {
      "cell_type": "markdown",
      "metadata": {
        "id": "i2zY1RCktcR6",
        "colab_type": "text"
      },
      "source": [
        "A p value of approximately 0.72 which is higher than the significance level of 0.05. Thus, the null hypothesis is accepted.\n",
        "This means that the there is indeed, no consequence of existing sicknes on the effectiveness of TaiChi treatment"
      ]
    },
    {
      "cell_type": "code",
      "metadata": {
        "id": "CIyH0k4jtcR7",
        "colab_type": "code",
        "colab": {}
      },
      "source": [
        ""
      ],
      "execution_count": null,
      "outputs": []
    },
    {
      "cell_type": "markdown",
      "metadata": {
        "id": "dOHJy3vRtcR9",
        "colab_type": "text"
      },
      "source": [
        "#### Question 1.2\n",
        "Visualize the data for baseline treatment and treatment after 24 weeks.\n"
      ]
    },
    {
      "cell_type": "code",
      "metadata": {
        "id": "4pjDQMp4tcR-",
        "colab_type": "code",
        "colab": {}
      },
      "source": [
        "# your answers"
      ],
      "execution_count": null,
      "outputs": []
    },
    {
      "cell_type": "markdown",
      "metadata": {
        "id": "_QKxHpuDtcSD",
        "colab_type": "text"
      },
      "source": [
        "##### Relationship"
      ]
    },
    {
      "cell_type": "code",
      "metadata": {
        "id": "rxdC--_ctcSE",
        "colab_type": "code",
        "colab": {},
        "outputId": "5cdf7789-3c89-4ef6-edf5-4af1f0febfe1"
      },
      "source": [
        "#see relationship with treatment before and after 24weeks\n",
        "\n",
        "fig = plt.figure(figsize=(15, 6)) # figure for subplots\n",
        "\n",
        "\n",
        "#See relationship using using scatter\n",
        "sns.scatterplot(x='FIQ_24W',y='FIQ_baseline', style='treatment', hue='sex', data=data)\n",
        "plt.legend(loc='lower center')\n",
        "\n",
        "\n",
        "#Set title for plot\n",
        "plt.title('Distribution of Pain Severity of Patients', size = 20, y=1.0)"
      ],
      "execution_count": null,
      "outputs": [
        {
          "output_type": "execute_result",
          "data": {
            "text/plain": [
              "Text(0.5, 1.0, 'Distribution of Pain Severity of Patients')"
            ]
          },
          "metadata": {
            "tags": []
          },
          "execution_count": 136
        },
        {
          "output_type": "display_data",
          "data": {
            "image/png": "[encoded data removed]",
            "text/plain": [
              "<Figure size 1080x432 with 1 Axes>"
            ]
          },
          "metadata": {
            "tags": [],
            "needs_background": "light"
          }
        }
      ]
    },
    {
      "cell_type": "markdown",
      "metadata": {
        "id": "vexrrvGPtcSH",
        "colab_type": "text"
      },
      "source": [
        "This plot shows that there is a positive linear relationship between Pain severity before treatment, and after treatment, for both Control and TaiChi treatments.\n",
        "On this plot, it is easier to see the pain score changes for individual patients before and after treatments. \n",
        "Also, both sexes experienced high thresholds of pain, but no 0s experienced a low threshold of less than 45.\n",
        "\n",
        "Again, this plot shows that the TaiChi patients experienced more reduction than their counterparts who used the control treatment as for the same level of pain before treatment, you can observe a greater reduction with the TaiChi treatment."
      ]
    },
    {
      "cell_type": "markdown",
      "metadata": {
        "id": "U5L00BpTtcSH",
        "colab_type": "text"
      },
      "source": [
        "### Distribution"
      ]
    },
    {
      "cell_type": "markdown",
      "metadata": {
        "id": "I4dTwLM2tcSI",
        "colab_type": "text"
      },
      "source": [
        "#### TaiChi"
      ]
    },
    {
      "cell_type": "code",
      "metadata": {
        "id": "-htPbn4btcSK",
        "colab_type": "code",
        "colab": {},
        "outputId": "8cf4135f-6073-4922-e0d3-5d86277c2aed"
      },
      "source": [
        "#TaiChi data\n",
        "\n",
        "fig = plt.figure(figsize=(15, 6)) # figure for subplots\n",
        "#plt.title('Distribution of Pain Severity of Patients', size = 20, y=2.30, x=0.005)\n",
        "\n",
        "ax1 = plt.subplot(1,2,1)  # 1 by 2 grid, first grid\n",
        "ax2 = plt.subplot(1,2,2) # 1 by 2 grid, second grid\n",
        "\n",
        "#Plot before treatment\n",
        "taiChi['FIQ_baseline'].plot(kind='hist', ax=ax1)\n",
        "ax1.set_xlabel('Pain Severity', size = 10)\n",
        "ax1.set_title('Before TaiChi Treatment', size = 15)#set plot title\n",
        "\n",
        "#Plot after treatment\n",
        "taiChi['FIQ_24W'].plot(kind='hist', ax=ax2)\n",
        "ax2.set_xlabel('Pain Severity', size = 10)\n",
        "ax2.set_title('After 24Weeks of TaiChi Treatment', size = 15)\n",
        "\n",
        "#set yaxis limits\n",
        "ax1.set_ylim([0, 4.5])\n",
        "ax2.set_ylim([0, 4.5])\n",
        "\n",
        "#Set general title for the two plots\n",
        "plt.suptitle('Distribution of Pain Severity of Patients', size = 20, y=1.0)"
      ],
      "execution_count": null,
      "outputs": [
        {
          "output_type": "execute_result",
          "data": {
            "text/plain": [
              "Text(0.5, 1.0, 'Distribution of Pain Severity of Patients')"
            ]
          },
          "metadata": {
            "tags": []
          },
          "execution_count": 135
        },
        {
          "output_type": "display_data",
          "data": {
            "image/png": "[encoded data removed]",
            "text/plain": [
              "<Figure size 1080x432 with 2 Axes>"
            ]
          },
          "metadata": {
            "tags": [],
            "needs_background": "light"
          }
        }
      ]
    },
    {
      "cell_type": "markdown",
      "metadata": {
        "id": "OgcgBE4OtcSP",
        "colab_type": "text"
      },
      "source": [
        "The graphs above show the distribution of pain severity in patients using TaiChi treatment. \n",
        "It is clear that the general minimum and maximum pain severity was reduced after 24 weeks of taichi treatment.\n",
        "\n",
        "Also, there are totally less people experiencing high pain thresholds after 24weeks of TaiChi treatment, and there are no patients experiencing a pain severity from 75 - 84 anymore"
      ]
    },
    {
      "cell_type": "markdown",
      "metadata": {
        "id": "ieTU2joEtcSP",
        "colab_type": "text"
      },
      "source": [
        "#### Controlled"
      ]
    },
    {
      "cell_type": "code",
      "metadata": {
        "id": "FXqLqzA5tcSQ",
        "colab_type": "code",
        "colab": {},
        "outputId": "df4ca608-a76f-4c4f-f0e4-aaf0dbba2a59"
      },
      "source": [
        "#Control data\n",
        "\n",
        "fig = plt.figure(figsize=(15, 6)) # figure for subplots\n",
        "\n",
        "ax1 = plt.subplot(1,2,1)  # 1 by 2 grid, first grid\n",
        "ax2 = plt.subplot(1,2,2) # 1 by 2 grid, second grid\n",
        "\n",
        "#before treatment\n",
        "control['FIQ_baseline'].plot(kind='hist', ax=ax1)\n",
        "ax1.set_xlabel('Pain Severity', size = 10)\n",
        "ax1.set_title('Before Control Treatment', size = 15)#set plot title\n",
        "\n",
        "#after treatment, 24W\n",
        "control['FIQ_24W'].plot(kind='hist', ax=ax2)\n",
        "ax2.set_xlabel('Pain Severity', size = 10)\n",
        "ax2.set_title('After 24Weeks of Control Treatment', size = 15)#set plot title\n",
        "\n",
        "#Set general title for the two plots\n",
        "plt.suptitle('Distribution of Pain Severity of Patients', size = 20, y=1.0)"
      ],
      "execution_count": null,
      "outputs": [
        {
          "output_type": "execute_result",
          "data": {
            "text/plain": [
              "Text(0.5, 1.0, 'Distribution of Pain Severity of Patients')"
            ]
          },
          "metadata": {
            "tags": []
          },
          "execution_count": 111
        },
        {
          "output_type": "display_data",
          "data": {
            "image/png": "[encoded data removed]",
            "text/plain": [
              "<Figure size 1080x432 with 2 Axes>"
            ]
          },
          "metadata": {
            "tags": [],
            "needs_background": "light"
          }
        }
      ]
    },
    {
      "cell_type": "markdown",
      "metadata": {
        "id": "9J6izyoZtcSa",
        "colab_type": "text"
      },
      "source": [
        "The graphs above show the distribution of pain severity in patients using controlled treatment. \n",
        "The distributions have similar range.\n",
        "Nevertheless, it is clear that there is a general reduction in severity after 24 weeks of treatment as the frequencies of the highest values are greatly decreased."
      ]
    },
    {
      "cell_type": "markdown",
      "metadata": {
        "id": "IUdXBDE8tcSb",
        "colab_type": "text"
      },
      "source": [
        "### See Patients "
      ]
    },
    {
      "cell_type": "markdown",
      "metadata": {
        "id": "qqdbORtytcSe",
        "colab_type": "text"
      },
      "source": [
        "##### See distribution of individual patients by gender, existing, sickness, and by treatment used"
      ]
    },
    {
      "cell_type": "markdown",
      "metadata": {
        "id": "XkkU5bvbtcSe",
        "colab_type": "text"
      },
      "source": [
        "#### TaiChi"
      ]
    },
    {
      "cell_type": "markdown",
      "metadata": {
        "id": "qhqNklG5tcSf",
        "colab_type": "text"
      },
      "source": [
        "#### See general Pain severity levels of patients who used TaiChi treatment"
      ]
    },
    {
      "cell_type": "code",
      "metadata": {
        "id": "53cWsfVotcSg",
        "colab_type": "code",
        "colab": {},
        "outputId": "a5a3b057-5675-4531-919d-12da2651eb33"
      },
      "source": [
        "fig = plt.figure(figsize=(15, 9)) # figure for subplots\n",
        "#plt.subplots_adjust(left=None, bottom=None, right=None, top=None, wspace=None, hspace=0.)#add space between subplots\n",
        "\n",
        "ax1 = plt.subplot(2,2,1)  # 1 by 2 grid, first grid\n",
        "ax2 = plt.subplot(2,2,2) # 1 by 2 grid, second grid\n",
        "ax3 = plt.subplot(2,2,3) # 1 by 2 grid, second grid\n",
        "ax4 = plt.subplot(2,2,4) # 1 by 2 grid, second grid\n",
        "\n",
        "#First plot. Before taichi treatment \n",
        "sns.barplot(x='Id', y='FIQ_baseline', hue='coexists', dodge=False, data=taiChi, ax=ax1)#set dodge false so bars widths remain same despite hue\n",
        "ax1.set_xlabel(None)#set xaxis label \n",
        "ax1.set_title('Before TaiChi Treatment', size = 15)#set plot title\n",
        "ax1.set_ylim([0, 90])#set y axis limit for proper comparisons\n",
        "ax1.grid(which='major', linestyle='-', linewidth='0.5', color='green')#show grid. for easy assessing and comparisons\n",
        "ax1.legend(loc='lower right')#set legend position on graph\n",
        "\n",
        "\n",
        "#Second plot. After 24w taichi treatment\n",
        "sns.barplot(x='Id', y='FIQ_24W', hue='coexists', dodge=False, data=taiChi, ax=ax2)#set dodge false so bars widths remain same despite hue\n",
        "ax2.set_xlabel(None)#set xaxis label\n",
        "ax2.set_title('After 24Weeks of TaiChi Treatment', size = 15)#set plot title\n",
        "ax2.set_ylim([0, 90])#set y axis limit for proper comparisons\n",
        "ax2.grid(which='major', linestyle='-', linewidth='0.5', color='green')#show grid. for easy assessing and comparisons\n",
        "ax2.legend(loc='lower right')#set legend position on graph\n",
        "\n",
        "\n",
        "#Third plot. Before taichi treatment \n",
        "sns.barplot(x='Id', y='FIQ_baseline', hue='sex', palette='Set2', dodge=False, data=taiChi, ax=ax3)#set dodge false so bars widths remain same despite hue\n",
        "ax3.set_xlabel('Patient ID')#set xaxis label \n",
        "#ax3.set_title('Before TaiChi Treatment', size = 15)#set plot title\n",
        "ax3.set_ylim([0, 90])#set y axis limit for proper comparisons\n",
        "\n",
        "#Fourth plot. After 24w taichi treatment\n",
        "sns.barplot(x='Id', y='FIQ_24W', hue='sex', palette='Set2', dodge=False, data=taiChi, ax=ax4)#set dodge false so bars widths remain same despite hue\n",
        "ax4.set_xlabel('Patient ID')#set xaxis label\n",
        "#ax2.set_title('After 24Weeks of TaiChi Treatment', size = 15)#set plot title\n",
        "ax4.set_ylim([0, 90])#set y axis limit for proper comparisons\n",
        "\n",
        "#Set general title for two plots\n",
        "plt.suptitle('Distribution and Pain Severity Level of Patients', size = 20, y=1.0)"
      ],
      "execution_count": null,
      "outputs": [
        {
          "output_type": "execute_result",
          "data": {
            "text/plain": [
              "Text(0.5, 1.0, 'Distribution and Pain Severity Level of Patients')"
            ]
          },
          "metadata": {
            "tags": []
          },
          "execution_count": 124
        },
        {
          "output_type": "display_data",
          "data": {
            "image/png": "[encoded data removed]",
            "text/plain": [
              "<Figure size 1080x648 with 4 Axes>"
            ]
          },
          "metadata": {
            "tags": [],
            "needs_background": "light"
          }
        }
      ]
    },
    {
      "cell_type": "markdown",
      "metadata": {
        "id": "qSerSADetcSk",
        "colab_type": "text"
      },
      "source": [
        "Assessing the graphs above, it is clear that good pain severity reduction was seen in every patient who used the taichi treatment.\n",
        "It is clear that there are more 1s than 0s amongst the patients who received the taichi treatment. The sex of the patient does not seem to have hadd any effect on treatment performance."
      ]
    },
    {
      "cell_type": "markdown",
      "metadata": {
        "id": "Ca8USrXhtcSo",
        "colab_type": "text"
      },
      "source": [
        "#### Controlled"
      ]
    },
    {
      "cell_type": "markdown",
      "metadata": {
        "id": "dV4dwAHRtcSo",
        "colab_type": "text"
      },
      "source": [
        "#### See general Pain severity levels of patients who used control treatment"
      ]
    },
    {
      "cell_type": "code",
      "metadata": {
        "id": "rkf8hNsztcSq",
        "colab_type": "code",
        "colab": {},
        "outputId": "eda64c59-51d6-4e55-a9ba-a361206b4dd6"
      },
      "source": [
        "fig = plt.figure(figsize=(15, 9)) # figure for subplots\n",
        "#plt.subplots_adjust(left=None, bottom=None, right=None, top=None, wspace=None, hspace=0.)#add space between subplots\n",
        "\n",
        "\n",
        "ax1 = plt.subplot(2,2,1)  # 1 by 2 grid, first grid\n",
        "ax2 = plt.subplot(2,2,2) # 1 by 2 grid, second grid\n",
        "ax3 = plt.subplot(2,2,3) # 1 by 2 grid, second grid\n",
        "ax4 = plt.subplot(2,2,4) # 1 by 2 grid, second grid\n",
        "\n",
        "\n",
        "#First plot. Before taichi treatment \n",
        "sns.barplot(x='Id', y='FIQ_baseline', hue='coexists', dodge=False, data=control, ax=ax1)#set dodge false so bars widths remain same despite hue\n",
        "ax1.set_xlabel(None)#set xaxis label \n",
        "ax1.set_title('Before Control Treatment', size = 15)#set plot title\n",
        "ax1.set_ylim([0, 90])#set y axis limit for proper comparisons\n",
        "ax1.grid(which='major', linestyle='-', linewidth='0.5', color='green')#show grid. for easy assessing and comparisons\n",
        "ax1.legend(loc='lower right')#set legend position on graph\n",
        "\n",
        "#Second plot. After 24w taichi treatment\n",
        "sns.barplot(x='Id', y='FIQ_24W', hue='coexists', dodge=False, data=control, ax=ax2)#set dodge false so bars widths remain same despite hue\n",
        "ax2.set_xlabel(None)#set xaxis label\n",
        "ax2.set_title('After 24Weeks of Control Treatment', size = 15)#set plot title\n",
        "ax2.set_ylim([0, 90])#set y axis limit for proper comparisons\n",
        "ax2.grid(which='major', linestyle='-', linewidth='0.5', color='green')#show grid. for easy assessing and comparisons\n",
        "ax2.legend(loc='lower right')#set legend position on graph\n",
        "\n",
        "#Third plot. Before taichi treatment \n",
        "sns.barplot(x='Id', y='FIQ_baseline', hue='sex', palette='Set2', dodge=False, data=control, ax=ax3)#set dodge false so bars widths remain same despite hue\n",
        "ax3.set_xlabel('Patient ID')#set xaxis label \n",
        "#ax3.set_title('Before TaiChi Treatment', size = 15)#set plot title\n",
        "ax3.set_ylim([0, 90])#set y axis limit for proper comparisons\n",
        "\n",
        "#Fourth plot. After 24w taichi treatment\n",
        "sns.barplot(x='Id', y='FIQ_24W', hue='sex', palette='Set2', dodge=False, data=control, ax=ax4)#set dodge false so bars widths remain same despite hue\n",
        "ax4.set_xlabel('Patient ID')#set xaxis label\n",
        "#ax2.set_title('After 24Weeks of TaiChi Treatment', size = 15)#set plot title\n",
        "ax4.set_ylim([0, 90])#set y axis limit for proper comparisons\n",
        "\n",
        "#Set general title for two plots\n",
        "plt.suptitle('Distribution and Pain Severity Level of Patients', size = 20, y=1.0)"
      ],
      "execution_count": null,
      "outputs": [
        {
          "output_type": "execute_result",
          "data": {
            "text/plain": [
              "Text(0.5, 1.0, 'Distribution and Pain Severity Level of Patients')"
            ]
          },
          "metadata": {
            "tags": []
          },
          "execution_count": 123
        },
        {
          "output_type": "display_data",
          "data": {
            "image/png": "[encoded data removed]",
            "text/plain": [
              "<Figure size 1080x648 with 4 Axes>"
            ]
          },
          "metadata": {
            "tags": [],
            "needs_background": "light"
          }
        }
      ]
    },
    {
      "cell_type": "markdown",
      "metadata": {
        "id": "3JOEZOiVtcSu",
        "colab_type": "text"
      },
      "source": [
        "Assessing the graphs above, it is clear that with control treatment, many patients experienced very little to no reduction in pain severity.\n",
        "It is clear that there are more 1s than 0s amongst the patients who received the taichi treatment. The sex of the patient does not seem to have hadd any effect on treatment performance."
      ]
    },
    {
      "cell_type": "markdown",
      "metadata": {
        "id": "iGGdQRZ6tcSv",
        "colab_type": "text"
      },
      "source": [
        "#### See average Pain Severity Reduction for Patients"
      ]
    },
    {
      "cell_type": "code",
      "metadata": {
        "id": "2jaodypmtcSv",
        "colab_type": "code",
        "colab": {},
        "outputId": "b2cfed08-0fb1-4119-b5b2-bef55b87b0f4"
      },
      "source": [
        "fig = plt.figure(figsize=(15, 6)) # figure for subplots\n",
        "\n",
        "ax1 = plt.subplot(1,2,1)  # 1 by 2 grid, first grid\n",
        "ax2 = plt.subplot(1,2,2) # 1 by 2 grid, second grid\n",
        "\n",
        "#Plot TaiChi baseline data\n",
        "sns.barplot(x='treatment',y='FIQ_baseline', hue='coexists', data=data, ax=ax1) #boxplot\n",
        "ax1.set_title('Before Treatment', size = 15)\n",
        "ax1.set_xlabel('Treatment Method', size = 10)#set x-axis label\n",
        "\n",
        "#Plot TaiChi 24W data\n",
        "sns.barplot(x='treatment',y='FIQ_24W', hue='coexists', data=data, ax=ax2) #boxplot\n",
        "ax2.set_title('After 24Weeks of Treatment', size = 15)\n",
        "ax2.set_xlabel('Treatment Method', size = 10)#set x-axis label\n",
        "\n",
        "#set y-axis limits\n",
        "ax1.set_ylim([0, 90])\n",
        "ax2.set_ylim([0, 90])\n",
        "\n",
        "#Set general title for two plots\n",
        "plt.suptitle('Distribution of Pain Severity of Patients', size = 20, y=1.0)"
      ],
      "execution_count": null,
      "outputs": [
        {
          "output_type": "execute_result",
          "data": {
            "text/plain": [
              "Text(0.5, 1.0, 'Distribution of Pain Severity of Patients')"
            ]
          },
          "metadata": {
            "tags": []
          },
          "execution_count": 106
        },
        {
          "output_type": "display_data",
          "data": {
            "image/png": "[encoded data removed]",
            "text/plain": [
              "<Figure size 1080x432 with 2 Axes>"
            ]
          },
          "metadata": {
            "tags": [],
            "needs_background": "light"
          }
        }
      ]
    },
    {
      "cell_type": "markdown",
      "metadata": {
        "id": "35GnzVtqtcS3",
        "colab_type": "text"
      },
      "source": [
        "The plots above clearly shows that there were no patients with heart disease on the TaiChi treatment.\n",
        "The TaiChi treatment also shows an average great level of pain reduction for all patients, irrespective of existing sickness\n",
        "Whereas, the Control treatment an average minimal Pain Severity reduction than for the TaiChi treatment, across all patients."
      ]
    },
    {
      "cell_type": "markdown",
      "metadata": {
        "id": "LNAJ-fj0tcS4",
        "colab_type": "text"
      },
      "source": [
        "#### Compare control and taichi treatment together, on per patient basis"
      ]
    },
    {
      "cell_type": "code",
      "metadata": {
        "id": "dPbFYNLUtcS4",
        "colab_type": "code",
        "colab": {},
        "outputId": "c8e3f5ad-3cf3-4a29-a34d-b74a83c52312"
      },
      "source": [
        "fig = plt.figure(figsize=(15, 6)) # figure for subplots\n",
        "\n",
        "ax1 = plt.subplot(1,2,1)  # 1 by 2 grid, first grid\n",
        "ax2 = plt.subplot(1,2,2) # 1 by 2 grid, second grid\n",
        "\n",
        "#Plot TaiChi baseline data\n",
        "sns.scatterplot(x='coexists',y='FIQ_baseline', hue='treatment', style='treatment', data=data, ax=ax1) #scatterplot\n",
        "ax1.set_title('Before Treatment', size = 15)#set individual graph title\n",
        "ax1.legend(loc='upper center')#send legend position on graph\n",
        "ax1.set_xlabel('Existing sickness', size = 10)#set x-axis label\n",
        "\n",
        "#Plot TaiChi 24W data\n",
        "sns.scatterplot(x='coexists',y='FIQ_24W', hue='treatment', style='treatment', data=data, ax=ax2) #scatterplot\n",
        "ax2.set_title('After 24Weeks of Treatment', size = 15)#set individual graph title\n",
        "ax2.legend(loc='upper center')#send legend position on graph\n",
        "ax2.set_xlabel('Existing sickness', size = 10)#set x-axis label\n",
        "\n",
        "#set y-axis limits\n",
        "ax1.set_ylim([0, 90])\n",
        "ax2.set_ylim([0, 90])\n",
        "\n",
        "#Set title General plots title\n",
        "plt.suptitle('Distribution of Patients by Treatment; Existing Sickness', size = 20, y=1.0)"
      ],
      "execution_count": null,
      "outputs": [
        {
          "output_type": "execute_result",
          "data": {
            "text/plain": [
              "Text(0.5, 1.0, 'Distribution of Patients by Treatment; Existing Sickness')"
            ]
          },
          "metadata": {
            "tags": []
          },
          "execution_count": 105
        },
        {
          "output_type": "display_data",
          "data": {
            "image/png": "[encoded data removed]",
            "text/plain": [
              "<Figure size 1080x432 with 2 Axes>"
            ]
          },
          "metadata": {
            "tags": [],
            "needs_background": "light"
          }
        }
      ]
    },
    {
      "cell_type": "markdown",
      "metadata": {
        "id": "HfCWR3uptcS7",
        "colab_type": "text"
      },
      "source": [
        "Assessing the plots above show that all patients who used the taiChi treatment experienced reduction in pain severity, but this was true only for some of the patients who used the control treatment"
      ]
    },
    {
      "cell_type": "code",
      "metadata": {
        "id": "eCXTANvxtcS8",
        "colab_type": "code",
        "colab": {}
      },
      "source": [
        ""
      ],
      "execution_count": null,
      "outputs": []
    },
    {
      "cell_type": "markdown",
      "metadata": {
        "id": "Nvmi8ZgBtcS-",
        "colab_type": "text"
      },
      "source": [
        "#### Question 1.3\n",
        "Formulate an hypothesis about pain severity before and after treatment in 24 weeks."
      ]
    },
    {
      "cell_type": "code",
      "metadata": {
        "id": "omAfu4KstcS-",
        "colab_type": "code",
        "colab": {}
      },
      "source": [
        "# your answer"
      ],
      "execution_count": null,
      "outputs": []
    },
    {
      "cell_type": "markdown",
      "metadata": {
        "id": "VDfGCt7StcTA",
        "colab_type": "text"
      },
      "source": [
        "#### Conduct Hypothesis testing"
      ]
    },
    {
      "cell_type": "markdown",
      "metadata": {
        "id": "7vDCDMLntcTB",
        "colab_type": "text"
      },
      "source": [
        "##### Since the data are related, use paired t-test"
      ]
    },
    {
      "cell_type": "markdown",
      "metadata": {
        "id": "e6lgxztjtcTB",
        "colab_type": "text"
      },
      "source": [
        "### The Hypothesis\n",
        "\n",
        "We can now state our hypothesis. We are interested in whether there is no difference between the the severity of pain symptoms before the start of the tai chi treatment and after 24 weeks of the tai chi treatment. We state the null hypothesis as: \n",
        "\n",
        "$H_0$: $\\mu_d = 0$ , i.e., the mean difference is zero.\n",
        "\n",
        "$H_1$: $\\mu_d \\neq 0$, a two-tail test. There is a difference after treatment.\n"
      ]
    },
    {
      "cell_type": "markdown",
      "metadata": {
        "id": "De2TdZlCtcTB",
        "colab_type": "text"
      },
      "source": [
        "#### TaiChi data"
      ]
    },
    {
      "cell_type": "code",
      "metadata": {
        "id": "UJ0lgvwLtcTD",
        "colab_type": "code",
        "colab": {},
        "outputId": "8e819689-e9d3-4157-d6e6-d16a2328b7db"
      },
      "source": [
        "scs.ttest_rel(taiChi['FIQ_baseline'], taiChi['FIQ_24W']) "
      ],
      "execution_count": null,
      "outputs": [
        {
          "output_type": "execute_result",
          "data": {
            "text/plain": [
              "Ttest_relResult(statistic=19.762521993455078, pvalue=1.6034527615814906e-10)"
            ]
          },
          "metadata": {
            "tags": []
          },
          "execution_count": 86
        }
      ]
    },
    {
      "cell_type": "markdown",
      "metadata": {
        "id": "fJHewZ56tcTG",
        "colab_type": "text"
      },
      "source": [
        "A p value of approximately 0.00000000016 which is very much less than the significance level of 0.05.  A low p-value indicates support for the alternative hypothesis.\n",
        "Thus, the null hypothesis is rejected.\n",
        "This means that the average pain score before treatment is significantly different from the average pain score after 24 weeks of treatment with TaiChi."
      ]
    },
    {
      "cell_type": "markdown",
      "metadata": {
        "id": "Jj4lEfVMtcTH",
        "colab_type": "text"
      },
      "source": [
        "#### Control data"
      ]
    },
    {
      "cell_type": "code",
      "metadata": {
        "id": "Y0E3fTRwtcTI",
        "colab_type": "code",
        "colab": {},
        "outputId": "72125d95-14f2-489d-ad51-1a221768cc25"
      },
      "source": [
        "scs.ttest_rel(control['FIQ_baseline'], control['FIQ_24W'])"
      ],
      "execution_count": null,
      "outputs": [
        {
          "output_type": "execute_result",
          "data": {
            "text/plain": [
              "Ttest_relResult(statistic=5.659397979375456, pvalue=6.8417665401796045e-06)"
            ]
          },
          "metadata": {
            "tags": []
          },
          "execution_count": 87
        }
      ]
    },
    {
      "cell_type": "markdown",
      "metadata": {
        "id": "_xeGbFuMtcTN",
        "colab_type": "text"
      },
      "source": [
        "A p value of approximately 0.00000684 which is less than the significance level of 0.05. A low p-value indicates support for the alternative hypothesis. \n",
        "Thus, the null hypothesis is rejected. \n",
        "This means that the average pain score before treatment is significantly different from the average pain score after 24 weeks of controlled treatment.\n"
      ]
    },
    {
      "cell_type": "code",
      "metadata": {
        "id": "Mg1u8LoLtcTQ",
        "colab_type": "code",
        "colab": {}
      },
      "source": [
        ""
      ],
      "execution_count": null,
      "outputs": []
    },
    {
      "cell_type": "markdown",
      "metadata": {
        "id": "4poH9YjItcTR",
        "colab_type": "text"
      },
      "source": [
        "#### Question 1.4 \n",
        "Discuss your results."
      ]
    },
    {
      "cell_type": "code",
      "metadata": {
        "collapsed": true,
        "id": "9eZuSoH-tcTS",
        "colab_type": "code",
        "colab": {}
      },
      "source": [
        "# your answer"
      ],
      "execution_count": null,
      "outputs": []
    },
    {
      "cell_type": "markdown",
      "metadata": {
        "id": "kCYWWiPOtcTU",
        "colab_type": "text"
      },
      "source": [
        "\n",
        "From all graphs plotted, it is clear that the general pain severity was reduced after 24 weeks of both TaiChi and Control treatment in the patients. The TaiChi treatment had a better effect in that the reduction was higher when compared with the Control treatment (as shown by the boxplots, and as proven by a large difference in means), especially for patients with similar pain severity levels before treatment (as shown by scatterplots), and all patients experienced a reduction (as proven by barplots of each patient). Whereas with the Control treatment, pain reduction was not experienced by all patients. \n",
        "\n",
        "Through the first series of hypothesis testing, it was proven that whether a patient uses TaiChi treatment or the common Control treatment, he/she can be hopeful of positive results and they would both work effectively. \n",
        "It was also proven that an existing sickness in a patient does not affect the effectiveness of the TaiChi treatment.\n",
        "\n",
        "For the TaiChi data;\n",
        "The null hypothesis was rejected, with an approximate p-value of 1.6e-10.\n",
        "Indeed, the average pain score after treatment with taiChi was significantly different after 24 weeks of treatment\n",
        "\n",
        "For the Control data;\n",
        "With a p-value of approximately 6.8e-6, the null hypothesis was also rejected. \n",
        "The average pain score before treatment was indeed different from the average pain score after 24 weeks of controlled treatment."
      ]
    },
    {
      "cell_type": "markdown",
      "metadata": {
        "collapsed": true,
        "id": "Bd3S9TyPtcTX",
        "colab_type": "text"
      },
      "source": [
        "### Question 2\n",
        "\n",
        "The following is measurement data on the bonding strength of three types of resin. Are there any differences between the resin material? \n",
        "<img src='assessImg.PNG'>\n",
        "\n",
        "Source: [Analysis of variance (ANOVA) comparing means of more than two groups](https://www.ncbi.nlm.nih.gov/pmc/articles/PMC3916511/)"
      ]
    },
    {
      "cell_type": "code",
      "metadata": {
        "collapsed": true,
        "id": "UvlnKMLetcTX",
        "colab_type": "code",
        "colab": {}
      },
      "source": [
        "# your answers"
      ],
      "execution_count": null,
      "outputs": []
    },
    {
      "cell_type": "code",
      "metadata": {
        "id": "AvIsB5VmtcTi",
        "colab_type": "code",
        "colab": {},
        "outputId": "5e030de4-6d3c-4f84-a801-47ba30468a9c"
      },
      "source": [
        "#Place given data into arrays\n",
        "resin={'A':[19.7,20.1,21.3,23.5,9.3,27.1,11.6,12.2,15.9,17.0,17.2,18.4,19.8,23.4,28.0], \n",
        "           'B':[23.0,24.5,24.6,27.1,12.0,27.8,12.8,16.2,19.8,22.4,23.6,25.3,27.9,34.6,35.2], \n",
        "          'C':[21.6,25.5,25.9,30.7,33.0,16.5,22.7,24.2,26.2,28.4,28.5,30.7,32.2,33.8,34.5]}\n",
        "#Convert new arrays into a pandas dataframe\n",
        "resin_data=pd.DataFrame(resin, columns=['A','B','C'])\n",
        "\n",
        "#view new dataframe\n",
        "resin_data.head()"
      ],
      "execution_count": null,
      "outputs": [
        {
          "output_type": "execute_result",
          "data": {
            "text/html": [
              "<div>\n",
              "<style scoped>\n",
              "    .dataframe tbody tr th:only-of-type {\n",
              "        vertical-align: middle;\n",
              "    }\n",
              "\n",
              "    .dataframe tbody tr th {\n",
              "        vertical-align: top;\n",
              "    }\n",
              "\n",
              "    .dataframe thead th {\n",
              "        text-align: right;\n",
              "    }\n",
              "</style>\n",
              "<table border=\"1\" class=\"dataframe\">\n",
              "  <thead>\n",
              "    <tr style=\"text-align: right;\">\n",
              "      <th></th>\n",
              "      <th>A</th>\n",
              "      <th>B</th>\n",
              "      <th>C</th>\n",
              "    </tr>\n",
              "  </thead>\n",
              "  <tbody>\n",
              "    <tr>\n",
              "      <th>0</th>\n",
              "      <td>19.7</td>\n",
              "      <td>23.0</td>\n",
              "      <td>21.6</td>\n",
              "    </tr>\n",
              "    <tr>\n",
              "      <th>1</th>\n",
              "      <td>20.1</td>\n",
              "      <td>24.5</td>\n",
              "      <td>25.5</td>\n",
              "    </tr>\n",
              "    <tr>\n",
              "      <th>2</th>\n",
              "      <td>21.3</td>\n",
              "      <td>24.6</td>\n",
              "      <td>25.9</td>\n",
              "    </tr>\n",
              "    <tr>\n",
              "      <th>3</th>\n",
              "      <td>23.5</td>\n",
              "      <td>27.1</td>\n",
              "      <td>30.7</td>\n",
              "    </tr>\n",
              "    <tr>\n",
              "      <th>4</th>\n",
              "      <td>9.3</td>\n",
              "      <td>12.0</td>\n",
              "      <td>33.0</td>\n",
              "    </tr>\n",
              "  </tbody>\n",
              "</table>\n",
              "</div>"
            ],
            "text/plain": [
              "      A     B     C\n",
              "0  19.7  23.0  21.6\n",
              "1  20.1  24.5  25.5\n",
              "2  21.3  24.6  25.9\n",
              "3  23.5  27.1  30.7\n",
              "4   9.3  12.0  33.0"
            ]
          },
          "metadata": {
            "tags": []
          },
          "execution_count": 114
        }
      ]
    },
    {
      "cell_type": "code",
      "metadata": {
        "id": "Zn6fXNGhtcTl",
        "colab_type": "code",
        "colab": {},
        "outputId": "bcdbb3c8-41f5-49b7-ae9a-3ad96f1ba462"
      },
      "source": [
        "resin_data.describe()"
      ],
      "execution_count": null,
      "outputs": [
        {
          "output_type": "execute_result",
          "data": {
            "text/html": [
              "<div>\n",
              "<style scoped>\n",
              "    .dataframe tbody tr th:only-of-type {\n",
              "        vertical-align: middle;\n",
              "    }\n",
              "\n",
              "    .dataframe tbody tr th {\n",
              "        vertical-align: top;\n",
              "    }\n",
              "\n",
              "    .dataframe thead th {\n",
              "        text-align: right;\n",
              "    }\n",
              "</style>\n",
              "<table border=\"1\" class=\"dataframe\">\n",
              "  <thead>\n",
              "    <tr style=\"text-align: right;\">\n",
              "      <th></th>\n",
              "      <th>A</th>\n",
              "      <th>B</th>\n",
              "      <th>C</th>\n",
              "    </tr>\n",
              "  </thead>\n",
              "  <tbody>\n",
              "    <tr>\n",
              "      <th>count</th>\n",
              "      <td>15.000000</td>\n",
              "      <td>15.000000</td>\n",
              "      <td>15.000000</td>\n",
              "    </tr>\n",
              "    <tr>\n",
              "      <th>mean</th>\n",
              "      <td>18.966667</td>\n",
              "      <td>23.786667</td>\n",
              "      <td>27.626667</td>\n",
              "    </tr>\n",
              "    <tr>\n",
              "      <th>std</th>\n",
              "      <td>5.386049</td>\n",
              "      <td>6.709893</td>\n",
              "      <td>5.078451</td>\n",
              "    </tr>\n",
              "    <tr>\n",
              "      <th>min</th>\n",
              "      <td>9.300000</td>\n",
              "      <td>12.000000</td>\n",
              "      <td>16.500000</td>\n",
              "    </tr>\n",
              "    <tr>\n",
              "      <th>25%</th>\n",
              "      <td>16.450000</td>\n",
              "      <td>21.100000</td>\n",
              "      <td>24.850000</td>\n",
              "    </tr>\n",
              "    <tr>\n",
              "      <th>50%</th>\n",
              "      <td>19.700000</td>\n",
              "      <td>24.500000</td>\n",
              "      <td>28.400000</td>\n",
              "    </tr>\n",
              "    <tr>\n",
              "      <th>75%</th>\n",
              "      <td>22.350000</td>\n",
              "      <td>27.450000</td>\n",
              "      <td>31.450000</td>\n",
              "    </tr>\n",
              "    <tr>\n",
              "      <th>max</th>\n",
              "      <td>28.000000</td>\n",
              "      <td>35.200000</td>\n",
              "      <td>34.500000</td>\n",
              "    </tr>\n",
              "  </tbody>\n",
              "</table>\n",
              "</div>"
            ],
            "text/plain": [
              "               A          B          C\n",
              "count  15.000000  15.000000  15.000000\n",
              "mean   18.966667  23.786667  27.626667\n",
              "std     5.386049   6.709893   5.078451\n",
              "min     9.300000  12.000000  16.500000\n",
              "25%    16.450000  21.100000  24.850000\n",
              "50%    19.700000  24.500000  28.400000\n",
              "75%    22.350000  27.450000  31.450000\n",
              "max    28.000000  35.200000  34.500000"
            ]
          },
          "metadata": {
            "tags": []
          },
          "execution_count": 92
        }
      ]
    },
    {
      "cell_type": "code",
      "metadata": {
        "id": "lBNW60oHtcTn",
        "colab_type": "code",
        "colab": {},
        "outputId": "b27377e2-50e7-4733-af97-02d1d1accc94"
      },
      "source": [
        "#Plot boxplot of the different groupings of the resin\n",
        "f, ax = plt.subplots(figsize=(10, 8))\n",
        "sns.boxplot(data=resin_data)\n",
        "\n",
        "plt.title('Distribution of Resins by Type', size = 15) #set plot title\n",
        "plt.xlabel('Types') #set xlabel title"
      ],
      "execution_count": null,
      "outputs": [
        {
          "output_type": "execute_result",
          "data": {
            "text/plain": [
              "Text(0.5, 0, 'Types')"
            ]
          },
          "metadata": {
            "tags": []
          },
          "execution_count": 128
        },
        {
          "output_type": "display_data",
          "data": {
            "image/png": "[encoded data removed]",
            "text/plain": [
              "<Figure size 720x576 with 1 Axes>"
            ]
          },
          "metadata": {
            "tags": [],
            "needs_background": "light"
          }
        }
      ]
    },
    {
      "cell_type": "markdown",
      "metadata": {
        "id": "TG6ehMZotcTp",
        "colab_type": "text"
      },
      "source": [
        "The box plots above shows that the bonding strength for Type A resins are generally the lowest. The data is negatively skewed, and thus, Type As can generally be regarded as the type with a low bonding strength in comparison. \n",
        "All data for bonding strength of the three resin types are normally distributed  \n",
        "\n",
        "Type B resins are not too different from Type C resins in bonding strength as the boxplot shows the distribution of the bonding strength of Type C resins to be within the range for Type B resins"
      ]
    },
    {
      "cell_type": "code",
      "metadata": {
        "id": "Nwi2Q6PqtcTq",
        "colab_type": "code",
        "colab": {},
        "outputId": "81e1b52b-1f04-46bf-9b6b-da1ca9c1ef27"
      },
      "source": [
        "#Compare distribution of Baseline,and TaiChi data after 24weeks\n",
        "fig = plt.figure(figsize=(15, 5))#set figure size\n",
        "\n",
        "#use distplot to view distributions\n",
        "sns.distplot(resin_data['A'],  bins=20, color='red', rug=True, label='Type A') #baseline data\n",
        "sns.distplot(resin_data['B'],  bins=20, color='blue',  rug=True, label='Type B') #control data\n",
        "sns.distplot(resin_data['C'],  bins=20, color='yellow',  rug=True, label='Type C') #control data\n",
        "\n",
        "plt.legend()#show legend\n",
        "\n",
        "plt.title('Distribution of Bonding Strengths of Resins', size = 20) #set plot title"
      ],
      "execution_count": null,
      "outputs": [
        {
          "output_type": "execute_result",
          "data": {
            "text/plain": [
              "Text(0.5, 1.0, 'Distribution of Bonding Strengths of Resins')"
            ]
          },
          "metadata": {
            "tags": []
          },
          "execution_count": 118
        },
        {
          "output_type": "display_data",
          "data": {
            "image/png": "[encoded data removed]",
            "text/plain": [
              "<Figure size 1080x360 with 1 Axes>"
            ]
          },
          "metadata": {
            "tags": [],
            "needs_background": "light"
          }
        }
      ]
    },
    {
      "cell_type": "markdown",
      "metadata": {
        "id": "Jl97FRM3tcTr",
        "colab_type": "text"
      },
      "source": [
        "From the above;\n",
        "Type A Resins generally have the lowest bonding strength, although, some are as good as some Type Bs and Cs\n",
        "Type B and C resins are generally similar, but Type C resins have a generally more dependable high bonding strength than Type Bs.\n",
        "Type B resins could be seen as the ones that can perform where Type As can, and where Type Cs can. We ould call them the General Purpose Resins\n",
        "Type Bs have quite a number of resins performing even higher than the Type Cs. We could consider those rare."
      ]
    },
    {
      "cell_type": "markdown",
      "metadata": {
        "id": "rn6RFX0BtcTs",
        "colab_type": "text"
      },
      "source": [
        "##### Confirm assumptions using hypothesis."
      ]
    },
    {
      "cell_type": "markdown",
      "metadata": {
        "id": "G3W99BkxtcTt",
        "colab_type": "text"
      },
      "source": [
        "### The hypothesis\n",
        "$H_0$: $\\mu_d = 0$ ,  All three resin types are similar.\n",
        "\n",
        "$H_1$: $\\mu_d \\neq 0$, There is a difference amongst all three resin types."
      ]
    },
    {
      "cell_type": "code",
      "metadata": {
        "id": "t6sgv9natcTu",
        "colab_type": "code",
        "colab": {},
        "outputId": "584cee20-e004-4e82-a456-d39170794fd1"
      },
      "source": [
        "scs.f_oneway(resin_data['A'], resin_data['B'], resin_data['C'])# compute One-way ANOVA test to test hypothesis"
      ],
      "execution_count": null,
      "outputs": [
        {
          "output_type": "execute_result",
          "data": {
            "text/plain": [
              "F_onewayResult(statistic=8.488055984887513, pvalue=0.0008017448866768368)"
            ]
          },
          "metadata": {
            "tags": []
          },
          "execution_count": 105
        }
      ]
    },
    {
      "cell_type": "markdown",
      "metadata": {
        "id": "g1Z3I73ltcTw",
        "colab_type": "text"
      },
      "source": [
        "We obtain a p value of 0.0008, which is less than the 0.05 significance level. \n",
        "A low p-value indicates support for the alternative hypothesis. \n",
        "\n",
        "We hence reject the null hypothesis. \n",
        "\n",
        "This means that there is significant difference in the bonding strengths of the three resin Types A,B,& C"
      ]
    }
  ]
}