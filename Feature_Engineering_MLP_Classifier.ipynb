{
  "nbformat": 4,
  "nbformat_minor": 0,
  "metadata": {
    "kernelspec": {
      "display_name": "Python 3",
      "language": "python",
      "name": "python3"
    },
    "language_info": {
      "codemirror_mode": {
        "name": "ipython",
        "version": 3
      },
      "file_extension": ".py",
      "mimetype": "text/x-python",
      "name": "python",
      "nbconvert_exporter": "python",
      "pygments_lexer": "ipython3",
      "version": "3.7.1"
    },
    "colab": {
      "name": "Feature_Engineering - MLP_Classifier.ipynb",
      "provenance": [],
      "include_colab_link": true
    }
  },
  "cells": [
    {
      "cell_type": "markdown",
      "metadata": {
        "id": "view-in-github",
        "colab_type": "text"
      },
      "source": [
        "<a href=\"https://colab.research.google.com/github/FunmiSomoye/School-Projects/blob/master/Feature_Engineering_MLP_Classifier.ipynb\" target=\"_parent\"><img src=\"https://colab.research.google.com/assets/colab-badge.svg\" alt=\"Open In Colab\"/></a>"
      ]
    },
    {
      "cell_type": "markdown",
      "metadata": {
        "id": "GwmNIJaPp7xg",
        "colab_type": "text"
      },
      "source": [
        "# HLT Assignment\n",
        "\n",
        "## HLT_Group-C\n",
        "\n",
        "#### Raphael Ozioko\n",
        "#### Tobechukwu Asem\n",
        "#### Oluwafunmilayo Somoye"
      ]
    },
    {
      "cell_type": "markdown",
      "metadata": {
        "id": "1mWgxVsip7xh",
        "colab_type": "text"
      },
      "source": [
        "In addition to practising the process of loading data, regularizing it and using it to train a model, the goal of this assignment is to investigat the effect of changing model parameters on the performance."
      ]
    },
    {
      "cell_type": "markdown",
      "metadata": {
        "id": "mRw_K2nwp7xl",
        "colab_type": "text"
      },
      "source": [
        "## Step 1: loading the data"
      ]
    },
    {
      "cell_type": "markdown",
      "metadata": {
        "id": "pnJVhVUEp7xn",
        "colab_type": "text"
      },
      "source": [
        "We'll be going a bit further with the robot collision dataset. This time, instead of looking at just the first file, we'll look at all five different tasks combined (lp1.data to lp5.data). Prepare two different arrays, X1 and X2, as follows:\n",
        "- Each element in X1 is the immediate reading of the force and torque values after an event, [f1, f2, f3, t1, t2, t3]. The first element should be [1, 1, 63, 3, 1, 0]\n",
        "- Each element in X2 contains 18 values in total - the first, fifth and tenth sets of sensor readings after an event. The first element should be [-1, -1, 63, -3, -1, 0, -1, -1, 63, -3, -1, 0, -1, -1, 61, -3, 0, 0].\n",
        "\n",
        "y should contain the corresponding classes, represented as integers according the the provided dictionary"
      ]
    },
    {
      "cell_type": "code",
      "metadata": {
        "id": "4yGBBCLXp7xo",
        "colab_type": "code",
        "colab": {}
      },
      "source": [
        "files = ['robot_execution_failure/lp1.data', \n",
        "         'robot_execution_failure/lp2.data',\n",
        "         'robot_execution_failure/lp3.data', \n",
        "         'robot_execution_failure/lp4.data', \n",
        "         'robot_execution_failure/lp5.data'\n",
        "        ]\n",
        "classes = {'normal':0, 'collision':1, 'obstruction':2, 'fr_collision':3} # Encoding the classes as integers"
      ],
      "execution_count": null,
      "outputs": []
    },
    {
      "cell_type": "code",
      "metadata": {
        "id": "6kHbZDBep7xu",
        "colab_type": "code",
        "colab": {}
      },
      "source": [
        "#import needed libraries here\n",
        "import numpy as np\n",
        "from sklearn.preprocessing import StandardScaler\n",
        "from sklearn.model_selection import train_test_split\n",
        "import math"
      ],
      "execution_count": null,
      "outputs": []
    },
    {
      "cell_type": "code",
      "metadata": {
        "id": "XWTqK5e2p7xy",
        "colab_type": "code",
        "colab": {}
      },
      "source": [
        "# Your answer\n",
        "\n",
        "raw_data = []\n",
        "\n",
        "for filename in files:\n",
        "    with open(filename) as f:\n",
        "        for line in [item for item in f.readlines()]:# Read the file line by line into a list\n",
        "            raw_data.append(line)"
      ],
      "execution_count": null,
      "outputs": []
    },
    {
      "cell_type": "code",
      "metadata": {
        "id": "dD-Nzpgxp7x3",
        "colab_type": "code",
        "colab": {},
        "outputId": "37bf6cc0-f911-4cc7-f5b3-9f8cd3d6b516"
      },
      "source": [
        "raw_data[:5]#Read first 5 lines"
      ],
      "execution_count": null,
      "outputs": [
        {
          "output_type": "execute_result",
          "data": {
            "text/plain": [
              "['normal\\n',\n",
              " '\\t-1\\t-1\\t63\\t-3\\t-1\\t0\\n',\n",
              " '\\t0\\t0\\t62\\t-3\\t-1\\t0\\n',\n",
              " '\\t-1\\t-1\\t61\\t-3\\t0\\t0\\n',\n",
              " '\\t-1\\t-1\\t63\\t-2\\t-1\\t0\\n']"
            ]
          },
          "metadata": {
            "tags": []
          },
          "execution_count": 4
        }
      ]
    },
    {
      "cell_type": "code",
      "metadata": {
        "id": "zvBdgchIp7x8",
        "colab_type": "code",
        "colab": {},
        "outputId": "91083811-6500-4c96-96ff-53a210ddf212"
      },
      "source": [
        "len(raw_data)"
      ],
      "execution_count": null,
      "outputs": [
        {
          "output_type": "execute_result",
          "data": {
            "text/plain": [
              "8326"
            ]
          },
          "metadata": {
            "tags": []
          },
          "execution_count": 5
        }
      ]
    },
    {
      "cell_type": "markdown",
      "metadata": {
        "id": "IubYC6qYp7x_",
        "colab_type": "text"
      },
      "source": [
        "##### Create X1"
      ]
    },
    {
      "cell_type": "code",
      "metadata": {
        "id": "RHccQSDTp7yA",
        "colab_type": "code",
        "colab": {}
      },
      "source": [
        "X1 = [] # inputs\n",
        "y = [] # true values\n",
        "\n",
        "# Here, we iterate over the lines of the file. If a line matches one of our classes, we split the next line \n",
        "# to get the six readings and use those as our features. \n",
        "for i in range(len(raw_data) - 1):\n",
        "    data = raw_data[i].strip() # .strip() removes the line endings \\n\n",
        "    if data in classes.keys(): # If the line matches one of our classes (for eg, 'normal')\n",
        "        features = [int(x) for x in raw_data[i+1].strip().split('\\t')] # Split the next line to get our features\n",
        "        X1.append(features)\n",
        "        y.append(classes[data]) # And record which class this set of features belongs to"
      ],
      "execution_count": null,
      "outputs": []
    },
    {
      "cell_type": "code",
      "metadata": {
        "id": "RaDe51c4p7yD",
        "colab_type": "code",
        "colab": {},
        "outputId": "d402c449-b7ba-42f6-dda7-a6bf4b25cc12"
      },
      "source": [
        "len(X1)"
      ],
      "execution_count": null,
      "outputs": [
        {
          "output_type": "execute_result",
          "data": {
            "text/plain": [
              "269"
            ]
          },
          "metadata": {
            "tags": []
          },
          "execution_count": 8
        }
      ]
    },
    {
      "cell_type": "code",
      "metadata": {
        "id": "FpD-iGuVp7yH",
        "colab_type": "code",
        "colab": {},
        "outputId": "2a0a1c06-f432-440a-b1af-b7e78801fdff"
      },
      "source": [
        "X1[0]"
      ],
      "execution_count": null,
      "outputs": [
        {
          "output_type": "execute_result",
          "data": {
            "text/plain": [
              "[-1, -1, 63, -3, -1, 0]"
            ]
          },
          "metadata": {
            "tags": []
          },
          "execution_count": 201
        }
      ]
    },
    {
      "cell_type": "code",
      "metadata": {
        "id": "VjDqE2jbp7yK",
        "colab_type": "code",
        "colab": {},
        "outputId": "a443ae08-2010-4fc0-d51e-18024e361848"
      },
      "source": [
        "y"
      ],
      "execution_count": null,
      "outputs": [
        {
          "output_type": "execute_result",
          "data": {
            "text/plain": [
              "[0,\n",
              " 0,\n",
              " 0,\n",
              " 0,\n",
              " 0,\n",
              " 0,\n",
              " 0,\n",
              " 0,\n",
              " 0,\n",
              " 0,\n",
              " 0,\n",
              " 0,\n",
              " 0,\n",
              " 0,\n",
              " 0,\n",
              " 0,\n",
              " 0,\n",
              " 0,\n",
              " 1,\n",
              " 1,\n",
              " 1,\n",
              " 1,\n",
              " 1,\n",
              " 1,\n",
              " 1,\n",
              " 1,\n",
              " 1,\n",
              " 1,\n",
              " 1,\n",
              " 1,\n",
              " 1,\n",
              " 1,\n",
              " 1,\n",
              " 1,\n",
              " 1,\n",
              " 2,\n",
              " 2,\n",
              " 2,\n",
              " 2,\n",
              " 2,\n",
              " 0,\n",
              " 2,\n",
              " 0,\n",
              " 2,\n",
              " 2,\n",
              " 2,\n",
              " 2,\n",
              " 2,\n",
              " 2,\n",
              " 2,\n",
              " 2,\n",
              " 2,\n",
              " 3,\n",
              " 2,\n",
              " 3,\n",
              " 3,\n",
              " 3,\n",
              " 2,\n",
              " 3,\n",
              " 2,\n",
              " 2,\n",
              " 2,\n",
              " 3,\n",
              " 2,\n",
              " 2,\n",
              " 2,\n",
              " 2,\n",
              " 0,\n",
              " 3,\n",
              " 3,\n",
              " 2,\n",
              " 3,\n",
              " 2,\n",
              " 2,\n",
              " 3,\n",
              " 2,\n",
              " 3,\n",
              " 2,\n",
              " 2,\n",
              " 3,\n",
              " 2,\n",
              " 3,\n",
              " 3,\n",
              " 2,\n",
              " 3,\n",
              " 2,\n",
              " 2,\n",
              " 3,\n",
              " 0,\n",
              " 0,\n",
              " 0,\n",
              " 0,\n",
              " 0,\n",
              " 0,\n",
              " 0,\n",
              " 0,\n",
              " 0,\n",
              " 0,\n",
              " 0,\n",
              " 0,\n",
              " 0,\n",
              " 0,\n",
              " 0,\n",
              " 0,\n",
              " 0,\n",
              " 0,\n",
              " 0,\n",
              " 0,\n",
              " 0,\n",
              " 0,\n",
              " 0,\n",
              " 0,\n",
              " 0,\n",
              " 0,\n",
              " 0,\n",
              " 0,\n",
              " 0,\n",
              " 0,\n",
              " 0,\n",
              " 0,\n",
              " 0,\n",
              " 0,\n",
              " 0,\n",
              " 0,\n",
              " 0,\n",
              " 0,\n",
              " 0,\n",
              " 0,\n",
              " 0,\n",
              " 0,\n",
              " 0,\n",
              " 0,\n",
              " 1,\n",
              " 1,\n",
              " 1,\n",
              " 1,\n",
              " 1,\n",
              " 1,\n",
              " 1,\n",
              " 1,\n",
              " 1,\n",
              " 1,\n",
              " 1,\n",
              " 1,\n",
              " 1,\n",
              " 1,\n",
              " 1,\n",
              " 1,\n",
              " 1,\n",
              " 1,\n",
              " 1,\n",
              " 1,\n",
              " 1,\n",
              " 1,\n",
              " 1,\n",
              " 1,\n",
              " 1,\n",
              " 1,\n",
              " 1,\n",
              " 1,\n",
              " 1,\n",
              " 2,\n",
              " 1,\n",
              " 2,\n",
              " 2,\n",
              " 2,\n",
              " 2,\n",
              " 1,\n",
              " 1,\n",
              " 1,\n",
              " 2,\n",
              " 2,\n",
              " 2,\n",
              " 2,\n",
              " 2,\n",
              " 1,\n",
              " 2,\n",
              " 1,\n",
              " 2,\n",
              " 1,\n",
              " 2,\n",
              " 2,\n",
              " 1,\n",
              " 2,\n",
              " 1,\n",
              " 2,\n",
              " 1,\n",
              " 2,\n",
              " 1,\n",
              " 1,\n",
              " 1,\n",
              " 1,\n",
              " 2,\n",
              " 2,\n",
              " 2,\n",
              " 1,\n",
              " 1,\n",
              " 1,\n",
              " 1,\n",
              " 1,\n",
              " 1,\n",
              " 1,\n",
              " 1,\n",
              " 1,\n",
              " 2,\n",
              " 1,\n",
              " 1,\n",
              " 1,\n",
              " 1,\n",
              " 1,\n",
              " 1,\n",
              " 1,\n",
              " 1,\n",
              " 1,\n",
              " 1,\n",
              " 1,\n",
              " 1,\n",
              " 1,\n",
              " 1,\n",
              " 1,\n",
              " 1,\n",
              " 1,\n",
              " 1,\n",
              " 1,\n",
              " 1,\n",
              " 0,\n",
              " 0,\n",
              " 0,\n",
              " 0,\n",
              " 0,\n",
              " 0,\n",
              " 0,\n",
              " 0,\n",
              " 0,\n",
              " 0,\n",
              " 0,\n",
              " 0,\n",
              " 0,\n",
              " 0,\n",
              " 0,\n",
              " 0,\n",
              " 0,\n",
              " 0,\n",
              " 0,\n",
              " 0,\n",
              " 0,\n",
              " 0,\n",
              " 0,\n",
              " 0,\n",
              " 0,\n",
              " 0,\n",
              " 0,\n",
              " 0,\n",
              " 0,\n",
              " 0,\n",
              " 0,\n",
              " 0,\n",
              " 0,\n",
              " 0,\n",
              " 0,\n",
              " 0,\n",
              " 0,\n",
              " 0,\n",
              " 0,\n",
              " 0,\n",
              " 0,\n",
              " 0,\n",
              " 0,\n",
              " 0]"
            ]
          },
          "metadata": {
            "tags": []
          },
          "execution_count": 268
        }
      ]
    },
    {
      "cell_type": "markdown",
      "metadata": {
        "id": "MZBx1ivap7yM",
        "colab_type": "text"
      },
      "source": [
        "##### Create X2"
      ]
    },
    {
      "cell_type": "code",
      "metadata": {
        "id": "j_47qVAEp7yN",
        "colab_type": "code",
        "colab": {}
      },
      "source": [
        "X2 = [] # inputs\n",
        "y = [] # true values\n",
        "\n",
        "# Here, we iterate over the lines of the file. If a line matches one of our classes, we split the next line \n",
        "\n",
        "for i in range(len(raw_data) - 1):\n",
        "    data2 = raw_data[i].strip() # .strip() removes the line endings \n",
        "    if data2 in classes.keys(): # If the line in the data matches one of our classes (for eg, 'normal')\n",
        "        features = [int(x) for x in raw_data[i+1].strip().split('\\t') + raw_data[i+5].strip().split('\\t') + raw_data[i+10].strip().split('\\t')] # Split the next line to get our features\n",
        "        X2.append(features)\n",
        "        y.append(classes[data2]) # And record which class this set of features belongs to"
      ],
      "execution_count": null,
      "outputs": []
    },
    {
      "cell_type": "code",
      "metadata": {
        "id": "rT8MTAPxp7yP",
        "colab_type": "code",
        "colab": {},
        "outputId": "debacad0-9388-41bb-b0ed-fa9f82876525"
      },
      "source": [
        "X2[0]"
      ],
      "execution_count": null,
      "outputs": [
        {
          "output_type": "execute_result",
          "data": {
            "text/plain": [
              "[-1, -1, 63, -3, -1, 0, -1, -1, 63, -3, -1, 0, -1, -1, 61, -3, 0, 0]"
            ]
          },
          "metadata": {
            "tags": []
          },
          "execution_count": 159
        }
      ]
    },
    {
      "cell_type": "code",
      "metadata": {
        "id": "TbdVzW7Xp7yT",
        "colab_type": "code",
        "colab": {}
      },
      "source": [
        ""
      ],
      "execution_count": null,
      "outputs": []
    },
    {
      "cell_type": "code",
      "metadata": {
        "id": "WfDuBZYOp7yW",
        "colab_type": "code",
        "colab": {}
      },
      "source": [
        ""
      ],
      "execution_count": null,
      "outputs": []
    },
    {
      "cell_type": "markdown",
      "metadata": {
        "id": "LM9ZFr4Np7yZ",
        "colab_type": "text"
      },
      "source": [
        "## Step 2: establishing a baseline"
      ]
    },
    {
      "cell_type": "markdown",
      "metadata": {
        "id": "FeXaabO2p7yZ",
        "colab_type": "text"
      },
      "source": [
        "Using techniques covered in this unit, split X1 and y into separate training and testing sets. Use the training set to train a neural network (MLPClassifier) using default parameters but with hidden_layer_sizes=(20, 20, 20). Use the test data you held back to score the model you have created. How well does it perform? Print out the score and confusion matrix. For more accuracy, run through these steps 10 times and find the average score - bonus points for running more times and getting a standard deviation!"
      ]
    },
    {
      "cell_type": "code",
      "metadata": {
        "id": "faBEmBXap7ya",
        "colab_type": "code",
        "colab": {}
      },
      "source": [
        "# Your answer\n",
        "#creaate coppies of X1 for multiple iterations\n",
        "X1_1 = np.copy(X1)\n",
        "X1_2 = np.copy(X1)\n",
        "X1_3 = np.copy(X1)"
      ],
      "execution_count": null,
      "outputs": []
    },
    {
      "cell_type": "markdown",
      "metadata": {
        "id": "xgvvwwizp7yc",
        "colab_type": "text"
      },
      "source": [
        "##### 1"
      ]
    },
    {
      "cell_type": "code",
      "metadata": {
        "id": "ZJS74BKyp7yd",
        "colab_type": "code",
        "colab": {}
      },
      "source": [
        "X_train, X_test, y_train, y_test = train_test_split(X1_1, y)  #split into training and test sets"
      ],
      "execution_count": null,
      "outputs": []
    },
    {
      "cell_type": "code",
      "metadata": {
        "id": "QLp4RzDfp7yf",
        "colab_type": "code",
        "colab": {},
        "outputId": "91d44929-c4eb-4747-ffcc-4c3466f381ae"
      },
      "source": [
        "len(X_train) #see size of X_train"
      ],
      "execution_count": null,
      "outputs": [
        {
          "output_type": "execute_result",
          "data": {
            "text/plain": [
              "201"
            ]
          },
          "metadata": {
            "tags": []
          },
          "execution_count": 106
        }
      ]
    },
    {
      "cell_type": "code",
      "metadata": {
        "id": "bviAGh13p7yi",
        "colab_type": "code",
        "colab": {},
        "outputId": "5751d007-4c92-475c-c500-228621e692cd"
      },
      "source": [
        "# Prepare to scale the inputs\n",
        "scaler = StandardScaler()\n",
        "scaler.fit(X_train)"
      ],
      "execution_count": null,
      "outputs": [
        {
          "output_type": "stream",
          "text": [
            "C:\\Users\\acer\\Anaconda3\\lib\\site-packages\\sklearn\\utils\\validation.py:595: DataConversionWarning: Data with input dtype int32 was converted to float64 by StandardScaler.\n",
            "  warnings.warn(msg, DataConversionWarning)\n"
          ],
          "name": "stderr"
        },
        {
          "output_type": "execute_result",
          "data": {
            "text/plain": [
              "StandardScaler(copy=True, with_mean=True, with_std=True)"
            ]
          },
          "metadata": {
            "tags": []
          },
          "execution_count": 107
        }
      ]
    },
    {
      "cell_type": "code",
      "metadata": {
        "id": "puzOVuWhp7yk",
        "colab_type": "code",
        "colab": {},
        "outputId": "5a786e0b-c9bf-4217-d33d-83b82fa7e4a5"
      },
      "source": [
        "# Scaling the inputs \n",
        "X_train = scaler.transform(X_train)\n",
        "X_test = scaler.transform(X_test)"
      ],
      "execution_count": null,
      "outputs": [
        {
          "output_type": "stream",
          "text": [
            "C:\\Users\\acer\\Anaconda3\\lib\\site-packages\\sklearn\\utils\\validation.py:595: DataConversionWarning: Data with input dtype int32 was converted to float64 by StandardScaler.\n",
            "  warnings.warn(msg, DataConversionWarning)\n",
            "C:\\Users\\acer\\Anaconda3\\lib\\site-packages\\sklearn\\utils\\validation.py:595: DataConversionWarning: Data with input dtype int32 was converted to float64 by StandardScaler.\n",
            "  warnings.warn(msg, DataConversionWarning)\n"
          ],
          "name": "stderr"
        }
      ]
    },
    {
      "cell_type": "code",
      "metadata": {
        "id": "lf4GNBDep7ym",
        "colab_type": "code",
        "colab": {}
      },
      "source": [
        "#import the MLP Classifier\n",
        "from sklearn.neural_network import MLPClassifier"
      ],
      "execution_count": null,
      "outputs": []
    },
    {
      "cell_type": "code",
      "metadata": {
        "id": "NOjyuiadp7yp",
        "colab_type": "code",
        "colab": {},
        "outputId": "60f0b771-c252-4089-f6af-19978064eafc"
      },
      "source": [
        "# Creating the neural network\n",
        "mlp1 = MLPClassifier(hidden_layer_sizes=(20,20,20))\n",
        "mlp1.fit(X_train,y_train)"
      ],
      "execution_count": null,
      "outputs": [
        {
          "output_type": "stream",
          "text": [
            "C:\\Users\\acer\\Anaconda3\\lib\\site-packages\\sklearn\\neural_network\\multilayer_perceptron.py:562: ConvergenceWarning: Stochastic Optimizer: Maximum iterations (200) reached and the optimization hasn't converged yet.\n",
            "  % self.max_iter, ConvergenceWarning)\n"
          ],
          "name": "stderr"
        },
        {
          "output_type": "execute_result",
          "data": {
            "text/plain": [
              "MLPClassifier(activation='relu', alpha=0.0001, batch_size='auto', beta_1=0.9,\n",
              "       beta_2=0.999, early_stopping=False, epsilon=1e-08,\n",
              "       hidden_layer_sizes=(20, 20, 20), learning_rate='constant',\n",
              "       learning_rate_init=0.001, max_iter=200, momentum=0.9,\n",
              "       n_iter_no_change=10, nesterovs_momentum=True, power_t=0.5,\n",
              "       random_state=None, shuffle=True, solver='adam', tol=0.0001,\n",
              "       validation_fraction=0.1, verbose=False, warm_start=False)"
            ]
          },
          "metadata": {
            "tags": []
          },
          "execution_count": 110
        }
      ]
    },
    {
      "cell_type": "code",
      "metadata": {
        "id": "woacogoUp7ys",
        "colab_type": "code",
        "colab": {}
      },
      "source": [
        "predict1 = mlp1.predict(X_test) #predict"
      ],
      "execution_count": null,
      "outputs": []
    },
    {
      "cell_type": "code",
      "metadata": {
        "id": "aV3Zhod-p7yu",
        "colab_type": "code",
        "colab": {}
      },
      "source": [
        "from sklearn.metrics import classification_report,confusion_matrix #import functions for score calculations\n"
      ],
      "execution_count": null,
      "outputs": []
    },
    {
      "cell_type": "code",
      "metadata": {
        "id": "L-5y40F5p7yx",
        "colab_type": "code",
        "colab": {},
        "outputId": "392e7cf5-e232-4414-fade-3c695a8b0810"
      },
      "source": [
        "# The score - pretty good! ~96% accuracy (will vary depending on the random weights the model started with)\n",
        "print(mlp1.score(X_test, y_test))\n",
        "\n",
        "print(confusion_matrix(y_test,predict1))\n",
        "print(classification_report(y_test,predict1))"
      ],
      "execution_count": null,
      "outputs": [
        {
          "output_type": "stream",
          "text": [
            "0.6470588235294118\n",
            "[[26  0  0  0]\n",
            " [ 8 17  1  0]\n",
            " [ 6  6  1  0]\n",
            " [ 1  2  0  0]]\n",
            "              precision    recall  f1-score   support\n",
            "\n",
            "           0       0.63      1.00      0.78        26\n",
            "           1       0.68      0.65      0.67        26\n",
            "           2       0.50      0.08      0.13        13\n",
            "           3       0.00      0.00      0.00         3\n",
            "\n",
            "   micro avg       0.65      0.65      0.65        68\n",
            "   macro avg       0.45      0.43      0.39        68\n",
            "weighted avg       0.60      0.65      0.58        68\n",
            "\n"
          ],
          "name": "stdout"
        },
        {
          "output_type": "stream",
          "text": [
            "C:\\Users\\acer\\Anaconda3\\lib\\site-packages\\sklearn\\metrics\\classification.py:1143: UndefinedMetricWarning: Precision and F-score are ill-defined and being set to 0.0 in labels with no predicted samples.\n",
            "  'precision', 'predicted', average, warn_for)\n"
          ],
          "name": "stderr"
        }
      ]
    },
    {
      "cell_type": "markdown",
      "metadata": {
        "id": "ONTT3GEmp7yz",
        "colab_type": "text"
      },
      "source": [
        "If you're getting a convergence warning, you could try having the model train over more iterations - change max_iter = 1000 or 10,000. Does this improve the average score?"
      ]
    },
    {
      "cell_type": "code",
      "metadata": {
        "id": "CD_p5Lk3p7y0",
        "colab_type": "code",
        "colab": {}
      },
      "source": [
        "#using max_iter of 1000"
      ],
      "execution_count": null,
      "outputs": []
    },
    {
      "cell_type": "markdown",
      "metadata": {
        "id": "PQSlDFhVp7y5",
        "colab_type": "text"
      },
      "source": [
        "##### 2"
      ]
    },
    {
      "cell_type": "code",
      "metadata": {
        "id": "DrfGq055p7y5",
        "colab_type": "code",
        "colab": {}
      },
      "source": [
        "X_train, X_test, y_train, y_test = train_test_split(X1_2, y) #split into training and test sets"
      ],
      "execution_count": null,
      "outputs": []
    },
    {
      "cell_type": "code",
      "metadata": {
        "id": "tkguDxbap7y7",
        "colab_type": "code",
        "colab": {},
        "outputId": "4cc0bf61-b41c-4a8a-b2b8-39757313ef66"
      },
      "source": [
        "# Scaling the inputs \n",
        "X_train = scaler.transform(X_train)\n",
        "X_test = scaler.transform(X_test)"
      ],
      "execution_count": null,
      "outputs": [
        {
          "output_type": "stream",
          "text": [
            "C:\\Users\\acer\\Anaconda3\\lib\\site-packages\\sklearn\\utils\\validation.py:595: DataConversionWarning: Data with input dtype int32 was converted to float64 by StandardScaler.\n",
            "  warnings.warn(msg, DataConversionWarning)\n",
            "C:\\Users\\acer\\Anaconda3\\lib\\site-packages\\sklearn\\utils\\validation.py:595: DataConversionWarning: Data with input dtype int32 was converted to float64 by StandardScaler.\n",
            "  warnings.warn(msg, DataConversionWarning)\n"
          ],
          "name": "stderr"
        }
      ]
    },
    {
      "cell_type": "code",
      "metadata": {
        "id": "6xAmJkuMp7y-",
        "colab_type": "code",
        "colab": {},
        "outputId": "e0cccb2e-0525-4697-9ca5-644a65052064"
      },
      "source": [
        "# Creating the neural network\n",
        "mlp2 = MLPClassifier(hidden_layer_sizes=(20,20,20), max_iter=1000)\n",
        "mlp2.fit(X_train,y_train)"
      ],
      "execution_count": null,
      "outputs": [
        {
          "output_type": "execute_result",
          "data": {
            "text/plain": [
              "MLPClassifier(activation='relu', alpha=0.0001, batch_size='auto', beta_1=0.9,\n",
              "       beta_2=0.999, early_stopping=False, epsilon=1e-08,\n",
              "       hidden_layer_sizes=(20, 20, 20), learning_rate='constant',\n",
              "       learning_rate_init=0.001, max_iter=1000, momentum=0.9,\n",
              "       n_iter_no_change=10, nesterovs_momentum=True, power_t=0.5,\n",
              "       random_state=None, shuffle=True, solver='adam', tol=0.0001,\n",
              "       validation_fraction=0.1, verbose=False, warm_start=False)"
            ]
          },
          "metadata": {
            "tags": []
          },
          "execution_count": 115
        }
      ]
    },
    {
      "cell_type": "code",
      "metadata": {
        "id": "biPo4WMpp7zA",
        "colab_type": "code",
        "colab": {}
      },
      "source": [
        "predict2 = mlp2.predict(X_test) #predict"
      ],
      "execution_count": null,
      "outputs": []
    },
    {
      "cell_type": "code",
      "metadata": {
        "id": "Js-2vXLap7zD",
        "colab_type": "code",
        "colab": {},
        "outputId": "ffc9ec42-d8c5-4097-e0cb-290cd8ea465a"
      },
      "source": [
        "# The score - pretty good! ~96% accuracy (will vary depending on the random weights the model started with)\n",
        "print(mlp2.score(X_test, y_test))\n",
        "# The confusion matrix gives a better picture of what errors are slipping in\n",
        "\n",
        "print(confusion_matrix(y_test,predict2))\n",
        "print(classification_report(y_test,predict2))"
      ],
      "execution_count": null,
      "outputs": [
        {
          "output_type": "stream",
          "text": [
            "0.6617647058823529\n",
            "[[29  0  0  0]\n",
            " [10 13  2  0]\n",
            " [ 2  7  3  0]\n",
            " [ 2  0  0  0]]\n",
            "              precision    recall  f1-score   support\n",
            "\n",
            "           0       0.67      1.00      0.81        29\n",
            "           1       0.65      0.52      0.58        25\n",
            "           2       0.60      0.25      0.35        12\n",
            "           3       0.00      0.00      0.00         2\n",
            "\n",
            "   micro avg       0.66      0.66      0.66        68\n",
            "   macro avg       0.48      0.44      0.43        68\n",
            "weighted avg       0.63      0.66      0.62        68\n",
            "\n"
          ],
          "name": "stdout"
        },
        {
          "output_type": "stream",
          "text": [
            "C:\\Users\\acer\\Anaconda3\\lib\\site-packages\\sklearn\\metrics\\classification.py:1143: UndefinedMetricWarning: Precision and F-score are ill-defined and being set to 0.0 in labels with no predicted samples.\n",
            "  'precision', 'predicted', average, warn_for)\n"
          ],
          "name": "stderr"
        }
      ]
    },
    {
      "cell_type": "code",
      "metadata": {
        "id": "l7Yjkq93p7zG",
        "colab_type": "code",
        "colab": {}
      },
      "source": [
        "#using max_iter of 10000"
      ],
      "execution_count": null,
      "outputs": []
    },
    {
      "cell_type": "markdown",
      "metadata": {
        "id": "5KHFhz09p7zI",
        "colab_type": "text"
      },
      "source": [
        "##### 3"
      ]
    },
    {
      "cell_type": "code",
      "metadata": {
        "id": "pG353Wjkp7zJ",
        "colab_type": "code",
        "colab": {}
      },
      "source": [
        "X_train, X_test, y_train, y_test = train_test_split(X1_3, y) #split into training and test sets"
      ],
      "execution_count": null,
      "outputs": []
    },
    {
      "cell_type": "code",
      "metadata": {
        "id": "SKxw5Rxsp7zL",
        "colab_type": "code",
        "colab": {},
        "outputId": "03012cfd-6586-4a11-9183-082da37dc10c"
      },
      "source": [
        "len(X_train)#see size of X_train"
      ],
      "execution_count": null,
      "outputs": [
        {
          "output_type": "execute_result",
          "data": {
            "text/plain": [
              "201"
            ]
          },
          "metadata": {
            "tags": []
          },
          "execution_count": 120
        }
      ]
    },
    {
      "cell_type": "code",
      "metadata": {
        "id": "AN-j6eZIp7zO",
        "colab_type": "code",
        "colab": {},
        "outputId": "79b28342-057c-4dfc-cfd8-e0c70d05f710"
      },
      "source": [
        "# Scaling the inputs \n",
        "X_train = scaler.transform(X_train)\n",
        "X_test = scaler.transform(X_test)"
      ],
      "execution_count": null,
      "outputs": [
        {
          "output_type": "stream",
          "text": [
            "C:\\Users\\acer\\Anaconda3\\lib\\site-packages\\sklearn\\utils\\validation.py:595: DataConversionWarning: Data with input dtype int32 was converted to float64 by StandardScaler.\n",
            "  warnings.warn(msg, DataConversionWarning)\n",
            "C:\\Users\\acer\\Anaconda3\\lib\\site-packages\\sklearn\\utils\\validation.py:595: DataConversionWarning: Data with input dtype int32 was converted to float64 by StandardScaler.\n",
            "  warnings.warn(msg, DataConversionWarning)\n"
          ],
          "name": "stderr"
        }
      ]
    },
    {
      "cell_type": "code",
      "metadata": {
        "id": "zV5JKyo4p7zQ",
        "colab_type": "code",
        "colab": {},
        "outputId": "8ef2a1b0-6f10-4324-8ae6-152211a1e660"
      },
      "source": [
        "# Creating the neural network\n",
        "mlp3 = MLPClassifier(hidden_layer_sizes=(20,20,20), max_iter=10000)\n",
        "mlp3.fit(X_train,y_train)"
      ],
      "execution_count": null,
      "outputs": [
        {
          "output_type": "execute_result",
          "data": {
            "text/plain": [
              "MLPClassifier(activation='relu', alpha=0.0001, batch_size='auto', beta_1=0.9,\n",
              "       beta_2=0.999, early_stopping=False, epsilon=1e-08,\n",
              "       hidden_layer_sizes=(20, 20, 20), learning_rate='constant',\n",
              "       learning_rate_init=0.001, max_iter=10000, momentum=0.9,\n",
              "       n_iter_no_change=10, nesterovs_momentum=True, power_t=0.5,\n",
              "       random_state=None, shuffle=True, solver='adam', tol=0.0001,\n",
              "       validation_fraction=0.1, verbose=False, warm_start=False)"
            ]
          },
          "metadata": {
            "tags": []
          },
          "execution_count": 122
        }
      ]
    },
    {
      "cell_type": "code",
      "metadata": {
        "id": "5ywrcil-p7zS",
        "colab_type": "code",
        "colab": {}
      },
      "source": [
        "predict3 = mlp3.predict(X_test) #predict"
      ],
      "execution_count": null,
      "outputs": []
    },
    {
      "cell_type": "code",
      "metadata": {
        "id": "8etIrusBp7zV",
        "colab_type": "code",
        "colab": {},
        "outputId": "0453427d-99ce-46d1-f1ca-d664f7ba422f"
      },
      "source": [
        "# The score - pretty good! ~96% accuracy (will vary depending on the random weights the model started with)\n",
        "print(mlp3.score(X_test, y_test))\n",
        "# The confusion matrix gives a better picture of what errors are slipping in\n",
        "print(confusion_matrix(y_test,predict3))\n",
        "print(classification_report(y_test,predict3))"
      ],
      "execution_count": null,
      "outputs": [
        {
          "output_type": "stream",
          "text": [
            "0.6470588235294118\n",
            "[[25  3  0  0]\n",
            " [ 5 16  2  0]\n",
            " [ 5  4  3  0]\n",
            " [ 4  0  1  0]]\n",
            "              precision    recall  f1-score   support\n",
            "\n",
            "           0       0.64      0.89      0.75        28\n",
            "           1       0.70      0.70      0.70        23\n",
            "           2       0.50      0.25      0.33        12\n",
            "           3       0.00      0.00      0.00         5\n",
            "\n",
            "   micro avg       0.65      0.65      0.65        68\n",
            "   macro avg       0.46      0.46      0.44        68\n",
            "weighted avg       0.59      0.65      0.60        68\n",
            "\n"
          ],
          "name": "stdout"
        },
        {
          "output_type": "stream",
          "text": [
            "C:\\Users\\acer\\Anaconda3\\lib\\site-packages\\sklearn\\metrics\\classification.py:1143: UndefinedMetricWarning: Precision and F-score are ill-defined and being set to 0.0 in labels with no predicted samples.\n",
            "  'precision', 'predicted', average, warn_for)\n"
          ],
          "name": "stderr"
        }
      ]
    },
    {
      "cell_type": "code",
      "metadata": {
        "id": "TquZt3QPp7zX",
        "colab_type": "code",
        "colab": {}
      },
      "source": [
        "#max_iter 1000 has the highest mlp score of 0.66 so far\n",
        "#continue testing with max_iter of 1000\n",
        "#conduct 20 tests"
      ],
      "execution_count": null,
      "outputs": []
    },
    {
      "cell_type": "markdown",
      "metadata": {
        "id": "s5MKDBGop7zc",
        "colab_type": "text"
      },
      "source": [
        "##### Multiple Iterations"
      ]
    },
    {
      "cell_type": "code",
      "metadata": {
        "id": "dAYQlF3up7zc",
        "colab_type": "code",
        "colab": {},
        "outputId": "223f208e-d7c2-42b8-db33-cf66e3dd1ada"
      },
      "source": [
        "# Creating the neural network\n",
        "#using a for loop to run through 20 times\n",
        "\n",
        "X_train, X_test, y_train, y_test = train_test_split(X1, y)\n",
        "\n",
        "# Prepare to scale the inputs\n",
        "scaler = StandardScaler()\n",
        "scaler.fit(X_train)\n",
        "\n",
        "# Scaling the inputs \n",
        "X_train = scaler.transform(X_train)\n",
        "X_test = scaler.transform(X_test)\n",
        "\n",
        "\n",
        "mlpscores = [] #store scores here\n",
        "\n",
        "for counter in range(1,21): #iterate 20 times\n",
        "    mlp = MLPClassifier(hidden_layer_sizes=(20,20,20), max_iter=1000)\n",
        "    mlp.fit(X_train,y_train)\n",
        "    predictions = mlp.predict(X_test)\n",
        "    \n",
        "    scores = mlp.score(X_test, y_test)\n",
        "    mlpscores += [scores]\n",
        "    \n",
        "    print('The mlp Score is ',scores)\n",
        "    # The confusion matrix gives a better picture of what errors are slipping in\n",
        "    print('The confusion matrix is ',confusion_matrix(y_test,predictions))\n",
        "    print(\"\")"
      ],
      "execution_count": null,
      "outputs": [
        {
          "output_type": "stream",
          "text": [
            "The mlp Score is  0.7058823529411765\n",
            "The confusion matrix is  [[24  0  0  0]\n",
            " [ 5 19  1  0]\n",
            " [ 2  7  5  0]\n",
            " [ 5  0  0  0]]\n",
            "\n",
            "The mlp Score is  0.6470588235294118\n",
            "The confusion matrix is  [[24  0  0  0]\n",
            " [10 14  1  0]\n",
            " [ 7  1  6  0]\n",
            " [ 5  0  0  0]]\n",
            "\n",
            "The mlp Score is  0.5882352941176471\n",
            "The confusion matrix is  [[24  0  0  0]\n",
            " [13 11  1  0]\n",
            " [ 9  0  5  0]\n",
            " [ 5  0  0  0]]\n",
            "\n",
            "The mlp Score is  0.6470588235294118\n",
            "The confusion matrix is  [[24  0  0  0]\n",
            " [10 14  1  0]\n",
            " [ 6  2  6  0]\n",
            " [ 5  0  0  0]]\n",
            "\n",
            "The mlp Score is  0.6323529411764706\n",
            "The confusion matrix is  [[24  0  0  0]\n",
            " [10 13  2  0]\n",
            " [ 7  1  6  0]\n",
            " [ 5  0  0  0]]\n",
            "\n",
            "The mlp Score is  0.6176470588235294\n",
            "The confusion matrix is  [[20  4  0  0]\n",
            " [ 7 17  1  0]\n",
            " [ 5  4  5  0]\n",
            " [ 5  0  0  0]]\n",
            "\n",
            "The mlp Score is  0.5588235294117647\n",
            "The confusion matrix is  [[24  0  0  0]\n",
            " [13  9  3  0]\n",
            " [ 7  2  5  0]\n",
            " [ 5  0  0  0]]\n",
            "\n",
            "The mlp Score is  0.6323529411764706\n",
            "The confusion matrix is  [[24  0  0  0]\n",
            " [ 6 19  0  0]\n",
            " [ 5  9  0  0]\n",
            " [ 5  0  0  0]]\n",
            "\n",
            "The mlp Score is  0.6470588235294118\n",
            "The confusion matrix is  [[24  0  0  0]\n",
            " [ 7 16  2  0]\n",
            " [ 4  6  4  0]\n",
            " [ 4  1  0  0]]\n",
            "\n",
            "The mlp Score is  0.6764705882352942\n",
            "The confusion matrix is  [[24  0  0  0]\n",
            " [ 6 18  1  0]\n",
            " [ 5  5  4  0]\n",
            " [ 4  1  0  0]]\n",
            "\n",
            "The mlp Score is  0.6617647058823529\n",
            "The confusion matrix is  [[24  0  0  0]\n",
            " [ 7 15  3  0]\n",
            " [ 5  3  6  0]\n",
            " [ 5  0  0  0]]\n",
            "\n",
            "The mlp Score is  0.6029411764705882\n",
            "The confusion matrix is  [[24  0  0  0]\n",
            " [ 8 11  6  0]\n",
            " [ 6  2  6  0]\n",
            " [ 5  0  0  0]]\n",
            "\n",
            "The mlp Score is  0.6029411764705882\n",
            "The confusion matrix is  [[24  0  0  0]\n",
            " [10 13  2  0]\n",
            " [ 7  3  4  0]\n",
            " [ 4  1  0  0]]\n",
            "\n",
            "The mlp Score is  0.6617647058823529\n",
            "The confusion matrix is  [[24  0  0  0]\n",
            " [ 7 18  0  0]\n",
            " [ 9  2  3  0]\n",
            " [ 5  0  0  0]]\n",
            "\n",
            "The mlp Score is  0.6176470588235294\n",
            "The confusion matrix is  [[24  0  0  0]\n",
            " [ 8 13  4  0]\n",
            " [ 7  2  5  0]\n",
            " [ 5  0  0  0]]\n",
            "\n",
            "The mlp Score is  0.5735294117647058\n",
            "The confusion matrix is  [[24  0  0  0]\n",
            " [12 10  3  0]\n",
            " [ 8  1  5  0]\n",
            " [ 5  0  0  0]]\n",
            "\n",
            "The mlp Score is  0.6617647058823529\n",
            "The confusion matrix is  [[24  0  0  0]\n",
            " [ 9 16  0  0]\n",
            " [ 6  3  5  0]\n",
            " [ 4  1  0  0]]\n",
            "\n",
            "The mlp Score is  0.5294117647058824\n",
            "The confusion matrix is  [[24  0  0  0]\n",
            " [17  7  1  0]\n",
            " [ 9  0  5  0]\n",
            " [ 5  0  0  0]]\n",
            "\n",
            "The mlp Score is  0.6617647058823529\n",
            "The confusion matrix is  [[24  0  0  0]\n",
            " [ 5 16  4  0]\n",
            " [ 4  5  5  0]\n",
            " [ 4  1  0  0]]\n",
            "\n",
            "The mlp Score is  0.5882352941176471\n",
            "The confusion matrix is  [[24  0  0  0]\n",
            " [ 7 13  5  0]\n",
            " [ 4  7  3  0]\n",
            " [ 3  2  0  0]]\n",
            "\n"
          ],
          "name": "stdout"
        }
      ]
    },
    {
      "cell_type": "code",
      "metadata": {
        "id": "C6PXDJNup7ze",
        "colab_type": "code",
        "colab": {},
        "outputId": "13ff41df-4f1d-460b-d5ce-e58ea90a27c6"
      },
      "source": [
        "len(mlpscores) #confirm that the loop ran 20 times"
      ],
      "execution_count": null,
      "outputs": [
        {
          "output_type": "execute_result",
          "data": {
            "text/plain": [
              "20"
            ]
          },
          "metadata": {
            "tags": []
          },
          "execution_count": 182
        }
      ]
    },
    {
      "cell_type": "code",
      "metadata": {
        "id": "4ogb0IhCp7zi",
        "colab_type": "code",
        "colab": {},
        "outputId": "8db0876f-f7af-4472-d4f5-13e69aecb8a7"
      },
      "source": [
        "mlpscores"
      ],
      "execution_count": null,
      "outputs": [
        {
          "output_type": "execute_result",
          "data": {
            "text/plain": [
              "[0.7058823529411765,\n",
              " 0.6470588235294118,\n",
              " 0.5882352941176471,\n",
              " 0.6470588235294118,\n",
              " 0.6323529411764706,\n",
              " 0.6176470588235294,\n",
              " 0.5588235294117647,\n",
              " 0.6323529411764706,\n",
              " 0.6470588235294118,\n",
              " 0.6764705882352942,\n",
              " 0.6617647058823529,\n",
              " 0.6029411764705882,\n",
              " 0.6029411764705882,\n",
              " 0.6617647058823529,\n",
              " 0.6176470588235294,\n",
              " 0.5735294117647058,\n",
              " 0.6617647058823529,\n",
              " 0.5294117647058824,\n",
              " 0.6617647058823529,\n",
              " 0.5882352941176471]"
            ]
          },
          "metadata": {
            "tags": []
          },
          "execution_count": 194
        }
      ]
    },
    {
      "cell_type": "code",
      "metadata": {
        "id": "fd9Vwq8ep7zk",
        "colab_type": "code",
        "colab": {},
        "outputId": "84e34c33-de89-4de0-9fc6-dca3c9803656"
      },
      "source": [
        "#compute average of mlp scores obtained\n",
        "average = np.mean(mlpscores) #calculate average\n",
        "print (\"The average mlp score is =\", round(average, 2)) #print scores and round up numbers to 2 decimal places"
      ],
      "execution_count": null,
      "outputs": [
        {
          "output_type": "stream",
          "text": [
            "The average mlp score is = 0.63\n"
          ],
          "name": "stdout"
        }
      ]
    },
    {
      "cell_type": "code",
      "metadata": {
        "id": "ESeUK6CJp7zn",
        "colab_type": "code",
        "colab": {},
        "outputId": "8eb180f8-0ac1-4101-9be8-9ab02c30bc2a"
      },
      "source": [
        "#compute std of mlp scores obtained\n",
        "std = np.std(mlpscores)\n",
        "print (\"The std of the mlp scores is =\", round(std, 2)) "
      ],
      "execution_count": null,
      "outputs": [
        {
          "output_type": "stream",
          "text": [
            "The std of the mlp scores is = 0.04\n"
          ],
          "name": "stdout"
        }
      ]
    },
    {
      "cell_type": "markdown",
      "metadata": {
        "id": "tw0PsJQJp7zp",
        "colab_type": "text"
      },
      "source": [
        "An average mlp score of 0.63 above does not depict an excellent score. Based on this score, this isn't a good model. "
      ]
    },
    {
      "cell_type": "markdown",
      "metadata": {
        "id": "j_WPzbdOp7zp",
        "colab_type": "text"
      },
      "source": [
        "## Step 3: adding more inputs"
      ]
    },
    {
      "cell_type": "markdown",
      "metadata": {
        "id": "jJantB4Gp7zq",
        "colab_type": "text"
      },
      "source": [
        "Use X2 in place of X1 - does the score increase or decrease? Was this what you expected? How many samples are there in our training set?"
      ]
    },
    {
      "cell_type": "code",
      "metadata": {
        "id": "sSmsQ-oQp7zq",
        "colab_type": "code",
        "colab": {}
      },
      "source": [
        "# Your answer\n",
        "#creaate a copy of X2 to save original list\n",
        "X2_1 = np.copy(X2)"
      ],
      "execution_count": null,
      "outputs": []
    },
    {
      "cell_type": "code",
      "metadata": {
        "id": "IjfV9cKEp7zu",
        "colab_type": "code",
        "colab": {}
      },
      "source": [
        "X_train, X_test, y_train, y_test = train_test_split(X2_1, y) #split into training and test sets"
      ],
      "execution_count": null,
      "outputs": []
    },
    {
      "cell_type": "code",
      "metadata": {
        "id": "R7fIyOGBp7zx",
        "colab_type": "code",
        "colab": {},
        "outputId": "70a0c537-1c77-488f-8cd5-b9b4817b3e52"
      },
      "source": [
        "len(X_train)#see size of X_train"
      ],
      "execution_count": null,
      "outputs": [
        {
          "output_type": "execute_result",
          "data": {
            "text/plain": [
              "201"
            ]
          },
          "metadata": {
            "tags": []
          },
          "execution_count": 186
        }
      ]
    },
    {
      "cell_type": "markdown",
      "metadata": {
        "id": "6kfeXtGop7z0",
        "colab_type": "text"
      },
      "source": [
        "There are 201 samples in the training set"
      ]
    },
    {
      "cell_type": "code",
      "metadata": {
        "id": "Ty4SGzMAp7z0",
        "colab_type": "code",
        "colab": {},
        "outputId": "ed493f59-bfbc-43ac-d604-14e7b999bd69"
      },
      "source": [
        "# Prepare to scale the inputs\n",
        "scaler2 = StandardScaler()\n",
        "scaler2.fit(X_train)"
      ],
      "execution_count": null,
      "outputs": [
        {
          "output_type": "stream",
          "text": [
            "C:\\Users\\acer\\Anaconda3\\lib\\site-packages\\sklearn\\utils\\validation.py:595: DataConversionWarning: Data with input dtype int32 was converted to float64 by StandardScaler.\n",
            "  warnings.warn(msg, DataConversionWarning)\n"
          ],
          "name": "stderr"
        },
        {
          "output_type": "execute_result",
          "data": {
            "text/plain": [
              "StandardScaler(copy=True, with_mean=True, with_std=True)"
            ]
          },
          "metadata": {
            "tags": []
          },
          "execution_count": 187
        }
      ]
    },
    {
      "cell_type": "code",
      "metadata": {
        "id": "dzBR5RCCp7z2",
        "colab_type": "code",
        "colab": {},
        "outputId": "83a9d79e-46c3-4c05-f125-2732a6f901b2"
      },
      "source": [
        "# Scaling the inputs \n",
        "X_train = scaler2.transform(X_train)\n",
        "X_test = scaler2.transform(X_test)"
      ],
      "execution_count": null,
      "outputs": [
        {
          "output_type": "stream",
          "text": [
            "C:\\Users\\acer\\Anaconda3\\lib\\site-packages\\sklearn\\utils\\validation.py:595: DataConversionWarning: Data with input dtype int32 was converted to float64 by StandardScaler.\n",
            "  warnings.warn(msg, DataConversionWarning)\n",
            "C:\\Users\\acer\\Anaconda3\\lib\\site-packages\\sklearn\\utils\\validation.py:595: DataConversionWarning: Data with input dtype int32 was converted to float64 by StandardScaler.\n",
            "  warnings.warn(msg, DataConversionWarning)\n"
          ],
          "name": "stderr"
        }
      ]
    },
    {
      "cell_type": "code",
      "metadata": {
        "id": "aMEvDEOgp7z4",
        "colab_type": "code",
        "colab": {},
        "outputId": "b5c9045a-18fb-4f2a-e958-da877095ac32"
      },
      "source": [
        "# Creating the neural network\n",
        "#using a for loop to run through 20 times\n",
        "\n",
        "mlpscores_X2 = [] #store scores here\n",
        "\n",
        "for counter in range(1,21): #repeat process in loop 20 times\n",
        "    mlp_X2 = MLPClassifier(hidden_layer_sizes=(20,20,20), max_iter=1000)\n",
        "    mlp_X2.fit(X_train,y_train)\n",
        "    predictions = mlp_X2.predict(X_test)\n",
        "    \n",
        "    scores_X2 = mlp_X2.score(X_test, y_test)\n",
        "    mlpscores_X2 += [scores_X2]\n",
        "    \n",
        "    print('The mlp Score is ',scores_X2)\n",
        "    # The confusion matrix gives a better picture of what errors are slipping in\n",
        "    print('The confusion matrix is ',confusion_matrix(y_test,predictions))\n",
        "    print(\"\")"
      ],
      "execution_count": null,
      "outputs": [
        {
          "output_type": "stream",
          "text": [
            "The mlp Score is  0.7794117647058824\n",
            "The confusion matrix is  [[26  0  0  0]\n",
            " [ 6 20  0  0]\n",
            " [ 1  3  7  0]\n",
            " [ 3  2  0  0]]\n",
            "\n",
            "The mlp Score is  0.7352941176470589\n",
            "The confusion matrix is  [[26  0  0  0]\n",
            " [ 6 20  0  0]\n",
            " [ 1  6  4  0]\n",
            " [ 2  3  0  0]]\n",
            "\n",
            "The mlp Score is  0.6617647058823529\n",
            "The confusion matrix is  [[26  0  0  0]\n",
            " [ 8 14  4  0]\n",
            " [ 3  3  5  0]\n",
            " [ 3  2  0  0]]\n",
            "\n",
            "The mlp Score is  0.6764705882352942\n",
            "The confusion matrix is  [[26  0  0  0]\n",
            " [10 14  2  0]\n",
            " [ 4  1  6  0]\n",
            " [ 4  1  0  0]]\n",
            "\n",
            "The mlp Score is  0.7352941176470589\n",
            "The confusion matrix is  [[26  0  0  0]\n",
            " [ 7 19  0  0]\n",
            " [ 3  3  5  0]\n",
            " [ 3  2  0  0]]\n",
            "\n",
            "The mlp Score is  0.7794117647058824\n",
            "The confusion matrix is  [[26  0  0  0]\n",
            " [ 4 21  1  0]\n",
            " [ 1  4  6  0]\n",
            " [ 2  3  0  0]]\n",
            "\n",
            "The mlp Score is  0.7647058823529411\n",
            "The confusion matrix is  [[25  1  0  0]\n",
            " [ 5 20  1  0]\n",
            " [ 0  4  7  0]\n",
            " [ 2  3  0  0]]\n",
            "\n",
            "The mlp Score is  0.7941176470588235\n",
            "The confusion matrix is  [[25  1  0  0]\n",
            " [ 3 22  1  0]\n",
            " [ 0  4  7  0]\n",
            " [ 1  4  0  0]]\n",
            "\n",
            "The mlp Score is  0.7647058823529411\n",
            "The confusion matrix is  [[23  3  0  0]\n",
            " [ 2 23  1  0]\n",
            " [ 0  5  6  0]\n",
            " [ 2  3  0  0]]\n",
            "\n",
            "The mlp Score is  0.7647058823529411\n",
            "The confusion matrix is  [[26  0  0  0]\n",
            " [ 5 20  1  0]\n",
            " [ 0  5  6  0]\n",
            " [ 2  3  0  0]]\n",
            "\n",
            "The mlp Score is  0.7058823529411765\n",
            "The confusion matrix is  [[26  0  0  0]\n",
            " [ 8 17  1  0]\n",
            " [ 2  4  5  0]\n",
            " [ 4  1  0  0]]\n",
            "\n",
            "The mlp Score is  0.7205882352941176\n",
            "The confusion matrix is  [[26  0  0  0]\n",
            " [10 16  0  0]\n",
            " [ 2  2  7  0]\n",
            " [ 4  1  0  0]]\n",
            "\n",
            "The mlp Score is  0.8088235294117647\n",
            "The confusion matrix is  [[26  0  0  0]\n",
            " [ 4 21  1  0]\n",
            " [ 0  3  8  0]\n",
            " [ 2  3  0  0]]\n",
            "\n",
            "The mlp Score is  0.7794117647058824\n",
            "The confusion matrix is  [[26  0  0  0]\n",
            " [ 5 20  1  0]\n",
            " [ 0  4  7  0]\n",
            " [ 3  2  0  0]]\n",
            "\n",
            "The mlp Score is  0.7352941176470589\n",
            "The confusion matrix is  [[25  1  0  0]\n",
            " [ 5 20  1  0]\n",
            " [ 1  5  5  0]\n",
            " [ 3  2  0  0]]\n",
            "\n",
            "The mlp Score is  0.7794117647058824\n",
            "The confusion matrix is  [[24  2  0  0]\n",
            " [ 3 23  0  0]\n",
            " [ 1  4  6  0]\n",
            " [ 2  3  0  0]]\n",
            "\n",
            "The mlp Score is  0.7205882352941176\n",
            "The confusion matrix is  [[26  0  0  0]\n",
            " [ 8 18  0  0]\n",
            " [ 1  5  5  0]\n",
            " [ 3  2  0  0]]\n",
            "\n",
            "The mlp Score is  0.7205882352941176\n",
            "The confusion matrix is  [[25  1  0  0]\n",
            " [ 5 19  2  0]\n",
            " [ 2  4  5  0]\n",
            " [ 2  3  0  0]]\n",
            "\n",
            "The mlp Score is  0.7941176470588235\n",
            "The confusion matrix is  [[26  0  0  0]\n",
            " [ 3 23  0  0]\n",
            " [ 1  5  5  0]\n",
            " [ 2  3  0  0]]\n",
            "\n",
            "The mlp Score is  0.7794117647058824\n",
            "The confusion matrix is  [[26  0  0  0]\n",
            " [ 6 20  0  0]\n",
            " [ 0  4  7  0]\n",
            " [ 2  3  0  0]]\n",
            "\n"
          ],
          "name": "stdout"
        }
      ]
    },
    {
      "cell_type": "code",
      "metadata": {
        "id": "IgObaR_Fp7z6",
        "colab_type": "code",
        "colab": {},
        "outputId": "0d7bd112-0242-4cf4-d7fb-eee26f09ba16"
      },
      "source": [
        "mlpscores_X2"
      ],
      "execution_count": null,
      "outputs": [
        {
          "output_type": "execute_result",
          "data": {
            "text/plain": [
              "[0.7794117647058824,\n",
              " 0.7352941176470589,\n",
              " 0.6617647058823529,\n",
              " 0.6764705882352942,\n",
              " 0.7352941176470589,\n",
              " 0.7794117647058824,\n",
              " 0.7647058823529411,\n",
              " 0.7941176470588235,\n",
              " 0.7647058823529411,\n",
              " 0.7647058823529411,\n",
              " 0.7058823529411765,\n",
              " 0.7205882352941176,\n",
              " 0.8088235294117647,\n",
              " 0.7794117647058824,\n",
              " 0.7352941176470589,\n",
              " 0.7794117647058824,\n",
              " 0.7205882352941176,\n",
              " 0.7205882352941176,\n",
              " 0.7941176470588235,\n",
              " 0.7794117647058824]"
            ]
          },
          "metadata": {
            "tags": []
          },
          "execution_count": 195
        }
      ]
    },
    {
      "cell_type": "code",
      "metadata": {
        "id": "StUtMj_3p70A",
        "colab_type": "code",
        "colab": {},
        "outputId": "561b8ba3-9455-4ac5-eba5-7447998379ca"
      },
      "source": [
        "#compute average of mlp scores obtained\n",
        "average_X2 = np.mean(mlpscores_X2) #calculate average\n",
        "print (\"The average mlp score is =\", round(average_X2, 2)) \n",
        "\n",
        "#compute std of mlp scores obtained\n",
        "std_X2 = np.std(mlpscores_X2)\n",
        "print (\"The std of the mlp scores is =\", round(std_X2, 2)) "
      ],
      "execution_count": null,
      "outputs": [
        {
          "output_type": "stream",
          "text": [
            "The average mlp score is = 0.75\n",
            "The std of the mlp scores is = 0.04\n"
          ],
          "name": "stdout"
        }
      ]
    },
    {
      "cell_type": "markdown",
      "metadata": {
        "id": "-ldQgPmqp70C",
        "colab_type": "text"
      },
      "source": [
        "The performance of X2 is better as a majority of the scores fell between 0.70 to 0.77. This model is not optimum, but performs better than with X1 input parameters."
      ]
    },
    {
      "cell_type": "markdown",
      "metadata": {
        "id": "x7qpX0Y5p70D",
        "colab_type": "text"
      },
      "source": [
        "## Step 4: feature engineering"
      ]
    },
    {
      "cell_type": "markdown",
      "metadata": {
        "id": "8S0ZsV8mp70F",
        "colab_type": "text"
      },
      "source": [
        "Back to X1 as our input. Add an extra feature to each item in the array to represent the total force $f_t$. Assume:\n",
        "\n",
        "$f_t^2 = f_1^2 + f_2^2 + f_3^2$\n",
        "\n",
        "Your first input should now look like this:\n",
        "X1[0] = [-1, -1, 61, -3, 0, 0, 61.0163912403872]"
      ]
    },
    {
      "cell_type": "markdown",
      "metadata": {
        "id": "XB4P7eW9p70F",
        "colab_type": "text"
      },
      "source": [
        "Repeat the steps from step 2. *Has this extra feature improved model performance?*"
      ]
    },
    {
      "cell_type": "code",
      "metadata": {
        "id": "wOr0BKJ4p70G",
        "colab_type": "code",
        "colab": {},
        "outputId": "ed0944a1-da94-4688-dc0e-ab8c2b90e7b6"
      },
      "source": [
        "X1"
      ],
      "execution_count": null,
      "outputs": [
        {
          "output_type": "execute_result",
          "data": {
            "text/plain": [
              "[[-1, -1, 63, -3, -1, 0],\n",
              " [-1, -1, 63, -2, -1, 0],\n",
              " [-1, 0, 57, -5, -3, 0],\n",
              " [0, -1, 59, -2, -1, -1],\n",
              " [0, -2, 65, -4, -2, 0],\n",
              " [-1, 2, 57, -10, -3, 0],\n",
              " [-3, 1, 53, -10, -4, 0],\n",
              " [2, 0, 69, -10, 2, 1],\n",
              " [-1, 1, 58, -11, -4, -1],\n",
              " [-1, -1, 63, -3, -1, 0],\n",
              " [-1, -1, 63, -3, 0, 0],\n",
              " [1, -3, 62, -1, 2, 0],\n",
              " [0, -1, 69, -4, 2, -1],\n",
              " [1, -2, 57, -4, 0, -1],\n",
              " [-1, 1, 67, -9, -4, -1],\n",
              " [0, 2, 67, -11, -3, 0],\n",
              " [-1, 1, 58, -8, -4, 1],\n",
              " [1, 0, 60, -8, 1, 1],\n",
              " [24, 53, 79, -200, 109, 2],\n",
              " [185, 105, 118, -180, 374, 12],\n",
              " [-21, -50, 46, -180, 266, 98],\n",
              " [112, -54, 85, -77, 284, -3],\n",
              " [95, -4, 38, 125, 111, -4],\n",
              " [-127, 83, 69, -71, -148, -53],\n",
              " [-72, -24, 84, 120, -196, -15],\n",
              " [-133, -34, 18, 21, 131, -41],\n",
              " [-10, -2, 27, -17, 8, 3],\n",
              " [5, 23, 157, -186, 179, 2],\n",
              " [-14, -10, 52, 15, -77, 0],\n",
              " [8, -17, 50, 16, -1, -2],\n",
              " [3, -33, 32, 41, 2, -1],\n",
              " [2, -3, 70, -3, -1, 0],\n",
              " [4, -14, 59, 82, -85, 13],\n",
              " [71, 51, 5, 686, 494, -137],\n",
              " [-93, 76, 80, -123, -151, -1],\n",
              " [-8, 20, -5, -26, -10, -1],\n",
              " [11, -3, -301, -267, -88, -16],\n",
              " [5, -4, -345, -185, 0, 0],\n",
              " [-6, 15, -414, -53, 16, -5],\n",
              " [-31, 0, -398, -259, 4, 25],\n",
              " [0, 2, 50, -13, -4, -1],\n",
              " [-20, 55, -918, -90, -77, -6],\n",
              " [0, 2, 61, -12, -2, 5],\n",
              " [-35, 17, -1029, -232, 27, 1],\n",
              " [1, 0, 57, 8, 5, 7],\n",
              " [-6, 27, -288, 140, 23, -2],\n",
              " [-13, -12, -558, -450, -108, 21],\n",
              " [3, -10, -7, -44, 1, 5],\n",
              " [-1, -86, -628, -338, -98, 16],\n",
              " [-37, 26, -779, -150, 5, 3],\n",
              " [-18, -9, 46, -4, -11, -2],\n",
              " [-21, 1, -185, -202, 3, 11],\n",
              " [-12, 41, -133, -150, -53, -3],\n",
              " [-17, 99, -511, -319, -87, -10],\n",
              " [4, 8, 41, -28, 10, 0],\n",
              " [6, 9, 15, -28, 17, 1],\n",
              " [14, 13, -26, -36, 32, 2],\n",
              " [30, 22, -325, -46, 66, 4],\n",
              " [0, 1, 70, -10, -2, -1],\n",
              " [18, 14, -113, 74, 140, 12],\n",
              " [-26, 87, -454, 51, 150, 18],\n",
              " [-254, 219, -1428, 308, -20, -51],\n",
              " [0, 0, 50, -11, -7, 0],\n",
              " [-14, -4, -51, -62, -70, 6],\n",
              " [8, -12, -396, -261, -115, 1],\n",
              " [-1, -1, 61, -5, -1, -1],\n",
              " [-3, 0, 44, -11, -8, -2],\n",
              " [-1, 2, 56, -11, -2, -1],\n",
              " [-6, 8, 38, -45, -21, -1],\n",
              " [-13, 15, -2, -88, -51, 3],\n",
              " [-59, 44, -205, -305, -226, 37],\n",
              " [-1, 3, 43, -21, -8, 0],\n",
              " [-2, 1, 13, -29, -25, 3],\n",
              " [61, 24, -386, -397, -30, -61],\n",
              " [-2, 1, 38, -22, -13, 3],\n",
              " [8, 4, -48, -86, -23, -5],\n",
              " [-1, 3, 46, -3, -2, 1],\n",
              " [-2, 10, -31, 21, 29, 5],\n",
              " [-2, 77, -487, 179, 227, 36],\n",
              " [-5, -2, 48, 7, -9, -1],\n",
              " [-4, 7, 10, 5, 0, 1],\n",
              " [-3, 0, 46, 0, -5, 1],\n",
              " [-15, -9, -26, 70, -22, -11],\n",
              " [-29, -10, -208, 180, 12, -11],\n",
              " [4, 6, 50, -25, 1, 0],\n",
              " [21, 15, -14, -46, 16, -7],\n",
              " [171, 86, -486, -113, 222, 13],\n",
              " [-6, 3, 52, -15, -17, 3],\n",
              " [-2, -1, 81, 0, -5, 0],\n",
              " [6, -1, 79, -2, 4, -3],\n",
              " [-2, -6, 85, 14, -5, 2],\n",
              " [-2, -10, 86, 13, -7, -5],\n",
              " [0, 2, 74, -12, -9, -5],\n",
              " [-2, 3, 70, -15, -18, -5],\n",
              " [-5, 4, 77, -20, -22, -6],\n",
              " [-5, 4, 78, -28, -28, -9],\n",
              " [-4, -2, 81, -11, -24, -10],\n",
              " [-3, 1, 84, -26, -22, -11],\n",
              " [0, -4, 80, -22, -22, -18],\n",
              " [2, -1, 82, -1, -2, 6],\n",
              " [-5, 6, 67, -15, -16, -7],\n",
              " [-4, 3, 76, -11, -16, -5],\n",
              " [-3, 0, 75, -7, -19, -4],\n",
              " [0, -9, 83, 7, -9, -8],\n",
              " [-8, -6, 85, -6, -31, -13],\n",
              " [-2, -3, 82, -15, -21, -6],\n",
              " [-1, -11, 76, 5, -20, -13],\n",
              " [-3, -2, 79, -16, -20, -5],\n",
              " [-2, 2, 20, 5, -6, -1],\n",
              " [-3, 2, 22, 5, -8, 0],\n",
              " [-2, 2, 20, 5, -6, -1],\n",
              " [-2, 2, 20, 5, -6, -1],\n",
              " [-2, 2, 20, 4, -7, -1],\n",
              " [-2, 1, 19, 4, -6, 0],\n",
              " [-1, 1, 19, 4, -6, 0],\n",
              " [-2, 1, 19, 4, -6, 0],\n",
              " [-1, 2, 21, 3, -6, 1],\n",
              " [0, 1, 15, 3, -3, 0],\n",
              " [-1, 2, 4, -1, -7, 0],\n",
              " [2, 0, 17, 3, -4, 0],\n",
              " [0, 1, 17, 3, -4, 1],\n",
              " [-1, 2, 18, -2, -6, 0],\n",
              " [0, 0, 16, 1, -6, -1],\n",
              " [-1, 2, 18, 4, -7, 0],\n",
              " [-2, 1, 19, 3, -6, 0],\n",
              " [-2, 1, 19, 4, -6, 0],\n",
              " [-4, 0, 8, 5, -1, 2],\n",
              " [-4, 1, 7, 5, -2, 2],\n",
              " [-4, 0, 7, 5, -2, 2],\n",
              " [-4, 0, 8, 6, -2, 2],\n",
              " [-4, 0, 8, 6, -2, 2],\n",
              " [-4, 0, 7, 5, 0, 2],\n",
              " [-15, 22, 123, -98, 1, -15],\n",
              " [35, 3, 81, -26, 135, 6],\n",
              " [49, -5, 16, 7, 64, 0],\n",
              " [12, -6, 25, 13, 17, -1],\n",
              " [17, -36, -29, -4, 22, -66],\n",
              " [-11, 9, 16, -17, -22, 6],\n",
              " [-36, -24, -6, 87, -44, -34],\n",
              " [-22, 12, -3, -14, -28, -2],\n",
              " [-29, -6, 4, 8, -32, -2],\n",
              " [59, -6, 46, 41, 191, -14],\n",
              " [25, 12, 40, -29, 61, -5],\n",
              " [19, 30, 44, -117, 37, 40],\n",
              " [16, 16, 31, -26, 69, -27],\n",
              " [-19, 4, 47, -47, -57, -30],\n",
              " [15, -13, -4, 39, -31, 84],\n",
              " [40, -13, 27, 26, 55, 1],\n",
              " [-12, -5, 20, -3, -24, 0],\n",
              " [-13, -7, 18, 19, -15, 0],\n",
              " [-53, 16, -17, -39, -98, -22],\n",
              " [-39, 3, 11, 5, -67, -2],\n",
              " [-15, 22, 123, -98, 1, -15],\n",
              " [-46, 66, -21, -115, -11, -1],\n",
              " [-14, 11, -10, -10, -19, -2],\n",
              " [20, -16, 9, 26, 29, -1],\n",
              " [30, -30, 34, 43, 45, 0],\n",
              " [-74, 30, 55, -149, -163, 20],\n",
              " [-27, 18, -3, -26, -39, -4],\n",
              " [188, -1, -42, 220, 192, -15],\n",
              " [-116, 41, -50, 14, -206, -24],\n",
              " [1, -26, -517, 95, 40, -33],\n",
              " [-17, -30, -163, -115, 33, 3],\n",
              " [-13, -13, -29, 29, 27, -13],\n",
              " [-3, -5, -14, 24, 35, -4],\n",
              " [10, -13, -57, 70, 11, 17],\n",
              " [2, -47, -604, 119, 26, -18],\n",
              " [16, -39, -170, -20, -116, 17],\n",
              " [29, -19, -178, -71, -70, -8],\n",
              " [59, -59, -332, 27, -50, 20],\n",
              " [322, -338, -3195, 280, -64, -34],\n",
              " [16, -2, -39, -18, -15, -15],\n",
              " [-25, -13, -199, 18, -34, -10],\n",
              " [353, -169, -3617, 324, -265, 47],\n",
              " [3, -9, -32, -12, -24, 4],\n",
              " [52, -4, -222, 52, -39, 9],\n",
              " [112, 115, -1744, 476, -13, 149],\n",
              " [2, 2, 26, 2, 1, -1],\n",
              " [1, 3, -3, -16, -12, 0],\n",
              " [7, -10, -179, -11, 18, 4],\n",
              " [-7, -2, 4, 6, -8, 1],\n",
              " [0, 0, 19, 2, -5, 2],\n",
              " [-2, 0, 15, 0, -2, 2],\n",
              " [25, 10, -93, -6, -7, 0],\n",
              " [-3, 3, 10, -2, -5, 2],\n",
              " [-8, 5, -8, -11, -13, 2],\n",
              " [-2, 0, -7, 0, -6, 2],\n",
              " [-6, -7, -10, 14, -15, 1],\n",
              " [-2, -1, -9, -1, 3, 1],\n",
              " [1, 0, 0, 4, -1, 2],\n",
              " [3, 0, -9, -2, 2, 1],\n",
              " [0, 1, -16, 3, 1, 4],\n",
              " [18, -1, -66, 13, -11, 4],\n",
              " [0, -2, -2, 3, 2, 2],\n",
              " [5, 1, -10, -5, 2, 0],\n",
              " [-1, 2, -2, 4, -6, 3],\n",
              " [1, 0, 11, -1, 9, 1],\n",
              " [-4, 10, -20, -16, 9, 2],\n",
              " [-1, 0, -6, 2, 2, 3],\n",
              " [-2, 0, -7, -5, -1, 1],\n",
              " [1, 1, -14, 4, -3, 3],\n",
              " [8, 5, -24, 1, -1, 3],\n",
              " [-1, -1, -1, -1, 5, 3],\n",
              " [3, -1, -7, 7, 6, 5],\n",
              " [-4, 0, -2, 0, -3, 1],\n",
              " [1, -1, -2, 5, 1, 3],\n",
              " [-5, -1, -16, -3, -7, 3],\n",
              " [6, -6, -66, -40, 12, 5],\n",
              " [-2, 1, 27, 3, -3, -2],\n",
              " [-11, -35, 1, 45, -28, -2],\n",
              " [-21, -1, 7, 11, -28, -5],\n",
              " [-3, 2, -11, 3, -2, -3],\n",
              " [-84, 85, -41, -114, -114, -6],\n",
              " [-2, 1, 17, 2, -1, -4],\n",
              " [-57, -4, 40, 11, -156, -42],\n",
              " [25, -28, 48, -129, 86, 22],\n",
              " [22, 1, 12, 4, 27, -3],\n",
              " [114, 5, 123, 172, 90, 32],\n",
              " [-14, 29, -20, -49, 0, -9],\n",
              " [-61, 150, -23, -177, -51, -2],\n",
              " [-5, 14, -43, -101, -49, 17],\n",
              " [36, -4, 19, 8, 53, -2],\n",
              " [-12, 17, 3, -19, -10, -4],\n",
              " [-41, 21, -5, -23, -59, -4],\n",
              " [9, -10, -11, 17, 7, -4],\n",
              " [-2, -1, 81, 0, -5, 0],\n",
              " [6, -1, 79, -2, 4, -3],\n",
              " [-2, -6, 85, 14, -5, 2],\n",
              " [-2, -10, 86, 13, -7, -5],\n",
              " [0, 2, 74, -12, -9, -5],\n",
              " [-2, 3, 70, -15, -18, -5],\n",
              " [-5, 4, 77, -20, -22, -6],\n",
              " [-5, 4, 78, -28, -28, -9],\n",
              " [-4, -2, 81, -11, -24, -10],\n",
              " [-3, 1, 84, -26, -22, -11],\n",
              " [0, -4, 80, -22, -22, -18],\n",
              " [2, -1, 82, -1, -2, 6],\n",
              " [-5, 6, 67, -15, -16, -7],\n",
              " [-4, 3, 76, -11, -16, -5],\n",
              " [-3, 0, 75, -7, -19, -4],\n",
              " [0, -9, 83, 7, -9, -8],\n",
              " [-8, -6, 85, -6, -31, -13],\n",
              " [-2, -3, 82, -15, -21, -6],\n",
              " [-1, -11, 76, 5, -20, -13],\n",
              " [-3, -2, 79, -16, -20, -5],\n",
              " [-2, 2, 20, 5, -6, -1],\n",
              " [-3, 2, 22, 5, -8, 0],\n",
              " [-2, 2, 20, 5, -6, -1],\n",
              " [-2, 2, 20, 5, -6, -1],\n",
              " [-2, 2, 20, 4, -7, -1],\n",
              " [-2, 1, 19, 4, -6, 0],\n",
              " [-1, 1, 19, 4, -6, 0],\n",
              " [-2, 1, 19, 4, -6, 0],\n",
              " [-1, 2, 21, 3, -6, 1],\n",
              " [0, 1, 15, 3, -3, 0],\n",
              " [-1, 2, 4, -1, -7, 0],\n",
              " [2, 0, 17, 3, -4, 0],\n",
              " [0, 1, 17, 3, -4, 1],\n",
              " [-1, 2, 18, -2, -6, 0],\n",
              " [0, 0, 16, 1, -6, -1],\n",
              " [-1, 2, 18, 4, -7, 0],\n",
              " [-2, 1, 19, 3, -6, 0],\n",
              " [-2, 1, 19, 4, -6, 0],\n",
              " [-4, 0, 8, 5, -1, 2],\n",
              " [-4, 1, 7, 5, -2, 2],\n",
              " [-4, 0, 7, 5, -2, 2],\n",
              " [-4, 0, 8, 6, -2, 2],\n",
              " [-4, 0, 8, 6, -2, 2],\n",
              " [-4, 0, 7, 5, 0, 2]]"
            ]
          },
          "metadata": {
            "tags": []
          },
          "execution_count": 9
        }
      ]
    },
    {
      "cell_type": "code",
      "metadata": {
        "id": "gq1iBZnkp70K",
        "colab_type": "code",
        "colab": {}
      },
      "source": [
        "#make another copy of the original data\n",
        "X1_4 = np.copy(X1)"
      ],
      "execution_count": null,
      "outputs": []
    },
    {
      "cell_type": "code",
      "metadata": {
        "id": "HkI90PU5p70M",
        "colab_type": "code",
        "colab": {}
      },
      "source": [
        "#x2 = np.sum(X1_4, axis = 1, keepdims = True) #creates a multidimensional array"
      ],
      "execution_count": null,
      "outputs": []
    },
    {
      "cell_type": "code",
      "metadata": {
        "id": "zSao_nunp70P",
        "colab_type": "code",
        "colab": {},
        "outputId": "0fb66262-8179-4b87-e25b-422c512db3a5"
      },
      "source": [
        "x = np.sum(X1_4[:, :3] ,axis=1) #sum the columns (axis=1)\n",
        "x.T #tranpose from horizontal to vertical\n",
        "\n"
      ],
      "execution_count": null,
      "outputs": [
        {
          "output_type": "execute_result",
          "data": {
            "text/plain": [
              "array([   61,    61,    56,    58,    63,    58,    51,    71,    58,\n",
              "          61,    61,    60,    68,    56,    67,    69,    58,    61,\n",
              "         156,   408,   -25,   143,   129,    25,   -12,  -149,    15,\n",
              "         185,    28,    41,     2,    69,    49,   127,    63,     7,\n",
              "        -293,  -344,  -405,  -429,    52,  -883,    63, -1047,    58,\n",
              "        -267,  -583,   -14,  -715,  -790,    19,  -205,  -104,  -429,\n",
              "          53,    30,     1,  -273,    71,   -81,  -393, -1463,    50,\n",
              "         -69,  -400,    59,    41,    57,    40,     0,  -220,    45,\n",
              "          12,  -301,    37,   -36,    48,   -23,  -412,    41,    13,\n",
              "          43,   -50,  -247,    60,    22,  -229,    49,    78,    84,\n",
              "          77,    74,    76,    71,    76,    77,    75,    82,    76,\n",
              "          83,    68,    75,    72,    74,    71,    77,    64,    74,\n",
              "          20,    21,    20,    20,    20,    18,    19,    18,    22,\n",
              "          16,     5,    19,    18,    19,    16,    19,    18,    18,\n",
              "           4,     4,     3,     4,     4,     3,   130,   119,    60,\n",
              "          31,   -48,    14,   -66,   -13,   -31,    99,    77,    93,\n",
              "          63,    32,    -2,    54,     3,    -2,   -54,   -25,   130,\n",
              "          -1,   -13,    13,    34,    11,   -12,   145,  -125,  -542,\n",
              "        -210,   -55,   -22,   -60,  -649,  -193,  -168,  -332, -3211,\n",
              "         -25,  -237, -3433,   -38,  -174, -1517,    30,     1,  -182,\n",
              "          -5,    19,    13,   -58,    10,   -11,    -9,   -23,   -12,\n",
              "           1,    -6,   -15,   -49,    -4,    -4,    -1,    12,   -14,\n",
              "          -7,    -9,   -12,   -11,    -3,    -5,    -6,    -2,   -22,\n",
              "         -66,    26,   -45,   -15,   -12,   -40,    16,   -21,    45,\n",
              "          35,   242,    -5,    66,   -34,    51,     8,   -25,   -12,\n",
              "          78,    84,    77,    74,    76,    71,    76,    77,    75,\n",
              "          82,    76,    83,    68,    75,    72,    74,    71,    77,\n",
              "          64,    74,    20,    21,    20,    20,    20,    18,    19,\n",
              "          18,    22,    16,     5,    19,    18,    19,    16,    19,\n",
              "          18,    18,     4,     4,     3,     4,     4,     3])"
            ]
          },
          "metadata": {
            "tags": []
          },
          "execution_count": 15
        }
      ]
    },
    {
      "cell_type": "code",
      "metadata": {
        "id": "8yiR_ZTap70R",
        "colab_type": "code",
        "colab": {}
      },
      "source": [
        "new_X1 = np.insert(X1_4,#array\n",
        "                   6,#position to input new elements\n",
        "                   (x),#we could have listed out numbers, but they are too many. so just use x (which contains all the numbers) \n",
        "                   axis=1)#add it as a new column across the matrix"
      ],
      "execution_count": null,
      "outputs": []
    },
    {
      "cell_type": "code",
      "metadata": {
        "id": "gCecg9HVp70U",
        "colab_type": "code",
        "colab": {},
        "outputId": "5b378fb9-eec9-4636-cfe2-aec5d1855085"
      },
      "source": [
        "new_X1 [0]"
      ],
      "execution_count": null,
      "outputs": [
        {
          "output_type": "execute_result",
          "data": {
            "text/plain": [
              "array([-1, -1, 63, -3, -1,  0, 61])"
            ]
          },
          "metadata": {
            "tags": []
          },
          "execution_count": 24
        }
      ]
    },
    {
      "cell_type": "code",
      "metadata": {
        "id": "udpYt42Rp70W",
        "colab_type": "code",
        "colab": {},
        "outputId": "daa10c69-83f1-4e39-d93a-7dfabf8b72b9"
      },
      "source": [
        "# Creating the neural network\n",
        "#using a for loop to run through 20 times\n",
        "\n",
        "X_train, X_test, y_train, y_test = train_test_split(new_X1, y)\n",
        "\n",
        "# Prepare to scale the inputs\n",
        "scaler3 = StandardScaler()\n",
        "scaler3.fit(X_train)\n",
        "\n",
        "# Scaling the inputs \n",
        "X_train = scaler3.transform(X_train)\n",
        "X_test = scaler3.transform(X_test)\n",
        "\n",
        "\n",
        "mlpscores_newX1 = [] #store scores here\n",
        "\n",
        "for counter in range(1,21): #repeat process in loop 20 times\n",
        "    mlp_newX1 = MLPClassifier(hidden_layer_sizes=(20,20,20), max_iter=1000)\n",
        "    mlp_newX1.fit(X_train,y_train)\n",
        "    predictions = mlp_newX1.predict(X_test)\n",
        "    \n",
        "    scores_newX1 = mlp_newX1.score(X_test, y_test)\n",
        "    mlpscores_newX1 += [scores_newX1]\n",
        "    \n",
        "    print('The mlp Score is ',scores_newX1)\n",
        "    # The confusion matrix gives a better picture of what errors are slipping in\n",
        "    print('The confusion matrix is ',confusion_matrix(y_test,predictions))\n",
        "    print(\"\")"
      ],
      "execution_count": null,
      "outputs": [
        {
          "output_type": "stream",
          "text": [
            "C:\\Users\\acer\\Anaconda3\\lib\\site-packages\\sklearn\\utils\\validation.py:595: DataConversionWarning: Data with input dtype int32 was converted to float64 by StandardScaler.\n",
            "  warnings.warn(msg, DataConversionWarning)\n",
            "C:\\Users\\acer\\Anaconda3\\lib\\site-packages\\sklearn\\utils\\validation.py:595: DataConversionWarning: Data with input dtype int32 was converted to float64 by StandardScaler.\n",
            "  warnings.warn(msg, DataConversionWarning)\n",
            "C:\\Users\\acer\\Anaconda3\\lib\\site-packages\\sklearn\\utils\\validation.py:595: DataConversionWarning: Data with input dtype int32 was converted to float64 by StandardScaler.\n",
            "  warnings.warn(msg, DataConversionWarning)\n"
          ],
          "name": "stderr"
        },
        {
          "output_type": "stream",
          "text": [
            "The mlp Score is  0.6764705882352942\n",
            "The confusion matrix is  [[30  0  0  0]\n",
            " [ 8 12  0  0]\n",
            " [ 4  4  4  0]\n",
            " [ 5  1  0  0]]\n",
            "\n",
            "The mlp Score is  0.7352941176470589\n",
            "The confusion matrix is  [[30  0  0  0]\n",
            " [ 3 16  1  0]\n",
            " [ 1  7  4  0]\n",
            " [ 4  2  0  0]]\n",
            "\n",
            "The mlp Score is  0.75\n",
            "The confusion matrix is  [[29  1  0  0]\n",
            " [ 1 18  1  0]\n",
            " [ 3  5  4  0]\n",
            " [ 3  3  0  0]]\n",
            "\n",
            "The mlp Score is  0.7205882352941176\n",
            "The confusion matrix is  [[30  0  0  0]\n",
            " [ 5 14  1  0]\n",
            " [ 4  3  5  0]\n",
            " [ 5  1  0  0]]\n",
            "\n",
            "The mlp Score is  0.7647058823529411\n",
            "The confusion matrix is  [[30  0  0  0]\n",
            " [ 3 17  0  0]\n",
            " [ 3  4  5  0]\n",
            " [ 3  3  0  0]]\n",
            "\n",
            "The mlp Score is  0.6764705882352942\n",
            "The confusion matrix is  [[23  7  0  0]\n",
            " [ 1 19  0  0]\n",
            " [ 0  8  4  0]\n",
            " [ 2  4  0  0]]\n",
            "\n",
            "The mlp Score is  0.6617647058823529\n",
            "The confusion matrix is  [[30  0  0  0]\n",
            " [ 8 11  1  0]\n",
            " [ 5  3  4  0]\n",
            " [ 5  1  0  0]]\n",
            "\n",
            "The mlp Score is  0.7941176470588235\n",
            "The confusion matrix is  [[29  1  0  0]\n",
            " [ 0 19  1  0]\n",
            " [ 1  5  6  0]\n",
            " [ 5  1  0  0]]\n",
            "\n",
            "The mlp Score is  0.6617647058823529\n",
            "The confusion matrix is  [[30  0  0  0]\n",
            " [ 9 11  0  0]\n",
            " [ 4  4  4  0]\n",
            " [ 5  1  0  0]]\n",
            "\n",
            "The mlp Score is  0.7205882352941176\n",
            "The confusion matrix is  [[25  5  0  0]\n",
            " [ 2 18  0  0]\n",
            " [ 1  5  6  0]\n",
            " [ 3  3  0  0]]\n",
            "\n",
            "The mlp Score is  0.7352941176470589\n",
            "The confusion matrix is  [[26  4  0  0]\n",
            " [ 0 20  0  0]\n",
            " [ 1  7  4  0]\n",
            " [ 4  2  0  0]]\n",
            "\n",
            "The mlp Score is  0.7647058823529411\n",
            "The confusion matrix is  [[30  0  0  0]\n",
            " [ 3 17  0  0]\n",
            " [ 3  4  5  0]\n",
            " [ 3  3  0  0]]\n",
            "\n",
            "The mlp Score is  0.6764705882352942\n",
            "The confusion matrix is  [[30  0  0  0]\n",
            " [ 9 10  1  0]\n",
            " [ 5  1  6  0]\n",
            " [ 6  0  0  0]]\n",
            "\n",
            "The mlp Score is  0.6617647058823529\n",
            "The confusion matrix is  [[24  6  0  0]\n",
            " [ 2 18  0  0]\n",
            " [ 1  8  3  0]\n",
            " [ 3  3  0  0]]\n",
            "\n",
            "The mlp Score is  0.4411764705882353\n",
            "The confusion matrix is  [[ 8 22  0  0]\n",
            " [ 2 17  1  0]\n",
            " [ 0  7  5  0]\n",
            " [ 2  4  0  0]]\n",
            "\n",
            "The mlp Score is  0.7205882352941176\n",
            "The confusion matrix is  [[30  0  0  0]\n",
            " [ 5 15  0  0]\n",
            " [ 4  4  4  0]\n",
            " [ 5  1  0  0]]\n",
            "\n",
            "The mlp Score is  0.7058823529411765\n",
            "The confusion matrix is  [[25  5  0  0]\n",
            " [ 1 19  0  0]\n",
            " [ 0  8  4  0]\n",
            " [ 3  3  0  0]]\n",
            "\n",
            "The mlp Score is  0.6764705882352942\n",
            "The confusion matrix is  [[30  0  0  0]\n",
            " [ 7 12  1  0]\n",
            " [ 4  4  4  0]\n",
            " [ 5  1  0  0]]\n",
            "\n",
            "The mlp Score is  0.7058823529411765\n",
            "The confusion matrix is  [[30  0  0  0]\n",
            " [ 6 10  4  0]\n",
            " [ 3  1  8  0]\n",
            " [ 5  1  0  0]]\n",
            "\n",
            "The mlp Score is  0.7794117647058824\n",
            "The confusion matrix is  [[30  0  0  0]\n",
            " [ 1 19  0  0]\n",
            " [ 1  7  4  0]\n",
            " [ 4  2  0  0]]\n",
            "\n"
          ],
          "name": "stdout"
        }
      ]
    },
    {
      "cell_type": "code",
      "metadata": {
        "id": "n_-DzRDOp70X",
        "colab_type": "code",
        "colab": {},
        "outputId": "84c79e75-3f40-47da-dfca-04a32ba80e28"
      },
      "source": [
        "mlpscores_newX1"
      ],
      "execution_count": null,
      "outputs": [
        {
          "output_type": "execute_result",
          "data": {
            "text/plain": [
              "[0.6764705882352942,\n",
              " 0.7352941176470589,\n",
              " 0.75,\n",
              " 0.7205882352941176,\n",
              " 0.7647058823529411,\n",
              " 0.6764705882352942,\n",
              " 0.6617647058823529,\n",
              " 0.7941176470588235,\n",
              " 0.6617647058823529,\n",
              " 0.7205882352941176,\n",
              " 0.7352941176470589,\n",
              " 0.7647058823529411,\n",
              " 0.6764705882352942,\n",
              " 0.6617647058823529,\n",
              " 0.4411764705882353,\n",
              " 0.7205882352941176,\n",
              " 0.7058823529411765,\n",
              " 0.6764705882352942,\n",
              " 0.7058823529411765,\n",
              " 0.7794117647058824]"
            ]
          },
          "metadata": {
            "tags": []
          },
          "execution_count": 26
        }
      ]
    },
    {
      "cell_type": "code",
      "metadata": {
        "id": "Gd_8hELJp70a",
        "colab_type": "code",
        "colab": {},
        "outputId": "20afe07c-66fb-4156-cd58-2049f8cb5bef"
      },
      "source": [
        "#compute average of mlp scores obtained\n",
        "average_newX1 = np.mean(mlpscores_newX1) #calculate average\n",
        "print (\"The average mlp score is =\", round(average_newX1, 2)) \n",
        "\n",
        "#compute std of mlp scores obtained\n",
        "std_newX1 = np.std(mlpscores_newX1)\n",
        "print (\"The std of the mlp scores is =\", round(std_newX1, 2)) "
      ],
      "execution_count": null,
      "outputs": [
        {
          "output_type": "stream",
          "text": [
            "The average mlp score is = 0.7\n",
            "The std of the mlp scores is = 0.07\n"
          ],
          "name": "stdout"
        }
      ]
    },
    {
      "cell_type": "markdown",
      "metadata": {
        "id": "FhNx2-s8p70d",
        "colab_type": "text"
      },
      "source": [
        "The above shows that this model did better than the first model for X1. Nevertheless, it still is not good enough as the scores are not in the 90% range.\n",
        "The Standard deviation here is worse than for the first X1 model."
      ]
    },
    {
      "cell_type": "markdown",
      "metadata": {
        "id": "pB14MBcTp70e",
        "colab_type": "text"
      },
      "source": [
        "## Step 5: exploring"
      ]
    },
    {
      "cell_type": "markdown",
      "metadata": {
        "id": "-JFDJcKxp70e",
        "colab_type": "text"
      },
      "source": [
        "Create at least 3 more models, adding features or changing the number and size of the hidden layers. Print out the average score for your best model. Comment on what you've found."
      ]
    },
    {
      "cell_type": "code",
      "metadata": {
        "id": "yywB-UQ7p70e",
        "colab_type": "code",
        "colab": {}
      },
      "source": [
        "# Your answer"
      ],
      "execution_count": null,
      "outputs": []
    },
    {
      "cell_type": "markdown",
      "metadata": {
        "id": "438tl7TOp70g",
        "colab_type": "text"
      },
      "source": [
        "##### Model 1 extra"
      ]
    },
    {
      "cell_type": "code",
      "metadata": {
        "id": "YMk71srBp70k",
        "colab_type": "code",
        "colab": {},
        "outputId": "d99da913-a498-4b22-8aad-bbc9257be57d"
      },
      "source": [
        "# CHANGING THE SIZES OF THE HIDDEN LAYERS, using X1\n",
        "# Creating the neural network\n",
        "#using a for loop to run through 20 times\n",
        "\n",
        "X_train, X_test, y_train, y_test = train_test_split(X1, y)\n",
        "\n",
        "# Prepare to scale the inputs\n",
        "scaler = StandardScaler()\n",
        "scaler.fit(X_train)\n",
        "\n",
        "# Scaling the inputs \n",
        "X_train = scaler.transform(X_train)\n",
        "X_test = scaler.transform(X_test)\n",
        "\n",
        "\n",
        "\n",
        "mlpscores = [] #store scores here\n",
        "\n",
        "for counter in range(1,21): #repeat process in loop 20 times\n",
        "    mlp = MLPClassifier(hidden_layer_sizes=(30,30,30), max_iter=1000)\n",
        "    mlp.fit(X_train,y_train)\n",
        "    predictions = mlp.predict(X_test)\n",
        "    \n",
        "    scores = mlp.score(X_test, y_test)\n",
        "    mlpscores += [scores]\n",
        "    \n",
        "    print('The mlp Score is ',scores)\n",
        "    # The confusion matrix gives a better picture of what errors are slipping in\n",
        "    print('The confusion matrix is ',confusion_matrix(y_test,predictions))\n",
        "    print(\"\")"
      ],
      "execution_count": null,
      "outputs": [
        {
          "output_type": "stream",
          "text": [
            "The mlp Score is  0.8088235294117647\n",
            "The confusion matrix is  [[31  1  0  0]\n",
            " [ 1 12  4  2]\n",
            " [ 1  2 12  0]\n",
            " [ 1  0  1  0]]\n",
            "\n",
            "The mlp Score is  0.8235294117647058\n",
            "The confusion matrix is  [[31  0  0  1]\n",
            " [ 1 13  3  2]\n",
            " [ 1  2 12  0]\n",
            " [ 1  0  1  0]]\n",
            "\n",
            "The mlp Score is  0.8235294117647058\n",
            "The confusion matrix is  [[32  0  0  0]\n",
            " [ 2 12  4  1]\n",
            " [ 1  2 12  0]\n",
            " [ 1  0  1  0]]\n",
            "\n",
            "The mlp Score is  0.8088235294117647\n",
            "The confusion matrix is  [[32  0  0  0]\n",
            " [ 1 10  7  1]\n",
            " [ 1  1 13  0]\n",
            " [ 1  0  1  0]]\n",
            "\n",
            "The mlp Score is  0.8382352941176471\n",
            "The confusion matrix is  [[32  0  0  0]\n",
            " [ 1 12  5  1]\n",
            " [ 1  1 13  0]\n",
            " [ 1  0  1  0]]\n",
            "\n",
            "The mlp Score is  0.8088235294117647\n",
            "The confusion matrix is  [[32  0  0  0]\n",
            " [ 3  9  6  1]\n",
            " [ 1  0 14  0]\n",
            " [ 1  0  1  0]]\n",
            "\n",
            "The mlp Score is  0.7647058823529411\n",
            "The confusion matrix is  [[30  0  0  2]\n",
            " [ 0 14  2  3]\n",
            " [ 1  6  8  0]\n",
            " [ 1  0  1  0]]\n",
            "\n",
            "The mlp Score is  0.7794117647058824\n",
            "The confusion matrix is  [[32  0  0  0]\n",
            " [ 5  8  5  1]\n",
            " [ 1  0 13  1]\n",
            " [ 1  0  1  0]]\n",
            "\n",
            "The mlp Score is  0.75\n",
            "The confusion matrix is  [[29  0  0  3]\n",
            " [ 0  9  6  4]\n",
            " [ 0  2 12  1]\n",
            " [ 0  0  1  1]]\n",
            "\n",
            "The mlp Score is  0.8676470588235294\n",
            "The confusion matrix is  [[32  0  0  0]\n",
            " [ 1 14  4  0]\n",
            " [ 1  1 13  0]\n",
            " [ 1  0  1  0]]\n",
            "\n",
            "The mlp Score is  0.8088235294117647\n",
            "The confusion matrix is  [[28  2  0  2]\n",
            " [ 0 15  3  1]\n",
            " [ 1  3 11  0]\n",
            " [ 0  0  1  1]]\n",
            "\n",
            "The mlp Score is  0.8235294117647058\n",
            "The confusion matrix is  [[32  0  0  0]\n",
            " [ 0 15  3  1]\n",
            " [ 1  5  9  0]\n",
            " [ 1  0  1  0]]\n",
            "\n",
            "The mlp Score is  0.8235294117647058\n",
            "The confusion matrix is  [[31  1  0  0]\n",
            " [ 0 12  7  0]\n",
            " [ 1  1 13  0]\n",
            " [ 1  0  1  0]]\n",
            "\n",
            "The mlp Score is  0.8088235294117647\n",
            "The confusion matrix is  [[30  2  0  0]\n",
            " [ 1 12  5  1]\n",
            " [ 1  1 13  0]\n",
            " [ 1  0  1  0]]\n",
            "\n",
            "The mlp Score is  0.6323529411764706\n",
            "The confusion matrix is  [[22 10  0  0]\n",
            " [ 1 10  8  0]\n",
            " [ 1  3 11  0]\n",
            " [ 1  0  1  0]]\n",
            "\n",
            "The mlp Score is  0.8088235294117647\n",
            "The confusion matrix is  [[30  2  0  0]\n",
            " [ 1 14  2  2]\n",
            " [ 1  3 11  0]\n",
            " [ 1  0  1  0]]\n",
            "\n",
            "The mlp Score is  0.75\n",
            "The confusion matrix is  [[32  0  0  0]\n",
            " [ 3  6 10  0]\n",
            " [ 0  1 13  1]\n",
            " [ 1  1  0  0]]\n",
            "\n",
            "The mlp Score is  0.8235294117647058\n",
            "The confusion matrix is  [[30  2  0  0]\n",
            " [ 1 13  5  0]\n",
            " [ 1  1 13  0]\n",
            " [ 1  0  1  0]]\n",
            "\n",
            "The mlp Score is  0.7794117647058824\n",
            "The confusion matrix is  [[32  0  0  0]\n",
            " [ 2  7  9  1]\n",
            " [ 1  0 14  0]\n",
            " [ 1  0  1  0]]\n",
            "\n",
            "The mlp Score is  0.8235294117647058\n",
            "The confusion matrix is  [[32  0  0  0]\n",
            " [ 3 10  6  0]\n",
            " [ 1  0 14  0]\n",
            " [ 1  0  1  0]]\n",
            "\n"
          ],
          "name": "stdout"
        }
      ]
    },
    {
      "cell_type": "code",
      "metadata": {
        "id": "ol1kkAekp70m",
        "colab_type": "code",
        "colab": {},
        "outputId": "14df7775-b4ca-4dbb-bc47-8ed21c06f559"
      },
      "source": [
        "#compute average of mlp scores obtained\n",
        "average = np.mean(mlpscores) #calculate average\n",
        "print (\"The average mlp score is =\", round(average, 2)) \n",
        "\n",
        "#compute std of mlp scores obtained\n",
        "std = np.std(mlpscores)\n",
        "print (\"The std of the mlp scores is =\", round(std, 2)) "
      ],
      "execution_count": null,
      "outputs": [
        {
          "output_type": "stream",
          "text": [
            "The average mlp score is = 0.8\n",
            "The std of the mlp scores is = 0.05\n"
          ],
          "name": "stdout"
        }
      ]
    },
    {
      "cell_type": "code",
      "metadata": {
        "id": "oWVryCNrp70o",
        "colab_type": "code",
        "colab": {}
      },
      "source": [
        "Increasing the size of the hidden layers deifinitely increased the model performance by a lot!!!"
      ],
      "execution_count": null,
      "outputs": []
    },
    {
      "cell_type": "markdown",
      "metadata": {
        "id": "JQvZ9P1tp70q",
        "colab_type": "text"
      },
      "source": [
        "##### Model 2 extra"
      ]
    },
    {
      "cell_type": "code",
      "metadata": {
        "id": "aDK-tb9qp70r",
        "colab_type": "code",
        "colab": {},
        "outputId": "77f33516-8e0b-4344-f9a4-06a1193e7fcc"
      },
      "source": [
        "# CHANGING THE SIZE OF THE HIDDEN LAYERS, using X2\n",
        "# Creating the neural network\n",
        "#using a for loop to run through 20 times\n",
        "X2_2 = np.copy(X2)\n",
        "\n",
        "X_train, X_test, y_train, y_test = train_test_split(X2_2, y)\n",
        "\n",
        "# Prepare to scale the inputs\n",
        "scaler = StandardScaler()\n",
        "scaler.fit(X_train)\n",
        "\n",
        "# Scaling the inputs \n",
        "X_train = scaler.transform(X_train)\n",
        "X_test = scaler.transform(X_test)\n",
        "\n",
        "\n",
        "\n",
        "mlpscores = [] #store scores here\n",
        "\n",
        "for counter in range(1,21): #repeat process in loop 20 times\n",
        "    mlp = MLPClassifier(hidden_layer_sizes=(30,30,30), max_iter=1000)\n",
        "    mlp.fit(X_train,y_train)\n",
        "    predictions = mlp.predict(X_test)\n",
        "    \n",
        "    scores = mlp.score(X_test, y_test)\n",
        "    mlpscores += [scores]\n",
        "    \n",
        "    print('The mlp Score is ',scores)\n",
        "    # The confusion matrix gives a better picture of what errors are slipping in\n",
        "    print('The confusion matrix is ',confusion_matrix(y_test,predictions))\n",
        "    print(\"\")"
      ],
      "execution_count": null,
      "outputs": [
        {
          "output_type": "stream",
          "text": [
            "C:\\Users\\acer\\Anaconda3\\lib\\site-packages\\sklearn\\utils\\validation.py:595: DataConversionWarning: Data with input dtype int32 was converted to float64 by StandardScaler.\n",
            "  warnings.warn(msg, DataConversionWarning)\n",
            "C:\\Users\\acer\\Anaconda3\\lib\\site-packages\\sklearn\\utils\\validation.py:595: DataConversionWarning: Data with input dtype int32 was converted to float64 by StandardScaler.\n",
            "  warnings.warn(msg, DataConversionWarning)\n",
            "C:\\Users\\acer\\Anaconda3\\lib\\site-packages\\sklearn\\utils\\validation.py:595: DataConversionWarning: Data with input dtype int32 was converted to float64 by StandardScaler.\n",
            "  warnings.warn(msg, DataConversionWarning)\n"
          ],
          "name": "stderr"
        },
        {
          "output_type": "stream",
          "text": [
            "The mlp Score is  0.7794117647058824\n",
            "The confusion matrix is  [[28  0  0  0]\n",
            " [ 2 15  1  0]\n",
            " [ 0  7 10  0]\n",
            " [ 1  3  1  0]]\n",
            "\n",
            "The mlp Score is  0.8235294117647058\n",
            "The confusion matrix is  [[27  1  0  0]\n",
            " [ 0 16  2  0]\n",
            " [ 0  4 13  0]\n",
            " [ 2  1  2  0]]\n",
            "\n",
            "The mlp Score is  0.8235294117647058\n",
            "The confusion matrix is  [[28  0  0  0]\n",
            " [ 1 16  1  0]\n",
            " [ 1  4 12  0]\n",
            " [ 1  3  1  0]]\n",
            "\n",
            "The mlp Score is  0.75\n",
            "The confusion matrix is  [[28  0  0  0]\n",
            " [ 2 14  2  0]\n",
            " [ 3  5  9  0]\n",
            " [ 2  2  1  0]]\n",
            "\n",
            "The mlp Score is  0.8235294117647058\n",
            "The confusion matrix is  [[25  3  0  0]\n",
            " [ 0 18  0  0]\n",
            " [ 0  4 13  0]\n",
            " [ 1  3  1  0]]\n",
            "\n",
            "The mlp Score is  0.6764705882352942\n",
            "The confusion matrix is  [[28  0  0  0]\n",
            " [ 9  9  0  0]\n",
            " [ 3  5  9  0]\n",
            " [ 3  1  1  0]]\n",
            "\n",
            "The mlp Score is  0.8529411764705882\n",
            "The confusion matrix is  [[28  0  0  0]\n",
            " [ 0 17  1  0]\n",
            " [ 0  4 13  0]\n",
            " [ 1  3  1  0]]\n",
            "\n",
            "The mlp Score is  0.8088235294117647\n",
            "The confusion matrix is  [[28  0  0  0]\n",
            " [ 2 15  1  0]\n",
            " [ 1  4 12  0]\n",
            " [ 1  3  1  0]]\n",
            "\n",
            "The mlp Score is  0.8088235294117647\n",
            "The confusion matrix is  [[28  0  0  0]\n",
            " [ 3 14  1  0]\n",
            " [ 2  2 13  0]\n",
            " [ 2  2  1  0]]\n",
            "\n",
            "The mlp Score is  0.7058823529411765\n",
            "The confusion matrix is  [[28  0  0  0]\n",
            " [10  7  1  0]\n",
            " [ 3  1 13  0]\n",
            " [ 2  1  2  0]]\n",
            "\n",
            "The mlp Score is  0.8235294117647058\n",
            "The confusion matrix is  [[28  0  0  0]\n",
            " [ 2 15  1  0]\n",
            " [ 0  4 13  0]\n",
            " [ 1  2  2  0]]\n",
            "\n",
            "The mlp Score is  0.8088235294117647\n",
            "The confusion matrix is  [[28  0  0  0]\n",
            " [ 2 15  1  0]\n",
            " [ 4  1 12  0]\n",
            " [ 1  3  1  0]]\n",
            "\n",
            "The mlp Score is  0.8529411764705882\n",
            "The confusion matrix is  [[28  0  0  0]\n",
            " [ 0 17  1  0]\n",
            " [ 0  4 13  0]\n",
            " [ 2  2  1  0]]\n",
            "\n",
            "The mlp Score is  0.8088235294117647\n",
            "The confusion matrix is  [[28  0  0  0]\n",
            " [ 2 14  2  0]\n",
            " [ 0  4 13  0]\n",
            " [ 1  3  1  0]]\n",
            "\n",
            "The mlp Score is  0.8382352941176471\n",
            "The confusion matrix is  [[28  0  0  0]\n",
            " [ 0 17  1  0]\n",
            " [ 0  5 12  0]\n",
            " [ 1  3  1  0]]\n",
            "\n",
            "The mlp Score is  0.8088235294117647\n",
            "The confusion matrix is  [[28  0  0  0]\n",
            " [ 0 17  1  0]\n",
            " [ 0  7 10  0]\n",
            " [ 1  3  1  0]]\n",
            "\n",
            "The mlp Score is  0.7352941176470589\n",
            "The confusion matrix is  [[24  4  0  0]\n",
            " [ 0 17  1  0]\n",
            " [ 0  8  9  0]\n",
            " [ 1  3  1  0]]\n",
            "\n",
            "The mlp Score is  0.7647058823529411\n",
            "The confusion matrix is  [[25  3  0  0]\n",
            " [ 0 17  1  0]\n",
            " [ 0  7 10  0]\n",
            " [ 1  3  1  0]]\n",
            "\n",
            "The mlp Score is  0.8235294117647058\n",
            "The confusion matrix is  [[28  0  0  0]\n",
            " [ 3 15  0  0]\n",
            " [ 3  1 13  0]\n",
            " [ 1  3  1  0]]\n",
            "\n",
            "The mlp Score is  0.7941176470588235\n",
            "The confusion matrix is  [[28  0  0  0]\n",
            " [ 2 15  1  0]\n",
            " [ 3  3 11  0]\n",
            " [ 1  3  1  0]]\n",
            "\n"
          ],
          "name": "stdout"
        }
      ]
    },
    {
      "cell_type": "code",
      "metadata": {
        "id": "VeAy9bQmp70t",
        "colab_type": "code",
        "colab": {},
        "outputId": "557e95a2-24c5-462a-cafa-0aab7313bb68"
      },
      "source": [
        "#compute average of mlp scores obtained\n",
        "average = np.mean(mlpscores) #calculate average\n",
        "print (\"The average mlp score is =\", round(average, 2)) \n",
        "\n",
        "#compute std of mlp scores obtained\n",
        "std = np.std(mlpscores)\n",
        "print (\"The std of the mlp scores is =\", round(std, 2)) "
      ],
      "execution_count": null,
      "outputs": [
        {
          "output_type": "stream",
          "text": [
            "The average mlp score is = 0.8\n",
            "The std of the mlp scores is = 0.05\n"
          ],
          "name": "stdout"
        }
      ]
    },
    {
      "cell_type": "markdown",
      "metadata": {
        "id": "tlXLjXtKp70v",
        "colab_type": "text"
      },
      "source": [
        "On an average, the new models for X2 and X1 performed similarly, and better than the former models. Although, the Standard Deviations are larger than in the previous models."
      ]
    },
    {
      "cell_type": "markdown",
      "metadata": {
        "id": "Yg8-eoBrp70v",
        "colab_type": "text"
      },
      "source": [
        "##### Model 3 extra"
      ]
    },
    {
      "cell_type": "code",
      "metadata": {
        "id": "bd_YgCMfp70v",
        "colab_type": "code",
        "colab": {},
        "outputId": "618ec5eb-9251-49dd-9aa7-0afe5476de8b"
      },
      "source": [
        "#CHANGING THE number OF HIDDEN LAYERS, using X2\n",
        "# Creating the neural network\n",
        "#using a for loop to run through 20 times\n",
        "X2_3 = np.copy(X2)\n",
        "\n",
        "X_train, X_test, y_train, y_test = train_test_split(X2_3, y)\n",
        "\n",
        "# Prepare to scale the inputs\n",
        "scaler = StandardScaler()\n",
        "scaler.fit(X_train)\n",
        "\n",
        "# Scaling the inputs \n",
        "X_train = scaler.transform(X_train)\n",
        "X_test = scaler.transform(X_test)\n",
        "\n",
        "\n",
        "\n",
        "mlpscores = [] #store scores here\n",
        "\n",
        "for counter in range(1,21): #repeat process in loop 20 times\n",
        "    mlp = MLPClassifier(hidden_layer_sizes=(30,30,30,30,30), max_iter=1000)\n",
        "    mlp.fit(X_train,y_train)\n",
        "    predictions = mlp.predict(X_test)\n",
        "    \n",
        "    scores = mlp.score(X_test, y_test)\n",
        "    mlpscores += [scores]\n",
        "    \n",
        "    print('The mlp Score is ',scores)\n",
        "    # The confusion matrix gives a better picture of what errors are slipping in\n",
        "    print('The confusion matrix is ',confusion_matrix(y_test,predictions))\n",
        "    print(\"\")"
      ],
      "execution_count": null,
      "outputs": [
        {
          "output_type": "stream",
          "text": [
            "C:\\Users\\acer\\Anaconda3\\lib\\site-packages\\sklearn\\utils\\validation.py:595: DataConversionWarning: Data with input dtype int32 was converted to float64 by StandardScaler.\n",
            "  warnings.warn(msg, DataConversionWarning)\n",
            "C:\\Users\\acer\\Anaconda3\\lib\\site-packages\\sklearn\\utils\\validation.py:595: DataConversionWarning: Data with input dtype int32 was converted to float64 by StandardScaler.\n",
            "  warnings.warn(msg, DataConversionWarning)\n",
            "C:\\Users\\acer\\Anaconda3\\lib\\site-packages\\sklearn\\utils\\validation.py:595: DataConversionWarning: Data with input dtype int32 was converted to float64 by StandardScaler.\n",
            "  warnings.warn(msg, DataConversionWarning)\n"
          ],
          "name": "stderr"
        },
        {
          "output_type": "stream",
          "text": [
            "The mlp Score is  0.8235294117647058\n",
            "The confusion matrix is  [[29  0  0  0]\n",
            " [ 2 18  1  0]\n",
            " [ 1  1  8  1]\n",
            " [ 1  5  0  1]]\n",
            "\n",
            "The mlp Score is  0.8088235294117647\n",
            "The confusion matrix is  [[29  0  0  0]\n",
            " [ 4 17  0  0]\n",
            " [ 1  1  9  0]\n",
            " [ 5  1  1  0]]\n",
            "\n",
            "The mlp Score is  0.7647058823529411\n",
            "The confusion matrix is  [[29  0  0  0]\n",
            " [ 5 14  2  0]\n",
            " [ 1  1  9  0]\n",
            " [ 4  3  0  0]]\n",
            "\n",
            "The mlp Score is  0.6911764705882353\n",
            "The confusion matrix is  [[29  0  0  0]\n",
            " [ 7 10  4  0]\n",
            " [ 1  2  8  0]\n",
            " [ 4  2  1  0]]\n",
            "\n",
            "The mlp Score is  0.7205882352941176\n",
            "The confusion matrix is  [[29  0  0  0]\n",
            " [ 7 13  1  0]\n",
            " [ 1  3  7  0]\n",
            " [ 4  2  1  0]]\n",
            "\n",
            "The mlp Score is  0.7352941176470589\n",
            "The confusion matrix is  [[26  3  0  0]\n",
            " [ 1 18  2  0]\n",
            " [ 1  4  6  0]\n",
            " [ 4  2  1  0]]\n",
            "\n",
            "The mlp Score is  0.6470588235294118\n",
            "The confusion matrix is  [[21  8  0  0]\n",
            " [ 1 14  6  0]\n",
            " [ 1  1  9  0]\n",
            " [ 3  3  1  0]]\n",
            "\n",
            "The mlp Score is  0.75\n",
            "The confusion matrix is  [[25  4  0  0]\n",
            " [ 1 20  0  0]\n",
            " [ 0  5  6  0]\n",
            " [ 2  4  1  0]]\n",
            "\n",
            "The mlp Score is  0.7794117647058824\n",
            "The confusion matrix is  [[29  0  0  0]\n",
            " [ 4 16  1  0]\n",
            " [ 1  2  8  0]\n",
            " [ 3  3  1  0]]\n",
            "\n",
            "The mlp Score is  0.7205882352941176\n",
            "The confusion matrix is  [[24  5  0  0]\n",
            " [ 1 19  1  0]\n",
            " [ 0  5  6  0]\n",
            " [ 2  4  1  0]]\n",
            "\n",
            "The mlp Score is  0.7647058823529411\n",
            "The confusion matrix is  [[29  0  0  0]\n",
            " [ 6 14  1  0]\n",
            " [ 1  1  9  0]\n",
            " [ 3  3  1  0]]\n",
            "\n",
            "The mlp Score is  0.7941176470588235\n",
            "The confusion matrix is  [[29  0  0  0]\n",
            " [ 6 15  0  0]\n",
            " [ 1  0 10  0]\n",
            " [ 4  2  1  0]]\n",
            "\n",
            "The mlp Score is  0.7941176470588235\n",
            "The confusion matrix is  [[25  4  0  0]\n",
            " [ 1 19  1  0]\n",
            " [ 1  0 10  0]\n",
            " [ 3  3  1  0]]\n",
            "\n",
            "The mlp Score is  0.8088235294117647\n",
            "The confusion matrix is  [[25  4  0  0]\n",
            " [ 1 20  0  0]\n",
            " [ 0  1 10  0]\n",
            " [ 3  3  1  0]]\n",
            "\n",
            "The mlp Score is  0.7352941176470589\n",
            "The confusion matrix is  [[29  0  0  0]\n",
            " [ 5 14  2  0]\n",
            " [ 1  3  7  0]\n",
            " [ 5  2  0  0]]\n",
            "\n",
            "The mlp Score is  0.7352941176470589\n",
            "The confusion matrix is  [[29  0  0  0]\n",
            " [ 8 13  0  0]\n",
            " [ 1  2  8  0]\n",
            " [ 5  2  0  0]]\n",
            "\n",
            "The mlp Score is  0.7205882352941176\n",
            "The confusion matrix is  [[29  0  0  0]\n",
            " [ 6 15  0  0]\n",
            " [ 1  5  5  0]\n",
            " [ 5  2  0  0]]\n",
            "\n",
            "The mlp Score is  0.8088235294117647\n",
            "The confusion matrix is  [[29  0  0  0]\n",
            " [ 1 20  0  0]\n",
            " [ 1  4  6  0]\n",
            " [ 3  3  1  0]]\n",
            "\n",
            "The mlp Score is  0.7352941176470589\n",
            "The confusion matrix is  [[29  0  0  0]\n",
            " [ 8 12  1  0]\n",
            " [ 1  1  9  0]\n",
            " [ 6  0  1  0]]\n",
            "\n",
            "The mlp Score is  0.7794117647058824\n",
            "The confusion matrix is  [[29  0  0  0]\n",
            " [ 4 17  0  0]\n",
            " [ 1  3  7  0]\n",
            " [ 5  1  1  0]]\n",
            "\n"
          ],
          "name": "stdout"
        }
      ]
    },
    {
      "cell_type": "code",
      "metadata": {
        "id": "gB61KxEWp70z",
        "colab_type": "code",
        "colab": {},
        "outputId": "02629383-196f-4e8c-e6be-054d9affba13"
      },
      "source": [
        "#compute average of mlp scores obtained\n",
        "average = np.mean(mlpscores) #calculate average\n",
        "print (\"The average mlp score is =\", round(average, 2)) \n",
        "\n",
        "#compute std of mlp scores obtained\n",
        "std = np.std(mlpscores)\n",
        "print (\"The std of the mlp scores is =\", round(std, 2)) "
      ],
      "execution_count": null,
      "outputs": [
        {
          "output_type": "stream",
          "text": [
            "The average mlp score is = 0.76\n",
            "The std of the mlp scores is = 0.04\n"
          ],
          "name": "stdout"
        }
      ]
    },
    {
      "cell_type": "markdown",
      "metadata": {
        "id": "46as2IdYp700",
        "colab_type": "text"
      },
      "source": [
        "This model for X2 performed worse of all after increasing the number of hidden layers to 5."
      ]
    },
    {
      "cell_type": "markdown",
      "metadata": {
        "id": "l8bjwv-Fp700",
        "colab_type": "text"
      },
      "source": [
        "##### Model 4 extra"
      ]
    },
    {
      "cell_type": "code",
      "metadata": {
        "id": "GSymqP0ap701",
        "colab_type": "code",
        "colab": {},
        "outputId": "78ffbb55-cc36-45da-a017-8d1cba1dbef5"
      },
      "source": [
        "#CHANGING THE number and size OF HIDDEN LAYER, using X2\n",
        "# Creating the neural network\n",
        "#using a for loop to run through 20 times\n",
        "X2_4 = np.copy(X2)\n",
        "\n",
        "X_train, X_test, y_train, y_test = train_test_split(X2_4, y)\n",
        "\n",
        "# Prepare to scale the inputs\n",
        "scaler = StandardScaler()\n",
        "scaler.fit(X_train)\n",
        "\n",
        "# Scaling the inputs \n",
        "X_train = scaler.transform(X_train)\n",
        "X_test = scaler.transform(X_test)\n",
        "\n",
        "\n",
        "\n",
        "mlpscores = [] #store scores here\n",
        "\n",
        "for counter in range(1,21): #repeat process in loop 20 times\n",
        "    #test something seen in a research paper. Use just 1 hidden layer\n",
        "    mlp = MLPClassifier(hidden_layer_sizes=(100,), max_iter=1000)\n",
        "    mlp.fit(X_train,y_train)\n",
        "    predictions = mlp.predict(X_test)\n",
        "    \n",
        "    scores = mlp.score(X_test, y_test)\n",
        "    mlpscores += [scores]\n",
        "    \n",
        "    print('The mlp Score is ',scores)\n",
        "    # The confusion matrix gives a better picture of what errors are slipping in\n",
        "    print('The confusion matrix is ',confusion_matrix(y_test,predictions))\n",
        "    print(\"\")"
      ],
      "execution_count": null,
      "outputs": [
        {
          "output_type": "stream",
          "text": [
            "C:\\Users\\acer\\Anaconda3\\lib\\site-packages\\sklearn\\utils\\validation.py:595: DataConversionWarning: Data with input dtype int32 was converted to float64 by StandardScaler.\n",
            "  warnings.warn(msg, DataConversionWarning)\n",
            "C:\\Users\\acer\\Anaconda3\\lib\\site-packages\\sklearn\\utils\\validation.py:595: DataConversionWarning: Data with input dtype int32 was converted to float64 by StandardScaler.\n",
            "  warnings.warn(msg, DataConversionWarning)\n",
            "C:\\Users\\acer\\Anaconda3\\lib\\site-packages\\sklearn\\utils\\validation.py:595: DataConversionWarning: Data with input dtype int32 was converted to float64 by StandardScaler.\n",
            "  warnings.warn(msg, DataConversionWarning)\n"
          ],
          "name": "stderr"
        },
        {
          "output_type": "stream",
          "text": [
            "The mlp Score is  0.8676470588235294\n",
            "The confusion matrix is  [[24  0  0  0]\n",
            " [ 3 24  1  0]\n",
            " [ 2  3  9  0]\n",
            " [ 0  0  0  2]]\n",
            "\n",
            "The mlp Score is  0.7205882352941176\n",
            "The confusion matrix is  [[24  0  0  0]\n",
            " [11 16  1  0]\n",
            " [ 2  3  9  0]\n",
            " [ 1  1  0  0]]\n",
            "\n",
            "The mlp Score is  0.7794117647058824\n",
            "The confusion matrix is  [[24  0  0  0]\n",
            " [10 17  1  0]\n",
            " [ 2  2 10  0]\n",
            " [ 0  0  0  2]]\n",
            "\n",
            "The mlp Score is  0.7647058823529411\n",
            "The confusion matrix is  [[24  0  0  0]\n",
            " [ 8 19  1  0]\n",
            " [ 2  3  9  0]\n",
            " [ 1  1  0  0]]\n",
            "\n",
            "The mlp Score is  0.6911764705882353\n",
            "The confusion matrix is  [[24  0  0  0]\n",
            " [12 14  2  0]\n",
            " [ 3  2  9  0]\n",
            " [ 1  1  0  0]]\n",
            "\n",
            "The mlp Score is  0.7941176470588235\n",
            "The confusion matrix is  [[24  0  0  0]\n",
            " [ 5 22  1  0]\n",
            " [ 2  4  8  0]\n",
            " [ 1  1  0  0]]\n",
            "\n",
            "The mlp Score is  0.8088235294117647\n",
            "The confusion matrix is  [[24  0  0  0]\n",
            " [ 6 20  2  0]\n",
            " [ 2  3  9  0]\n",
            " [ 0  0  0  2]]\n",
            "\n",
            "The mlp Score is  0.7205882352941176\n",
            "The confusion matrix is  [[24  0  0  0]\n",
            " [10 17  1  0]\n",
            " [ 2  4  8  0]\n",
            " [ 1  1  0  0]]\n",
            "\n",
            "The mlp Score is  0.8529411764705882\n",
            "The confusion matrix is  [[24  0  0  0]\n",
            " [ 2 25  1  0]\n",
            " [ 2  4  8  0]\n",
            " [ 0  1  0  1]]\n",
            "\n",
            "The mlp Score is  0.8235294117647058\n",
            "The confusion matrix is  [[24  0  0  0]\n",
            " [ 6 21  1  0]\n",
            " [ 2  3  9  0]\n",
            " [ 0  0  0  2]]\n",
            "\n",
            "The mlp Score is  0.7205882352941176\n",
            "The confusion matrix is  [[24  0  0  0]\n",
            " [11 16  1  0]\n",
            " [ 3  2  9  0]\n",
            " [ 1  1  0  0]]\n",
            "\n",
            "The mlp Score is  0.7352941176470589\n",
            "The confusion matrix is  [[24  0  0  0]\n",
            " [10 17  1  0]\n",
            " [ 2  3  9  0]\n",
            " [ 1  1  0  0]]\n",
            "\n",
            "The mlp Score is  0.8235294117647058\n",
            "The confusion matrix is  [[24  0  0  0]\n",
            " [ 4 23  1  0]\n",
            " [ 2  4  8  0]\n",
            " [ 0  1  0  1]]\n",
            "\n",
            "The mlp Score is  0.8235294117647058\n",
            "The confusion matrix is  [[24  0  0  0]\n",
            " [ 3 23  2  0]\n",
            " [ 2  3  9  0]\n",
            " [ 1  1  0  0]]\n",
            "\n",
            "The mlp Score is  0.7058823529411765\n",
            "The confusion matrix is  [[24  0  0  0]\n",
            " [11 16  1  0]\n",
            " [ 3  3  8  0]\n",
            " [ 1  1  0  0]]\n",
            "\n",
            "The mlp Score is  0.75\n",
            "The confusion matrix is  [[24  0  0  0]\n",
            " [10 17  1  0]\n",
            " [ 2  3  9  0]\n",
            " [ 0  1  0  1]]\n",
            "\n",
            "The mlp Score is  0.8235294117647058\n",
            "The confusion matrix is  [[24  0  0  0]\n",
            " [ 4 22  2  0]\n",
            " [ 1  3 10  0]\n",
            " [ 0  2  0  0]]\n",
            "\n",
            "The mlp Score is  0.7941176470588235\n",
            "The confusion matrix is  [[24  0  0  0]\n",
            " [ 4 23  1  0]\n",
            " [ 2  4  7  1]\n",
            " [ 1  1  0  0]]\n",
            "\n",
            "The mlp Score is  0.8382352941176471\n",
            "The confusion matrix is  [[24  0  0  0]\n",
            " [ 4 23  1  0]\n",
            " [ 2  3  9  0]\n",
            " [ 0  1  0  1]]\n",
            "\n",
            "The mlp Score is  0.8529411764705882\n",
            "The confusion matrix is  [[24  0  0  0]\n",
            " [ 4 23  1  0]\n",
            " [ 2  3  9  0]\n",
            " [ 0  0  0  2]]\n",
            "\n"
          ],
          "name": "stdout"
        }
      ]
    },
    {
      "cell_type": "code",
      "metadata": {
        "id": "uvQZJBj6p703",
        "colab_type": "code",
        "colab": {},
        "outputId": "3746b165-37d6-4da3-eee8-9e6233712c46"
      },
      "source": [
        "#compute average of mlp scores obtained\n",
        "average = np.mean(mlpscores) #calculate average\n",
        "print (\"The average mlp score is =\", round(average, 2)) \n",
        "\n",
        "#compute std of mlp scores obtained\n",
        "std = np.std(mlpscores)\n",
        "print (\"The std of the mlp scores is =\", round(std, 2)) "
      ],
      "execution_count": null,
      "outputs": [
        {
          "output_type": "stream",
          "text": [
            "The average mlp score is = 0.78\n",
            "The std of the mlp scores is = 0.05\n"
          ],
          "name": "stdout"
        }
      ]
    },
    {
      "cell_type": "markdown",
      "metadata": {
        "id": "88nBSRnxp704",
        "colab_type": "text"
      },
      "source": [
        "Wow! The assertion in the research paper did not do too bad as this X2 model did better compared with the other models. Although the Standard deviation is high in comparison.\n",
        "This model performed better than when the number of hidden layers was increased above!"
      ]
    },
    {
      "cell_type": "markdown",
      "metadata": {
        "id": "XwXZVksLp705",
        "colab_type": "text"
      },
      "source": [
        "##### Model 5 extra"
      ]
    },
    {
      "cell_type": "code",
      "metadata": {
        "id": "YpLNMKjMp705",
        "colab_type": "code",
        "colab": {},
        "outputId": "a7750225-b3be-4ddc-d810-7e0420c10d16"
      },
      "source": [
        "#CHANGING THE number and size OF HIDDEN LAYER, using X2\n",
        "# Creating the neural network\n",
        "#using a for loop to run through 20 times\n",
        "X2_5 = np.copy(X2)\n",
        "\n",
        "X_train, X_test, y_train, y_test = train_test_split(X2_5, y)\n",
        "\n",
        "# Prepare to scale the inputs\n",
        "scaler = StandardScaler()\n",
        "scaler.fit(X_train)\n",
        "\n",
        "# Scaling the inputs \n",
        "X_train = scaler.transform(X_train)\n",
        "X_test = scaler.transform(X_test)\n",
        "\n",
        "\n",
        "\n",
        "mlpscores = [] #store scores here\n",
        "\n",
        "for counter in range(1,21): #repeat process in loop 20 times\n",
        "    #test something seen in a research paper. Use just 1 hidden layer\n",
        "    mlp = MLPClassifier(hidden_layer_sizes=(11,), max_iter=10000)#chose 11 by taking the mean of the number input features and output classes. \n",
        "    #Use 10,000 due to convergence warning for 1000\n",
        "    mlp.fit(X_train,y_train)\n",
        "    predictions = mlp.predict(X_test)\n",
        "    \n",
        "    scores = mlp.score(X_test, y_test)\n",
        "    mlpscores += [scores]\n",
        "    \n",
        "    print('The mlp Score is ',scores)\n",
        "    # The confusion matrix gives a better picture of what errors are slipping in\n",
        "    print('The confusion matrix is ',confusion_matrix(y_test,predictions))\n",
        "    print(\"\")"
      ],
      "execution_count": null,
      "outputs": [
        {
          "output_type": "stream",
          "text": [
            "C:\\Users\\acer\\Anaconda3\\lib\\site-packages\\sklearn\\utils\\validation.py:595: DataConversionWarning: Data with input dtype int32 was converted to float64 by StandardScaler.\n",
            "  warnings.warn(msg, DataConversionWarning)\n",
            "C:\\Users\\acer\\Anaconda3\\lib\\site-packages\\sklearn\\utils\\validation.py:595: DataConversionWarning: Data with input dtype int32 was converted to float64 by StandardScaler.\n",
            "  warnings.warn(msg, DataConversionWarning)\n",
            "C:\\Users\\acer\\Anaconda3\\lib\\site-packages\\sklearn\\utils\\validation.py:595: DataConversionWarning: Data with input dtype int32 was converted to float64 by StandardScaler.\n",
            "  warnings.warn(msg, DataConversionWarning)\n"
          ],
          "name": "stderr"
        },
        {
          "output_type": "stream",
          "text": [
            "The mlp Score is  0.7794117647058824\n",
            "The confusion matrix is  [[28  0  0  0]\n",
            " [ 3 14  0  0]\n",
            " [ 2  3 11  0]\n",
            " [ 1  4  2  0]]\n",
            "\n",
            "The mlp Score is  0.7352941176470589\n",
            "The confusion matrix is  [[28  0  0  0]\n",
            " [ 4 13  0  0]\n",
            " [ 1  6  9  0]\n",
            " [ 1  3  3  0]]\n",
            "\n",
            "The mlp Score is  0.7794117647058824\n",
            "The confusion matrix is  [[28  0  0  0]\n",
            " [ 3 13  1  0]\n",
            " [ 1  3 12  0]\n",
            " [ 1  3  3  0]]\n",
            "\n",
            "The mlp Score is  0.7352941176470589\n",
            "The confusion matrix is  [[28  0  0  0]\n",
            " [ 4 12  1  0]\n",
            " [ 1  5 10  0]\n",
            " [ 1  3  3  0]]\n",
            "\n",
            "The mlp Score is  0.7058823529411765\n",
            "The confusion matrix is  [[28  0  0  0]\n",
            " [ 7  9  1  0]\n",
            " [ 1  4 11  0]\n",
            " [ 3  2  2  0]]\n",
            "\n",
            "The mlp Score is  0.7205882352941176\n",
            "The confusion matrix is  [[28  0  0  0]\n",
            " [ 5  9  2  1]\n",
            " [ 1  3 12  0]\n",
            " [ 2  2  3  0]]\n",
            "\n",
            "The mlp Score is  0.7647058823529411\n",
            "The confusion matrix is  [[28  0  0  0]\n",
            " [ 5 11  1  0]\n",
            " [ 1  2 13  0]\n",
            " [ 1  3  3  0]]\n",
            "\n",
            "The mlp Score is  0.7794117647058824\n",
            "The confusion matrix is  [[28  0  0  0]\n",
            " [ 2 14  1  0]\n",
            " [ 1  4 11  0]\n",
            " [ 1  3  3  0]]\n",
            "\n",
            "The mlp Score is  0.75\n",
            "The confusion matrix is  [[28  0  0  0]\n",
            " [ 2 14  1  0]\n",
            " [ 1  6  9  0]\n",
            " [ 1  3  3  0]]\n",
            "\n",
            "The mlp Score is  0.7794117647058824\n",
            "The confusion matrix is  [[28  0  0  0]\n",
            " [ 3 14  0  0]\n",
            " [ 1  4 11  0]\n",
            " [ 1  3  3  0]]\n",
            "\n",
            "The mlp Score is  0.7352941176470589\n",
            "The confusion matrix is  [[28  0  0  0]\n",
            " [ 6 11  0  0]\n",
            " [ 1  4 11  0]\n",
            " [ 2  2  3  0]]\n",
            "\n",
            "The mlp Score is  0.6764705882352942\n",
            "The confusion matrix is  [[28  0  0  0]\n",
            " [ 8  8  1  0]\n",
            " [ 2  4 10  0]\n",
            " [ 2  2  3  0]]\n",
            "\n",
            "The mlp Score is  0.6911764705882353\n",
            "The confusion matrix is  [[28  0  0  0]\n",
            " [ 6  8  3  0]\n",
            " [ 1  4 11  0]\n",
            " [ 2  2  3  0]]\n",
            "\n",
            "The mlp Score is  0.8235294117647058\n",
            "The confusion matrix is  [[28  0  0  0]\n",
            " [ 2 15  0  0]\n",
            " [ 1  2 13  0]\n",
            " [ 1  4  2  0]]\n",
            "\n",
            "The mlp Score is  0.7794117647058824\n",
            "The confusion matrix is  [[28  0  0  0]\n",
            " [ 4 13  0  0]\n",
            " [ 1  3 12  0]\n",
            " [ 1  3  3  0]]\n",
            "\n",
            "The mlp Score is  0.7941176470588235\n",
            "The confusion matrix is  [[28  0  0  0]\n",
            " [ 3 13  1  0]\n",
            " [ 1  2 13  0]\n",
            " [ 1  3  3  0]]\n",
            "\n",
            "The mlp Score is  0.75\n",
            "The confusion matrix is  [[28  0  0  0]\n",
            " [ 4 12  1  0]\n",
            " [ 2  3 11  0]\n",
            " [ 2  3  2  0]]\n",
            "\n",
            "The mlp Score is  0.7941176470588235\n",
            "The confusion matrix is  [[28  0  0  0]\n",
            " [ 2 15  0  0]\n",
            " [ 1  4 11  0]\n",
            " [ 1  3  3  0]]\n",
            "\n",
            "The mlp Score is  0.7794117647058824\n",
            "The confusion matrix is  [[28  0  0  0]\n",
            " [ 2 13  1  1]\n",
            " [ 1  3 12  0]\n",
            " [ 1  3  3  0]]\n",
            "\n",
            "The mlp Score is  0.7058823529411765\n",
            "The confusion matrix is  [[28  0  0  0]\n",
            " [ 6 10  1  0]\n",
            " [ 1  5 10  0]\n",
            " [ 2  2  3  0]]\n",
            "\n"
          ],
          "name": "stdout"
        }
      ]
    },
    {
      "cell_type": "code",
      "metadata": {
        "id": "UhDjG2VYp708",
        "colab_type": "code",
        "colab": {},
        "outputId": "6257e950-55f4-45c0-d954-cca75bd0e9d6"
      },
      "source": [
        "#compute average of mlp scores obtained\n",
        "average = np.mean(mlpscores) #calculate average\n",
        "print (\"The average mlp score is =\", round(average, 2)) \n",
        "\n",
        "#compute std of mlp scores obtained\n",
        "std = np.std(mlpscores)\n",
        "print (\"The std of the mlp scores is =\", round(std, 2)) "
      ],
      "execution_count": null,
      "outputs": [
        {
          "output_type": "stream",
          "text": [
            "The average mlp score is = 0.75\n",
            "The std of the mlp scores is = 0.04\n"
          ],
          "name": "stdout"
        }
      ]
    },
    {
      "cell_type": "markdown",
      "metadata": {
        "id": "Pbmv9RvDp70-",
        "colab_type": "text"
      },
      "source": [
        "This model performs very similarly to the other models, and with the most common standard deviation of 0.04. Using the default 100 hidden layers performed better than using the average of the input and output features."
      ]
    },
    {
      "cell_type": "markdown",
      "metadata": {
        "id": "sQnv7qe2p70_",
        "colab_type": "text"
      },
      "source": [
        "###### Model 6 extra"
      ]
    },
    {
      "cell_type": "code",
      "metadata": {
        "id": "lRYQbOgup70_",
        "colab_type": "code",
        "colab": {}
      },
      "source": [
        "#reduce the features in X2 to just 12"
      ],
      "execution_count": null,
      "outputs": []
    },
    {
      "cell_type": "code",
      "metadata": {
        "id": "Iw68zzEyp71L",
        "colab_type": "code",
        "colab": {}
      },
      "source": [
        "#create new array\n",
        "new_X2 = [] # inputs\n",
        "y = [] # true values\n",
        "\n",
        "# Here, we iterate over the lines of the file. If a line matches one of our classes, we split the next line \n",
        "\n",
        "for i in range(len(raw_data) - 1):\n",
        "    data2 = raw_data[i].strip() # .strip() removes the line endings \n",
        "    if data2 in classes.keys(): # If the line in the data matches one of our classes (for eg, 'normal')\n",
        "        features = [int(x) for x in raw_data[i+1].strip().split('\\t') + raw_data[i+5].strip().split('\\t')] # Split the next line to get our features\n",
        "        new_X2.append(features)\n",
        "        y.append(classes[data2]) # And record which class this set of features belongs to"
      ],
      "execution_count": null,
      "outputs": []
    },
    {
      "cell_type": "code",
      "metadata": {
        "id": "DapX45lpp71N",
        "colab_type": "code",
        "colab": {},
        "outputId": "90c2ee5c-3f54-4947-bd57-3f72c070e5a7"
      },
      "source": [
        "new_X2[0]"
      ],
      "execution_count": null,
      "outputs": [
        {
          "output_type": "execute_result",
          "data": {
            "text/plain": [
              "[-1, -1, 63, -3, -1, 0, -1, -1, 63, -3, -1, 0]"
            ]
          },
          "metadata": {
            "tags": []
          },
          "execution_count": 270
        }
      ]
    },
    {
      "cell_type": "code",
      "metadata": {
        "id": "b4ixLq3Qp71P",
        "colab_type": "code",
        "colab": {},
        "outputId": "6e531efd-9a74-4d20-d0ae-cceea48da181"
      },
      "source": [
        "#CHANGING THE number and size OF HIDDEN LAYER, using a new data set according to X2\n",
        "# Creating the neural network\n",
        "#using a for loop to run through 20 times\n",
        "new_X2_1 = np.copy(new_X2)\n",
        "\n",
        "X_train, X_test, y_train, y_test = train_test_split(new_X2_1, y)\n",
        "\n",
        "# Prepare to scale the inputs\n",
        "scaler = StandardScaler()\n",
        "scaler.fit(X_train)\n",
        "\n",
        "# Scaling the inputs \n",
        "X_train = scaler.transform(X_train)\n",
        "X_test = scaler.transform(X_test)\n",
        "\n",
        "\n",
        "\n",
        "mlpscores = [] #store scores here\n",
        "\n",
        "for counter in range(1,21): #repeat process in loop 20 times\n",
        "    #use a size of 100 with one hidden layer as this performed good so far\n",
        "    mlp = MLPClassifier(hidden_layer_sizes=(100,), max_iter=1000)#chose 11 by taking the mean of the number input features and output classes. \n",
        "    mlp.fit(X_train,y_train)\n",
        "    predictions = mlp.predict(X_test)\n",
        "    \n",
        "    scores = mlp.score(X_test, y_test)\n",
        "    mlpscores += [scores]\n",
        "    \n",
        "    print('The mlp Score is ',scores)\n",
        "    # The confusion matrix gives a better picture of what errors are slipping in\n",
        "    print('The confusion matrix is ',confusion_matrix(y_test,predictions))\n",
        "    print(\"\")"
      ],
      "execution_count": null,
      "outputs": [
        {
          "output_type": "stream",
          "text": [
            "C:\\Users\\acer\\Anaconda3\\lib\\site-packages\\sklearn\\utils\\validation.py:595: DataConversionWarning: Data with input dtype int32 was converted to float64 by StandardScaler.\n",
            "  warnings.warn(msg, DataConversionWarning)\n",
            "C:\\Users\\acer\\Anaconda3\\lib\\site-packages\\sklearn\\utils\\validation.py:595: DataConversionWarning: Data with input dtype int32 was converted to float64 by StandardScaler.\n",
            "  warnings.warn(msg, DataConversionWarning)\n",
            "C:\\Users\\acer\\Anaconda3\\lib\\site-packages\\sklearn\\utils\\validation.py:595: DataConversionWarning: Data with input dtype int32 was converted to float64 by StandardScaler.\n",
            "  warnings.warn(msg, DataConversionWarning)\n"
          ],
          "name": "stderr"
        },
        {
          "output_type": "stream",
          "text": [
            "The mlp Score is  0.8088235294117647\n",
            "The confusion matrix is  [[29  0  0  0]\n",
            " [ 3 17  3  0]\n",
            " [ 1  0  9  0]\n",
            " [ 3  1  2  0]]\n",
            "\n",
            "The mlp Score is  0.7941176470588235\n",
            "The confusion matrix is  [[29  0  0  0]\n",
            " [ 2 18  3  0]\n",
            " [ 2  1  7  0]\n",
            " [ 2  3  1  0]]\n",
            "\n",
            "The mlp Score is  0.8235294117647058\n",
            "The confusion matrix is  [[29  0  0  0]\n",
            " [ 1 19  3  0]\n",
            " [ 1  1  8  0]\n",
            " [ 2  2  2  0]]\n",
            "\n",
            "The mlp Score is  0.7205882352941176\n",
            "The confusion matrix is  [[29  0  0  0]\n",
            " [ 9 12  2  0]\n",
            " [ 2  1  7  0]\n",
            " [ 3  1  1  1]]\n",
            "\n",
            "The mlp Score is  0.7647058823529411\n",
            "The confusion matrix is  [[29  0  0  0]\n",
            " [ 6 13  4  0]\n",
            " [ 1  1  8  0]\n",
            " [ 2  1  1  2]]\n",
            "\n",
            "The mlp Score is  0.6764705882352942\n",
            "The confusion matrix is  [[29  0  0  0]\n",
            " [11 10  2  0]\n",
            " [ 3  0  7  0]\n",
            " [ 3  1  2  0]]\n",
            "\n",
            "The mlp Score is  0.7794117647058824\n",
            "The confusion matrix is  [[29  0  0  0]\n",
            " [ 3 18  2  0]\n",
            " [ 1  3  6  0]\n",
            " [ 2  2  2  0]]\n",
            "\n",
            "The mlp Score is  0.7647058823529411\n",
            "The confusion matrix is  [[29  0  0  0]\n",
            " [ 3 17  3  0]\n",
            " [ 2  2  6  0]\n",
            " [ 1  3  2  0]]\n",
            "\n",
            "The mlp Score is  0.7794117647058824\n",
            "The confusion matrix is  [[29  0  0  0]\n",
            " [ 3 16  4  0]\n",
            " [ 1  1  7  1]\n",
            " [ 2  2  1  1]]\n",
            "\n",
            "The mlp Score is  0.7205882352941176\n",
            "The confusion matrix is  [[29  0  0  0]\n",
            " [ 9 12  2  0]\n",
            " [ 3  0  7  0]\n",
            " [ 3  1  1  1]]\n",
            "\n",
            "The mlp Score is  0.7205882352941176\n",
            "The confusion matrix is  [[29  0  0  0]\n",
            " [ 5 13  5  0]\n",
            " [ 1  2  7  0]\n",
            " [ 3  0  3  0]]\n",
            "\n",
            "The mlp Score is  0.7352941176470589\n",
            "The confusion matrix is  [[29  0  0  0]\n",
            " [ 6 13  4  0]\n",
            " [ 1  1  8  0]\n",
            " [ 3  1  2  0]]\n",
            "\n",
            "The mlp Score is  0.7058823529411765\n",
            "The confusion matrix is  [[29  0  0  0]\n",
            " [10 12  1  0]\n",
            " [ 3  0  7  0]\n",
            " [ 4  1  1  0]]\n",
            "\n",
            "The mlp Score is  0.7941176470588235\n",
            "The confusion matrix is  [[29  0  0  0]\n",
            " [ 3 17  3  0]\n",
            " [ 1  1  8  0]\n",
            " [ 2  2  2  0]]\n",
            "\n",
            "The mlp Score is  0.7647058823529411\n",
            "The confusion matrix is  [[29  0  0  0]\n",
            " [ 4 16  3  0]\n",
            " [ 2  1  7  0]\n",
            " [ 2  2  2  0]]\n",
            "\n",
            "The mlp Score is  0.7941176470588235\n",
            "The confusion matrix is  [[28  1  0  0]\n",
            " [ 4 19  0  0]\n",
            " [ 2  1  7  0]\n",
            " [ 2  4  0  0]]\n",
            "\n",
            "The mlp Score is  0.8235294117647058\n",
            "The confusion matrix is  [[29  0  0  0]\n",
            " [ 3 16  4  0]\n",
            " [ 1  0  9  0]\n",
            " [ 1  2  1  2]]\n",
            "\n",
            "The mlp Score is  0.8088235294117647\n",
            "The confusion matrix is  [[29  0  0  0]\n",
            " [ 2 19  2  0]\n",
            " [ 1  2  7  0]\n",
            " [ 1  4  1  0]]\n",
            "\n",
            "The mlp Score is  0.7352941176470589\n",
            "The confusion matrix is  [[29  0  0  0]\n",
            " [ 5 14  4  0]\n",
            " [ 2  1  7  0]\n",
            " [ 3  1  2  0]]\n",
            "\n",
            "The mlp Score is  0.7647058823529411\n",
            "The confusion matrix is  [[29  0  0  0]\n",
            " [ 4 16  3  0]\n",
            " [ 1  2  7  0]\n",
            " [ 2  3  1  0]]\n",
            "\n"
          ],
          "name": "stdout"
        }
      ]
    },
    {
      "cell_type": "code",
      "metadata": {
        "id": "F1efkkv9p71R",
        "colab_type": "code",
        "colab": {},
        "outputId": "9ee9f309-0a9e-490d-c70f-9d8e41eef545"
      },
      "source": [
        "#compute average of mlp scores obtained\n",
        "average = np.mean(mlpscores) #calculate average\n",
        "print (\"The average mlp score is =\", round(average, 2)) \n",
        "\n",
        "#compute std of mlp scores obtained\n",
        "std = np.std(mlpscores)\n",
        "print (\"The std of the mlp scores is =\", round(std, 2)) "
      ],
      "execution_count": null,
      "outputs": [
        {
          "output_type": "stream",
          "text": [
            "The average mlp score is = 0.76\n",
            "The std of the mlp scores is = 0.04\n"
          ],
          "name": "stdout"
        }
      ]
    },
    {
      "cell_type": "markdown",
      "metadata": {
        "id": "drZO5wx6p71X",
        "colab_type": "text"
      },
      "source": [
        "This model with less features performs better than that of 18 features, despite using the same hidden_layer parameters and number of iterations, and with the lowest standard deviation so far of 0.04. "
      ]
    },
    {
      "cell_type": "markdown",
      "metadata": {
        "id": "S8YvvqxTp71Y",
        "colab_type": "text"
      },
      "source": [
        "###### Model 7 extra"
      ]
    },
    {
      "cell_type": "code",
      "metadata": {
        "id": "bvCiaGkWp71Y",
        "colab_type": "code",
        "colab": {}
      },
      "source": [
        "#increase the features in X2 to just 24"
      ],
      "execution_count": null,
      "outputs": []
    },
    {
      "cell_type": "code",
      "metadata": {
        "id": "egt6D_3Mp71b",
        "colab_type": "code",
        "colab": {}
      },
      "source": [
        "#create new array\n",
        "newer_X2 = [] # inputs\n",
        "y = [] # true values\n",
        "\n",
        "# Here, we iterate over the lines of the file. If a line matches one of our classes, we split the next line \n",
        "\n",
        "for i in range(len(raw_data) - 1):\n",
        "    data2 = raw_data[i].strip() # .strip() removes the line endings \n",
        "    if data2 in classes.keys(): # If the line in the data matches one of our classes (for eg, 'normal')\n",
        "        features = [int(x) for x in raw_data[i+1].strip().split('\\t') + \n",
        "                    raw_data[i+5].strip().split('\\t') + \n",
        "                    raw_data[i+10].strip().split('\\t') + \n",
        "                    raw_data[i+15].strip().split('\\t')] # Split the next line to get our features\n",
        "        newer_X2.append(features)\n",
        "        y.append(classes[data2]) # And record which class this set of features belongs to"
      ],
      "execution_count": null,
      "outputs": []
    },
    {
      "cell_type": "code",
      "metadata": {
        "id": "Lu2QLuTZp71d",
        "colab_type": "code",
        "colab": {},
        "outputId": "06ccbb06-d160-4081-eb64-89cb585585fd"
      },
      "source": [
        "newer_X2[0]"
      ],
      "execution_count": null,
      "outputs": [
        {
          "output_type": "execute_result",
          "data": {
            "text/plain": [
              "[-1,\n",
              " -1,\n",
              " 63,\n",
              " -3,\n",
              " -1,\n",
              " 0,\n",
              " -1,\n",
              " -1,\n",
              " 63,\n",
              " -3,\n",
              " -1,\n",
              " 0,\n",
              " -1,\n",
              " -1,\n",
              " 61,\n",
              " -3,\n",
              " 0,\n",
              " 0,\n",
              " -1,\n",
              " 0,\n",
              " 64,\n",
              " -2,\n",
              " -1,\n",
              " 0]"
            ]
          },
          "metadata": {
            "tags": []
          },
          "execution_count": 272
        }
      ]
    },
    {
      "cell_type": "code",
      "metadata": {
        "id": "14i5hqzKp71f",
        "colab_type": "code",
        "colab": {},
        "outputId": "30bbaaf4-97d4-4e88-a15e-152fb64cc3c6"
      },
      "source": [
        "#CHANGING THE number and size OF HIDDEN LAYER, using another data set created according to X2\n",
        "# Creating the neural network\n",
        "#using a for loop to run through 20 times\n",
        "newer_X2_1 = np.copy(newer_X2)\n",
        "\n",
        "X_train, X_test, y_train, y_test = train_test_split(newer_X2_1, y)\n",
        "\n",
        "# Prepare to scale the inputs\n",
        "scaler = StandardScaler()\n",
        "scaler.fit(X_train)\n",
        "\n",
        "# Scaling the inputs \n",
        "X_train = scaler.transform(X_train)\n",
        "X_test = scaler.transform(X_test)\n",
        "\n",
        "\n",
        "\n",
        "mlpscores = [] #store scores here\n",
        "\n",
        "for counter in range(1,21): #repeat process in loop 20 times\n",
        "    #use a size of 100 with one hidden layer as this performed good so far\n",
        "    mlp = MLPClassifier(hidden_layer_sizes=(100,), max_iter=1000)#chose 11 by taking the mean of the number input features and output classes. \n",
        "    mlp.fit(X_train,y_train)\n",
        "    predictions = mlp.predict(X_test)\n",
        "    \n",
        "    scores = mlp.score(X_test, y_test)\n",
        "    mlpscores += [scores]\n",
        "    \n",
        "    print('The mlp Score is ',scores)\n",
        "    # The confusion matrix gives a better picture of what errors are slipping in\n",
        "    print('The confusion matrix is ',confusion_matrix(y_test,predictions))\n",
        "    print(\"\")"
      ],
      "execution_count": null,
      "outputs": [
        {
          "output_type": "stream",
          "text": [
            "C:\\Users\\acer\\Anaconda3\\lib\\site-packages\\sklearn\\utils\\validation.py:595: DataConversionWarning: Data with input dtype int32 was converted to float64 by StandardScaler.\n",
            "  warnings.warn(msg, DataConversionWarning)\n",
            "C:\\Users\\acer\\Anaconda3\\lib\\site-packages\\sklearn\\utils\\validation.py:595: DataConversionWarning: Data with input dtype int32 was converted to float64 by StandardScaler.\n",
            "  warnings.warn(msg, DataConversionWarning)\n",
            "C:\\Users\\acer\\Anaconda3\\lib\\site-packages\\sklearn\\utils\\validation.py:595: DataConversionWarning: Data with input dtype int32 was converted to float64 by StandardScaler.\n",
            "  warnings.warn(msg, DataConversionWarning)\n"
          ],
          "name": "stderr"
        },
        {
          "output_type": "stream",
          "text": [
            "The mlp Score is  0.7647058823529411\n",
            "The confusion matrix is  [[23  0  0  0]\n",
            " [ 5 17  0  0]\n",
            " [ 0  5 12  0]\n",
            " [ 1  3  2  0]]\n",
            "\n",
            "The mlp Score is  0.75\n",
            "The confusion matrix is  [[23  0  0  0]\n",
            " [ 6 16  0  0]\n",
            " [ 1  4 11  1]\n",
            " [ 1  3  1  1]]\n",
            "\n",
            "The mlp Score is  0.7205882352941176\n",
            "The confusion matrix is  [[23  0  0  0]\n",
            " [ 7 15  0  0]\n",
            " [ 1  5 11  0]\n",
            " [ 1  3  2  0]]\n",
            "\n",
            "The mlp Score is  0.7794117647058824\n",
            "The confusion matrix is  [[23  0  0  0]\n",
            " [ 7 15  0  0]\n",
            " [ 1  3 13  0]\n",
            " [ 2  1  1  2]]\n",
            "\n",
            "The mlp Score is  0.7941176470588235\n",
            "The confusion matrix is  [[23  0  0  0]\n",
            " [ 6 16  0  0]\n",
            " [ 1  3 13  0]\n",
            " [ 1  2  1  2]]\n",
            "\n",
            "The mlp Score is  0.7941176470588235\n",
            "The confusion matrix is  [[23  0  0  0]\n",
            " [ 5 17  0  0]\n",
            " [ 0  4 13  0]\n",
            " [ 0  4  1  1]]\n",
            "\n",
            "The mlp Score is  0.8088235294117647\n",
            "The confusion matrix is  [[23  0  0  0]\n",
            " [ 5 17  0  0]\n",
            " [ 0  4 13  0]\n",
            " [ 1  2  1  2]]\n",
            "\n",
            "The mlp Score is  0.7941176470588235\n",
            "The confusion matrix is  [[22  1  0  0]\n",
            " [ 4 18  0  0]\n",
            " [ 0  4 13  0]\n",
            " [ 0  4  1  1]]\n",
            "\n",
            "The mlp Score is  0.75\n",
            "The confusion matrix is  [[23  0  0  0]\n",
            " [ 7 15  0  0]\n",
            " [ 1  3 12  1]\n",
            " [ 1  2  2  1]]\n",
            "\n",
            "The mlp Score is  0.7941176470588235\n",
            "The confusion matrix is  [[23  0  0  0]\n",
            " [ 6 16  0  0]\n",
            " [ 0  3 14  0]\n",
            " [ 1  3  1  1]]\n",
            "\n",
            "The mlp Score is  0.8235294117647058\n",
            "The confusion matrix is  [[23  0  0  0]\n",
            " [ 3 19  0  0]\n",
            " [ 0  4 13  0]\n",
            " [ 1  3  1  1]]\n",
            "\n",
            "The mlp Score is  0.8088235294117647\n",
            "The confusion matrix is  [[23  0  0  0]\n",
            " [ 5 17  0  0]\n",
            " [ 0  4 13  0]\n",
            " [ 0  3  1  2]]\n",
            "\n",
            "The mlp Score is  0.8382352941176471\n",
            "The confusion matrix is  [[23  0  0  0]\n",
            " [ 3 19  0  0]\n",
            " [ 0  4 13  0]\n",
            " [ 1  2  1  2]]\n",
            "\n",
            "The mlp Score is  0.7647058823529411\n",
            "The confusion matrix is  [[23  0  0  0]\n",
            " [ 7 15  0  0]\n",
            " [ 1  3 13  0]\n",
            " [ 1  3  1  1]]\n",
            "\n",
            "The mlp Score is  0.7941176470588235\n",
            "The confusion matrix is  [[23  0  0  0]\n",
            " [ 5 17  0  0]\n",
            " [ 1  2 14  0]\n",
            " [ 1  3  2  0]]\n",
            "\n",
            "The mlp Score is  0.75\n",
            "The confusion matrix is  [[23  0  0  0]\n",
            " [ 6 16  0  0]\n",
            " [ 1  4 12  0]\n",
            " [ 1  3  2  0]]\n",
            "\n",
            "The mlp Score is  0.8235294117647058\n",
            "The confusion matrix is  [[23  0  0  0]\n",
            " [ 4 18  0  0]\n",
            " [ 0  3 14  0]\n",
            " [ 0  4  1  1]]\n",
            "\n",
            "The mlp Score is  0.7647058823529411\n",
            "The confusion matrix is  [[23  0  0  0]\n",
            " [ 7 15  0  0]\n",
            " [ 1  3 13  0]\n",
            " [ 1  3  1  1]]\n",
            "\n",
            "The mlp Score is  0.8235294117647058\n",
            "The confusion matrix is  [[23  0  0  0]\n",
            " [ 4 18  0  0]\n",
            " [ 0  4 13  0]\n",
            " [ 1  2  1  2]]\n",
            "\n",
            "The mlp Score is  0.7647058823529411\n",
            "The confusion matrix is  [[23  0  0  0]\n",
            " [ 7 15  0  0]\n",
            " [ 1  4 12  0]\n",
            " [ 2  1  1  2]]\n",
            "\n"
          ],
          "name": "stdout"
        }
      ]
    },
    {
      "cell_type": "code",
      "metadata": {
        "id": "gzYxAhFip710",
        "colab_type": "code",
        "colab": {},
        "outputId": "8a7c2e50-e732-474d-ed1c-c26f96bafb29"
      },
      "source": [
        "#compute average of mlp scores obtained\n",
        "average = np.mean(mlpscores) #calculate average\n",
        "print (\"The average mlp score is =\", round(average, 2)) \n",
        "\n",
        "#compute std of mlp scores obtained\n",
        "std = np.std(mlpscores)\n",
        "print (\"The std of the mlp scores is =\", round(std, 2)) "
      ],
      "execution_count": null,
      "outputs": [
        {
          "output_type": "stream",
          "text": [
            "The average mlp score is = 0.79\n",
            "The std of the mlp scores is = 0.03\n"
          ],
          "name": "stdout"
        }
      ]
    },
    {
      "cell_type": "markdown",
      "metadata": {
        "id": "RZ_tdbetp72C",
        "colab_type": "text"
      },
      "source": [
        "The average mlp score is much more better with 24 features, and also has a lower Standard Deviation of 0.03!"
      ]
    },
    {
      "cell_type": "markdown",
      "metadata": {
        "id": "XtlTX8uzp72D",
        "colab_type": "text"
      },
      "source": [
        "##### The 7th model above is the best model with an average mlp score of 0.79, and an STD (over 20 repeated runs) of 0.03"
      ]
    },
    {
      "cell_type": "markdown",
      "metadata": {
        "id": "zEKc-E9Rp72D",
        "colab_type": "text"
      },
      "source": [
        "End"
      ]
    }
  ]
}