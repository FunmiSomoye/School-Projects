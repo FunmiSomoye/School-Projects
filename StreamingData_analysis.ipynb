{
  "nbformat": 4,
  "nbformat_minor": 0,
  "metadata": {
    "colab": {
      "name": "StreamingData_analysis.ipynb",
      "provenance": [],
      "include_colab_link": true
    },
    "kernelspec": {
      "display_name": "Python 3",
      "language": "python",
      "name": "python3"
    },
    "language_info": {
      "codemirror_mode": {
        "name": "ipython",
        "version": 3
      },
      "file_extension": ".py",
      "mimetype": "text/x-python",
      "name": "python",
      "nbconvert_exporter": "python",
      "pygments_lexer": "ipython3",
      "version": "3.7.1"
    }
  },
  "cells": [
    {
      "cell_type": "markdown",
      "metadata": {
        "id": "view-in-github",
        "colab_type": "text"
      },
      "source": [
        "<a href=\"https://colab.research.google.com/github/FunmiSomoye/School-Projects/blob/master/StreamingData_analysis.ipynb\" target=\"_parent\"><img src=\"https://colab.research.google.com/assets/colab-badge.svg\" alt=\"Open In Colab\"/></a>"
      ]
    },
    {
      "cell_type": "markdown",
      "metadata": {
        "colab_type": "text",
        "id": "1-KGxn3lcMKm"
      },
      "source": [
        "# Setup (for Google Colab)\n",
        "\n",
        "### This section defines some required functions (for generating fake data) and installs spark. Run the code without worrying about what it does."
      ]
    },
    {
      "cell_type": "code",
      "metadata": {
        "colab_type": "code",
        "id": "x_6DvhWQcMLC",
        "colab": {}
      },
      "source": [
        "# Spark setup\n",
        "!apt-get install openjdk-8-jdk-headless -qq > /dev/null\n",
        "!wget -q https://www-us.apache.org/dist/spark/spark-2.4.3/spark-2.4.3-bin-hadoop2.7.tgz\n",
        "!tar xf spark-2.4.3-bin-hadoop2.7.tgz\n",
        "!pip install -q findspark"
      ],
      "execution_count": null,
      "outputs": []
    },
    {
      "cell_type": "code",
      "metadata": {
        "colab_type": "code",
        "id": "jKuV6XiWcML2",
        "colab": {}
      },
      "source": [
        "import os\n",
        "os.environ[\"JAVA_HOME\"] = \"/usr/lib/jvm/java-8-openjdk-amd64\"\n",
        "os.environ[\"SPARK_HOME\"] = \"/content/spark-2.4.3-bin-hadoop2.7\""
      ],
      "execution_count": null,
      "outputs": []
    },
    {
      "cell_type": "code",
      "metadata": {
        "colab_type": "code",
        "id": "KZh0GwR-cMMq",
        "colab": {}
      },
      "source": [
        "import random, numpy, math\n",
        "\n",
        "devices = [x for x in range(11)]\n",
        "offsets = [random.randint(25, 60) for d in devices]\n",
        "offsets[1] = 90 # Fudge the numbers a little\n",
        "offsets[0] = 70\n",
        "\n",
        "eyes = [0 for d in devices]\n",
        "\n",
        "sensors = ['Temp1', 'Temp2', 'Temp3', 'Temp_Ambient']\n",
        "sensor_numbers = [0 for d in devices] # Which sensor will be reported next\\\n",
        "\n",
        "def gen_readings(d, i):\n",
        "    t = 0 # The core temperature\n",
        "    t1, t2, t3 = 0, 0, 0 # Three sensor readings\n",
        "    if d in [3, 10]:t3 += 200 # These two are malfuctioning\n",
        "    t += numpy.random.normal(offsets[d], 5) # Some random noise around the 'true' temo from offsets\n",
        "    # Adding trends to the temps\n",
        "    if d in [1, 2, 4]:\n",
        "        t += -10 * math.sin(i/(200*d))\n",
        "    if d in [8,9]:\n",
        "        t += (i*(d%3))/100\n",
        "        \n",
        "    # Deriving the three readings\n",
        "    t1 = t\n",
        "    t2 = t*1.1+10\n",
        "    t3 += t/2\n",
        "    t4 = numpy.random.normal(22.0, 0.2) + 5*math.sin(i/100) # Room temperature\n",
        "    \n",
        "    return [t1, t2, t3, t4]\n",
        "\n",
        "def getReading():\n",
        "    d = random.choice(devices) # pick a random device\n",
        "    i = eyes[d]\n",
        "    \n",
        "    t1, t2, t3, t4 = gen_readings(d, i)\n",
        "    \n",
        "    report = {'Device_ID':d, 'Temp1':t1, 'Temp2':t2, 'Temp3':t3, 'Temp_Ambient':t4}\n",
        "    \n",
        "    sensor_numbers[d] += 1 # Next one next time\n",
        "    if sensor_numbers[d] == 4: # We've done all three sensors\n",
        "        sensor_numbers[d] = 0\n",
        "        eyes[d] += 1\n",
        "        \n",
        "    \n",
        "    return i, report"
      ],
      "execution_count": null,
      "outputs": []
    },
    {
      "cell_type": "code",
      "metadata": {
        "colab_type": "code",
        "id": "i9uqgaY5cMNw",
        "colab": {
          "base_uri": "https://localhost:8080/",
          "height": 127
        },
        "outputId": "6b796762-daaf-40b2-a879-3e01dfc851f2"
      },
      "source": [
        "getReading() #view a sample of what the data looks like"
      ],
      "execution_count": null,
      "outputs": [
        {
          "output_type": "execute_result",
          "data": {
            "text/plain": [
              "(0,\n",
              " {'Device_ID': 6,\n",
              "  'Temp1': 53.50372222219528,\n",
              "  'Temp2': 68.85409444441481,\n",
              "  'Temp3': 26.75186111109764,\n",
              "  'Temp_Ambient': 22.396448018797173})"
            ]
          },
          "metadata": {
            "tags": []
          },
          "execution_count": 6
        }
      ]
    },
    {
      "cell_type": "markdown",
      "metadata": {
        "colab_type": "text",
        "id": "tF6DqjA8cMOZ"
      },
      "source": [
        "# Summative"
      ]
    },
    {
      "cell_type": "markdown",
      "metadata": {
        "colab_type": "text",
        "id": "Y29NmY5PcMOm"
      },
      "source": [
        "This exercise will go through a simulated streaming data workflow, as seen in the streaming data module. But it will be more complex, and closer to what a real world scenario might look like. You will need to \n",
        "- Investigate the incoming data\n",
        "- Create an appropriate database to store the incoming records\n",
        "- Write code to process records one by one as they arrive, including\n",
        " - Printing warnings when any reading goes above a predefined threshold\n",
        " - Storing the incoming data in a database\n",
        "- Write code to analyse the stored data in a scalable manner\n",
        "- Display relevant information in a dashboard"
      ]
    },
    {
      "cell_type": "markdown",
      "metadata": {
        "colab_type": "text",
        "id": "4T8-KstZcMO9"
      },
      "source": [
        "## Create an appropriate database"
      ]
    },
    {
      "cell_type": "markdown",
      "metadata": {
        "colab_type": "text",
        "id": "n2_VUyIFcMPV"
      },
      "source": [
        "Each incoming record will look something like the following: \n",
        "\n",
        "{'Device_ID': 9,                  \n",
        "  'Temp1': 33.01235436945101,  \n",
        "  'Temp2': 46.313589806396116,  \n",
        "  'Temp3': 16.506177184725505,  \n",
        "  'Temp_Ambient': 23.782493817278034}\n",
        "  \n",
        "Each device is assigned an integer ID. Every device has multiple sensors, and reports the readings from each sensor as a float. Each call to gen_data.getReading() returns a time (an integer here to make things easier) and a record that follows the same pattern as above.\n",
        "\n",
        "<b>Create a database to store the incoming data.</b> Include a time field for the time that the data arrives. If you create the database with python, show the code here, otherwise include any bash or sql code you run. You may wish to come back and add additional fields to make later analysis easier."
      ]
    },
    {
      "cell_type": "code",
      "metadata": {
        "colab_type": "code",
        "id": "Vz7-J_MxOc6Y",
        "colab": {}
      },
      "source": [
        "import pandas as pd\n",
        "db = pd.DataFrame(columns=['Time', 'Device_ID', 'Temp1', 'Temp2', 'Temp3', 'Temp_Ambient', 'mavg_temp1', 'mavg_temp2', 'mavg_temp3'])"
      ],
      "execution_count": null,
      "outputs": []
    },
    {
      "cell_type": "code",
      "metadata": {
        "colab_type": "code",
        "id": "ku54WRZEKjJU",
        "colab": {}
      },
      "source": [
        "a.to_pickle('my_file.pkl')"
      ],
      "execution_count": null,
      "outputs": []
    },
    {
      "cell_type": "code",
      "metadata": {
        "colab_type": "code",
        "id": "0xo_n5mcPGE4",
        "colab": {}
      },
      "source": [
        "b = pd.read_pickle('my_file.pkl')"
      ],
      "execution_count": null,
      "outputs": []
    },
    {
      "cell_type": "markdown",
      "metadata": {
        "colab_type": "text",
        "id": "BTeg1PxScMP7"
      },
      "source": [
        "## Store and process the incoming data\n",
        "\n",
        "As each record arrives (i.e. each loop of the for loop), you must\n",
        "- <b>Store the record in the database you created above\n",
        "- Use either moving windows or exponential averaging to keep track each sensor value for each device. Print out the values at the end of the loop\n",
        "- Print a warning if any reported temperature exceeds 100 degrees for the first time for that device</b>"
      ]
    },
    {
      "cell_type": "code",
      "metadata": {
        "colab_type": "code",
        "id": "gR0ldja9T103",
        "colab": {
          "base_uri": "https://localhost:8080/",
          "height": 164
        },
        "outputId": "2c19c1d3-c5f7-4bd1-f23e-f7903d66af1e"
      },
      "source": [
        "n_records = 0\n",
        "\n",
        "for i in range(20000): # Hint: make this lower for testing\n",
        "    \n",
        "    # The simulated data arriving - don't change this\n",
        "    arrival_time, record = getReading()\n",
        "   \n",
        "    # Your code here\n",
        "    n_records += 1 # Update the counter\n",
        "    \n",
        "    # save record into dataframe\n",
        "    #use exponential weighhted moving average \n",
        "    db = pd.concat([db, pd.DataFrame([{'Time': arrival_time, 'Device_ID':record['Device_ID'], 'Temp1':record['Temp1'], 'Temp2':record['Temp2'], 'Temp3':record['Temp3'],'Temp_Ambient':record['Temp_Ambient']}])], ignore_index=True)    \n",
        "    \n",
        "\n",
        "    db[[\"mavg_temp1\", \"mavg_temp2\", \"mavg_temp3\"]] = db.groupby(\"Device_ID\").apply(lambda x: x[[\"Temp1\", \"Temp2\", \"Temp3\"]].ewm(span=30, adjust=False).mean())\n",
        "    "
      ],
      "execution_count": null,
      "outputs": [
        {
          "output_type": "stream",
          "text": [
            "/usr/local/lib/python3.6/dist-packages/ipykernel_launcher.py:13: FutureWarning: Sorting because non-concatenation axis is not aligned. A future version\n",
            "of pandas will change to not sort by default.\n",
            "\n",
            "To accept the future behavior, pass 'sort=False'.\n",
            "\n",
            "To retain the current behavior and silence the warning, pass 'sort=True'.\n",
            "\n",
            "  del sys.path[0]\n"
          ],
          "name": "stderr"
        }
      ]
    },
    {
      "cell_type": "code",
      "metadata": {
        "colab_type": "code",
        "id": "tdu6-CB74BPc",
        "colab": {}
      },
      "source": [
        "#save file to csv\n",
        "db.write.csv('BD_Summative')"
      ],
      "execution_count": null,
      "outputs": []
    },
    {
      "cell_type": "code",
      "metadata": {
        "colab_type": "code",
        "id": "x_a0nUpPjnjJ",
        "colab": {
          "base_uri": "https://localhost:8080/",
          "height": 363
        },
        "outputId": "f8a9bf04-51e3-4846-e1fb-d47b89add0b1"
      },
      "source": [
        "db.head(10)"
      ],
      "execution_count": null,
      "outputs": [
        {
          "output_type": "execute_result",
          "data": {
            "text/html": [
              "<div>\n",
              "<style scoped>\n",
              "    .dataframe tbody tr th:only-of-type {\n",
              "        vertical-align: middle;\n",
              "    }\n",
              "\n",
              "    .dataframe tbody tr th {\n",
              "        vertical-align: top;\n",
              "    }\n",
              "\n",
              "    .dataframe thead th {\n",
              "        text-align: right;\n",
              "    }\n",
              "</style>\n",
              "<table border=\"1\" class=\"dataframe\">\n",
              "  <thead>\n",
              "    <tr style=\"text-align: right;\">\n",
              "      <th></th>\n",
              "      <th>Device_ID</th>\n",
              "      <th>Temp1</th>\n",
              "      <th>Temp2</th>\n",
              "      <th>Temp3</th>\n",
              "      <th>Temp_Ambient</th>\n",
              "      <th>Time</th>\n",
              "      <th>mavg_temp1</th>\n",
              "      <th>mavg_temp2</th>\n",
              "      <th>mavg_temp3</th>\n",
              "    </tr>\n",
              "  </thead>\n",
              "  <tbody>\n",
              "    <tr>\n",
              "      <th>0</th>\n",
              "      <td>9</td>\n",
              "      <td>64.742203</td>\n",
              "      <td>81.216423</td>\n",
              "      <td>32.371101</td>\n",
              "      <td>22.106135</td>\n",
              "      <td>0</td>\n",
              "      <td>64.742203</td>\n",
              "      <td>81.216423</td>\n",
              "      <td>32.371101</td>\n",
              "    </tr>\n",
              "    <tr>\n",
              "      <th>1</th>\n",
              "      <td>6</td>\n",
              "      <td>47.081240</td>\n",
              "      <td>61.789364</td>\n",
              "      <td>23.540620</td>\n",
              "      <td>22.004714</td>\n",
              "      <td>0</td>\n",
              "      <td>47.081240</td>\n",
              "      <td>61.789364</td>\n",
              "      <td>23.540620</td>\n",
              "    </tr>\n",
              "    <tr>\n",
              "      <th>2</th>\n",
              "      <td>9</td>\n",
              "      <td>50.399749</td>\n",
              "      <td>65.439724</td>\n",
              "      <td>25.199874</td>\n",
              "      <td>21.656000</td>\n",
              "      <td>0</td>\n",
              "      <td>63.816883</td>\n",
              "      <td>80.198572</td>\n",
              "      <td>31.908442</td>\n",
              "    </tr>\n",
              "    <tr>\n",
              "      <th>3</th>\n",
              "      <td>8</td>\n",
              "      <td>31.294277</td>\n",
              "      <td>44.423705</td>\n",
              "      <td>15.647138</td>\n",
              "      <td>21.939054</td>\n",
              "      <td>0</td>\n",
              "      <td>31.294277</td>\n",
              "      <td>44.423705</td>\n",
              "      <td>15.647138</td>\n",
              "    </tr>\n",
              "    <tr>\n",
              "      <th>4</th>\n",
              "      <td>6</td>\n",
              "      <td>40.140267</td>\n",
              "      <td>54.154294</td>\n",
              "      <td>20.070134</td>\n",
              "      <td>21.930892</td>\n",
              "      <td>0</td>\n",
              "      <td>46.633435</td>\n",
              "      <td>61.296779</td>\n",
              "      <td>23.316718</td>\n",
              "    </tr>\n",
              "    <tr>\n",
              "      <th>5</th>\n",
              "      <td>6</td>\n",
              "      <td>52.191073</td>\n",
              "      <td>67.410180</td>\n",
              "      <td>26.095537</td>\n",
              "      <td>22.312949</td>\n",
              "      <td>0</td>\n",
              "      <td>46.991992</td>\n",
              "      <td>61.691192</td>\n",
              "      <td>23.495996</td>\n",
              "    </tr>\n",
              "    <tr>\n",
              "      <th>6</th>\n",
              "      <td>10</td>\n",
              "      <td>30.346864</td>\n",
              "      <td>43.381551</td>\n",
              "      <td>215.173432</td>\n",
              "      <td>22.026798</td>\n",
              "      <td>0</td>\n",
              "      <td>30.346864</td>\n",
              "      <td>43.381551</td>\n",
              "      <td>215.173432</td>\n",
              "    </tr>\n",
              "    <tr>\n",
              "      <th>7</th>\n",
              "      <td>5</td>\n",
              "      <td>24.262296</td>\n",
              "      <td>36.688526</td>\n",
              "      <td>12.131148</td>\n",
              "      <td>21.906992</td>\n",
              "      <td>0</td>\n",
              "      <td>24.262296</td>\n",
              "      <td>36.688526</td>\n",
              "      <td>12.131148</td>\n",
              "    </tr>\n",
              "    <tr>\n",
              "      <th>8</th>\n",
              "      <td>2</td>\n",
              "      <td>52.493283</td>\n",
              "      <td>67.742611</td>\n",
              "      <td>26.246641</td>\n",
              "      <td>21.772966</td>\n",
              "      <td>0</td>\n",
              "      <td>52.493283</td>\n",
              "      <td>67.742611</td>\n",
              "      <td>26.246641</td>\n",
              "    </tr>\n",
              "    <tr>\n",
              "      <th>9</th>\n",
              "      <td>2</td>\n",
              "      <td>58.370605</td>\n",
              "      <td>74.207666</td>\n",
              "      <td>29.185303</td>\n",
              "      <td>22.040072</td>\n",
              "      <td>0</td>\n",
              "      <td>52.872465</td>\n",
              "      <td>68.159711</td>\n",
              "      <td>26.436232</td>\n",
              "    </tr>\n",
              "  </tbody>\n",
              "</table>\n",
              "</div>"
            ],
            "text/plain": [
              "  Device_ID      Temp1      Temp2  ...  mavg_temp1  mavg_temp2  mavg_temp3\n",
              "0         9  64.742203  81.216423  ...   64.742203   81.216423   32.371101\n",
              "1         6  47.081240  61.789364  ...   47.081240   61.789364   23.540620\n",
              "2         9  50.399749  65.439724  ...   63.816883   80.198572   31.908442\n",
              "3         8  31.294277  44.423705  ...   31.294277   44.423705   15.647138\n",
              "4         6  40.140267  54.154294  ...   46.633435   61.296779   23.316718\n",
              "5         6  52.191073  67.410180  ...   46.991992   61.691192   23.495996\n",
              "6        10  30.346864  43.381551  ...   30.346864   43.381551  215.173432\n",
              "7         5  24.262296  36.688526  ...   24.262296   36.688526   12.131148\n",
              "8         2  52.493283  67.742611  ...   52.493283   67.742611   26.246641\n",
              "9         2  58.370605  74.207666  ...   52.872465   68.159711   26.436232\n",
              "\n",
              "[10 rows x 9 columns]"
            ]
          },
          "metadata": {
            "tags": []
          },
          "execution_count": 11
        }
      ]
    },
    {
      "cell_type": "code",
      "metadata": {
        "colab_type": "code",
        "id": "TGBoKGWqEF02",
        "colab": {
          "base_uri": "https://localhost:8080/",
          "height": 274
        },
        "outputId": "de69315d-827b-4297-8358-e008630e7c02"
      },
      "source": [
        "db.info()"
      ],
      "execution_count": null,
      "outputs": [
        {
          "output_type": "stream",
          "text": [
            "<class 'pandas.core.frame.DataFrame'>\n",
            "RangeIndex: 20000 entries, 0 to 19999\n",
            "Data columns (total 9 columns):\n",
            "Device_ID       20000 non-null object\n",
            "Temp1           20000 non-null float64\n",
            "Temp2           20000 non-null float64\n",
            "Temp3           20000 non-null float64\n",
            "Temp_Ambient    20000 non-null float64\n",
            "Time            20000 non-null object\n",
            "mavg_temp1      20000 non-null float64\n",
            "mavg_temp2      20000 non-null float64\n",
            "mavg_temp3      20000 non-null float64\n",
            "dtypes: float64(7), object(2)\n",
            "memory usage: 1.4+ MB\n"
          ],
          "name": "stdout"
        }
      ]
    },
    {
      "cell_type": "code",
      "metadata": {
        "colab_type": "code",
        "id": "FJvW1s6IGRi2",
        "colab": {}
      },
      "source": [
        ""
      ],
      "execution_count": null,
      "outputs": []
    },
    {
      "cell_type": "markdown",
      "metadata": {
        "colab_type": "text",
        "id": "7Ym1t87ScMQj"
      },
      "source": [
        "## Analyzing the stored data\n",
        "\n",
        "You now have a nice big database. <b>Load it into spark for analysis.</b>\n",
        "\n",
        "You are told that during the time the data was being collected, devices 3 and 10 had malfunctioning sensors - their temperature3 readings are all 200+. <b>Verify this.</b> Since the engineers knew about the faulty sensors, no harm has been done, but seeing those false readings in the historical data makes you unhappy. You decide to go the extra mile and replace these readings with slightly more believable (but still false) data, to practise your new machine learning skills.\n",
        "\n",
        "<b>Using the other devices for training, build a model to predict temperature3 given readings from the other sensors. Use the model to replace the erroneous values with the predicted ones. \n",
        "    \n",
        "Do you think this is a reasonable step to take? Explain.</b> "
      ]
    },
    {
      "cell_type": "code",
      "metadata": {
        "colab_type": "code",
        "id": "3MFQCUOw70Sb",
        "colab": {}
      },
      "source": [
        "#start a spark session"
      ],
      "execution_count": null,
      "outputs": []
    },
    {
      "cell_type": "code",
      "metadata": {
        "colab_type": "code",
        "id": "ZbCmYwGocMQt",
        "colab": {}
      },
      "source": [
        "import findspark\n",
        "findspark.init()"
      ],
      "execution_count": null,
      "outputs": []
    },
    {
      "cell_type": "code",
      "metadata": {
        "colab_type": "code",
        "id": "65K8Fev8qXYe",
        "colab": {}
      },
      "source": [
        "from pyspark.sql import SparkSession\n",
        "\n",
        "spark = SparkSession \\\n",
        "    .builder \\\n",
        "    .appName(\"Sensor Temperatures\") \\\n",
        "    .getOrCreate()"
      ],
      "execution_count": null,
      "outputs": []
    },
    {
      "cell_type": "code",
      "metadata": {
        "colab_type": "code",
        "id": "EnqGF_YCrBHO",
        "colab": {}
      },
      "source": [
        "db_sp = spark.createDataFrame(db)"
      ],
      "execution_count": null,
      "outputs": []
    },
    {
      "cell_type": "code",
      "metadata": {
        "colab_type": "code",
        "id": "A_NoSt2krYAL",
        "colab": {
          "base_uri": "https://localhost:8080/",
          "height": 495
        },
        "outputId": "e281bb14-5826-448c-df88-e49c4597ebc5"
      },
      "source": [
        "db_sp.show()"
      ],
      "execution_count": null,
      "outputs": [
        {
          "output_type": "stream",
          "text": [
            "+---------+------------------+------------------+------------------+------------------+----+------------------+------------------+------------------+\n",
            "|Device_ID|             Temp1|             Temp2|             Temp3|      Temp_Ambient|Time|        mavg_temp1|        mavg_temp2|        mavg_temp3|\n",
            "+---------+------------------+------------------+------------------+------------------+----+------------------+------------------+------------------+\n",
            "|        6|52.001510120600095|  67.2016611326601|26.000755060300047|21.918923279590647|   0|52.001510120600095|  67.2016611326601|26.000755060300047|\n",
            "|        0| 75.18035735369685| 92.69839308906654|37.590178676848424|22.048147257253046|   0| 75.18035735369685| 92.69839308906654|37.590178676848424|\n",
            "|        5| 59.92489252755016| 75.91738178030519| 29.96244626377508|22.001067527007073|   0| 59.92489252755016| 75.91738178030519| 29.96244626377508|\n",
            "|        6|52.322070970747525| 67.55427806782228|26.161035485373763|22.218386119449296|   0|52.022191465770895|   67.224410612348|26.011095732885448|\n",
            "|       10|49.423698480114965| 64.36606832812646| 224.7118492400575|21.888590333177632|   0|49.423698480114965| 64.36606832812646| 224.7118492400575|\n",
            "|       10| 54.19605292838417| 69.61565822122259| 227.0980264641921|22.349737287861696|   0| 49.73159231548718| 64.70475154703588| 224.8657961577436|\n",
            "|        9| 39.43334623201841| 53.37668085522025|19.716673116009204|  21.9831400064108|   0| 39.43334623201841| 53.37668085522025|19.716673116009204|\n",
            "|        1| 90.24443854901166|109.26888240391284| 45.12221927450583|22.205522367638114|   0| 90.24443854901166|109.26888240391284| 45.12221927450583|\n",
            "|        3| 32.91388411216083| 46.20527252337691| 216.4569420560804|22.081822831695977|   0| 32.91388411216083| 46.20527252337691| 216.4569420560804|\n",
            "|        2|48.508333523529814|  63.3591668758828|24.254166761764907|21.987438493160184|   0|48.508333523529814|  63.3591668758828|24.254166761764907|\n",
            "|        2|56.037955060510285| 71.64175056656131|28.018977530255142|21.857321068398996|   0| 48.99411555817372|  63.8935271139911| 24.49705777908686|\n",
            "|        5| 55.76289583576627|  71.3391854193429|27.881447917883136|22.049490328625854|   0|  59.6563766119512| 75.62201427314633|  29.8281883059756|\n",
            "|        7| 61.36801391831349| 77.50481531014483|30.684006959156743|21.777202342296757|   0| 61.36801391831349| 77.50481531014483|30.684006959156743|\n",
            "|        3|31.040453974452213| 44.14449937189744| 215.5202269872261|21.758263004179796|   0|32.793017651663504|46.072319416829856|216.39650882583177|\n",
            "|        1|  91.6652922837348|110.83182151210829|  45.8326461418674| 22.10273482698105|   0| 90.33610653189703|109.36971718508674|45.168053265948515|\n",
            "|        1| 92.73075092308346|112.00382601539182| 46.36537546154173|22.241381563584536|   0| 90.49059971842519|109.53965969026771|45.245299859212594|\n",
            "|        8| 39.80063201243824| 53.78069521368207| 19.90031600621912|21.805364387598917|   0| 39.80063201243824| 53.78069521368207| 19.90031600621912|\n",
            "|        4|47.687227941273186|62.455950735400506|23.843613970636593|22.154486094782353|   0|47.687227941273186|62.455950735400506|23.843613970636593|\n",
            "|        7| 59.01936554222782|  74.9213020964506| 29.50968277111391| 22.03549284024575|   0| 61.21648821663054|  77.3381370382936| 30.60824410831527|\n",
            "|        7|   55.915609886347| 71.50717087498171|  27.9578049431735|22.001148534909138|   0| 60.87449606628967| 76.96194567291863|30.437248033144837|\n",
            "+---------+------------------+------------------+------------------+------------------+----+------------------+------------------+------------------+\n",
            "only showing top 20 rows\n",
            "\n"
          ],
          "name": "stdout"
        }
      ]
    },
    {
      "cell_type": "code",
      "metadata": {
        "colab_type": "code",
        "id": "iA6h8vabvSqx",
        "colab": {
          "base_uri": "https://localhost:8080/",
          "height": 495
        },
        "outputId": "334d8094-eeb8-4fdd-944e-bd7ade1c476b"
      },
      "source": [
        "#confirm that temp3 readings for Drives 3 & 10 are >200\n",
        "device = db_sp.filter(db_sp['Temp3'] > 200)\n",
        "device.show()"
      ],
      "execution_count": null,
      "outputs": [
        {
          "output_type": "stream",
          "text": [
            "+---------+------------------+------------------+------------------+------------------+----+------------------+------------------+------------------+\n",
            "|Device_ID|             Temp1|             Temp2|             Temp3|      Temp_Ambient|Time|        mavg_temp1|        mavg_temp2|        mavg_temp3|\n",
            "+---------+------------------+------------------+------------------+------------------+----+------------------+------------------+------------------+\n",
            "|       10|36.577684423029886| 50.23545286533288|218.28884221151495|21.676128863685193|   0|36.577684423029886| 50.23545286533288|218.28884221151495|\n",
            "|       10| 34.89054509036747|48.379599599404216|217.44527254518374|21.801528175037323|   0| 36.46883672414844| 50.11572039656329|218.23441836207422|\n",
            "|       10|43.747679810396576| 58.12244779143624|221.87383990519828|22.327604755623778|   0| 36.93843950390638| 50.63228345429703| 218.4692197519532|\n",
            "|       10|38.666250975868316| 52.53287607345515|219.33312548793415| 21.96726435658835|   0|  37.0499112117749|  50.7549023329524|218.52495560588747|\n",
            "|       10| 41.55720100378865| 55.71292110416752|220.77860050189432|22.008466389662903|   1| 37.34070410158224| 51.07477451174047|218.67035205079114|\n",
            "|        3|40.984833464493335| 55.08331681094267|220.49241673224668|21.468959940910697|   0|40.984833464493335| 55.08331681094267|220.49241673224668|\n",
            "|       10| 36.36318428003857| 49.99950270804243| 218.1815921400193| 21.95350512466298|   1|37.277638306643944|51.005402137308344|  218.638819153322|\n",
            "|       10| 40.22608768946684| 54.24869645841353|220.11304384473343| 22.55062850896886|   1| 37.46786084747123| 51.21464693221836|218.73393042373567|\n",
            "|       10|34.232216872054515| 47.65543855925997|217.11610843602725|21.802808786973053|   1|37.259109623250794| 50.98502058557588|218.62955481162547|\n",
            "|       10|  41.3487363295107| 55.48360996246178|220.67436816475535|21.767742054208025|   2| 37.52295650752563|  51.2752521582782| 218.7614782537629|\n",
            "|        3| 37.08940151936364| 50.79834167130001|218.54470075968183|21.990909614625256|   0| 40.73351527448497| 54.80686680193347| 220.3667576372425|\n",
            "|        3| 42.20132958321572|56.421462541537295|221.10066479160787|22.313044376143687|   0| 40.82821297182244| 54.91103426900469|220.41410648591125|\n",
            "|       10| 38.95385940854122|52.849245349395346|219.47692970427062| 22.32873216983763|   2| 37.61527282372018| 51.37680010609221| 218.8076364118602|\n",
            "|       10| 40.99501949336449| 55.09452144270094|220.49750974668225|22.265955947084315|   2|  37.8333209959553|51.616653095550845|218.91666049797774|\n",
            "|       10| 47.75013012400416| 62.52514313640458|223.87506506200208|21.898552015356266|   2|38.473115133248776| 52.32042664657367|219.23655756662447|\n",
            "|       10|49.200824898582326| 64.12090738844057|224.60041244929116|22.354762985762783|   3| 39.16522544068965|53.081747984758636| 219.5826127203449|\n",
            "|        3| 50.78137388273164|  65.8595112710048|225.39068694136583|21.761509354161912|   0| 41.47035238542949| 55.61738762397244| 220.7351761927148|\n",
            "|       10|54.998332802080306| 70.49816608228835|227.49916640104016| 22.10371892393965|   3|40.186716238198734| 54.20538786201862|220.09335811909946|\n",
            "|       10| 41.05403382270089| 55.15943720497098|220.52701691135044|21.890050984412294|   3|40.242672211392424| 54.26693943253168|220.12133610569632|\n",
            "|        3| 40.22388849163851|54.246277340802365|220.11194424581925|22.061007991290722|   1| 41.38993536002362| 55.52892889602599|220.69496768001187|\n",
            "+---------+------------------+------------------+------------------+------------------+----+------------------+------------------+------------------+\n",
            "only showing top 20 rows\n",
            "\n"
          ],
          "name": "stdout"
        }
      ]
    },
    {
      "cell_type": "markdown",
      "metadata": {
        "colab_type": "text",
        "id": "rGMDkpajvpCW"
      },
      "source": [
        "It has now been confirmed that the 3rd sensor readings for devices 3 & 10 have errors"
      ]
    },
    {
      "cell_type": "markdown",
      "metadata": {
        "colab_type": "text",
        "id": "9ZRqjfJl0K35"
      },
      "source": [
        "###**Begin Machine Learning**"
      ]
    },
    {
      "cell_type": "markdown",
      "metadata": {
        "colab_type": "text",
        "id": "GhptNzE17Fv6"
      },
      "source": [
        "*Prepare Data*"
      ]
    },
    {
      "cell_type": "code",
      "metadata": {
        "colab_type": "code",
        "id": "bXoLvkEhSKHL",
        "colab": {}
      },
      "source": [
        "#drop devices 3 and 10\n",
        "db_sp3 = db_sp.filter(db_sp['Temp3'] < 200)"
      ],
      "execution_count": null,
      "outputs": []
    },
    {
      "cell_type": "code",
      "metadata": {
        "colab_type": "code",
        "id": "jVqWBHAi1HXq",
        "colab": {
          "base_uri": "https://localhost:8080/",
          "height": 495
        },
        "outputId": "8c61ea27-d861-4971-868a-e18d5a415655"
      },
      "source": [
        "db_sp3.show()"
      ],
      "execution_count": null,
      "outputs": [
        {
          "output_type": "stream",
          "text": [
            "+---------+------------------+------------------+------------------+------------------+----+------------------+------------------+------------------+\n",
            "|Device_ID|             Temp1|             Temp2|             Temp3|      Temp_Ambient|Time|        mavg_temp1|        mavg_temp2|        mavg_temp3|\n",
            "+---------+------------------+------------------+------------------+------------------+----+------------------+------------------+------------------+\n",
            "|        6|52.001510120600095|  67.2016611326601|26.000755060300047|21.918923279590647|   0|52.001510120600095|  67.2016611326601|26.000755060300047|\n",
            "|        0| 75.18035735369685| 92.69839308906654|37.590178676848424|22.048147257253046|   0| 75.18035735369685| 92.69839308906654|37.590178676848424|\n",
            "|        5| 59.92489252755016| 75.91738178030519| 29.96244626377508|22.001067527007073|   0| 59.92489252755016| 75.91738178030519| 29.96244626377508|\n",
            "|        6|52.322070970747525| 67.55427806782228|26.161035485373763|22.218386119449296|   0|52.022191465770895|   67.224410612348|26.011095732885448|\n",
            "|        9| 39.43334623201841| 53.37668085522025|19.716673116009204|  21.9831400064108|   0| 39.43334623201841| 53.37668085522025|19.716673116009204|\n",
            "|        1| 90.24443854901166|109.26888240391284| 45.12221927450583|22.205522367638114|   0| 90.24443854901166|109.26888240391284| 45.12221927450583|\n",
            "|        2|48.508333523529814|  63.3591668758828|24.254166761764907|21.987438493160184|   0|48.508333523529814|  63.3591668758828|24.254166761764907|\n",
            "|        2|56.037955060510285| 71.64175056656131|28.018977530255142|21.857321068398996|   0| 48.99411555817372|  63.8935271139911| 24.49705777908686|\n",
            "|        5| 55.76289583576627|  71.3391854193429|27.881447917883136|22.049490328625854|   0|  59.6563766119512| 75.62201427314633|  29.8281883059756|\n",
            "|        7| 61.36801391831349| 77.50481531014483|30.684006959156743|21.777202342296757|   0| 61.36801391831349| 77.50481531014483|30.684006959156743|\n",
            "|        1|  91.6652922837348|110.83182151210829|  45.8326461418674| 22.10273482698105|   0| 90.33610653189703|109.36971718508674|45.168053265948515|\n",
            "|        1| 92.73075092308346|112.00382601539182| 46.36537546154173|22.241381563584536|   0| 90.49059971842519|109.53965969026771|45.245299859212594|\n",
            "|        8| 39.80063201243824| 53.78069521368207| 19.90031600621912|21.805364387598917|   0| 39.80063201243824| 53.78069521368207| 19.90031600621912|\n",
            "|        4|47.687227941273186|62.455950735400506|23.843613970636593|22.154486094782353|   0|47.687227941273186|62.455950735400506|23.843613970636593|\n",
            "|        7| 59.01936554222782|  74.9213020964506| 29.50968277111391| 22.03549284024575|   0| 61.21648821663054|  77.3381370382936| 30.60824410831527|\n",
            "|        7|   55.915609886347| 71.50717087498171|  27.9578049431735|22.001148534909138|   0| 60.87449606628967| 76.96194567291863|30.437248033144837|\n",
            "|        5| 46.07205073003746| 60.67925580304121| 23.03602536501873|22.051606168191565|   0|58.779968490537414| 74.65796533959117|29.389984245268707|\n",
            "|        6| 44.91718665738431|59.408905323122745|22.458593328692157|21.721552537883507|   0| 51.56380405877822| 66.72018446465604| 25.78190202938911|\n",
            "|        4|40.906269523951075| 54.99689647634619|20.453134761975537| 22.30997415753816|   0| 47.24974675305886|61.974721428364745| 23.62487337652943|\n",
            "|        4|  51.8075820660689|  66.9883402726758| 25.90379103303445|22.387061972975808|   0|47.543800644220795| 62.29818070864288|23.771900322110397|\n",
            "+---------+------------------+------------------+------------------+------------------+----+------------------+------------------+------------------+\n",
            "only showing top 20 rows\n",
            "\n"
          ],
          "name": "stdout"
        }
      ]
    },
    {
      "cell_type": "code",
      "metadata": {
        "colab_type": "code",
        "id": "-Vn1-CX5VvEA",
        "colab": {}
      },
      "source": [
        "#drop column not to be used in model\n",
        "db_sp3 = db_sp3.drop('Temp_Ambient')"
      ],
      "execution_count": null,
      "outputs": []
    },
    {
      "cell_type": "code",
      "metadata": {
        "colab_type": "code",
        "id": "Tv06XxbuV0nf",
        "colab": {
          "base_uri": "https://localhost:8080/",
          "height": 495
        },
        "outputId": "f55bc54d-400e-488c-cf2b-6f16a4e891c0"
      },
      "source": [
        "db_sp3.show()"
      ],
      "execution_count": null,
      "outputs": [
        {
          "output_type": "stream",
          "text": [
            "+---------+------------------+------------------+------------------+----+------------------+------------------+------------------+\n",
            "|Device_ID|             Temp1|             Temp2|             Temp3|Time|        mavg_temp1|        mavg_temp2|        mavg_temp3|\n",
            "+---------+------------------+------------------+------------------+----+------------------+------------------+------------------+\n",
            "|        9| 64.74220284307164|  81.2164231273788| 32.37110142153582|   0| 64.74220284307164|  81.2164231273788| 32.37110142153582|\n",
            "|        6|  47.0812397615861| 61.78936373774471| 23.54061988079305|   0|  47.0812397615861| 61.78936373774471| 23.54061988079305|\n",
            "|        9|  50.3997489293796| 65.43972382231756|  25.1998744646898|   0|63.816883235736675| 80.19857155931034|31.908441617868338|\n",
            "|        8|31.294276844775943| 44.42370452925354|15.647138422387972|   0|31.294276844775943| 44.42370452925354|15.647138422387972|\n",
            "|        6| 40.14026721514887|54.154293936663755|20.070133607574434|   0|46.633435081170795|61.296778589287875|23.316717540585397|\n",
            "|        6| 52.19107312867125| 67.41018044153839|26.095536564335625|   0|46.991992374557924| 61.69119161201372|23.495996187278962|\n",
            "|        5| 24.26229597581477| 36.68852557339625|12.131147987907385|   0| 24.26229597581477| 36.68852557339625|12.131147987907385|\n",
            "|        2| 52.49328271038434| 67.74261098142279| 26.24664135519217|   0| 52.49328271038434| 67.74261098142279| 26.24664135519217|\n",
            "|        2| 58.37060515444506| 74.20766566988956| 29.18530257722253|   0|52.872464803549555| 68.15971128390451|26.436232401774777|\n",
            "|        1| 91.62579010342037|110.78836911376241|45.812895051710186|   0| 91.62579010342037|110.78836911376241|45.812895051710186|\n",
            "|        4|24.791508921383603|37.270659813521966|12.395754460691801|   0|24.791508921383603|37.270659813521966|12.395754460691801|\n",
            "|        7| 42.04823035928138| 56.25305339520953| 21.02411517964069|   0| 42.04823035928138| 56.25305339520953| 21.02411517964069|\n",
            "|        6|38.670174019829176|52.537191421812096|19.335087009914588|   0|46.455100867801235|61.100610954581356|23.227550433900618|\n",
            "|        9|56.757652466869004| 72.43341771355591|28.378826233434502|   0|63.361448992583924| 79.69759389184232|31.680724496291962|\n",
            "|        7|49.488081685820745| 64.43688985440282|24.744040842910373|   0| 42.52822076744522| 56.78104284418974| 21.26411038372261|\n",
            "|        8| 29.00499756647716| 41.90549732312488| 14.50249878323858|   0|31.146581407466346|44.261239548212984|15.573290703733173|\n",
            "|        2| 46.30698138792122|60.937679526713346| 23.15349069396061|   0|52.448885228347734|  67.6937737511825|26.224442614173867|\n",
            "|        4| 34.77999929623062| 48.25799922585369| 17.38999964811531|   0|25.435927655244704| 37.97952042076918|12.717963827622352|\n",
            "|        1|102.58317337764404|122.84149071540845| 51.29158668882202|   0|  92.3327180565961|111.56598986225572| 46.16635902829805|\n",
            "|        4|31.652602312732668| 44.81786254400594|15.826301156366334|   0|25.837003439598767| 38.42070378355865|12.918501719799384|\n",
            "+---------+------------------+------------------+------------------+----+------------------+------------------+------------------+\n",
            "only showing top 20 rows\n",
            "\n"
          ],
          "name": "stdout"
        }
      ]
    },
    {
      "cell_type": "code",
      "metadata": {
        "colab_type": "code",
        "id": "zKSaGJZz1Xpt",
        "colab": {
          "base_uri": "https://localhost:8080/",
          "height": 201
        },
        "outputId": "7f99f99b-f22a-4dea-ab4b-8cd34efe15f1"
      },
      "source": [
        "#view datatypes\n",
        "db_sp3.printSchema()"
      ],
      "execution_count": null,
      "outputs": [
        {
          "output_type": "stream",
          "text": [
            "root\n",
            " |-- Device_ID: long (nullable = true)\n",
            " |-- Temp1: double (nullable = true)\n",
            " |-- Temp2: double (nullable = true)\n",
            " |-- Temp3: double (nullable = true)\n",
            " |-- Time: long (nullable = true)\n",
            " |-- mavg_temp1: double (nullable = true)\n",
            " |-- mavg_temp2: double (nullable = true)\n",
            " |-- mavg_temp3: double (nullable = true)\n",
            "\n"
          ],
          "name": "stdout"
        }
      ]
    },
    {
      "cell_type": "code",
      "metadata": {
        "colab_type": "code",
        "id": "5gN6XzB62SOM",
        "colab": {
          "base_uri": "https://localhost:8080/",
          "height": 201
        },
        "outputId": "5a10747b-c183-4999-89ab-d970f1772624"
      },
      "source": [
        "db_sp3.printSchema()"
      ],
      "execution_count": null,
      "outputs": [
        {
          "output_type": "stream",
          "text": [
            "root\n",
            " |-- Device_ID: double (nullable = true)\n",
            " |-- Temp1: double (nullable = true)\n",
            " |-- Temp2: double (nullable = true)\n",
            " |-- Temp3: double (nullable = true)\n",
            " |-- Time: double (nullable = true)\n",
            " |-- mavg_temp1: double (nullable = true)\n",
            " |-- mavg_temp2: double (nullable = true)\n",
            " |-- mavg_temp3: double (nullable = true)\n",
            "\n"
          ],
          "name": "stdout"
        }
      ]
    },
    {
      "cell_type": "code",
      "metadata": {
        "colab_type": "code",
        "id": "EEVrxuGKYQWx",
        "colab": {}
      },
      "source": [
        ""
      ],
      "execution_count": null,
      "outputs": []
    },
    {
      "cell_type": "code",
      "metadata": {
        "colab_type": "code",
        "id": "f7pbd9m_ZTqZ",
        "colab": {}
      },
      "source": [
        "model_data1 = db_sp3.drop('Time')"
      ],
      "execution_count": null,
      "outputs": []
    },
    {
      "cell_type": "code",
      "metadata": {
        "colab_type": "code",
        "id": "GNKlSJxU4DP3",
        "colab": {}
      },
      "source": [
        "# Split the data into training and test sets (30% held out for testing)\n",
        "(trainingData, testData) = model_data1.randomSplit([0.7, 0.3])"
      ],
      "execution_count": null,
      "outputs": []
    },
    {
      "cell_type": "code",
      "metadata": {
        "colab_type": "code",
        "id": "hcnAAVfW_3sR",
        "colab": {
          "base_uri": "https://localhost:8080/",
          "height": 495
        },
        "outputId": "0fc367c8-07e5-41f7-d816-39a947119def"
      },
      "source": [
        "model_data1.show()"
      ],
      "execution_count": null,
      "outputs": [
        {
          "output_type": "stream",
          "text": [
            "+---------+------------------+------------------+------------------+------------------+------------------+------------------+\n",
            "|Device_ID|             Temp1|             Temp2|             Temp3|        mavg_temp1|        mavg_temp2|        mavg_temp3|\n",
            "+---------+------------------+------------------+------------------+------------------+------------------+------------------+\n",
            "|        6|52.001510120600095|  67.2016611326601|26.000755060300047|52.001510120600095|  67.2016611326601|26.000755060300047|\n",
            "|        0| 75.18035735369685| 92.69839308906654|37.590178676848424| 75.18035735369685| 92.69839308906654|37.590178676848424|\n",
            "|        5| 59.92489252755016| 75.91738178030519| 29.96244626377508| 59.92489252755016| 75.91738178030519| 29.96244626377508|\n",
            "|        6|52.322070970747525| 67.55427806782228|26.161035485373763|52.022191465770895|   67.224410612348|26.011095732885448|\n",
            "|        9| 39.43334623201841| 53.37668085522025|19.716673116009204| 39.43334623201841| 53.37668085522025|19.716673116009204|\n",
            "|        1| 90.24443854901166|109.26888240391284| 45.12221927450583| 90.24443854901166|109.26888240391284| 45.12221927450583|\n",
            "|        2|48.508333523529814|  63.3591668758828|24.254166761764907|48.508333523529814|  63.3591668758828|24.254166761764907|\n",
            "|        2|56.037955060510285| 71.64175056656131|28.018977530255142| 48.99411555817372|  63.8935271139911| 24.49705777908686|\n",
            "|        5| 55.76289583576627|  71.3391854193429|27.881447917883136|  59.6563766119512| 75.62201427314633|  29.8281883059756|\n",
            "|        7| 61.36801391831349| 77.50481531014483|30.684006959156743| 61.36801391831349| 77.50481531014483|30.684006959156743|\n",
            "|        1|  91.6652922837348|110.83182151210829|  45.8326461418674| 90.33610653189703|109.36971718508674|45.168053265948515|\n",
            "|        1| 92.73075092308346|112.00382601539182| 46.36537546154173| 90.49059971842519|109.53965969026771|45.245299859212594|\n",
            "|        8| 39.80063201243824| 53.78069521368207| 19.90031600621912| 39.80063201243824| 53.78069521368207| 19.90031600621912|\n",
            "|        4|47.687227941273186|62.455950735400506|23.843613970636593|47.687227941273186|62.455950735400506|23.843613970636593|\n",
            "|        7| 59.01936554222782|  74.9213020964506| 29.50968277111391| 61.21648821663054|  77.3381370382936| 30.60824410831527|\n",
            "|        7|   55.915609886347| 71.50717087498171|  27.9578049431735| 60.87449606628967| 76.96194567291863|30.437248033144837|\n",
            "|        5| 46.07205073003746| 60.67925580304121| 23.03602536501873|58.779968490537414| 74.65796533959117|29.389984245268707|\n",
            "|        6| 44.91718665738431|59.408905323122745|22.458593328692157| 51.56380405877822| 66.72018446465604| 25.78190202938911|\n",
            "|        4|40.906269523951075| 54.99689647634619|20.453134761975537| 47.24974675305886|61.974721428364745| 23.62487337652943|\n",
            "|        4|  51.8075820660689|  66.9883402726758| 25.90379103303445|47.543800644220795| 62.29818070864288|23.771900322110397|\n",
            "+---------+------------------+------------------+------------------+------------------+------------------+------------------+\n",
            "only showing top 20 rows\n",
            "\n"
          ],
          "name": "stdout"
        }
      ]
    },
    {
      "cell_type": "code",
      "metadata": {
        "colab_type": "code",
        "id": "kXVP6P_5YgLh",
        "colab": {}
      },
      "source": [
        ""
      ],
      "execution_count": null,
      "outputs": []
    },
    {
      "cell_type": "code",
      "metadata": {
        "colab_type": "code",
        "id": "6t_FYeDgYQFG",
        "colab": {}
      },
      "source": [
        "#create dataframe for devices 3 and 10\n",
        "db_sp2 = db_sp.filter(db_sp['Temp3'] > 200)"
      ],
      "execution_count": null,
      "outputs": []
    },
    {
      "cell_type": "code",
      "metadata": {
        "colab_type": "code",
        "id": "BYVLNbZKYhZe",
        "colab": {}
      },
      "source": [
        "#make it similar to data used for training and test\n",
        "\n",
        "#drop similar column not to be used \n",
        "db_sp2 = db_sp2.drop('Temp_Ambient')\n",
        "\n",
        "#final dataframe\n",
        "prediction_data = db_sp2.drop('Time')"
      ],
      "execution_count": null,
      "outputs": []
    },
    {
      "cell_type": "code",
      "metadata": {
        "colab_type": "code",
        "id": "zKmRCCyQYhI6",
        "colab": {}
      },
      "source": [
        ""
      ],
      "execution_count": null,
      "outputs": []
    },
    {
      "cell_type": "markdown",
      "metadata": {
        "colab_type": "text",
        "id": "rmme7xGU7WbA"
      },
      "source": [
        "*Models*"
      ]
    },
    {
      "cell_type": "markdown",
      "metadata": {
        "colab_type": "text",
        "id": "tZ83iq0JWiyn"
      },
      "source": [
        "*Initialization*"
      ]
    },
    {
      "cell_type": "code",
      "metadata": {
        "colab_type": "code",
        "id": "pLkHt0z0t9l3",
        "colab": {}
      },
      "source": [
        "from pyspark.ml import Pipeline\n",
        "from pyspark.ml.feature import  OneHotEncoder, VectorAssembler\n",
        "from pyspark.ml.regression import DecisionTreeRegressor\n",
        "from pyspark.ml.regression import GBTRegressor\n",
        "from pyspark.ml.evaluation import RegressionEvaluator\n",
        "from pyspark.ml.feature import StandardScaler"
      ],
      "execution_count": null,
      "outputs": []
    },
    {
      "cell_type": "code",
      "metadata": {
        "colab_type": "code",
        "id": "uRa9urYdMCtj",
        "colab": {}
      },
      "source": [
        "#set input features\n",
        "features = ['Device_ID', 'Temp1', 'Temp2', 'mavg_temp1', 'mavg_temp2', 'mavg_temp3']\n",
        "features2 = ['Device_ID', 'mavg_temp3']\n",
        "features3 = ['Device_ID', 'Temp1', 'mavg_temp1', 'mavg_temp3']\n"
      ],
      "execution_count": null,
      "outputs": []
    },
    {
      "cell_type": "code",
      "metadata": {
        "colab_type": "code",
        "id": "mxhexfUAlhpH",
        "colab": {}
      },
      "source": [
        "# transform categorical variables to index\n",
        "labelEncoder = OneHotEncoder(inputCol='Device_ID', outputCol=\"Device_IDEnc\")"
      ],
      "execution_count": null,
      "outputs": []
    },
    {
      "cell_type": "markdown",
      "metadata": {
        "colab_type": "text",
        "id": "QB5dUCJiVxOM"
      },
      "source": [
        "*Assemblers and Scalers*"
      ]
    },
    {
      "cell_type": "code",
      "metadata": {
        "colab_type": "code",
        "id": "EO1DND5T-IP7",
        "colab": {}
      },
      "source": [
        "#assemble variables to one feature column\n",
        "assembler = VectorAssembler(\n",
        "    inputCols = features,\n",
        "    outputCol = \"unscaled_features\")\n",
        "#vec_data1 = assembler1.fit(trainingData).transform(trainingData).select('Device_ID', 'unscaled_features')\n",
        "\n",
        "#second assembler code using a different set of features\n",
        "assembler2 = VectorAssembler(\n",
        "    inputCols = features2,\n",
        "    outputCol = \"unscaled_features2\")\n",
        "#vec_data2 = assembler2.fit(trainingData).transform(trainingData).select('Device_ID', 'unscaled_features')\n",
        "\n",
        "#third assembler code using a different set of features\n",
        "assembler3 = VectorAssembler(\n",
        "    inputCols = features3,\n",
        "    outputCol = \"unscaled_features3\")\n",
        "#vec_data3 = assembler3.fit(trainingData).transform(trainingData).select('Device_ID', 'unscaled_features')"
      ],
      "execution_count": null,
      "outputs": []
    },
    {
      "cell_type": "code",
      "metadata": {
        "colab_type": "code",
        "id": "WZJ5sBWz-IIn",
        "colab": {}
      },
      "source": [
        "#normalise data\n",
        "\n",
        "scaler1 = StandardScaler(inputCol=\"unscaled_features\", outputCol=\"features\")\n",
        "#scaler1.fit(vec_data1).transform(vec_data1)\n",
        "\n",
        "#second normaliser\n",
        "scaler2 = StandardScaler(inputCol=\"unscaled_features2\", outputCol=\"features2\")\n",
        "#scaler2.fit(vec_data2).transform(vec_data2)\n",
        "\n",
        "#third normaliser\n",
        "scaler3 = StandardScaler(inputCol=\"unscaled_features3\", outputCol=\"features3\")\n",
        "#scaler3.fit(vec_data3).transform(vec_data3)"
      ],
      "execution_count": null,
      "outputs": []
    },
    {
      "cell_type": "markdown",
      "metadata": {
        "colab_type": "text",
        "id": "8PIF4ofsRp33"
      },
      "source": [
        "####Decision Tree Regressors"
      ]
    },
    {
      "cell_type": "markdown",
      "metadata": {
        "colab_type": "text",
        "id": "ew-X_u4MVb1h"
      },
      "source": [
        "#####1"
      ]
    },
    {
      "cell_type": "code",
      "metadata": {
        "colab_type": "code",
        "id": "Gs6oeO40DSId",
        "colab": {}
      },
      "source": [
        "#define the estimator - decision tree\n",
        "dt1 = DecisionTreeRegressor(labelCol=\"Temp3\", featuresCol=\"unscaled_features3\")\n",
        "\n",
        "# Chain indexers and tree in a Pipeline\n",
        "pipeline_dt1 = Pipeline(stages=[labelEncoder, assembler3, dt1])"
      ],
      "execution_count": null,
      "outputs": []
    },
    {
      "cell_type": "code",
      "metadata": {
        "colab_type": "code",
        "id": "S0XL9zg_Dsp5",
        "colab": {}
      },
      "source": [
        "#fit the pipeline\n",
        "dtmodel_1 = pipeline_dt1.fit(trainingData)\n",
        "\n",
        "# transform using the pipeline\n",
        "predictions_dt1 = dtmodel_1.transform(testData)\n",
        "\n",
        "# evaluate model fit\n",
        "predictions_dt1.select(\"prediction\", \"Temp3\")\n",
        "evaluator_dt1 = RegressionEvaluator(\n",
        "    labelCol=\"Temp3\", predictionCol=\"prediction\", metricName=\"rmse\")\n",
        "rmse_dt1 = evaluator_dt1.evaluate(predictions_dt1)"
      ],
      "execution_count": null,
      "outputs": []
    },
    {
      "cell_type": "code",
      "metadata": {
        "colab_type": "code",
        "id": "w-mgkOz8ES26",
        "colab": {
          "base_uri": "https://localhost:8080/",
          "height": 515
        },
        "outputId": "fdaacd94-e3c5-4d3c-ba8d-df47569063e2"
      },
      "source": [
        "predictions_dt1.show()"
      ],
      "execution_count": null,
      "outputs": [
        {
          "output_type": "stream",
          "text": [
            "+---------+------------------+-----------------+------------------+-----------------+-----------------+------------------+-------------+--------------------+-----------------+\n",
            "|Device_ID|             Temp1|            Temp2|             Temp3|       mavg_temp1|       mavg_temp2|        mavg_temp3| Device_IDEnc|  unscaled_features3|       prediction|\n",
            "+---------+------------------+-----------------+------------------+-----------------+-----------------+------------------+-------------+--------------------+-----------------+\n",
            "|        0| 55.64281408874989|71.20709549762488|27.821407044374943|70.37982417927466|87.41780659720214| 35.18991208963733|(9,[0],[1.0])|[0.0,55.642814088...|31.70112275932977|\n",
            "|        0|57.474984658873495|73.22248312476086|28.737492329436748|68.03901595465771|84.84291755012352| 34.01950797732886|(9,[0],[1.0])|[0.0,57.474984658...|31.70112275932977|\n",
            "|        0|58.365092501914376|74.20160175210582|29.182546250957188| 68.8852092158712|85.77373013745832|  34.4426046079356|(9,[0],[1.0])|[0.0,58.365092501...|31.70112275932977|\n",
            "|        0| 58.74347212315965|74.61781933547562|29.371736061579824|68.85011649799903|85.73512814779892| 34.42505824899951|(9,[0],[1.0])|[0.0,58.743472123...|31.70112275932977|\n",
            "|        0| 58.89983038514292|74.78981342365722| 29.44991519257146|67.93870138441224|84.73257152285353| 33.96935069220612|(9,[0],[1.0])|[0.0,58.899830385...|31.70112275932977|\n",
            "|        0|60.513685527054406|76.56505407975985|30.256842763527203|68.99832279742398|85.89815507716642| 34.49916139871199|(9,[0],[1.0])|[0.0,60.513685527...|31.70112275932977|\n",
            "|        0|   60.524086496668| 76.5764951463348|   30.262043248334|69.10060526601904|86.01066579262097| 34.55030263300952|(9,[0],[1.0])|[0.0,60.524086496...|31.70112275932977|\n",
            "|        0|60.765370813010335|76.84190789431138|30.382685406505168|67.95877719563299|84.75465491519631|33.979388597816495|(9,[0],[1.0])|[0.0,60.765370813...|31.70112275932977|\n",
            "|        0| 60.78866513342825|76.86753164677108|30.394332566714127|69.28370496393967|86.21207546033371|34.641852481969835|(9,[0],[1.0])|[0.0,60.788665133...|31.70112275932977|\n",
            "|        0|61.043009012733904| 77.1473099140073|30.521504506366952|68.71584587702738|85.58743046473015| 34.35792293851369|(9,[0],[1.0])|[0.0,61.043009012...|31.70112275932977|\n",
            "|        0| 61.09784806697831|77.20763287367615|30.548924033489154|69.72570991385967|86.69828090524564| 34.86285495692984|(9,[0],[1.0])|[0.0,61.097848066...|31.70112275932977|\n",
            "|        0|61.652665410172354|77.81793195118959|30.826332705086177|69.06048489134662| 85.9665333804813| 34.53024244567331|(9,[0],[1.0])|[0.0,61.652665410...|31.70112275932977|\n",
            "|        0| 61.79671815584322|77.97638997142755| 30.89835907792161|68.59590994166129|85.45550093582744|34.297954970830645|(9,[0],[1.0])|[0.0,61.796718155...|31.70112275932977|\n",
            "|        0|61.875337169272356|78.06287088619959|30.937668584636178|68.19640798819331|85.01604878701268| 34.09820399409666|(9,[0],[1.0])|[0.0,61.875337169...|31.70112275932977|\n",
            "|        0| 62.03799598249506|78.24179558074458| 31.01899799124753|69.38857809108235| 86.3274359001906|34.694289045541176|(9,[0],[1.0])|[0.0,62.037995982...|31.70112275932977|\n",
            "|        0| 62.14633534668727|  78.360968881356|31.073167673343637|69.72125079565237| 86.6933758752176| 34.86062539782618|(9,[0],[1.0])|[0.0,62.146335346...|31.70112275932977|\n",
            "|        0| 62.27199124394247|78.49919036833673|31.135995621971237|69.25049160694373|86.17554076763813| 34.62524580347186|(9,[0],[1.0])|[0.0,62.271991243...|31.70112275932977|\n",
            "|        0|62.395505266420294|78.63505579306234|31.197752633210147|70.99176253675702|88.09093879043272| 35.49588126837851|(9,[0],[1.0])|[0.0,62.395505266...|32.22710739466815|\n",
            "|        0|62.468847100566364|78.71573181062301|31.234423550283182|69.61576937728054|86.57734631500861| 34.80788468864027|(9,[0],[1.0])|[0.0,62.468847100...|31.70112275932977|\n",
            "|        0|62.996351108806955|79.29598621968766|31.498175554403478| 69.8776100076839|86.86537100845227| 34.93880500384195|(9,[0],[1.0])|[0.0,62.996351108...|31.70112275932977|\n",
            "+---------+------------------+-----------------+------------------+-----------------+-----------------+------------------+-------------+--------------------+-----------------+\n",
            "only showing top 20 rows\n",
            "\n"
          ],
          "name": "stdout"
        }
      ]
    },
    {
      "cell_type": "code",
      "metadata": {
        "colab_type": "code",
        "id": "KGPQG-MSEaEL",
        "colab": {
          "base_uri": "https://localhost:8080/",
          "height": 35
        },
        "outputId": "536453fe-b2f3-4124-dabd-663a292bd1bc"
      },
      "source": [
        "##Root mean square error\n",
        "print(rmse_dt1)"
      ],
      "execution_count": null,
      "outputs": [
        {
          "output_type": "stream",
          "text": [
            "0.5314769437752099\n"
          ],
          "name": "stdout"
        }
      ]
    },
    {
      "cell_type": "markdown",
      "metadata": {
        "colab_type": "text",
        "id": "7rBGmoU3VZKF"
      },
      "source": [
        "#####2"
      ]
    },
    {
      "cell_type": "code",
      "metadata": {
        "colab_type": "code",
        "id": "p23n1FxFGZJc",
        "colab": {}
      },
      "source": [
        "#define the estimator - decision tree\n",
        "dt2 = DecisionTreeRegressor(labelCol=\"Temp3\", featuresCol=\"features3\")\n",
        "\n",
        "# Chain indexers and tree in a Pipeline\n",
        "pipeline_dt2 = Pipeline(stages=[labelEncoder, assembler3, scaler3, dt2])"
      ],
      "execution_count": null,
      "outputs": []
    },
    {
      "cell_type": "code",
      "metadata": {
        "colab_type": "code",
        "id": "mkbiMQaAGZpj",
        "colab": {}
      },
      "source": [
        "#fit the pipeline\n",
        "dtmodel_2 = pipeline_dt2.fit(trainingData)\n",
        "\n",
        "# transform using the pipeline\n",
        "predictions_dt2 = dtmodel_2.transform(testData)\n",
        "\n",
        "# evaluate model fit\n",
        "predictions_dt2.select(\"prediction\", \"Temp3\")\n",
        "evaluator_dt2 = RegressionEvaluator(\n",
        "    labelCol=\"Temp3\", predictionCol=\"prediction\", metricName=\"rmse\")\n",
        "rmse_dt2 = evaluator_dt2.evaluate(predictions_dt2)"
      ],
      "execution_count": null,
      "outputs": []
    },
    {
      "cell_type": "code",
      "metadata": {
        "colab_type": "code",
        "id": "CybRNCIgGZi_",
        "colab": {
          "base_uri": "https://localhost:8080/",
          "height": 515
        },
        "outputId": "908d0d2a-5e73-459d-e24b-e7a906d1f6fa"
      },
      "source": [
        "predictions_dt2.show()"
      ],
      "execution_count": null,
      "outputs": [
        {
          "output_type": "stream",
          "text": [
            "+---------+------------------+-----------------+------------------+-----------------+-----------------+------------------+-------------+--------------------+--------------------+-----------------+\n",
            "|Device_ID|             Temp1|            Temp2|             Temp3|       mavg_temp1|       mavg_temp2|        mavg_temp3| Device_IDEnc|  unscaled_features3|           features3|       prediction|\n",
            "+---------+------------------+-----------------+------------------+-----------------+-----------------+------------------+-------------+--------------------+--------------------+-----------------+\n",
            "|        0| 55.64281408874989|71.20709549762488|27.821407044374943|70.37982417927466|87.41780659720214| 35.18991208963733|(9,[0],[1.0])|[0.0,55.642814088...|[0.0,3.0019658801...|31.70112275932977|\n",
            "|        0|57.474984658873495|73.22248312476086|28.737492329436748|68.03901595465771|84.84291755012352| 34.01950797732886|(9,[0],[1.0])|[0.0,57.474984658...|[0.0,3.1008126698...|31.70112275932977|\n",
            "|        0|58.365092501914376|74.20160175210582|29.182546250957188| 68.8852092158712|85.77373013745832|  34.4426046079356|(9,[0],[1.0])|[0.0,58.365092501...|[0.0,3.1488345647...|31.70112275932977|\n",
            "|        0| 58.74347212315965|74.61781933547562|29.371736061579824|68.85011649799903|85.73512814779892| 34.42505824899951|(9,[0],[1.0])|[0.0,58.743472123...|[0.0,3.1692483905...|31.70112275932977|\n",
            "|        0| 58.89983038514292|74.78981342365722| 29.44991519257146|67.93870138441224|84.73257152285353| 33.96935069220612|(9,[0],[1.0])|[0.0,58.899830385...|[0.0,3.1776840201...|31.70112275932977|\n",
            "|        0|60.513685527054406|76.56505407975985|30.256842763527203|68.99832279742398|85.89815507716642| 34.49916139871199|(9,[0],[1.0])|[0.0,60.513685527...|[0.0,3.2647525509...|31.70112275932977|\n",
            "|        0|   60.524086496668| 76.5764951463348|   30.262043248334|69.10060526601904|86.01066579262097| 34.55030263300952|(9,[0],[1.0])|[0.0,60.524086496...|[0.0,3.2653136899...|31.70112275932977|\n",
            "|        0|60.765370813010335|76.84190789431138|30.382685406505168|67.95877719563299|84.75465491519631|33.979388597816495|(9,[0],[1.0])|[0.0,60.765370813...|[0.0,3.2783311352...|31.70112275932977|\n",
            "|        0| 60.78866513342825|76.86753164677108|30.394332566714127|69.28370496393967|86.21207546033371|34.641852481969835|(9,[0],[1.0])|[0.0,60.788665133...|[0.0,3.2795878788...|31.70112275932977|\n",
            "|        0|61.043009012733904| 77.1473099140073|30.521504506366952|68.71584587702738|85.58743046473015| 34.35792293851369|(9,[0],[1.0])|[0.0,61.043009012...|[0.0,3.2933098960...|31.70112275932977|\n",
            "|        0| 61.09784806697831|77.20763287367615|30.548924033489154|69.72570991385967|86.69828090524564| 34.86285495692984|(9,[0],[1.0])|[0.0,61.097848066...|[0.0,3.2962684985...|31.70112275932977|\n",
            "|        0|61.652665410172354|77.81793195118959|30.826332705086177|69.06048489134662| 85.9665333804813| 34.53024244567331|(9,[0],[1.0])|[0.0,61.652665410...|[0.0,3.3262012537...|31.70112275932977|\n",
            "|        0| 61.79671815584322|77.97638997142755| 30.89835907792161|68.59590994166129|85.45550093582744|34.297954970830645|(9,[0],[1.0])|[0.0,61.796718155...|[0.0,3.3339729927...|31.70112275932977|\n",
            "|        0|61.875337169272356|78.06287088619959|30.937668584636178|68.19640798819331|85.01604878701268| 34.09820399409666|(9,[0],[1.0])|[0.0,61.875337169...|[0.0,3.3382145394...|31.70112275932977|\n",
            "|        0| 62.03799598249506|78.24179558074458| 31.01899799124753|69.38857809108235| 86.3274359001906|34.694289045541176|(9,[0],[1.0])|[0.0,62.037995982...|[0.0,3.3469900878...|31.70112275932977|\n",
            "|        0| 62.14633534668727|  78.360968881356|31.073167673343637|69.72125079565237| 86.6933758752176| 34.86062539782618|(9,[0],[1.0])|[0.0,62.146335346...|[0.0,3.3528350667...|31.70112275932977|\n",
            "|        0| 62.27199124394247|78.49919036833673|31.135995621971237|69.25049160694373|86.17554076763813| 34.62524580347186|(9,[0],[1.0])|[0.0,62.271991243...|[0.0,3.3596142838...|31.70112275932977|\n",
            "|        0|62.395505266420294|78.63505579306234|31.197752633210147|70.99176253675702|88.09093879043272| 35.49588126837851|(9,[0],[1.0])|[0.0,62.395505266...|[0.0,3.3662779454...|32.22710739466815|\n",
            "|        0|62.468847100566364|78.71573181062301|31.234423550283182|69.61576937728054|86.57734631500861| 34.80788468864027|(9,[0],[1.0])|[0.0,62.468847100...|[0.0,3.3702347848...|31.70112275932977|\n",
            "|        0|62.996351108806955|79.29598621968766|31.498175554403478| 69.8776100076839|86.86537100845227| 34.93880500384195|(9,[0],[1.0])|[0.0,62.996351108...|[0.0,3.3986939679...|31.70112275932977|\n",
            "+---------+------------------+-----------------+------------------+-----------------+-----------------+------------------+-------------+--------------------+--------------------+-----------------+\n",
            "only showing top 20 rows\n",
            "\n"
          ],
          "name": "stdout"
        }
      ]
    },
    {
      "cell_type": "code",
      "metadata": {
        "colab_type": "code",
        "id": "bx3dscqQGZZN",
        "colab": {
          "base_uri": "https://localhost:8080/",
          "height": 35
        },
        "outputId": "f1912822-78af-4623-c3a0-22af70550bbb"
      },
      "source": [
        "##Root mean square error\n",
        "print(rmse_dt2)"
      ],
      "execution_count": null,
      "outputs": [
        {
          "output_type": "stream",
          "text": [
            "0.5314769437752099\n"
          ],
          "name": "stdout"
        }
      ]
    },
    {
      "cell_type": "code",
      "metadata": {
        "colab_type": "code",
        "id": "7zmJX0KAPCC1",
        "colab": {
          "base_uri": "https://localhost:8080/",
          "height": 35
        },
        "outputId": "f703d398-2d67-4feb-ec67-b167c870d0e3"
      },
      "source": [
        "##R2\n",
        "evaluator_dt2 = RegressionEvaluator(labelCol=\"Temp3\", predictionCol=\"prediction\", metricName=\"r2\")\n",
        "r2_dt2 = evaluator_dt2.evaluate(predictions_dt2)\n",
        "print(r2_dt2)"
      ],
      "execution_count": null,
      "outputs": [
        {
          "output_type": "stream",
          "text": [
            "0.9968562022800941\n"
          ],
          "name": "stdout"
        }
      ]
    },
    {
      "cell_type": "markdown",
      "metadata": {
        "colab_type": "text",
        "id": "JtGADkpQIWBT"
      },
      "source": [
        "Scaling the data did not make any difference on predictions"
      ]
    },
    {
      "cell_type": "markdown",
      "metadata": {
        "colab_type": "text",
        "id": "2lNJXDmpVh84"
      },
      "source": [
        "#####3"
      ]
    },
    {
      "cell_type": "code",
      "metadata": {
        "colab_type": "code",
        "id": "eqLm2guxRvWl",
        "colab": {}
      },
      "source": [
        "# assemble variables to one feature column\n",
        "assembler = VectorAssembler(\n",
        "    inputCols = features,\n",
        "    outputCol = \"unscaled_features\")\n",
        "\n",
        "#define the estimator - decision tree\n",
        "dt3 = DecisionTreeRegressor(labelCol=\"Temp3\", featuresCol=\"unscaled_features\")\n",
        "\n",
        "# Chain indexers and tree in a Pipeline\n",
        "pipeline_dt3 = Pipeline(stages=[labelEncoder, assembler, dt3])"
      ],
      "execution_count": null,
      "outputs": []
    },
    {
      "cell_type": "code",
      "metadata": {
        "colab_type": "code",
        "id": "p7J3eWQ2RvLf",
        "colab": {}
      },
      "source": [
        "#fit the pipeline\n",
        "dtmodel_3 = pipeline_dt3.fit(trainingData)\n",
        "\n",
        "# transform using the pipeline\n",
        "predictions_dt3 = dtmodel_3.transform(testData)\n",
        "\n",
        "# evaluate model fit\n",
        "predictions_dt3.select(\"prediction\", \"Temp3\")\n",
        "evaluator_dt3 = RegressionEvaluator(\n",
        "    labelCol=\"Temp3\", predictionCol=\"prediction\", metricName=\"rmse\")\n",
        "rmse_dt3 = evaluator_dt3.evaluate(predictions_dt3)\n"
      ],
      "execution_count": null,
      "outputs": []
    },
    {
      "cell_type": "code",
      "metadata": {
        "colab_type": "code",
        "id": "Zme9yGJNS7lJ",
        "colab": {
          "base_uri": "https://localhost:8080/",
          "height": 515
        },
        "outputId": "de0f896f-72c7-43b4-8b82-79f727b56b24"
      },
      "source": [
        "predictions_dt3.show()"
      ],
      "execution_count": null,
      "outputs": [
        {
          "output_type": "stream",
          "text": [
            "+---------+------------------+-----------------+------------------+-----------------+-----------------+------------------+-------------+--------------------+-----------------+\n",
            "|Device_ID|             Temp1|            Temp2|             Temp3|       mavg_temp1|       mavg_temp2|        mavg_temp3| Device_IDEnc|   unscaled_features|       prediction|\n",
            "+---------+------------------+-----------------+------------------+-----------------+-----------------+------------------+-------------+--------------------+-----------------+\n",
            "|        0| 55.64281408874989|71.20709549762488|27.821407044374943|70.37982417927466|87.41780659720214| 35.18991208963733|(9,[0],[1.0])|[0.0,55.642814088...|31.70112275932977|\n",
            "|        0|57.474984658873495|73.22248312476086|28.737492329436748|68.03901595465771|84.84291755012352| 34.01950797732886|(9,[0],[1.0])|[0.0,57.474984658...|31.70112275932977|\n",
            "|        0|58.365092501914376|74.20160175210582|29.182546250957188| 68.8852092158712|85.77373013745832|  34.4426046079356|(9,[0],[1.0])|[0.0,58.365092501...|31.70112275932977|\n",
            "|        0| 58.74347212315965|74.61781933547562|29.371736061579824|68.85011649799903|85.73512814779892| 34.42505824899951|(9,[0],[1.0])|[0.0,58.743472123...|31.70112275932977|\n",
            "|        0| 58.89983038514292|74.78981342365722| 29.44991519257146|67.93870138441224|84.73257152285353| 33.96935069220612|(9,[0],[1.0])|[0.0,58.899830385...|31.70112275932977|\n",
            "|        0|60.513685527054406|76.56505407975985|30.256842763527203|68.99832279742398|85.89815507716642| 34.49916139871199|(9,[0],[1.0])|[0.0,60.513685527...|31.70112275932977|\n",
            "|        0|   60.524086496668| 76.5764951463348|   30.262043248334|69.10060526601904|86.01066579262097| 34.55030263300952|(9,[0],[1.0])|[0.0,60.524086496...|31.70112275932977|\n",
            "|        0|60.765370813010335|76.84190789431138|30.382685406505168|67.95877719563299|84.75465491519631|33.979388597816495|(9,[0],[1.0])|[0.0,60.765370813...|31.70112275932977|\n",
            "|        0| 60.78866513342825|76.86753164677108|30.394332566714127|69.28370496393967|86.21207546033371|34.641852481969835|(9,[0],[1.0])|[0.0,60.788665133...|31.70112275932977|\n",
            "|        0|61.043009012733904| 77.1473099140073|30.521504506366952|68.71584587702738|85.58743046473015| 34.35792293851369|(9,[0],[1.0])|[0.0,61.043009012...|31.70112275932977|\n",
            "|        0| 61.09784806697831|77.20763287367615|30.548924033489154|69.72570991385967|86.69828090524564| 34.86285495692984|(9,[0],[1.0])|[0.0,61.097848066...|31.70112275932977|\n",
            "|        0|61.652665410172354|77.81793195118959|30.826332705086177|69.06048489134662| 85.9665333804813| 34.53024244567331|(9,[0],[1.0])|[0.0,61.652665410...|31.70112275932977|\n",
            "|        0| 61.79671815584322|77.97638997142755| 30.89835907792161|68.59590994166129|85.45550093582744|34.297954970830645|(9,[0],[1.0])|[0.0,61.796718155...|31.70112275932977|\n",
            "|        0|61.875337169272356|78.06287088619959|30.937668584636178|68.19640798819331|85.01604878701268| 34.09820399409666|(9,[0],[1.0])|[0.0,61.875337169...|31.70112275932977|\n",
            "|        0| 62.03799598249506|78.24179558074458| 31.01899799124753|69.38857809108235| 86.3274359001906|34.694289045541176|(9,[0],[1.0])|[0.0,62.037995982...|31.70112275932977|\n",
            "|        0| 62.14633534668727|  78.360968881356|31.073167673343637|69.72125079565237| 86.6933758752176| 34.86062539782618|(9,[0],[1.0])|[0.0,62.146335346...|31.70112275932977|\n",
            "|        0| 62.27199124394247|78.49919036833673|31.135995621971237|69.25049160694373|86.17554076763813| 34.62524580347186|(9,[0],[1.0])|[0.0,62.271991243...|31.70112275932977|\n",
            "|        0|62.395505266420294|78.63505579306234|31.197752633210147|70.99176253675702|88.09093879043272| 35.49588126837851|(9,[0],[1.0])|[0.0,62.395505266...|32.22710739466815|\n",
            "|        0|62.468847100566364|78.71573181062301|31.234423550283182|69.61576937728054|86.57734631500861| 34.80788468864027|(9,[0],[1.0])|[0.0,62.468847100...|31.70112275932977|\n",
            "|        0|62.996351108806955|79.29598621968766|31.498175554403478| 69.8776100076839|86.86537100845227| 34.93880500384195|(9,[0],[1.0])|[0.0,62.996351108...|31.70112275932977|\n",
            "+---------+------------------+-----------------+------------------+-----------------+-----------------+------------------+-------------+--------------------+-----------------+\n",
            "only showing top 20 rows\n",
            "\n"
          ],
          "name": "stdout"
        }
      ]
    },
    {
      "cell_type": "code",
      "metadata": {
        "colab_type": "code",
        "id": "hgfkHez8RhB3",
        "colab": {
          "base_uri": "https://localhost:8080/",
          "height": 35
        },
        "outputId": "3cf1226a-71c1-4b15-bc7d-efdad6b46f55"
      },
      "source": [
        "##Root mean square error\n",
        "print(rmse_dt3)"
      ],
      "execution_count": null,
      "outputs": [
        {
          "output_type": "stream",
          "text": [
            "0.5314769437752099\n"
          ],
          "name": "stdout"
        }
      ]
    },
    {
      "cell_type": "code",
      "metadata": {
        "colab_type": "code",
        "id": "yd_tzmWpSK0a",
        "colab": {
          "base_uri": "https://localhost:8080/",
          "height": 35
        },
        "outputId": "cc27b6c6-4a86-4c5e-f1fc-080e6da5ba31"
      },
      "source": [
        "##R2\n",
        "evaluator_dt3 = RegressionEvaluator(labelCol=\"Temp3\", predictionCol=\"prediction\", metricName=\"r2\")\n",
        "r2_dt3 = evaluator_dt3.evaluate(predictions_dt3)\n",
        "print(r2_dt3)"
      ],
      "execution_count": null,
      "outputs": [
        {
          "output_type": "stream",
          "text": [
            "0.9968562022800941\n"
          ],
          "name": "stdout"
        }
      ]
    },
    {
      "cell_type": "markdown",
      "metadata": {
        "colab_type": "text",
        "id": "7mGT74RxXket"
      },
      "source": [
        "Changing the features made no difference"
      ]
    },
    {
      "cell_type": "markdown",
      "metadata": {
        "colab_type": "text",
        "id": "Fqr_oeV9RirH"
      },
      "source": [
        "####Gradient Booster Regressor"
      ]
    },
    {
      "cell_type": "code",
      "metadata": {
        "colab_type": "code",
        "id": "O5rVtfnOIcyE",
        "colab": {}
      },
      "source": [
        "#define the gradient booster tree\n",
        "gbt1 = GBTRegressor(labelCol=\"Temp3\", featuresCol=\"unscaled_features3\", maxIter=100)\n",
        "\n",
        "# Chain indexers and tree in a Pipeline\n",
        "pipeline_gbt1 = Pipeline(stages=[labelEncoder, assembler3, gbt1])"
      ],
      "execution_count": null,
      "outputs": []
    },
    {
      "cell_type": "code",
      "metadata": {
        "colab_type": "code",
        "id": "yTiQwdm_JDcN",
        "colab": {}
      },
      "source": [
        "#fit the pipeline\n",
        "gbtmodel_1 = pipeline_gbt1.fit(trainingData)\n",
        "\n",
        "# transform using the pipeline\n",
        "predictions_gbt1 = gbtmodel_1.transform(testData)\n",
        "\n",
        "# evaluate model fit\n",
        "predictions_gbt1.select(\"prediction\", \"Temp3\")\n",
        "evaluator_gbt1 = RegressionEvaluator(labelCol=\"Temp3\", predictionCol=\"prediction\", metricName=\"rmse\")\n",
        "rmse_gbt1 = evaluator_gbt1.evaluate(predictions_gbt1)"
      ],
      "execution_count": null,
      "outputs": []
    },
    {
      "cell_type": "code",
      "metadata": {
        "colab_type": "code",
        "id": "0JOPrxt1GQr7",
        "colab": {
          "base_uri": "https://localhost:8080/",
          "height": 515
        },
        "outputId": "236f757c-7d07-407d-9ebc-89ccbdd3555e"
      },
      "source": [
        "predictions_gbt1.show()"
      ],
      "execution_count": null,
      "outputs": [
        {
          "output_type": "stream",
          "text": [
            "+---------+------------------+-----------------+------------------+-----------------+-----------------+------------------+-------------+--------------------+------------------+\n",
            "|Device_ID|             Temp1|            Temp2|             Temp3|       mavg_temp1|       mavg_temp2|        mavg_temp3| Device_IDEnc|  unscaled_features3|        prediction|\n",
            "+---------+------------------+-----------------+------------------+-----------------+-----------------+------------------+-------------+--------------------+------------------+\n",
            "|        0| 55.64281408874989|71.20709549762488|27.821407044374943|70.37982417927466|87.41780659720214| 35.18991208963733|(9,[0],[1.0])|[0.0,55.642814088...| 23.83841607455027|\n",
            "|        0|57.474984658873495|73.22248312476086|28.737492329436748|68.03901595465771|84.84291755012352| 34.01950797732886|(9,[0],[1.0])|[0.0,57.474984658...|30.461508396868865|\n",
            "|        0|58.365092501914376|74.20160175210582|29.182546250957188| 68.8852092158712|85.77373013745832|  34.4426046079356|(9,[0],[1.0])|[0.0,58.365092501...| 30.31056114212159|\n",
            "|        0| 58.74347212315965|74.61781933547562|29.371736061579824|68.85011649799903|85.73512814779892| 34.42505824899951|(9,[0],[1.0])|[0.0,58.743472123...|30.820590445241315|\n",
            "|        0| 58.89983038514292|74.78981342365722| 29.44991519257146|67.93870138441224|84.73257152285353| 33.96935069220612|(9,[0],[1.0])|[0.0,58.899830385...|31.454099452469436|\n",
            "|        0|60.513685527054406|76.56505407975985|30.256842763527203|68.99832279742398|85.89815507716642| 34.49916139871199|(9,[0],[1.0])|[0.0,60.513685527...| 31.40413697087344|\n",
            "|        0|   60.524086496668| 76.5764951463348|   30.262043248334|69.10060526601904|86.01066579262097| 34.55030263300952|(9,[0],[1.0])|[0.0,60.524086496...| 31.40413697087344|\n",
            "|        0|60.765370813010335|76.84190789431138|30.382685406505168|67.95877719563299|84.75465491519631|33.979388597816495|(9,[0],[1.0])|[0.0,60.765370813...|31.753306354237978|\n",
            "|        0| 60.78866513342825|76.86753164677108|30.394332566714127|69.28370496393967|86.21207546033371|34.641852481969835|(9,[0],[1.0])|[0.0,60.788665133...|31.753306354237978|\n",
            "|        0|61.043009012733904| 77.1473099140073|30.521504506366952|68.71584587702738|85.58743046473015| 34.35792293851369|(9,[0],[1.0])|[0.0,61.043009012...|31.753306354237978|\n",
            "|        0| 61.09784806697831|77.20763287367615|30.548924033489154|69.72570991385967|86.69828090524564| 34.86285495692984|(9,[0],[1.0])|[0.0,61.097848066...| 31.84892216342965|\n",
            "|        0|61.652665410172354|77.81793195118959|30.826332705086177|69.06048489134662| 85.9665333804813| 34.53024244567331|(9,[0],[1.0])|[0.0,61.652665410...|31.753306354237978|\n",
            "|        0| 61.79671815584322|77.97638997142755| 30.89835907792161|68.59590994166129|85.45550093582744|34.297954970830645|(9,[0],[1.0])|[0.0,61.796718155...|31.753306354237978|\n",
            "|        0|61.875337169272356|78.06287088619959|30.937668584636178|68.19640798819331|85.01604878701268| 34.09820399409666|(9,[0],[1.0])|[0.0,61.875337169...|31.753306354237978|\n",
            "|        0| 62.03799598249506|78.24179558074458| 31.01899799124753|69.38857809108235| 86.3274359001906|34.694289045541176|(9,[0],[1.0])|[0.0,62.037995982...|31.753306354237978|\n",
            "|        0| 62.14633534668727|  78.360968881356|31.073167673343637|69.72125079565237| 86.6933758752176| 34.86062539782618|(9,[0],[1.0])|[0.0,62.146335346...| 31.84892216342965|\n",
            "|        0| 62.27199124394247|78.49919036833673|31.135995621971237|69.25049160694373|86.17554076763813| 34.62524580347186|(9,[0],[1.0])|[0.0,62.271991243...|31.753306354237978|\n",
            "|        0|62.395505266420294|78.63505579306234|31.197752633210147|70.99176253675702|88.09093879043272| 35.49588126837851|(9,[0],[1.0])|[0.0,62.395505266...| 32.27607156145683|\n",
            "|        0|62.468847100566364|78.71573181062301|31.234423550283182|69.61576937728054|86.57734631500861| 34.80788468864027|(9,[0],[1.0])|[0.0,62.468847100...| 31.84892216342965|\n",
            "|        0|62.996351108806955|79.29598621968766|31.498175554403478| 69.8776100076839|86.86537100845227| 34.93880500384195|(9,[0],[1.0])|[0.0,62.996351108...| 31.84892216342965|\n",
            "+---------+------------------+-----------------+------------------+-----------------+-----------------+------------------+-------------+--------------------+------------------+\n",
            "only showing top 20 rows\n",
            "\n"
          ],
          "name": "stdout"
        }
      ]
    },
    {
      "cell_type": "code",
      "metadata": {
        "colab_type": "code",
        "id": "pxgLbilYN2ph",
        "colab": {
          "base_uri": "https://localhost:8080/",
          "height": 35
        },
        "outputId": "4f920ad4-f582-4283-f671-524cdb157004"
      },
      "source": [
        "##Root mean square error\n",
        "print(rmse_gbt1)"
      ],
      "execution_count": null,
      "outputs": [
        {
          "output_type": "stream",
          "text": [
            "0.44883319014338785\n"
          ],
          "name": "stdout"
        }
      ]
    },
    {
      "cell_type": "code",
      "metadata": {
        "colab_type": "code",
        "id": "_B6KvvBMOqNe",
        "colab": {}
      },
      "source": [
        "evaluator_gbt1 = RegressionEvaluator(labelCol=\"Temp3\", predictionCol=\"prediction\", metricName=\"r2\")\n",
        "r2_gbt1 = evaluator_gbt1.evaluate(predictions_gbt1)"
      ],
      "execution_count": null,
      "outputs": []
    },
    {
      "cell_type": "code",
      "metadata": {
        "colab_type": "code",
        "id": "Xh3CljJPOwcT",
        "colab": {
          "base_uri": "https://localhost:8080/",
          "height": 35
        },
        "outputId": "6aaff197-10a4-4bf5-9e2f-884352907c56"
      },
      "source": [
        "print(r2_gbt1)"
      ],
      "execution_count": null,
      "outputs": [
        {
          "output_type": "stream",
          "text": [
            "0.9977578964532984\n"
          ],
          "name": "stdout"
        }
      ]
    },
    {
      "cell_type": "markdown",
      "metadata": {
        "colab_type": "text",
        "id": "erajCrH9SdPy"
      },
      "source": [
        "####*Now Predict the third sensor temperature for devices 3 and 10*"
      ]
    },
    {
      "cell_type": "markdown",
      "metadata": {
        "colab_type": "text",
        "id": "5wJ2B9TNW4n4"
      },
      "source": [
        "####Final Models"
      ]
    },
    {
      "cell_type": "markdown",
      "metadata": {
        "colab_type": "text",
        "id": "kFKZ0k7fXZsk"
      },
      "source": [
        "*Decision Tree*"
      ]
    },
    {
      "cell_type": "code",
      "metadata": {
        "colab_type": "code",
        "id": "7hdgk8SkW3cu",
        "colab": {
          "base_uri": "https://localhost:8080/",
          "height": 515
        },
        "outputId": "df232a63-1a80-4261-e983-db900c1e4819"
      },
      "source": [
        "#fit the pipeline\n",
        "dtmodel_final = pipeline_dt1.fit(model_data1)\n",
        "\n",
        "# transform using the pipeline\n",
        "otherdevices_dtfinal = dtmodel_final.transform(model_data1)\n",
        "predictions_dtfinal = dtmodel_final.transform(prediction_data)\n",
        "\n",
        "# evaluate model fit\n",
        "predictions_dtfinal.show()\n"
      ],
      "execution_count": null,
      "outputs": [
        {
          "output_type": "stream",
          "text": [
            "+---------+------------------+------------------+------------------+------------------+------------------+------------------+--------------+--------------------+------------------+\n",
            "|Device_ID|             Temp1|             Temp2|             Temp3|        mavg_temp1|        mavg_temp2|        mavg_temp3|  Device_IDEnc|  unscaled_features3|        prediction|\n",
            "+---------+------------------+------------------+------------------+------------------+------------------+------------------+--------------+--------------------+------------------+\n",
            "|       10|36.577684423029886| 50.23545286533288|218.28884221151495|36.577684423029886| 50.23545286533288|218.28884221151495|    (10,[],[])|[10.0,36.57768442...|18.322651575850614|\n",
            "|       10| 34.89054509036747|48.379599599404216|217.44527254518374| 36.46883672414844| 50.11572039656329|218.23441836207422|    (10,[],[])|[10.0,34.89054509...|17.346205697116147|\n",
            "|       10|43.747679810396576| 58.12244779143624|221.87383990519828| 36.93843950390638| 50.63228345429703| 218.4692197519532|    (10,[],[])|[10.0,43.74767981...|22.308961514250882|\n",
            "|       10|38.666250975868316| 52.53287607345515|219.33312548793415|  37.0499112117749|  50.7549023329524|218.52495560588747|    (10,[],[])|[10.0,38.66625097...|19.365593896098815|\n",
            "|       10| 41.55720100378865| 55.71292110416752|220.77860050189432| 37.34070410158224| 51.07477451174047|218.67035205079114|    (10,[],[])|[10.0,41.55720100...|  20.3902219094732|\n",
            "|        3|40.984833464493335| 55.08331681094267|220.49241673224668|40.984833464493335| 55.08331681094267|220.49241673224668|(10,[3],[1.0])|[3.0,40.984833464...|  20.3902219094732|\n",
            "|       10| 36.36318428003857| 49.99950270804243| 218.1815921400193|37.277638306643944|51.005402137308344|  218.638819153322|    (10,[],[])|[10.0,36.36318428...|18.322651575850614|\n",
            "|       10| 40.22608768946684| 54.24869645841353|220.11304384473343| 37.46786084747123| 51.21464693221836|218.73393042373567|    (10,[],[])|[10.0,40.22608768...|  20.3902219094732|\n",
            "|       10|34.232216872054515| 47.65543855925997|217.11610843602725|37.259109623250794| 50.98502058557588|218.62955481162547|    (10,[],[])|[10.0,34.23221687...|17.346205697116147|\n",
            "|       10|  41.3487363295107| 55.48360996246178|220.67436816475535| 37.52295650752563|  51.2752521582782| 218.7614782537629|    (10,[],[])|[10.0,41.34873632...|  20.3902219094732|\n",
            "|        3| 37.08940151936364| 50.79834167130001|218.54470075968183| 40.73351527448497| 54.80686680193347| 220.3667576372425|(10,[3],[1.0])|[3.0,37.089401519...|18.322651575850614|\n",
            "|        3| 42.20132958321572|56.421462541537295|221.10066479160787| 40.82821297182244| 54.91103426900469|220.41410648591125|(10,[3],[1.0])|[3.0,42.201329583...| 21.35798851175285|\n",
            "|       10| 38.95385940854122|52.849245349395346|219.47692970427062| 37.61527282372018| 51.37680010609221| 218.8076364118602|    (10,[],[])|[10.0,38.95385940...|19.365593896098815|\n",
            "|       10| 40.99501949336449| 55.09452144270094|220.49750974668225|  37.8333209959553|51.616653095550845|218.91666049797774|    (10,[],[])|[10.0,40.99501949...|  20.3902219094732|\n",
            "|       10| 47.75013012400416| 62.52514313640458|223.87506506200208|38.473115133248776| 52.32042664657367|219.23655756662447|    (10,[],[])|[10.0,47.75013012...| 24.61119280830527|\n",
            "|       10|49.200824898582326| 64.12090738844057|224.60041244929116| 39.16522544068965|53.081747984758636| 219.5826127203449|    (10,[],[])|[10.0,49.20082489...| 24.61119280830527|\n",
            "|        3| 50.78137388273164|  65.8595112710048|225.39068694136583| 41.47035238542949| 55.61738762397244| 220.7351761927148|(10,[3],[1.0])|[3.0,50.781373882...| 24.61119280830527|\n",
            "|       10|54.998332802080306| 70.49816608228835|227.49916640104016|40.186716238198734| 54.20538786201862|220.09335811909946|    (10,[],[])|[10.0,54.99833280...|26.384266949566747|\n",
            "|       10| 41.05403382270089| 55.15943720497098|220.52701691135044|40.242672211392424| 54.26693943253168|220.12133610569632|    (10,[],[])|[10.0,41.05403382...|  20.3902219094732|\n",
            "|        3| 40.22388849163851|54.246277340802365|220.11194424581925| 41.38993536002362| 55.52892889602599|220.69496768001187|(10,[3],[1.0])|[3.0,40.223888491...|  20.3902219094732|\n",
            "+---------+------------------+------------------+------------------+------------------+------------------+------------------+--------------+--------------------+------------------+\n",
            "only showing top 20 rows\n",
            "\n"
          ],
          "name": "stdout"
        }
      ]
    },
    {
      "cell_type": "code",
      "metadata": {
        "colab_type": "code",
        "id": "h14pnjD2aUsg",
        "colab": {}
      },
      "source": [
        "#convert new dataframes to pandas\n",
        "faulty_pandas = predictions_dtfinal.toPandas()\n",
        "good_pandas = otherdevices_dtfinal.toPandas()"
      ],
      "execution_count": null,
      "outputs": []
    },
    {
      "cell_type": "code",
      "metadata": {
        "colab_type": "code",
        "id": "7rpse3w4el0N",
        "colab": {
          "base_uri": "https://localhost:8080/",
          "height": 147
        },
        "outputId": "fb7dbf8f-393b-45c8-8f32-59d441ce3fa1"
      },
      "source": [
        "faulty_pandas.head(2)"
      ],
      "execution_count": null,
      "outputs": [
        {
          "output_type": "execute_result",
          "data": {
            "text/html": [
              "<div>\n",
              "<style scoped>\n",
              "    .dataframe tbody tr th:only-of-type {\n",
              "        vertical-align: middle;\n",
              "    }\n",
              "\n",
              "    .dataframe tbody tr th {\n",
              "        vertical-align: top;\n",
              "    }\n",
              "\n",
              "    .dataframe thead th {\n",
              "        text-align: right;\n",
              "    }\n",
              "</style>\n",
              "<table border=\"1\" class=\"dataframe\">\n",
              "  <thead>\n",
              "    <tr style=\"text-align: right;\">\n",
              "      <th></th>\n",
              "      <th>Device_ID</th>\n",
              "      <th>Temp1</th>\n",
              "      <th>Temp2</th>\n",
              "      <th>Temp3</th>\n",
              "      <th>mavg_temp1</th>\n",
              "      <th>mavg_temp2</th>\n",
              "      <th>mavg_temp3</th>\n",
              "      <th>Device_IDEnc</th>\n",
              "      <th>unscaled_features3</th>\n",
              "      <th>prediction</th>\n",
              "    </tr>\n",
              "  </thead>\n",
              "  <tbody>\n",
              "    <tr>\n",
              "      <th>0</th>\n",
              "      <td>10</td>\n",
              "      <td>36.577684</td>\n",
              "      <td>50.235453</td>\n",
              "      <td>218.288842</td>\n",
              "      <td>36.577684</td>\n",
              "      <td>50.235453</td>\n",
              "      <td>218.288842</td>\n",
              "      <td>(0.0, 0.0, 0.0, 0.0, 0.0, 0.0, 0.0, 0.0, 0.0, ...</td>\n",
              "      <td>[10.0, 36.577684423029886, 36.577684423029886,...</td>\n",
              "      <td>18.322652</td>\n",
              "    </tr>\n",
              "    <tr>\n",
              "      <th>1</th>\n",
              "      <td>10</td>\n",
              "      <td>34.890545</td>\n",
              "      <td>48.379600</td>\n",
              "      <td>217.445273</td>\n",
              "      <td>36.468837</td>\n",
              "      <td>50.115720</td>\n",
              "      <td>218.234418</td>\n",
              "      <td>(0.0, 0.0, 0.0, 0.0, 0.0, 0.0, 0.0, 0.0, 0.0, ...</td>\n",
              "      <td>[10.0, 34.89054509036747, 36.46883672414844, 2...</td>\n",
              "      <td>17.346206</td>\n",
              "    </tr>\n",
              "  </tbody>\n",
              "</table>\n",
              "</div>"
            ],
            "text/plain": [
              "   Device_ID  ...  prediction\n",
              "0         10  ...   18.322652\n",
              "1         10  ...   17.346206\n",
              "\n",
              "[2 rows x 10 columns]"
            ]
          },
          "metadata": {
            "tags": []
          },
          "execution_count": 85
        }
      ]
    },
    {
      "cell_type": "code",
      "metadata": {
        "colab_type": "code",
        "id": "0TJ6oJwGemLo",
        "colab": {
          "base_uri": "https://localhost:8080/",
          "height": 147
        },
        "outputId": "9313b1f6-3dcb-4faa-ff4c-d9334049c9e0"
      },
      "source": [
        "good_pandas.head(2)"
      ],
      "execution_count": null,
      "outputs": [
        {
          "output_type": "execute_result",
          "data": {
            "text/html": [
              "<div>\n",
              "<style scoped>\n",
              "    .dataframe tbody tr th:only-of-type {\n",
              "        vertical-align: middle;\n",
              "    }\n",
              "\n",
              "    .dataframe tbody tr th {\n",
              "        vertical-align: top;\n",
              "    }\n",
              "\n",
              "    .dataframe thead th {\n",
              "        text-align: right;\n",
              "    }\n",
              "</style>\n",
              "<table border=\"1\" class=\"dataframe\">\n",
              "  <thead>\n",
              "    <tr style=\"text-align: right;\">\n",
              "      <th></th>\n",
              "      <th>Device_ID</th>\n",
              "      <th>Temp1</th>\n",
              "      <th>Temp2</th>\n",
              "      <th>Temp3</th>\n",
              "      <th>mavg_temp1</th>\n",
              "      <th>mavg_temp2</th>\n",
              "      <th>mavg_temp3</th>\n",
              "      <th>Device_IDEnc</th>\n",
              "      <th>unscaled_features3</th>\n",
              "      <th>prediction</th>\n",
              "    </tr>\n",
              "  </thead>\n",
              "  <tbody>\n",
              "    <tr>\n",
              "      <th>0</th>\n",
              "      <td>2</td>\n",
              "      <td>27.059374</td>\n",
              "      <td>39.765311</td>\n",
              "      <td>13.529687</td>\n",
              "      <td>27.059374</td>\n",
              "      <td>39.765311</td>\n",
              "      <td>13.529687</td>\n",
              "      <td>(0.0, 0.0, 1.0, 0.0, 0.0, 0.0, 0.0, 0.0, 0.0)</td>\n",
              "      <td>[2.0, 27.059373673893827, 27.059373673893827, ...</td>\n",
              "      <td>13.681201</td>\n",
              "    </tr>\n",
              "    <tr>\n",
              "      <th>1</th>\n",
              "      <td>9</td>\n",
              "      <td>45.953795</td>\n",
              "      <td>60.549174</td>\n",
              "      <td>22.976897</td>\n",
              "      <td>45.953795</td>\n",
              "      <td>60.549174</td>\n",
              "      <td>22.976897</td>\n",
              "      <td>(0.0, 0.0, 0.0, 0.0, 0.0, 0.0, 0.0, 0.0, 0.0)</td>\n",
              "      <td>[9.0, 45.95379470154031, 45.95379470154031, 22...</td>\n",
              "      <td>23.304822</td>\n",
              "    </tr>\n",
              "  </tbody>\n",
              "</table>\n",
              "</div>"
            ],
            "text/plain": [
              "   Device_ID  ...  prediction\n",
              "0          2  ...   13.681201\n",
              "1          9  ...   23.304822\n",
              "\n",
              "[2 rows x 10 columns]"
            ]
          },
          "metadata": {
            "tags": []
          },
          "execution_count": 86
        }
      ]
    },
    {
      "cell_type": "code",
      "metadata": {
        "colab_type": "code",
        "id": "H4bhB4eqW3V1",
        "colab": {
          "base_uri": "https://localhost:8080/",
          "height": 147
        },
        "outputId": "5564caf9-424f-4484-e15b-a5a583bad6bc"
      },
      "source": [
        "#combine above 2 dataframes\n",
        "dtfinal = pd.concat([good_pandas, faulty_pandas])\n",
        "\n",
        "#view new dataframe\n",
        "dtfinal.head(2)"
      ],
      "execution_count": null,
      "outputs": [
        {
          "output_type": "execute_result",
          "data": {
            "text/html": [
              "<div>\n",
              "<style scoped>\n",
              "    .dataframe tbody tr th:only-of-type {\n",
              "        vertical-align: middle;\n",
              "    }\n",
              "\n",
              "    .dataframe tbody tr th {\n",
              "        vertical-align: top;\n",
              "    }\n",
              "\n",
              "    .dataframe thead th {\n",
              "        text-align: right;\n",
              "    }\n",
              "</style>\n",
              "<table border=\"1\" class=\"dataframe\">\n",
              "  <thead>\n",
              "    <tr style=\"text-align: right;\">\n",
              "      <th></th>\n",
              "      <th>Device_ID</th>\n",
              "      <th>Temp1</th>\n",
              "      <th>Temp2</th>\n",
              "      <th>Temp3</th>\n",
              "      <th>mavg_temp1</th>\n",
              "      <th>mavg_temp2</th>\n",
              "      <th>mavg_temp3</th>\n",
              "      <th>Device_IDEnc</th>\n",
              "      <th>unscaled_features3</th>\n",
              "      <th>prediction</th>\n",
              "    </tr>\n",
              "  </thead>\n",
              "  <tbody>\n",
              "    <tr>\n",
              "      <th>0</th>\n",
              "      <td>2</td>\n",
              "      <td>27.059374</td>\n",
              "      <td>39.765311</td>\n",
              "      <td>13.529687</td>\n",
              "      <td>27.059374</td>\n",
              "      <td>39.765311</td>\n",
              "      <td>13.529687</td>\n",
              "      <td>(0.0, 0.0, 1.0, 0.0, 0.0, 0.0, 0.0, 0.0, 0.0)</td>\n",
              "      <td>[2.0, 27.059373673893827, 27.059373673893827, ...</td>\n",
              "      <td>13.681201</td>\n",
              "    </tr>\n",
              "    <tr>\n",
              "      <th>1</th>\n",
              "      <td>9</td>\n",
              "      <td>45.953795</td>\n",
              "      <td>60.549174</td>\n",
              "      <td>22.976897</td>\n",
              "      <td>45.953795</td>\n",
              "      <td>60.549174</td>\n",
              "      <td>22.976897</td>\n",
              "      <td>(0.0, 0.0, 0.0, 0.0, 0.0, 0.0, 0.0, 0.0, 0.0)</td>\n",
              "      <td>[9.0, 45.95379470154031, 45.95379470154031, 22...</td>\n",
              "      <td>23.304822</td>\n",
              "    </tr>\n",
              "  </tbody>\n",
              "</table>\n",
              "</div>"
            ],
            "text/plain": [
              "   Device_ID  ...  prediction\n",
              "0          2  ...   13.681201\n",
              "1          9  ...   23.304822\n",
              "\n",
              "[2 rows x 10 columns]"
            ]
          },
          "metadata": {
            "tags": []
          },
          "execution_count": 87
        }
      ]
    },
    {
      "cell_type": "code",
      "metadata": {
        "colab_type": "code",
        "id": "1adkImiZnuAM",
        "colab": {
          "base_uri": "https://localhost:8080/",
          "height": 293
        },
        "outputId": "be942445-ee26-4f46-d860-b7c22e95725c"
      },
      "source": [
        "#confirm concantenation\n",
        "dtfinal.info()"
      ],
      "execution_count": null,
      "outputs": [
        {
          "output_type": "stream",
          "text": [
            "<class 'pandas.core.frame.DataFrame'>\n",
            "Int64Index: 20000 entries, 0 to 3647\n",
            "Data columns (total 10 columns):\n",
            "Device_ID             20000 non-null int64\n",
            "Temp1                 20000 non-null float64\n",
            "Temp2                 20000 non-null float64\n",
            "Temp3                 20000 non-null float64\n",
            "mavg_temp1            20000 non-null float64\n",
            "mavg_temp2            20000 non-null float64\n",
            "mavg_temp3            20000 non-null float64\n",
            "Device_IDEnc          20000 non-null object\n",
            "unscaled_features3    20000 non-null object\n",
            "prediction            20000 non-null float64\n",
            "dtypes: float64(7), int64(1), object(2)\n",
            "memory usage: 1.7+ MB\n"
          ],
          "name": "stdout"
        }
      ]
    },
    {
      "cell_type": "markdown",
      "metadata": {
        "colab_type": "text",
        "id": "9TM__xqan4_w"
      },
      "source": [
        "20,000 rows. Complete"
      ]
    },
    {
      "cell_type": "code",
      "metadata": {
        "colab_type": "code",
        "id": "67tKE1Fbdgao",
        "colab": {}
      },
      "source": [
        "#reset index if necessary\n",
        "#dtfinal = dtfinal.reset_index(drop=True)"
      ],
      "execution_count": null,
      "outputs": []
    },
    {
      "cell_type": "code",
      "metadata": {
        "colab_type": "code",
        "id": "g31T-9D_hsX_",
        "colab": {}
      },
      "source": [
        "dtspare = dtfinal.copy() #make a copy of the dataframe for a failsafe"
      ],
      "execution_count": null,
      "outputs": []
    },
    {
      "cell_type": "code",
      "metadata": {
        "colab_type": "code",
        "id": "BtZljUSvjEBi",
        "colab": {
          "base_uri": "https://localhost:8080/",
          "height": 109
        },
        "outputId": "738ac524-38dc-4ddd-be35-d10e233917af"
      },
      "source": [
        "dtspare.Temp3[dtspare.Temp3 > 200] = dtspare.prediction"
      ],
      "execution_count": null,
      "outputs": [
        {
          "output_type": "stream",
          "text": [
            "/usr/local/lib/python3.6/dist-packages/ipykernel_launcher.py:1: SettingWithCopyWarning: \n",
            "A value is trying to be set on a copy of a slice from a DataFrame\n",
            "\n",
            "See the caveats in the documentation: http://pandas.pydata.org/pandas-docs/stable/indexing.html#indexing-view-versus-copy\n",
            "  \"\"\"Entry point for launching an IPython kernel.\n"
          ],
          "name": "stderr"
        }
      ]
    },
    {
      "cell_type": "code",
      "metadata": {
        "colab_type": "code",
        "id": "N9RUGAq4kNJ5",
        "colab": {}
      },
      "source": [
        "import numpy as np\n",
        "dtspare['Temp3'] = np.where((dtspare['Temp3'] > 200), #For rows with Temp3 > 200\n",
        "                           dtspare['prediction'],      #place prediction values\n",
        "                           dtspare['Temp3'])      #In sensor 3 column"
      ],
      "execution_count": null,
      "outputs": []
    },
    {
      "cell_type": "code",
      "metadata": {
        "colab_type": "code",
        "id": "kyHFese2oR3k",
        "colab": {
          "base_uri": "https://localhost:8080/",
          "height": 219
        },
        "outputId": "38518601-f33d-4b08-dc81-77cdf8f4bd61"
      },
      "source": [
        "#confirm updates\n",
        "dtspare.loc[dtspare['Temp3'] > 200].count()"
      ],
      "execution_count": null,
      "outputs": [
        {
          "output_type": "execute_result",
          "data": {
            "text/plain": [
              "Device_ID             0\n",
              "Temp1                 0\n",
              "Temp2                 0\n",
              "Temp3                 0\n",
              "mavg_temp1            0\n",
              "mavg_temp2            0\n",
              "mavg_temp3            0\n",
              "Device_IDEnc          0\n",
              "unscaled_features3    0\n",
              "prediction            0\n",
              "dtype: int64"
            ]
          },
          "metadata": {
            "tags": []
          },
          "execution_count": 118
        }
      ]
    },
    {
      "cell_type": "code",
      "metadata": {
        "colab_type": "code",
        "id": "twdvuRVGoeix",
        "colab": {
          "base_uri": "https://localhost:8080/",
          "height": 219
        },
        "outputId": "f22bab65-55b1-46d0-a08d-4bf4e35391c7"
      },
      "source": [
        "#confirm updates\n",
        "dtspare.loc[dtspare['Temp3'] < 200].count()"
      ],
      "execution_count": null,
      "outputs": [
        {
          "output_type": "execute_result",
          "data": {
            "text/plain": [
              "Device_ID             20000\n",
              "Temp1                 20000\n",
              "Temp2                 20000\n",
              "Temp3                 20000\n",
              "mavg_temp1            20000\n",
              "mavg_temp2            20000\n",
              "mavg_temp3            20000\n",
              "Device_IDEnc          20000\n",
              "unscaled_features3    20000\n",
              "prediction            20000\n",
              "dtype: int64"
            ]
          },
          "metadata": {
            "tags": []
          },
          "execution_count": 119
        }
      ]
    },
    {
      "cell_type": "markdown",
      "metadata": {
        "colab_type": "text",
        "id": "ChYCjWQ7o7eS"
      },
      "source": [
        "*is replacing Temp3 by the model a good idea?*"
      ]
    },
    {
      "cell_type": "code",
      "metadata": {
        "colab_type": "code",
        "id": "6o7It9zvowxq",
        "colab": {
          "base_uri": "https://localhost:8080/",
          "height": 182
        },
        "outputId": "3eee3da6-e489-48ac-9076-dfb8474f8de0"
      },
      "source": [
        "dtspare['Temp3'].describe()"
      ],
      "execution_count": null,
      "outputs": [
        {
          "output_type": "execute_result",
          "data": {
            "text/plain": [
              "count    20000.000000\n",
              "mean        22.445910\n",
              "std          8.556642\n",
              "min          2.558100\n",
              "25%         17.136976\n",
              "50%         20.728242\n",
              "75%         24.587967\n",
              "max         51.918553\n",
              "Name: Temp3, dtype: float64"
            ]
          },
          "metadata": {
            "tags": []
          },
          "execution_count": 123
        }
      ]
    },
    {
      "cell_type": "code",
      "metadata": {
        "colab_type": "code",
        "id": "ynAIg1CspAdG",
        "colab": {
          "base_uri": "https://localhost:8080/",
          "height": 182
        },
        "outputId": "e4e444c2-0f76-418a-830c-169a58dedb47"
      },
      "source": [
        "db['Temp3'].describe()"
      ],
      "execution_count": null,
      "outputs": [
        {
          "output_type": "execute_result",
          "data": {
            "text/plain": [
              "count    20000.000000\n",
              "mean        58.925914\n",
              "std         76.791294\n",
              "min          2.558100\n",
              "25%         17.532677\n",
              "50%         22.629541\n",
              "75%         39.617979\n",
              "max        229.463216\n",
              "Name: Temp3, dtype: float64"
            ]
          },
          "metadata": {
            "tags": []
          },
          "execution_count": 124
        }
      ]
    },
    {
      "cell_type": "markdown",
      "metadata": {
        "colab_type": "text",
        "id": "j1kGMlpKpO4R"
      },
      "source": [
        "Comparing the Summary statistics of the third sensor frm the two dataframes, and seeing that the median did not change much, and the 25% quantile is within good range, I think it s an acceptable move."
      ]
    },
    {
      "cell_type": "code",
      "metadata": {
        "colab_type": "code",
        "id": "E7KAhW3_p6xW",
        "colab": {
          "base_uri": "https://localhost:8080/",
          "height": 237
        },
        "outputId": "bf3dd998-2773-449e-9ed4-6b9428366ad7"
      },
      "source": [
        "#remove columns created during modelling\n",
        "newdt = dtspare.iloc[:, 0:7]\n",
        "newdt.info()"
      ],
      "execution_count": null,
      "outputs": [
        {
          "output_type": "stream",
          "text": [
            "<class 'pandas.core.frame.DataFrame'>\n",
            "Int64Index: 20000 entries, 0 to 3647\n",
            "Data columns (total 7 columns):\n",
            "Device_ID     20000 non-null int64\n",
            "Temp1         20000 non-null float64\n",
            "Temp2         20000 non-null float64\n",
            "Temp3         20000 non-null float64\n",
            "mavg_temp1    20000 non-null float64\n",
            "mavg_temp2    20000 non-null float64\n",
            "mavg_temp3    20000 non-null float64\n",
            "dtypes: float64(6), int64(1)\n",
            "memory usage: 1.2 MB\n"
          ],
          "name": "stdout"
        }
      ]
    },
    {
      "cell_type": "markdown",
      "metadata": {
        "colab_type": "text",
        "id": "g3IwxxzZX9QO"
      },
      "source": [
        "*Gradient Booster*"
      ]
    },
    {
      "cell_type": "code",
      "metadata": {
        "colab_type": "code",
        "id": "0GCbYpA-alCx",
        "colab": {}
      },
      "source": [
        "#fit the pipeline\n",
        "gbtmodel_final = pipeline_gbt1.fit(model_data1)\n",
        "\n",
        "# transform using the pipeline\n",
        "predictions_gbtfinal = gbtmodel_final.transform(prediction_data)\n",
        "otherdevices_gbtfinal = gbtmodel_final.transform(model_data1)\n",
        "\n",
        "# evaluate model fit\n",
        "#predictions_gbt1.select(\"prediction\", \"Temp3\")\n",
        "#evaluator_gbt1 = RegressionEvaluator(labelCol=\"Temp3\", predictionCol=\"prediction\", metricName=\"rmse\")\n",
        "#rmse_gbt1 = evaluator_gbt1.evaluate(predictions_gbt1)"
      ],
      "execution_count": null,
      "outputs": []
    },
    {
      "cell_type": "code",
      "metadata": {
        "colab_type": "code",
        "id": "CLTPUDjOW3Ap",
        "colab": {}
      },
      "source": [
        "#convert new dataframe to pandas\n",
        "faulty_pandas_gbt = predictions_gbtfinal.toPandas()\n",
        "good_pandas_gbt = otherdevices_gbtfinal.toPandas()"
      ],
      "execution_count": null,
      "outputs": []
    },
    {
      "cell_type": "code",
      "metadata": {
        "colab_type": "code",
        "id": "yDRykizzVoCR",
        "colab": {}
      },
      "source": [
        "#combine above 2 dataframes\n",
        "gbtfinal = pd.concat([good_pandas_gbt, faulty_pandas_gbt])"
      ],
      "execution_count": null,
      "outputs": []
    },
    {
      "cell_type": "code",
      "metadata": {
        "colab_type": "code",
        "id": "Q3GwBzTAW0qz",
        "colab": {}
      },
      "source": [
        "gbtfinal['Temp3'] = np.where((gbtfinal['Temp3'] > 200), #For rows with Temp3 > 200\n",
        "                           gbtfinal['prediction'],      #place prediction values\n",
        "                           gbtfinal['Temp3'])      #In sensor 3 column"
      ],
      "execution_count": null,
      "outputs": []
    },
    {
      "cell_type": "code",
      "metadata": {
        "colab_type": "code",
        "id": "v8_Z98K8W0cT",
        "colab": {
          "base_uri": "https://localhost:8080/",
          "height": 219
        },
        "outputId": "44a878e1-a34f-4324-cf33-5b27e48dff1e"
      },
      "source": [
        "#confirm updates\n",
        "gbtfinal.loc[gbtfinal['Temp3'] < 200].count()"
      ],
      "execution_count": null,
      "outputs": [
        {
          "output_type": "execute_result",
          "data": {
            "text/plain": [
              "Device_ID             20000\n",
              "Temp1                 20000\n",
              "Temp2                 20000\n",
              "Temp3                 20000\n",
              "mavg_temp1            20000\n",
              "mavg_temp2            20000\n",
              "mavg_temp3            20000\n",
              "Device_IDEnc          20000\n",
              "unscaled_features3    20000\n",
              "prediction            20000\n",
              "dtype: int64"
            ]
          },
          "metadata": {
            "tags": []
          },
          "execution_count": 126
        }
      ]
    },
    {
      "cell_type": "markdown",
      "metadata": {
        "colab_type": "text",
        "id": "VaqZqpBQrIuf"
      },
      "source": [
        "Analyse replacement method"
      ]
    },
    {
      "cell_type": "code",
      "metadata": {
        "colab_type": "code",
        "id": "vSi8dXZ3Vnz2",
        "colab": {
          "base_uri": "https://localhost:8080/",
          "height": 182
        },
        "outputId": "0f92cc37-1535-41ca-f6c3-760c600f94f4"
      },
      "source": [
        "gbtfinal['Temp3'].describe()"
      ],
      "execution_count": null,
      "outputs": [
        {
          "output_type": "execute_result",
          "data": {
            "text/plain": [
              "count    20000.000000\n",
              "mean        22.444699\n",
              "std          8.555816\n",
              "min          2.558100\n",
              "25%         17.121924\n",
              "50%         20.733247\n",
              "75%         24.340049\n",
              "max         51.918553\n",
              "Name: Temp3, dtype: float64"
            ]
          },
          "metadata": {
            "tags": []
          },
          "execution_count": 127
        }
      ]
    },
    {
      "cell_type": "code",
      "metadata": {
        "colab_type": "code",
        "id": "aZ4HcDE1Sqju",
        "colab": {
          "base_uri": "https://localhost:8080/",
          "height": 182
        },
        "outputId": "44aeefcc-467a-42e6-b10d-d2036aba2c36"
      },
      "source": [
        "db['Temp3'].describe()"
      ],
      "execution_count": null,
      "outputs": [
        {
          "output_type": "execute_result",
          "data": {
            "text/plain": [
              "count    20000.000000\n",
              "mean        58.925914\n",
              "std         76.791294\n",
              "min          2.558100\n",
              "25%         17.532677\n",
              "50%         22.629541\n",
              "75%         39.617979\n",
              "max        229.463216\n",
              "Name: Temp3, dtype: float64"
            ]
          },
          "metadata": {
            "tags": []
          },
          "execution_count": 128
        }
      ]
    },
    {
      "cell_type": "markdown",
      "metadata": {
        "colab_type": "text",
        "id": "nTPgnVOQrVl7"
      },
      "source": [
        "The gbt model gives values much closer to the median and first quantile, than the decision tree model. In all, It is an acceptable move."
      ]
    },
    {
      "cell_type": "code",
      "metadata": {
        "colab_type": "code",
        "id": "F_ogFy-xSrE3",
        "colab": {
          "base_uri": "https://localhost:8080/",
          "height": 237
        },
        "outputId": "919bb2d9-d4cf-4fe0-9336-5a155bb0b92a"
      },
      "source": [
        "#remove columns created during modelling\n",
        "newgbt = gbtfinal.iloc[:, 0:7]\n",
        "newgbt.info()"
      ],
      "execution_count": null,
      "outputs": [
        {
          "output_type": "stream",
          "text": [
            "<class 'pandas.core.frame.DataFrame'>\n",
            "Int64Index: 20000 entries, 0 to 3647\n",
            "Data columns (total 7 columns):\n",
            "Device_ID     20000 non-null int64\n",
            "Temp1         20000 non-null float64\n",
            "Temp2         20000 non-null float64\n",
            "Temp3         20000 non-null float64\n",
            "mavg_temp1    20000 non-null float64\n",
            "mavg_temp2    20000 non-null float64\n",
            "mavg_temp3    20000 non-null float64\n",
            "dtypes: float64(6), int64(1)\n",
            "memory usage: 1.2 MB\n"
          ],
          "name": "stdout"
        }
      ]
    },
    {
      "cell_type": "markdown",
      "metadata": {
        "colab_type": "text",
        "id": "OvB_wQdscMRA"
      },
      "source": [
        "## Step 4: Visualization\n",
        "\n",
        "Time to get creative. Your final task is to build up a set of visualizations that could let an engineer get a quick overview of the current status of the system. Include the current sensor readings for each device and any metrics you think would be important to display. Choose one device and show more detail - a downsampled graph showing the readings over time, perhaps.\n",
        "\n",
        "You don't need to have your visualizations update in real time - merely show them as they would be presented at a given instant (i.e. feel free to use all the data you stored in the first section).\n",
        "\n",
        "You may use matplotlib, seaborn, plotly or any other tool of your choice."
      ]
    },
    {
      "cell_type": "code",
      "metadata": {
        "colab_type": "code",
        "id": "9Rmk1kslcMRI",
        "colab": {}
      },
      "source": [
        "#create a copy of original dataframe\n",
        "data = db.copy()"
      ],
      "execution_count": null,
      "outputs": []
    },
    {
      "cell_type": "code",
      "metadata": {
        "colab_type": "code",
        "id": "r95iXuaYcMRm",
        "colab": {}
      },
      "source": [
        "#convert the time column to datetime, using epoch standards\n",
        "data['Time'] = pd.to_datetime(data['Time'], unit='s')"
      ],
      "execution_count": null,
      "outputs": []
    },
    {
      "cell_type": "code",
      "metadata": {
        "colab_type": "code",
        "id": "O_sXKuhrTZgr",
        "colab": {
          "base_uri": "https://localhost:8080/",
          "height": 206
        },
        "outputId": "5842e433-b876-4f8b-e76a-a268aef59f12"
      },
      "source": [
        "data.head()"
      ],
      "execution_count": null,
      "outputs": [
        {
          "output_type": "execute_result",
          "data": {
            "text/html": [
              "<div>\n",
              "<style scoped>\n",
              "    .dataframe tbody tr th:only-of-type {\n",
              "        vertical-align: middle;\n",
              "    }\n",
              "\n",
              "    .dataframe tbody tr th {\n",
              "        vertical-align: top;\n",
              "    }\n",
              "\n",
              "    .dataframe thead th {\n",
              "        text-align: right;\n",
              "    }\n",
              "</style>\n",
              "<table border=\"1\" class=\"dataframe\">\n",
              "  <thead>\n",
              "    <tr style=\"text-align: right;\">\n",
              "      <th></th>\n",
              "      <th>Device_ID</th>\n",
              "      <th>Temp1</th>\n",
              "      <th>Temp2</th>\n",
              "      <th>Temp3</th>\n",
              "      <th>Temp_Ambient</th>\n",
              "      <th>Time</th>\n",
              "      <th>mavg_temp1</th>\n",
              "      <th>mavg_temp2</th>\n",
              "      <th>mavg_temp3</th>\n",
              "    </tr>\n",
              "  </thead>\n",
              "  <tbody>\n",
              "    <tr>\n",
              "      <th>0</th>\n",
              "      <td>7</td>\n",
              "      <td>27.859592</td>\n",
              "      <td>40.645552</td>\n",
              "      <td>13.929796</td>\n",
              "      <td>21.646639</td>\n",
              "      <td>1970-01-01</td>\n",
              "      <td>27.859592</td>\n",
              "      <td>40.645552</td>\n",
              "      <td>13.929796</td>\n",
              "    </tr>\n",
              "    <tr>\n",
              "      <th>1</th>\n",
              "      <td>6</td>\n",
              "      <td>51.481258</td>\n",
              "      <td>66.629384</td>\n",
              "      <td>25.740629</td>\n",
              "      <td>21.963158</td>\n",
              "      <td>1970-01-01</td>\n",
              "      <td>51.481258</td>\n",
              "      <td>66.629384</td>\n",
              "      <td>25.740629</td>\n",
              "    </tr>\n",
              "    <tr>\n",
              "      <th>2</th>\n",
              "      <td>3</td>\n",
              "      <td>35.338388</td>\n",
              "      <td>48.872226</td>\n",
              "      <td>217.669194</td>\n",
              "      <td>22.049695</td>\n",
              "      <td>1970-01-01</td>\n",
              "      <td>35.338388</td>\n",
              "      <td>48.872226</td>\n",
              "      <td>217.669194</td>\n",
              "    </tr>\n",
              "    <tr>\n",
              "      <th>3</th>\n",
              "      <td>3</td>\n",
              "      <td>32.079152</td>\n",
              "      <td>45.287067</td>\n",
              "      <td>216.039576</td>\n",
              "      <td>22.051469</td>\n",
              "      <td>1970-01-01</td>\n",
              "      <td>35.128114</td>\n",
              "      <td>48.640926</td>\n",
              "      <td>217.564057</td>\n",
              "    </tr>\n",
              "    <tr>\n",
              "      <th>4</th>\n",
              "      <td>0</td>\n",
              "      <td>70.606329</td>\n",
              "      <td>87.666962</td>\n",
              "      <td>35.303164</td>\n",
              "      <td>22.301263</td>\n",
              "      <td>1970-01-01</td>\n",
              "      <td>70.606329</td>\n",
              "      <td>87.666962</td>\n",
              "      <td>35.303164</td>\n",
              "    </tr>\n",
              "  </tbody>\n",
              "</table>\n",
              "</div>"
            ],
            "text/plain": [
              "  Device_ID      Temp1      Temp2  ...  mavg_temp1  mavg_temp2  mavg_temp3\n",
              "0         7  27.859592  40.645552  ...   27.859592   40.645552   13.929796\n",
              "1         6  51.481258  66.629384  ...   51.481258   66.629384   25.740629\n",
              "2         3  35.338388  48.872226  ...   35.338388   48.872226  217.669194\n",
              "3         3  32.079152  45.287067  ...   35.128114   48.640926  217.564057\n",
              "4         0  70.606329  87.666962  ...   70.606329   87.666962   35.303164\n",
              "\n",
              "[5 rows x 9 columns]"
            ]
          },
          "metadata": {
            "tags": []
          },
          "execution_count": 50
        }
      ]
    },
    {
      "cell_type": "code",
      "metadata": {
        "colab_type": "code",
        "id": "g_dStLpDTjTI",
        "colab": {
          "base_uri": "https://localhost:8080/",
          "height": 274
        },
        "outputId": "a4dbe0d1-0553-47c0-ba70-b58b80684c79"
      },
      "source": [
        "data.info()"
      ],
      "execution_count": null,
      "outputs": [
        {
          "output_type": "stream",
          "text": [
            "<class 'pandas.core.frame.DataFrame'>\n",
            "RangeIndex: 20000 entries, 0 to 19999\n",
            "Data columns (total 9 columns):\n",
            "Device_ID       20000 non-null object\n",
            "Temp1           20000 non-null float64\n",
            "Temp2           20000 non-null float64\n",
            "Temp3           20000 non-null float64\n",
            "Temp_Ambient    20000 non-null float64\n",
            "Time            20000 non-null datetime64[ns]\n",
            "mavg_temp1      20000 non-null float64\n",
            "mavg_temp2      20000 non-null float64\n",
            "mavg_temp3      20000 non-null float64\n",
            "dtypes: datetime64[ns](1), float64(7), object(1)\n",
            "memory usage: 1.4+ MB\n"
          ],
          "name": "stdout"
        }
      ]
    },
    {
      "cell_type": "code",
      "metadata": {
        "colab_type": "code",
        "id": "PATc99zijm2o",
        "colab": {
          "base_uri": "https://localhost:8080/",
          "height": 300
        },
        "outputId": "7c844e17-5b5e-4b1d-ac5a-a62518b228d2"
      },
      "source": [
        "data.describe()"
      ],
      "execution_count": null,
      "outputs": [
        {
          "output_type": "execute_result",
          "data": {
            "text/html": [
              "<div>\n",
              "<style scoped>\n",
              "    .dataframe tbody tr th:only-of-type {\n",
              "        vertical-align: middle;\n",
              "    }\n",
              "\n",
              "    .dataframe tbody tr th {\n",
              "        vertical-align: top;\n",
              "    }\n",
              "\n",
              "    .dataframe thead th {\n",
              "        text-align: right;\n",
              "    }\n",
              "</style>\n",
              "<table border=\"1\" class=\"dataframe\">\n",
              "  <thead>\n",
              "    <tr style=\"text-align: right;\">\n",
              "      <th></th>\n",
              "      <th>Temp1</th>\n",
              "      <th>Temp2</th>\n",
              "      <th>Temp3</th>\n",
              "      <th>Temp_Ambient</th>\n",
              "      <th>mavg_temp1</th>\n",
              "      <th>mavg_temp2</th>\n",
              "      <th>mavg_temp3</th>\n",
              "    </tr>\n",
              "  </thead>\n",
              "  <tbody>\n",
              "    <tr>\n",
              "      <th>count</th>\n",
              "      <td>20000.000000</td>\n",
              "      <td>20000.000000</td>\n",
              "      <td>20000.000000</td>\n",
              "      <td>20000.000000</td>\n",
              "      <td>20000.000000</td>\n",
              "      <td>20000.000000</td>\n",
              "      <td>20000.000000</td>\n",
              "    </tr>\n",
              "    <tr>\n",
              "      <th>mean</th>\n",
              "      <td>48.678566</td>\n",
              "      <td>63.546423</td>\n",
              "      <td>61.299283</td>\n",
              "      <td>23.286460</td>\n",
              "      <td>48.668648</td>\n",
              "      <td>63.535513</td>\n",
              "      <td>61.294324</td>\n",
              "    </tr>\n",
              "    <tr>\n",
              "      <th>std</th>\n",
              "      <td>16.314012</td>\n",
              "      <td>17.945413</td>\n",
              "      <td>75.599084</td>\n",
              "      <td>3.228227</td>\n",
              "      <td>15.537045</td>\n",
              "      <td>17.090749</td>\n",
              "      <td>75.563639</td>\n",
              "    </tr>\n",
              "    <tr>\n",
              "      <th>min</th>\n",
              "      <td>9.418272</td>\n",
              "      <td>20.360099</td>\n",
              "      <td>6.952404</td>\n",
              "      <td>16.459574</td>\n",
              "      <td>24.613195</td>\n",
              "      <td>37.074515</td>\n",
              "      <td>13.821529</td>\n",
              "    </tr>\n",
              "    <tr>\n",
              "      <th>25%</th>\n",
              "      <td>37.054169</td>\n",
              "      <td>50.759586</td>\n",
              "      <td>20.617054</td>\n",
              "      <td>20.710477</td>\n",
              "      <td>39.092355</td>\n",
              "      <td>53.001590</td>\n",
              "      <td>20.452341</td>\n",
              "    </tr>\n",
              "    <tr>\n",
              "      <th>50%</th>\n",
              "      <td>46.797001</td>\n",
              "      <td>61.476702</td>\n",
              "      <td>26.066010</td>\n",
              "      <td>24.100833</td>\n",
              "      <td>48.263363</td>\n",
              "      <td>63.089700</td>\n",
              "      <td>26.090834</td>\n",
              "    </tr>\n",
              "    <tr>\n",
              "      <th>75%</th>\n",
              "      <td>55.796790</td>\n",
              "      <td>71.376469</td>\n",
              "      <td>39.799283</td>\n",
              "      <td>26.198485</td>\n",
              "      <td>53.044454</td>\n",
              "      <td>68.348900</td>\n",
              "      <td>40.133406</td>\n",
              "    </tr>\n",
              "    <tr>\n",
              "      <th>max</th>\n",
              "      <td>105.906222</td>\n",
              "      <td>126.496844</td>\n",
              "      <td>231.573921</td>\n",
              "      <td>27.626378</td>\n",
              "      <td>90.144718</td>\n",
              "      <td>109.159190</td>\n",
              "      <td>225.892919</td>\n",
              "    </tr>\n",
              "  </tbody>\n",
              "</table>\n",
              "</div>"
            ],
            "text/plain": [
              "              Temp1         Temp2  ...    mavg_temp2    mavg_temp3\n",
              "count  20000.000000  20000.000000  ...  20000.000000  20000.000000\n",
              "mean      48.678566     63.546423  ...     63.535513     61.294324\n",
              "std       16.314012     17.945413  ...     17.090749     75.563639\n",
              "min        9.418272     20.360099  ...     37.074515     13.821529\n",
              "25%       37.054169     50.759586  ...     53.001590     20.452341\n",
              "50%       46.797001     61.476702  ...     63.089700     26.090834\n",
              "75%       55.796790     71.376469  ...     68.348900     40.133406\n",
              "max      105.906222    126.496844  ...    109.159190    225.892919\n",
              "\n",
              "[8 rows x 7 columns]"
            ]
          },
          "metadata": {
            "tags": []
          },
          "execution_count": 102
        }
      ]
    },
    {
      "cell_type": "markdown",
      "metadata": {
        "colab_type": "text",
        "id": "czgp1devlchs"
      },
      "source": [
        "The means and standard deviation of the 1st and 2nd sensors are similar"
      ]
    },
    {
      "cell_type": "code",
      "metadata": {
        "colab_type": "code",
        "id": "Kw8K3yZ9ki16",
        "colab": {
          "base_uri": "https://localhost:8080/",
          "height": 35
        },
        "outputId": "177bd216-4642-4ae3-af62-287f5210b9cf"
      },
      "source": [
        "data['Device_ID'].nunique()"
      ],
      "execution_count": null,
      "outputs": [
        {
          "output_type": "execute_result",
          "data": {
            "text/plain": [
              "11"
            ]
          },
          "metadata": {
            "tags": []
          },
          "execution_count": 103
        }
      ]
    },
    {
      "cell_type": "markdown",
      "metadata": {
        "colab_type": "text",
        "id": "UwadaJ5hmTAT"
      },
      "source": [
        "There are 11 devices in this data"
      ]
    },
    {
      "cell_type": "code",
      "metadata": {
        "colab_type": "code",
        "id": "8yG5CCssjm_4",
        "colab": {
          "base_uri": "https://localhost:8080/",
          "height": 426
        },
        "outputId": "584f74fd-66aa-4b05-ef07-6aed78069031"
      },
      "source": [
        "#aggregate data by device\n",
        "data.groupby('Device_ID').mean()"
      ],
      "execution_count": null,
      "outputs": [
        {
          "output_type": "execute_result",
          "data": {
            "text/html": [
              "<div>\n",
              "<style scoped>\n",
              "    .dataframe tbody tr th:only-of-type {\n",
              "        vertical-align: middle;\n",
              "    }\n",
              "\n",
              "    .dataframe tbody tr th {\n",
              "        vertical-align: top;\n",
              "    }\n",
              "\n",
              "    .dataframe thead th {\n",
              "        text-align: right;\n",
              "    }\n",
              "</style>\n",
              "<table border=\"1\" class=\"dataframe\">\n",
              "  <thead>\n",
              "    <tr style=\"text-align: right;\">\n",
              "      <th></th>\n",
              "      <th>Temp1</th>\n",
              "      <th>Temp2</th>\n",
              "      <th>Temp3</th>\n",
              "      <th>Temp_Ambient</th>\n",
              "      <th>mavg_temp1</th>\n",
              "      <th>mavg_temp2</th>\n",
              "      <th>mavg_temp3</th>\n",
              "    </tr>\n",
              "    <tr>\n",
              "      <th>Device_ID</th>\n",
              "      <th></th>\n",
              "      <th></th>\n",
              "      <th></th>\n",
              "      <th></th>\n",
              "      <th></th>\n",
              "      <th></th>\n",
              "      <th></th>\n",
              "    </tr>\n",
              "  </thead>\n",
              "  <tbody>\n",
              "    <tr>\n",
              "      <th>0</th>\n",
              "      <td>69.859874</td>\n",
              "      <td>86.845861</td>\n",
              "      <td>34.929937</td>\n",
              "      <td>23.096994</td>\n",
              "      <td>69.871276</td>\n",
              "      <td>86.858404</td>\n",
              "      <td>34.935638</td>\n",
              "    </tr>\n",
              "    <tr>\n",
              "      <th>1</th>\n",
              "      <td>82.711249</td>\n",
              "      <td>100.982374</td>\n",
              "      <td>41.355624</td>\n",
              "      <td>23.404789</td>\n",
              "      <td>82.676011</td>\n",
              "      <td>100.943612</td>\n",
              "      <td>41.338005</td>\n",
              "    </tr>\n",
              "    <tr>\n",
              "      <th>2</th>\n",
              "      <td>38.298257</td>\n",
              "      <td>52.128083</td>\n",
              "      <td>19.149129</td>\n",
              "      <td>23.551508</td>\n",
              "      <td>38.362983</td>\n",
              "      <td>52.199281</td>\n",
              "      <td>19.181492</td>\n",
              "    </tr>\n",
              "    <tr>\n",
              "      <th>3</th>\n",
              "      <td>27.928537</td>\n",
              "      <td>40.721390</td>\n",
              "      <td>213.964268</td>\n",
              "      <td>23.147085</td>\n",
              "      <td>27.986660</td>\n",
              "      <td>40.785326</td>\n",
              "      <td>213.993330</td>\n",
              "    </tr>\n",
              "    <tr>\n",
              "      <th>4</th>\n",
              "      <td>42.409012</td>\n",
              "      <td>56.649914</td>\n",
              "      <td>21.204506</td>\n",
              "      <td>23.457276</td>\n",
              "      <td>42.440671</td>\n",
              "      <td>56.684738</td>\n",
              "      <td>21.220335</td>\n",
              "    </tr>\n",
              "    <tr>\n",
              "      <th>5</th>\n",
              "      <td>40.122523</td>\n",
              "      <td>54.134776</td>\n",
              "      <td>20.061262</td>\n",
              "      <td>23.094347</td>\n",
              "      <td>40.112776</td>\n",
              "      <td>54.124054</td>\n",
              "      <td>20.056388</td>\n",
              "    </tr>\n",
              "    <tr>\n",
              "      <th>6</th>\n",
              "      <td>53.180424</td>\n",
              "      <td>68.498466</td>\n",
              "      <td>26.590212</td>\n",
              "      <td>23.140009</td>\n",
              "      <td>53.162697</td>\n",
              "      <td>68.478967</td>\n",
              "      <td>26.581349</td>\n",
              "    </tr>\n",
              "    <tr>\n",
              "      <th>7</th>\n",
              "      <td>30.052542</td>\n",
              "      <td>43.057796</td>\n",
              "      <td>15.026271</td>\n",
              "      <td>23.438794</td>\n",
              "      <td>30.028156</td>\n",
              "      <td>43.030972</td>\n",
              "      <td>15.014078</td>\n",
              "    </tr>\n",
              "    <tr>\n",
              "      <th>8</th>\n",
              "      <td>49.374577</td>\n",
              "      <td>64.312035</td>\n",
              "      <td>24.687288</td>\n",
              "      <td>23.487333</td>\n",
              "      <td>49.213654</td>\n",
              "      <td>64.135020</td>\n",
              "      <td>24.606827</td>\n",
              "    </tr>\n",
              "    <tr>\n",
              "      <th>9</th>\n",
              "      <td>51.884590</td>\n",
              "      <td>67.073049</td>\n",
              "      <td>25.942295</td>\n",
              "      <td>23.150651</td>\n",
              "      <td>51.887887</td>\n",
              "      <td>67.076675</td>\n",
              "      <td>25.943943</td>\n",
              "    </tr>\n",
              "    <tr>\n",
              "      <th>10</th>\n",
              "      <td>49.147340</td>\n",
              "      <td>64.062075</td>\n",
              "      <td>224.573670</td>\n",
              "      <td>23.232693</td>\n",
              "      <td>49.113583</td>\n",
              "      <td>64.024941</td>\n",
              "      <td>224.556791</td>\n",
              "    </tr>\n",
              "  </tbody>\n",
              "</table>\n",
              "</div>"
            ],
            "text/plain": [
              "               Temp1       Temp2  ...  mavg_temp2  mavg_temp3\n",
              "Device_ID                         ...                        \n",
              "0          69.859874   86.845861  ...   86.858404   34.935638\n",
              "1          82.711249  100.982374  ...  100.943612   41.338005\n",
              "2          38.298257   52.128083  ...   52.199281   19.181492\n",
              "3          27.928537   40.721390  ...   40.785326  213.993330\n",
              "4          42.409012   56.649914  ...   56.684738   21.220335\n",
              "5          40.122523   54.134776  ...   54.124054   20.056388\n",
              "6          53.180424   68.498466  ...   68.478967   26.581349\n",
              "7          30.052542   43.057796  ...   43.030972   15.014078\n",
              "8          49.374577   64.312035  ...   64.135020   24.606827\n",
              "9          51.884590   67.073049  ...   67.076675   25.943943\n",
              "10         49.147340   64.062075  ...   64.024941  224.556791\n",
              "\n",
              "[11 rows x 7 columns]"
            ]
          },
          "metadata": {
            "tags": []
          },
          "execution_count": 105
        }
      ]
    },
    {
      "cell_type": "markdown",
      "metadata": {
        "colab_type": "text",
        "id": "cMq1n6HZmWSH"
      },
      "source": [
        "This shows difference in the means of the sensors for the different devices"
      ]
    },
    {
      "cell_type": "code",
      "metadata": {
        "colab_type": "code",
        "id": "oxf9wB_LndqY",
        "colab": {}
      },
      "source": [
        "#Get all Devices into variables\n",
        "Device_0 = data.loc[data['Device_ID'] == 0]\n",
        "Device_1 = data.loc[data['Device_ID'] == 1]\n",
        "Device_2 = data.loc[data['Device_ID'] == 2]\n",
        "Device_3 = data.loc[data['Device_ID'] == 3]\n",
        "Device_4 = data.loc[data['Device_ID'] == 4]\n",
        "Device_5 = data.loc[data['Device_ID'] == 5]\n",
        "Device_6 = data.loc[data['Device_ID'] == 6]\n",
        "Device_7 = data.loc[data['Device_ID'] == 7]\n",
        "Device_8 = data.loc[data['Device_ID'] == 8]\n",
        "Device_9 = data.loc[data['Device_ID'] == 9]\n",
        "Device_10 = data.loc[data['Device_ID'] == 10]"
      ],
      "execution_count": null,
      "outputs": []
    },
    {
      "cell_type": "code",
      "metadata": {
        "colab_type": "code",
        "id": "HeCcVcf-oxYu",
        "colab": {
          "base_uri": "https://localhost:8080/",
          "height": 825
        },
        "outputId": "cc32eb63-b540-4490-d2dc-e9a77dcd646e"
      },
      "source": [
        "#Get last 10 sensor readings of each device\n",
        "print('The last sensor reading for Device 0 is:', Device_0.tail(1))\n",
        "print('The last sensor reading for Device 1 is:', Device_1.tail(1))\n",
        "print('The last sensor reading for Device 2 is:', Device_2.tail(1))\n",
        "print('The last sensor reading for Device 3 is:', Device_3.tail(1))\n",
        "print('The last sensor reading for Device 4 is:', Device_4.tail(1))\n",
        "print('The last sensor reading for Device 5 is:', Device_5.tail(1))\n",
        "print('The last sensor reading for Device 6 is:', Device_6.tail(1))\n",
        "print('The last sensor reading for Device 7 is:', Device_7.tail(1))\n",
        "print('The last sensor reading for Device 8 is:', Device_8.tail(1))\n",
        "print('The last sensor reading for Device 9 is:', Device_9.tail(1))\n",
        "print('The last sensor reading for Device 10 is:', Device_10.tail(1))"
      ],
      "execution_count": null,
      "outputs": [
        {
          "output_type": "stream",
          "text": [
            "The last sensor reading for Device 0 is:       Device_ID      Temp1      Temp2  ...  mavg_temp1  mavg_temp2 mavg_temp3\n",
            "19998         0  63.437179  79.780897  ...   69.132606   86.045867  34.566303\n",
            "\n",
            "[1 rows x 9 columns]\n",
            "The last sensor reading for Device 1 is:       Device_ID      Temp1       Temp2  ...  mavg_temp1  mavg_temp2 mavg_temp3\n",
            "19984         1  86.993175  105.692493  ...   83.861779  102.247956  41.930889\n",
            "\n",
            "[1 rows x 9 columns]\n",
            "The last sensor reading for Device 2 is:       Device_ID      Temp1      Temp2  ...  mavg_temp1  mavg_temp2 mavg_temp3\n",
            "19967         2  36.295457  49.925003  ...   35.350512   48.885563  17.675256\n",
            "\n",
            "[1 rows x 9 columns]\n",
            "The last sensor reading for Device 3 is:       Device_ID      Temp1      Temp2  ...  mavg_temp1  mavg_temp2  mavg_temp3\n",
            "19990         3  24.394701  36.834171  ...   27.878584   40.666442  213.939292\n",
            "\n",
            "[1 rows x 9 columns]\n",
            "The last sensor reading for Device 4 is:       Device_ID      Temp1      Temp2  ...  mavg_temp1  mavg_temp2 mavg_temp3\n",
            "19993         4  41.185834  55.304418  ...   40.409764    54.45074  20.204882\n",
            "\n",
            "[1 rows x 9 columns]\n",
            "The last sensor reading for Device 5 is:       Device_ID      Temp1     Temp2  ...  mavg_temp1  mavg_temp2 mavg_temp3\n",
            "19996         5  39.600164  53.56018  ...   38.626177   52.488795  19.313089\n",
            "\n",
            "[1 rows x 9 columns]\n",
            "The last sensor reading for Device 6 is:       Device_ID      Temp1      Temp2  ...  mavg_temp1  mavg_temp2 mavg_temp3\n",
            "19997         6  50.600676  65.660744  ...   53.758754   69.134629  26.879377\n",
            "\n",
            "[1 rows x 9 columns]\n",
            "The last sensor reading for Device 7 is:       Device_ID      Temp1      Temp2  ...  mavg_temp1  mavg_temp2 mavg_temp3\n",
            "19995         7  23.529635  35.882599  ...   30.841362   43.925498  15.420681\n",
            "\n",
            "[1 rows x 9 columns]\n",
            "The last sensor reading for Device 8 is:       Device_ID      Temp1      Temp2  ...  mavg_temp1  mavg_temp2 mavg_temp3\n",
            "19999         8  57.474532  73.221985  ...   55.089701   70.598671  27.544851\n",
            "\n",
            "[1 rows x 9 columns]\n",
            "The last sensor reading for Device 9 is:       Device_ID      Temp1      Temp2  ...  mavg_temp1  mavg_temp2 mavg_temp3\n",
            "19994         9  56.073179  71.680497  ...   52.687676   67.956443  26.343838\n",
            "\n",
            "[1 rows x 9 columns]\n",
            "The last sensor reading for Device 10 is:       Device_ID      Temp1      Temp2  ...  mavg_temp1  mavg_temp2  mavg_temp3\n",
            "19986        10  46.098234  60.708057  ...   46.715596   61.387156  223.357798\n",
            "\n",
            "[1 rows x 9 columns]\n"
          ],
          "name": "stdout"
        }
      ]
    },
    {
      "cell_type": "code",
      "metadata": {
        "colab_type": "code",
        "id": "CFNpb5jmlWcU",
        "colab": {}
      },
      "source": [
        ""
      ],
      "execution_count": null,
      "outputs": []
    },
    {
      "cell_type": "markdown",
      "metadata": {
        "colab_type": "text",
        "id": "-_JCbBGtWiRG"
      },
      "source": [
        "I'll investigate Device 1."
      ]
    },
    {
      "cell_type": "code",
      "metadata": {
        "colab_type": "code",
        "id": "xT-rIQU8QYCZ",
        "colab": {}
      },
      "source": [
        "dv_1 = data.loc[data['Device_ID'] == 1] #filter data to select all records for Device 1"
      ],
      "execution_count": null,
      "outputs": []
    },
    {
      "cell_type": "code",
      "metadata": {
        "colab_type": "code",
        "id": "ecTFkZcSQX8k",
        "colab": {
          "base_uri": "https://localhost:8080/",
          "height": 206
        },
        "outputId": "97f93a99-0af0-40f7-c4d9-2a1272532bef"
      },
      "source": [
        "dv_1.head()"
      ],
      "execution_count": null,
      "outputs": [
        {
          "output_type": "execute_result",
          "data": {
            "text/html": [
              "<div>\n",
              "<style scoped>\n",
              "    .dataframe tbody tr th:only-of-type {\n",
              "        vertical-align: middle;\n",
              "    }\n",
              "\n",
              "    .dataframe tbody tr th {\n",
              "        vertical-align: top;\n",
              "    }\n",
              "\n",
              "    .dataframe thead th {\n",
              "        text-align: right;\n",
              "    }\n",
              "</style>\n",
              "<table border=\"1\" class=\"dataframe\">\n",
              "  <thead>\n",
              "    <tr style=\"text-align: right;\">\n",
              "      <th></th>\n",
              "      <th>Device_ID</th>\n",
              "      <th>Temp1</th>\n",
              "      <th>Temp2</th>\n",
              "      <th>Temp3</th>\n",
              "      <th>Temp_Ambient</th>\n",
              "      <th>Time</th>\n",
              "      <th>mavg_temp1</th>\n",
              "      <th>mavg_temp2</th>\n",
              "      <th>mavg_temp3</th>\n",
              "    </tr>\n",
              "  </thead>\n",
              "  <tbody>\n",
              "    <tr>\n",
              "      <th>15</th>\n",
              "      <td>1</td>\n",
              "      <td>79.523835</td>\n",
              "      <td>97.476219</td>\n",
              "      <td>39.761918</td>\n",
              "      <td>22.162670</td>\n",
              "      <td>1970-01-01 00:00:00</td>\n",
              "      <td>79.523835</td>\n",
              "      <td>97.476219</td>\n",
              "      <td>39.761918</td>\n",
              "    </tr>\n",
              "    <tr>\n",
              "      <th>25</th>\n",
              "      <td>1</td>\n",
              "      <td>93.829761</td>\n",
              "      <td>113.212738</td>\n",
              "      <td>46.914881</td>\n",
              "      <td>21.852377</td>\n",
              "      <td>1970-01-01 00:00:00</td>\n",
              "      <td>80.446798</td>\n",
              "      <td>98.491478</td>\n",
              "      <td>40.223399</td>\n",
              "    </tr>\n",
              "    <tr>\n",
              "      <th>38</th>\n",
              "      <td>1</td>\n",
              "      <td>89.928605</td>\n",
              "      <td>108.921465</td>\n",
              "      <td>44.964302</td>\n",
              "      <td>21.877657</td>\n",
              "      <td>1970-01-01 00:00:00</td>\n",
              "      <td>81.058528</td>\n",
              "      <td>99.164381</td>\n",
              "      <td>40.529264</td>\n",
              "    </tr>\n",
              "    <tr>\n",
              "      <th>41</th>\n",
              "      <td>1</td>\n",
              "      <td>93.404237</td>\n",
              "      <td>112.744661</td>\n",
              "      <td>46.702119</td>\n",
              "      <td>22.060478</td>\n",
              "      <td>1970-01-01 00:00:00</td>\n",
              "      <td>81.855025</td>\n",
              "      <td>100.040528</td>\n",
              "      <td>40.927513</td>\n",
              "    </tr>\n",
              "    <tr>\n",
              "      <th>74</th>\n",
              "      <td>1</td>\n",
              "      <td>89.958854</td>\n",
              "      <td>108.954739</td>\n",
              "      <td>44.979427</td>\n",
              "      <td>21.596840</td>\n",
              "      <td>1970-01-01 00:00:01</td>\n",
              "      <td>82.377853</td>\n",
              "      <td>100.615638</td>\n",
              "      <td>41.188926</td>\n",
              "    </tr>\n",
              "  </tbody>\n",
              "</table>\n",
              "</div>"
            ],
            "text/plain": [
              "   Device_ID      Temp1       Temp2  ...  mavg_temp1  mavg_temp2 mavg_temp3\n",
              "15         1  79.523835   97.476219  ...   79.523835   97.476219  39.761918\n",
              "25         1  93.829761  113.212738  ...   80.446798   98.491478  40.223399\n",
              "38         1  89.928605  108.921465  ...   81.058528   99.164381  40.529264\n",
              "41         1  93.404237  112.744661  ...   81.855025  100.040528  40.927513\n",
              "74         1  89.958854  108.954739  ...   82.377853  100.615638  41.188926\n",
              "\n",
              "[5 rows x 9 columns]"
            ]
          },
          "metadata": {
            "tags": []
          },
          "execution_count": 53
        }
      ]
    },
    {
      "cell_type": "code",
      "metadata": {
        "colab_type": "code",
        "id": "MpYyQjRXQX0B",
        "colab": {
          "base_uri": "https://localhost:8080/",
          "height": 274
        },
        "outputId": "ca5cc9fb-bec8-43d5-e2a5-24a389b2d1b4"
      },
      "source": [
        "dv_1.info()"
      ],
      "execution_count": null,
      "outputs": [
        {
          "output_type": "stream",
          "text": [
            "<class 'pandas.core.frame.DataFrame'>\n",
            "Int64Index: 1785 entries, 15 to 19984\n",
            "Data columns (total 9 columns):\n",
            "Device_ID       1785 non-null object\n",
            "Temp1           1785 non-null float64\n",
            "Temp2           1785 non-null float64\n",
            "Temp3           1785 non-null float64\n",
            "Temp_Ambient    1785 non-null float64\n",
            "Time            1785 non-null datetime64[ns]\n",
            "mavg_temp1      1785 non-null float64\n",
            "mavg_temp2      1785 non-null float64\n",
            "mavg_temp3      1785 non-null float64\n",
            "dtypes: datetime64[ns](1), float64(7), object(1)\n",
            "memory usage: 139.5+ KB\n"
          ],
          "name": "stdout"
        }
      ]
    },
    {
      "cell_type": "code",
      "metadata": {
        "colab_type": "code",
        "id": "1yeTQ59MW0G3",
        "colab": {
          "base_uri": "https://localhost:8080/",
          "height": 314
        },
        "outputId": "d0fd768d-d3b3-4e5e-ebcb-8049cd2e4065"
      },
      "source": [
        "#plot temperature of first sensor for df 1\n",
        "dv_1.plot(x='Time', y='Temp1', figsize=(15, 4))\n",
        "plt.title('Visualisation of Sensor1 of Device 1 (Original data)', size=15)"
      ],
      "execution_count": null,
      "outputs": [
        {
          "output_type": "execute_result",
          "data": {
            "text/plain": [
              "Text(0.5, 1.0, 'Visualisation of Sensor1 of Device 1 (Original data)')"
            ]
          },
          "metadata": {
            "tags": []
          },
          "execution_count": 94
        },
        {
          "output_type": "display_data",
          "data": {
            "image/png": "[encoded data removed]",
            "text/plain": [
              "<Figure size 1080x288 with 1 Axes>"
            ]
          },
          "metadata": {
            "tags": []
          }
        }
      ]
    },
    {
      "cell_type": "markdown",
      "metadata": {
        "colab_type": "text",
        "id": "6uL6K7HjbeNd"
      },
      "source": [
        "Visualise with downsampling device 1"
      ]
    },
    {
      "cell_type": "code",
      "metadata": {
        "colab_type": "code",
        "id": "C8fej841bc8h",
        "colab": {}
      },
      "source": [
        "#make datetime the index\n",
        "dv_1.index = dv_1['Time'] #set time column as index"
      ],
      "execution_count": null,
      "outputs": []
    },
    {
      "cell_type": "code",
      "metadata": {
        "colab_type": "code",
        "id": "B3oqu3PHYPA8",
        "colab": {
          "base_uri": "https://localhost:8080/",
          "height": 328
        },
        "outputId": "f6796962-b32d-4557-8d33-1491416c5169"
      },
      "source": [
        "dv_1[\"Temp1\"].resample(\"2T\").mean().plot(subplots=True, figsize=(15,4)) #visualise summary temperature of 1st sensor in 2 minute bins\n",
        "plt.title('Visualisation of Sensor1 of Device 1 (2 minutes)', size=15)"
      ],
      "execution_count": null,
      "outputs": [
        {
          "output_type": "execute_result",
          "data": {
            "text/plain": [
              "Text(0.5, 1.0, 'Visualisation of Sensor1 of Device 1 (2 minutes)')"
            ]
          },
          "metadata": {
            "tags": []
          },
          "execution_count": 92
        },
        {
          "output_type": "display_data",
          "data": {
            "image/png": "[encoded data removed]",
            "text/plain": [
              "<Figure size 1080x288 with 1 Axes>"
            ]
          },
          "metadata": {
            "tags": []
          }
        }
      ]
    },
    {
      "cell_type": "code",
      "metadata": {
        "colab_type": "code",
        "id": "Tr8v1Bh0ftHv",
        "colab": {}
      },
      "source": [
        "import matplotlib.pyplot as plt"
      ],
      "execution_count": null,
      "outputs": []
    },
    {
      "cell_type": "code",
      "metadata": {
        "colab_type": "code",
        "id": "sWV7ZVEKe-5w",
        "colab": {
          "base_uri": "https://localhost:8080/",
          "height": 519
        },
        "outputId": "09a279c2-97ce-455b-8f6b-e2b4382baae2"
      },
      "source": [
        "#visualise Temp1 on 3 downsamplings\n",
        "\n",
        "fig, ax = plt.subplots(figsize=(18,8))\n",
        "\n",
        "ax.plot(dv_1[\"Temp1\"], marker='.', markersize=2, color='0.6', linestyle=None, label='Nanoseconds (original)') \n",
        "\n",
        "ax.plot(dv_1[\"mavg_temp1\"], marker='*', markersize=2, linestyle='-', label='Moving average Resample') #from earlier computation on exponential weighted average\n",
        "\n",
        "ax.plot(dv_1[\"Temp1\"].resample(\"1T\").mean(), marker='o',  markersize=5, linestyle='-', label='One-minute Mean Resample')\n",
        "\n",
        "\n",
        "ax.set_ylabel('Sensor1')\n",
        "ax.legend()\n",
        "plt.title('Visualisation of Sensor1 of Device 1 (multiple)', size=15)"
      ],
      "execution_count": null,
      "outputs": [
        {
          "output_type": "execute_result",
          "data": {
            "text/plain": [
              "Text(0.5, 1.0, 'Visualisation of Sensor1 of Device 1 (multiple)')"
            ]
          },
          "metadata": {
            "tags": []
          },
          "execution_count": 34
        },
        {
          "output_type": "display_data",
          "data": {
            "image/png": "[encoded data removed]",
            "text/plain": [
              "<Figure size 1296x576 with 1 Axes>"
            ]
          },
          "metadata": {
            "tags": []
          }
        }
      ]
    },
    {
      "cell_type": "markdown",
      "metadata": {
        "colab_type": "text",
        "id": "jL1YNzo84vLM"
      },
      "source": [
        "The exponentially weighted moving average computed on the sensor temperatures earlier, is a good representation of the series. "
      ]
    },
    {
      "cell_type": "code",
      "metadata": {
        "colab_type": "code",
        "id": "IzL5kZxD3q5W",
        "colab": {}
      },
      "source": [
        ""
      ],
      "execution_count": null,
      "outputs": []
    },
    {
      "cell_type": "code",
      "metadata": {
        "colab_type": "code",
        "id": "7yK2MSorYPVg",
        "colab": {
          "base_uri": "https://localhost:8080/",
          "height": 354
        },
        "outputId": "3b61f087-7997-40d7-ac09-6552259df0bc"
      },
      "source": [
        "#identify periodicity\n",
        "fig, ax = plt.subplots(figsize=(15,4))\n",
        "\n",
        "pd.plotting.autocorrelation_plot(dv_1[\"Temp1\"].resample(\"1T\").mean())\n",
        "\n",
        "plt.title('Visualisation of Periodicity and Correlation of Sensor1 of Device 1 (1 minute)', size=15)"
      ],
      "execution_count": null,
      "outputs": [
        {
          "output_type": "stream",
          "text": [
            "/usr/local/lib/python3.6/dist-packages/matplotlib/pyplot.py:935: UserWarning: Requested projection is different from current axis projection, creating new axis with requested projection.\n",
            "  return gcf().gca(**kwargs)\n"
          ],
          "name": "stderr"
        },
        {
          "output_type": "display_data",
          "data": {
            "image/png": "[encoded data removed]",
            "text/plain": [
              "<Figure size 1080x288 with 2 Axes>"
            ]
          },
          "metadata": {
            "tags": []
          }
        }
      ]
    },
    {
      "cell_type": "code",
      "metadata": {
        "colab_type": "code",
        "id": "53ybDJPPYPf9",
        "colab": {}
      },
      "source": [
        "End"
      ],
      "execution_count": null,
      "outputs": []
    },
    {
      "cell_type": "code",
      "metadata": {
        "colab_type": "code",
        "id": "np4z1I-az5V2",
        "colab": {}
      },
      "source": [
        "spark.stop()"
      ],
      "execution_count": null,
      "outputs": []
    }
  ]
}